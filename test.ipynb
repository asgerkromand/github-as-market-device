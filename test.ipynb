{
 "cells": [
  {
   "cell_type": "code",
   "execution_count": 38,
   "id": "2a810d38",
   "metadata": {},
   "outputs": [
    {
     "name": "stdout",
     "output_type": "stream",
     "text": [
      "The autoreload extension is already loaded. To reload it, use:\n",
      "  %reload_ext autoreload\n"
     ]
    }
   ],
   "source": [
    "# Load the autoreload extension to automatically reload modules before executing code (to avoid restarting the kernel)\n",
    "%load_ext autoreload \n",
    "\n",
    "# Enable autoreload for all modules\n",
    "%autoreload 2\n",
    "\n",
    "# Python \n",
    "import pandas as pd\n",
    "from pathlib import Path\n",
    "from tqdm import tqdm\n",
    "import json\n",
    "\n",
    "# Custom Packages\n",
    "from resources.github_functions import GithubScraper\n",
    "\n",
    "# Github API\n",
    "from github import Github"
   ]
  },
  {
   "cell_type": "code",
   "execution_count": 39,
   "id": "302ffa32",
   "metadata": {},
   "outputs": [],
   "source": [
    "fp_main = Path('/Volumes/SAM-SODAS-DISTRACT/Coding Distraction/Asger/GH_scrape_2')\n",
    "fp_main_output = Path(fp_main / 'output')\n",
    "fp_edgelist_output = Path(fp_main_output / 'edgelists')"
   ]
  },
  {
   "cell_type": "code",
   "execution_count": 40,
   "id": "852954df",
   "metadata": {},
   "outputs": [],
   "source": [
    "# Load in \n",
    "# Load the company list from Excel\n",
    "company_list_full = pd.read_excel(\n",
    "    fp_main / 'virksomhedsliste' / 'company_info_list211022.xlsx',\n",
    "    usecols='A:M'\n",
    ")\n",
    "\n",
    "# Filter for companies that are part of our sample\n",
    "company_list_sample = company_list_full.loc[\n",
    "    company_list_full['part_of_firmaliste'] == 1\n",
    "].reset_index(drop=True)\n",
    "\n",
    "# Create a list of relevant company info\n",
    "list_of_company_names = company_list_sample[\n",
    "    ['søgeord', 'new_company_category', 'uden lokation']\n",
    "]\n",
    "\n",
    "# Create a dictionary mapping company name (lowercase) to category\n",
    "company_category_new = dict(zip(\n",
    "    company_list_sample['søgeord'].str.lower(),\n",
    "    company_list_sample['new_company_category']\n",
    "))"
   ]
  },
  {
   "cell_type": "code",
   "execution_count": 41,
   "id": "9e438f87",
   "metadata": {},
   "outputs": [],
   "source": [
    "# Loading in the company_category obj\n",
    "file3 = open(fp_main_output / 'company_catego_dict.obj', 'r+b')\n",
    "company_catego = pd.read_pickle(file3)"
   ]
  },
  {
   "cell_type": "code",
   "execution_count": 42,
   "id": "7ed68fe9",
   "metadata": {},
   "outputs": [],
   "source": [
    "# Make a dictionary with the new company categories\n",
    "company_catego_translate = {\n",
    "    1:'1 Digital and marketing consultancies',\n",
    "    2:'1 Digital and marketing consultancies',\n",
    "    3:'2 Bespoke app companies',\n",
    "    4:'3 Data-broker- and infrastructure companies',\n",
    "    5:'4 Companies with specific digital part/app as part of service/product',\n",
    "    6:'4 Companies with specific digital part/app as part of service/product',\n",
    "    7:'3 Data-broker- and infrastructure companies',\n",
    "    8:'NA',\n",
    "}"
   ]
  },
  {
   "cell_type": "code",
   "execution_count": 43,
   "id": "54027241",
   "metadata": {},
   "outputs": [],
   "source": [
    "# Update categories\n",
    "\n",
    "for key, value in company_catego.items():\n",
    "    if value in company_catego_translate:\n",
    "        company_catego[key] = company_catego_translate[value]\n",
    "    else:\n",
    "        company_catego[key] = 'NA'\n",
    "        print('trobules')"
   ]
  },
  {
   "cell_type": "code",
   "execution_count": 12,
   "id": "5dc2b79f",
   "metadata": {},
   "outputs": [
    {
     "data": {
      "text/plain": [
       "{'nodes': '1 Digital and marketing consultancies',\n",
       " 'abtion': '1 Digital and marketing consultancies',\n",
       " 'heyday': '1 Digital and marketing consultancies',\n",
       " 'trifork': '1 Digital and marketing consultancies',\n",
       " 'frontit': '1 Digital and marketing consultancies',\n",
       " 'holion': '1 Digital and marketing consultancies',\n",
       " 'kruso': '1 Digital and marketing consultancies',\n",
       " 'pandiweb': '1 Digital and marketing consultancies',\n",
       " 'uptime': '1 Digital and marketing consultancies',\n",
       " 'charlie tango': '1 Digital and marketing consultancies',\n",
       " 'ffw': '1 Digital and marketing consultancies',\n",
       " 'mysupport': '2 Bespoke app companies',\n",
       " 'shape': '1 Digital and marketing consultancies',\n",
       " 'makeable': '2 Bespoke app companies',\n",
       " 'mustache': '2 Bespoke app companies',\n",
       " 'house of code': '2 Bespoke app companies',\n",
       " 'greener pastures': '2 Bespoke app companies',\n",
       " 'axla': '2 Bespoke app companies',\n",
       " 'snapp': '2 Bespoke app companies',\n",
       " 'appscaptain': '2 Bespoke app companies',\n",
       " 'adtomic': '1 Digital and marketing consultancies',\n",
       " 'signifly': '1 Digital and marketing consultancies',\n",
       " 'creuna': '1 Digital and marketing consultancies',\n",
       " 'strømlin': '1 Digital and marketing consultancies',\n",
       " 'knowit': '1 Digital and marketing consultancies',\n",
       " 'must': '1 Digital and marketing consultancies',\n",
       " 'netcompany': '1 Digital and marketing consultancies',\n",
       " 'systematic': '1 Digital and marketing consultancies',\n",
       " 'capgemini': '1 Digital and marketing consultancies',\n",
       " 'sas institute': '3 Data-broker- and infrastructure companies',\n",
       " 'fellowmind': '1 Digital and marketing consultancies',\n",
       " 'eg a/s': '1 Digital and marketing consultancies',\n",
       " 'kmd': '1 Digital and marketing consultancies',\n",
       " 'adform': '3 Data-broker- and infrastructure companies',\n",
       " 'oxygen': '1 Digital and marketing consultancies',\n",
       " 'saxo bank': '4 Companies with specific digital part/app as part of service/product',\n",
       " 'kabellmunk': '2 Bespoke app companies',\n",
       " 'dgi-it': '4 Companies with specific digital part/app as part of service/product',\n",
       " 'ørsted': '4 Companies with specific digital part/app as part of service/product',\n",
       " 'nuuday': '4 Companies with specific digital part/app as part of service/product',\n",
       " 'yousee': '4 Companies with specific digital part/app as part of service/product',\n",
       " 'relatel': '4 Companies with specific digital part/app as part of service/product',\n",
       " 'cphapp': '2 Bespoke app companies',\n",
       " 'commentor': '2 Bespoke app companies',\n",
       " 'nabto': '3 Data-broker- and infrastructure companies',\n",
       " 'jobindex': '4 Companies with specific digital part/app as part of service/product',\n",
       " 'miracle': '2 Bespoke app companies',\n",
       " 'immeo': '1 Digital and marketing consultancies',\n",
       " 'siteimprove': '3 Data-broker- and infrastructure companies',\n",
       " 'cbrain': '1 Digital and marketing consultancies',\n",
       " 'deon digital': '3 Data-broker- and infrastructure companies',\n",
       " 'pwc': '4 Companies with specific digital part/app as part of service/product',\n",
       " 'studiesandme': '4 Companies with specific digital part/app as part of service/product',\n",
       " 'tv2': '4 Companies with specific digital part/app as part of service/product',\n",
       " 'pentia': '1 Digital and marketing consultancies',\n",
       " 'zervme': '4 Companies with specific digital part/app as part of service/product',\n",
       " 'skat': '4 Companies with specific digital part/app as part of service/product',\n",
       " 'codefort': '1 Digital and marketing consultancies',\n",
       " 'reepay': '3 Data-broker- and infrastructure companies',\n",
       " 'diviso': '1 Digital and marketing consultancies',\n",
       " 'uni-soft': '4 Companies with specific digital part/app as part of service/product',\n",
       " 'delegateas': '1 Digital and marketing consultancies',\n",
       " 'proactivedk': '1 Digital and marketing consultancies',\n",
       " 'monstarlab': '1 Digital and marketing consultancies'}"
      ]
     },
     "execution_count": 12,
     "metadata": {},
     "output_type": "execute_result"
    }
   ],
   "source": [
    "company_catego"
   ]
  },
  {
   "cell_type": "code",
   "execution_count": 2,
   "id": "5e154063",
   "metadata": {},
   "outputs": [
    {
     "name": "stdout",
     "output_type": "stream",
     "text": [
      "GithubScraper initialized with 3 tokens.\n",
      "First token in cycle. Initiating ACCESS_TOKEN_1.\n",
      "GithubScraper initialized with 0 companies and 0 users already scraped.\n",
      "Token cycled to ACCESS_TOKEN_2.\n",
      "Cycle\n"
     ]
    }
   ],
   "source": [
    "gs = GithubScraper()\n",
    "\n",
    "user = 'hcarreras'\n",
    "\n",
    "named_user = gs.get_user(user)\n",
    "\n",
    "result = gs.get_user_info(named_user, 'netcompany')\n",
    "\n",
    "repos = named_user.get_repos()"
   ]
  },
  {
   "cell_type": "code",
   "execution_count": 8,
   "id": "43f4847d",
   "metadata": {},
   "outputs": [
    {
     "data": {
      "text/plain": [
       "[{'repo_name': 'administrate',\n",
       "  'owner_login': 'thoughtbot',\n",
       "  'created_at': '2018-04-13'},\n",
       " {'repo_name': 'AgoraOnRails',\n",
       "  'owner_login': 'PartidoDeInternet',\n",
       "  'created_at': '2013-11-20'},\n",
       " {'repo_name': 'GII-2014', 'owner_login': 'JJ', 'created_at': '2014-10-26'},\n",
       " {'repo_name': 'hackety-hack.com',\n",
       "  'owner_login': 'hacketyhack',\n",
       "  'created_at': '2013-07-25'},\n",
       " {'repo_name': 'hacketyhack',\n",
       "  'owner_login': 'hacketyhack',\n",
       "  'created_at': '2013-07-25'},\n",
       " {'repo_name': 'heroku-buildpack-imagemagick',\n",
       "  'owner_login': 'ello',\n",
       "  'created_at': '2016-02-08'},\n",
       " {'repo_name': 'letter_opener',\n",
       "  'owner_login': 'alexrothenberg',\n",
       "  'created_at': '2013-12-12'},\n",
       " {'repo_name': 'next.js', 'owner_login': 'vercel', 'created_at': '2022-10-10'}]"
      ]
     },
     "execution_count": 8,
     "metadata": {},
     "output_type": "execute_result"
    }
   ],
   "source": [
    "# Transform dataclass into dataframe    \n",
    "df = pd.DataFrame([result.__dict__])\n",
    "df['forks_out'][0]"
   ]
  },
  {
   "cell_type": "markdown",
   "id": "48471c84",
   "metadata": {},
   "source": [
    "- follow_in: user_name\n",
    "- follow_out: user_name\n",
    "- watch_in: repo_name/user_name\n",
    "- watch_out: repo_name/user_name\n",
    "- star_in: repo_name/user_name\n",
    "- star_out: repo_name/user_name\n",
    "- star_in: repo_name/user_name\n",
    "- fork_in: repo_name/user_name\n",
    "- fork_out: repo_name/user_name\n"
   ]
  }
 ],
 "metadata": {
  "kernelspec": {
   "display_name": "github",
   "language": "python",
   "name": "python3"
  },
  "language_info": {
   "codemirror_mode": {
    "name": "ipython",
    "version": 3
   },
   "file_extension": ".py",
   "mimetype": "text/x-python",
   "name": "python",
   "nbconvert_exporter": "python",
   "pygments_lexer": "ipython3",
   "version": "3.11.4"
  }
 },
 "nbformat": 4,
 "nbformat_minor": 5
}
