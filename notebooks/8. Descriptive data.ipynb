{
 "cells": [
  {
   "cell_type": "markdown",
   "metadata": {},
   "source": [
    "# 0 Importing Packages"
   ]
  },
  {
   "cell_type": "code",
   "execution_count": 1,
   "metadata": {},
   "outputs": [],
   "source": [
    "# Load the autoreload extension to automatically reload modules before executing code (to avoid restarting the kernel)\n",
    "%load_ext autoreload \n",
    "# NB. uncomment the line above first time you run this cell\n",
    "%autoreload 2\n",
    "\n",
    "from pathlib import Path\n",
    "import pandas as pd\n",
    "\n",
    "from resources.network_functions import GraphConstructor, calculate_weighted_density\n",
    "from resources.appendix_table_functions import (summarize_company_interactions, \n",
    "                                                filter_data_rows, \n",
    "                                                compute_adjacency_matrix_inter, \n",
    "                                                compute_adjacency_matrix_intra)\n"
   ]
  },
  {
   "cell_type": "markdown",
   "metadata": {},
   "source": [
    "## 0.1 File Paths"
   ]
  },
  {
   "cell_type": "code",
   "execution_count": null,
   "metadata": {},
   "outputs": [],
   "source": [
    "# File paths\n",
    "import resources.filepaths as fp\n",
    "\n",
    "fp_main = fp.fp_main\n",
    "fp_main_output = fp.fp_main_output\n",
    "\n",
    "# To output data that has to go to external s-drive\n",
    "fp_main_external = fp.fp_main_external\n",
    "fp_output_external = fp.fp_output_external\n",
    "\n",
    "# For appendix output files\n",
    "fp_appendix_output = fp.fp_appendix_output"
   ]
  },
  {
   "cell_type": "markdown",
   "metadata": {},
   "source": [
    "# 1 Load in edgelist data"
   ]
  },
  {
   "cell_type": "code",
   "execution_count": 22,
   "metadata": {},
   "outputs": [],
   "source": [
    "# Read in the data\n",
    "all_edges_user_level = pd.read_parquet(fp_main_output / 'all_edges_user_level.gzip.parquet')\n",
    "attention_edges_user_level = pd.read_parquet(fp_main_output / 'attention_edges_user_level.gzip.parquet')\n",
    "collaboration_edges_user_level = pd.read_parquet(fp_main_output / 'collaboration_edges_user_level.gzip.parquet')"
   ]
  },
  {
   "cell_type": "code",
   "execution_count": 23,
   "metadata": {},
   "outputs": [],
   "source": [
    "## 1.1 Construct the graphs\n",
    "gc_attention = GraphConstructor(all_edges_user_level, graph_type='attention')\n",
    "attention_graph = gc_attention.get_graph()\n",
    "\n",
    "gc_collaboration = GraphConstructor(all_edges_user_level, graph_type='collaboration')\n",
    "collaboration_graph = gc_collaboration.get_graph()"
   ]
  },
  {
   "cell_type": "markdown",
   "metadata": {},
   "source": [
    "## 2 Calculate basic descriptive for users and companies"
   ]
  },
  {
   "cell_type": "code",
   "execution_count": null,
   "metadata": {},
   "outputs": [
    {
     "name": "stdout",
     "output_type": "stream",
     "text": [
      "Total number of unique companies: 46\n",
      "Number of each type of company:\n",
      "category\n",
      "1.0    24\n",
      "4.0    12\n",
      "2.0     6\n",
      "3.0     4\n",
      "Name: count, dtype: int64\n"
     ]
    }
   ],
   "source": [
    "# Get unique companies and their company types\n",
    "unique_src_companies = all_edges_user_level[['src_company', 'src_company_category']].rename(columns={'src_company': 'company', 'src_company_category': 'category'}).drop_duplicates()\n",
    "unique_target_companies = all_edges_user_level[['target_company', 'target_company_category']].rename(columns={'target_company': 'company', 'target_company_category': 'category'}).drop_duplicates()\n",
    "\n",
    "# Get the unique set of companies and their categories\n",
    "unique_companies = pd.concat([unique_src_companies, unique_target_companies]).drop_duplicates().reset_index(drop=True)\n",
    "\n",
    "# Companies in total\n",
    "total_companies = unique_companies['company'].nunique()\n",
    "print('Total number of unique companies:', total_companies)\n",
    "\n",
    "# Number of each type of company\n",
    "category_counts = unique_companies['category'].value_counts()\n",
    "print('Number of each type of company:')\n",
    "print(category_counts)"
   ]
  },
  {
   "cell_type": "code",
   "execution_count": null,
   "metadata": {},
   "outputs": [
    {
     "name": "stdout",
     "output_type": "stream",
     "text": [
      "Number of unique users in total: 372\n"
     ]
    },
    {
     "data": {
      "application/vnd.microsoft.datawrangler.viewer.v0+json": {
       "columns": [
        {
         "name": "usertype",
         "rawType": "object",
         "type": "string"
        },
        {
         "name": "count",
         "rawType": "int64",
         "type": "integer"
        }
       ],
       "ref": "8cb00312-abd2-45a3-a8eb-b673445db51c",
       "rows": [
        [
         "Organization",
         "51"
        ],
        [
         "User",
         "321"
        ]
       ],
       "shape": {
        "columns": 1,
        "rows": 2
       }
      },
      "text/plain": [
       "usertype\n",
       "Organization     51\n",
       "User            321\n",
       "Name: count, dtype: int64"
      ]
     },
     "metadata": {},
     "output_type": "display_data"
    }
   ],
   "source": [
    "# Get unique users and their types\n",
    "unique_src = all_edges_user_level[['src', 'usertype_src']].rename(columns={'usertype_src': 'usertype', 'src': 'user'}).drop_duplicates()\n",
    "unique_target = all_edges_user_level[['target', 'usertype_target']].rename(columns={'usertype_target': 'usertype', 'target': 'user'}).drop_duplicates()\n",
    "\n",
    "# Get unique set of src and target\n",
    "unique_set = pd.concat([unique_src, unique_target]).drop_duplicates().reset_index(drop=True)\n",
    "\n",
    "# Users in total\n",
    "print(f'Number of unique users in total: {len(unique_set)}')\n",
    "\n",
    "# Types of users\n",
    "unique_set.usertype.value_counts().sort_index()"
   ]
  },
  {
   "cell_type": "markdown",
   "metadata": {},
   "source": [
    "# 3 Collaboration Network Stats"
   ]
  },
  {
   "cell_type": "markdown",
   "metadata": {},
   "source": [
    "## 3.1 General network statistics"
   ]
  },
  {
   "cell_type": "code",
   "execution_count": 24,
   "metadata": {},
   "outputs": [
    {
     "name": "stdout",
     "output_type": "stream",
     "text": [
      "No. of users: 70\n",
      "No. of companies: 20\n",
      "Inter-company GH actions: 8\n",
      "Intra-company GH actions: 98\n",
      "Unique inter-company edges (directed): 6\n",
      "Unique directed user-to-user edges (inter): 6\n",
      "Unique directed user-to-user edges (intra): 59\n",
      "Weighted density: 0.015789473684210527\n"
     ]
    }
   ],
   "source": [
    "# User level\n",
    "no_users = len(pd.unique(collaboration_edges_user_level[['src', 'target']].values.ravel()))\n",
    "no_unique_inter_user_to_user = collaboration_edges_user_level[collaboration_edges_user_level['d_inter_level'] == 1][['src', 'target']].drop_duplicates().shape[0]\n",
    "no_unique_intra_user_to_user = collaboration_edges_user_level[collaboration_edges_user_level['d_intra_level'] == 1][['src', 'target']].drop_duplicates().shape[0]\n",
    "\n",
    "# Company level\n",
    "no_companies = len(set(collaboration_edges_user_level[\"src_company\"]).union(collaboration_edges_user_level[\"target_company\"]))\n",
    "no_inter_company_edges_directed = len([(u,v) for u, v, d in collaboration_graph.edges(data=True) if d.get(\"d_inter_level\") == 1])\n",
    "\n",
    "# Total weight of inter-company edges (user-level, directed)\n",
    "no_inter_gh = collaboration_edges_user_level[collaboration_edges_user_level['d_inter_level'] == 1].shape[0]\n",
    "\n",
    "# Total weight of self-loop edges (src_company == tgt_company)z\n",
    "no_intra_gh = collaboration_edges_user_level[collaboration_edges_user_level['d_intra_level'] == 1].shape[0]\n",
    "\n",
    "# Calculate the weighted density of the collaboration graph\n",
    "weighted_density_collaboration = calculate_weighted_density(collaboration_graph)\n",
    "\n",
    "print(f\"No. of users: {no_users}\")\n",
    "print(f\"No. of companies: {no_companies}\")\n",
    "print(f\"Inter-company GH actions: {no_inter_gh}\")\n",
    "print(f\"Intra-company GH actions: {no_intra_gh}\")\n",
    "print(f\"Unique inter-company edges (directed): {no_inter_company_edges_directed}\")\n",
    "print(f\"Unique directed user-to-user edges (inter): {no_unique_inter_user_to_user}\")\n",
    "print(f\"Unique directed user-to-user edges (intra): {no_unique_intra_user_to_user}\")\n",
    "print(f\"Weighted density: {weighted_density_collaboration}\")"
   ]
  },
  {
   "cell_type": "markdown",
   "metadata": {},
   "source": [
    "## 3.2 Generate summary table of edges"
   ]
  },
  {
   "cell_type": "code",
   "execution_count": null,
   "metadata": {},
   "outputs": [
    {
     "ename": "NameError",
     "evalue": "name 'summarize_company_interactions' is not defined",
     "output_type": "error",
     "traceback": [
      "\u001b[0;31m---------------------------------------------------------------------------\u001b[0m",
      "\u001b[0;31mNameError\u001b[0m                                 Traceback (most recent call last)",
      "Cell \u001b[0;32mIn[1], line 2\u001b[0m\n\u001b[1;32m      1\u001b[0m \u001b[38;5;66;03m# Get the latex table summary for collaboration actions\u001b[39;00m\n\u001b[0;32m----> 2\u001b[0m collaboration_latex_summary, summary \u001b[38;5;241m=\u001b[39m \u001b[43msummarize_company_interactions\u001b[49m(\n\u001b[1;32m      3\u001b[0m     collaboration_edges_user_level, network_type\u001b[38;5;241m=\u001b[39m\u001b[38;5;124m\"\u001b[39m\u001b[38;5;124mcollaboration\u001b[39m\u001b[38;5;124m\"\u001b[39m\n\u001b[1;32m      4\u001b[0m )\n\u001b[1;32m      6\u001b[0m \u001b[38;5;66;03m# Save as LaTeX file\u001b[39;00m\n\u001b[1;32m      7\u001b[0m \u001b[38;5;28;01mwith\u001b[39;00m \u001b[38;5;28mopen\u001b[39m(fp_appendix_output \u001b[38;5;241m/\u001b[39m \u001b[38;5;124m'\u001b[39m\u001b[38;5;124mcollaboration_1_summary_data_rows.tex\u001b[39m\u001b[38;5;124m'\u001b[39m, \u001b[38;5;124m'\u001b[39m\u001b[38;5;124mw\u001b[39m\u001b[38;5;124m'\u001b[39m) \u001b[38;5;28;01mas\u001b[39;00m f:\n",
      "\u001b[0;31mNameError\u001b[0m: name 'summarize_company_interactions' is not defined"
     ]
    }
   ],
   "source": [
    "# Get the latex table summary for collaboration actions\n",
    "collaboration_latex_summary, summary = summarize_company_interactions(\n",
    "    collaboration_edges_user_level, network_type=\"collaboration\"\n",
    ")\n",
    "\n",
    "# Save as LaTeX file\n",
    "with open(fp_appendix_output / 'collaboration_table_4_action_summary_data_rows.tex', 'w') as f:\n",
    "    f.write(collaboration_latex_summary)\n",
    "\n",
    "print(summary)"
   ]
  },
  {
   "cell_type": "markdown",
   "metadata": {},
   "source": [
    "## 3.3 Adjadency matrix (only inter-level connections)"
   ]
  },
  {
   "cell_type": "code",
   "execution_count": null,
   "metadata": {},
   "outputs": [
    {
     "name": "stdout",
     "output_type": "stream",
     "text": [
      "1 Digital and marketing consultancies & 3 & 0 & 0 & 2 \\\\\n",
      "2 Bespoke app companies & 2 & 0 & 0 & 0 \\\\\n",
      "3 Data-broker- and infrastructure companies & 1 & 0 & 0 & 0 \\\\\n",
      "4 Companies with specific digital part/app as part of service/product & 0 & 0 & 0 & 0 \\\\\n"
     ]
    }
   ],
   "source": [
    "# Compute the adjacency matrix for inter-company edges\n",
    "matrix, latex_matrix = compute_adjacency_matrix_inter(\n",
    "    collaboration_edges_user_level\n",
    ")\n",
    "\n",
    "# Filter data rows only\n",
    "collaboration_adjacency_inter = filter_data_rows(latex_matrix, adjacency_table=True)\n",
    "print(collaboration_adjacency_inter)\n",
    "\n",
    "# Save the latex table to a file\n",
    "with open(fp_appendix_output / \"collaboration_table_1_adjacency_inter_data_rows.tex\", \"w\") as f:\n",
    "    f.write(collaboration_adjacency_inter)"
   ]
  },
  {
   "cell_type": "markdown",
   "metadata": {},
   "source": [
    "## 3.4 Adjadency matrix (all connections, including intra)"
   ]
  },
  {
   "cell_type": "code",
   "execution_count": null,
   "metadata": {},
   "outputs": [
    {
     "name": "stdout",
     "output_type": "stream",
     "text": [
      "1 Digital and marketing consultancies & 87 & 0 & 0 & 2 \\\\\n",
      "2 Bespoke app companies & 2 & 2 & 0 & 0 \\\\\n",
      "3 Data-broker- and infrastructure companies & 1 & 0 & 2 & 0 \\\\\n",
      "4 Companies with specific digital part/app as part of service/product & 0 & 0 & 0 & 10 \\\\\n"
     ]
    }
   ],
   "source": [
    "# Compute the adjacency matrix for intra-company edges\n",
    "matrix, latex_matrix = compute_adjacency_matrix_intra(collaboration_edges_user_level)\n",
    "\n",
    "# Filter data rows only\n",
    "collaboration_adjacency_intra = filter_data_rows(latex_matrix, adjacency_table=True)\n",
    "print(collaboration_adjacency_intra)\n",
    "\n",
    "# Save the latex table to a file\n",
    "with open(fp_appendix_output / \"collaboration_table_3_adjacency_intra_data_rows.tex\", \"w\") as f:\n",
    "    f.write(collaboration_adjacency_intra)"
   ]
  },
  {
   "cell_type": "markdown",
   "metadata": {},
   "source": [
    "# 4 Attention Network Stats"
   ]
  },
  {
   "cell_type": "markdown",
   "metadata": {},
   "source": [
    "## 4.1 General network statistics"
   ]
  },
  {
   "cell_type": "code",
   "execution_count": 28,
   "metadata": {},
   "outputs": [
    {
     "name": "stdout",
     "output_type": "stream",
     "text": [
      "No. of users: 357\n",
      "No. of companies: 41\n",
      "Inter-company GH actions: 306\n",
      "Intra-company GH actions: 4321\n",
      "Unique inter-company edges (directed): 53\n",
      "Unique directed user-to-user edges (inter): 94\n",
      "Unique directed user-to-user edges (intra): 500\n",
      "Weighted density: 0.05731707317073171\n"
     ]
    }
   ],
   "source": [
    "# User level\n",
    "no_users = len(pd.unique(attention_edges_user_level[['src', 'target']].values.ravel()))\n",
    "no_unique_inter_user_to_user = attention_edges_user_level[attention_edges_user_level['d_inter_level'] == 1][['src', 'target']].drop_duplicates().shape[0]\n",
    "no_unique_intra_user_to_user = attention_edges_user_level[attention_edges_user_level['d_intra_level'] == 1][['src', 'target']].drop_duplicates().shape[0]\n",
    "\n",
    "# Company level\n",
    "no_companies = len(set(attention_edges_user_level[\"src_company\"]).union(attention_edges_user_level[\"target_company\"]))\n",
    "no_inter_company_edges_directed = len([(u,v) for u,v, d in attention_graph.edges(data=True) if d.get(\"d_inter_level\") == 1])\n",
    "\n",
    "# Total weight of inter-company edges (user-level, directed)\n",
    "no_inter_gh = attention_edges_user_level[attention_edges_user_level['d_inter_level'] == 1].shape[0]\n",
    "\n",
    "# Total weight of self-loop edges (src_company == tgt_company)z\n",
    "no_intra_gh = attention_edges_user_level[attention_edges_user_level['d_intra_level'] == 1].shape[0]\n",
    "\n",
    "# Calculate the weighted density of the attention graph\n",
    "weighted_density_attention = calculate_weighted_density(attention_graph)\n",
    "\n",
    "print(f\"No. of users: {no_users}\")\n",
    "print(f\"No. of companies: {no_companies}\")\n",
    "print(f\"Inter-company GH actions: {no_inter_gh}\")\n",
    "print(f\"Intra-company GH actions: {no_intra_gh}\")\n",
    "print(f\"Unique inter-company edges (directed): {no_inter_company_edges_directed}\")\n",
    "print(f\"Unique directed user-to-user edges (inter): {no_unique_inter_user_to_user}\")\n",
    "print(f\"Unique directed user-to-user edges (intra): {no_unique_intra_user_to_user}\")\n",
    "print(f\"Weighted density: {weighted_density_attention}\")"
   ]
  },
  {
   "cell_type": "markdown",
   "metadata": {},
   "source": [
    "## 4.2 Generate summary table of edges"
   ]
  },
  {
   "cell_type": "code",
   "execution_count": null,
   "metadata": {},
   "outputs": [
    {
     "name": "stdout",
     "output_type": "stream",
     "text": [
      "abtion & 0 & 2 & 1 & 1 & 0 & 1 & 0 & 0 & 1 & 0 & 110 & 9 & 99 & 2 \\\\\n",
      "capgemini & 0 & 4 & 0 & 4 & 0 & 0 & 0 & 0 & 4 & 0 & 14 & 0 & 14 & 0 \\\\\n",
      "cbrain & 0 & 24 & 4 & 20 & 0 & 0 & 4 & 4 & 10 & 6 & 10 & 1 & 9 & 0 \\\\\n",
      "charlie tango & 0 & 2 & 0 & 2 & 0 & 0 & 0 & 1 & 0 & 1 & 155 & 16 & 127 & 12 \\\\\n",
      "codefort & 0 & 0 & 0 & 0 & 0 & 0 & 0 & 0 & 0 & 0 & 39 & 1 & 38 & 0 \\\\\n",
      "commentor & 0 & 2 & 0 & 2 & 0 & 0 & 0 & 0 & 0 & 2 & 0 & 0 & 0 & 0 \\\\\n",
      "creuna & 0 & 3 & 3 & 0 & 3 & 0 & 0 & 0 & 0 & 0 & 6 & 0 & 6 & 0 \\\\\n",
      "delegateas & 0 & 10 & 8 & 2 & 4 & 0 & 4 & 0 & 0 & 2 & 88 & 7 & 79 & 2 \\\\\n",
      "deondigital & 0 & 17 & 13 & 4 & 6 & 3 & 4 & 2 & 2 & 0 & 21 & 6 & 15 & 0 \\\\\n",
      "eg a s & 0 & 2 & 0 & 2 & 0 & 0 & 0 & 0 & 2 & 0 & 105 & 1 & 36 & 68 \\\\\n",
      "fellowmind & 0 & 0 & 0 & 0 & 0 & 0 & 0 & 0 & 0 & 0 & 5 & 2 & 3 & 0 \\\\\n",
      "ffw & 0 & 0 & 0 & 0 & 0 & 0 & 0 & 0 & 0 & 0 & 5 & 0 & 5 & 0 \\\\\n",
      "holion & 0 & 0 & 0 & 0 & 0 & 0 & 0 & 0 & 0 & 0 & 11 & 0 & 11 & 0 \\\\\n",
      "house of code & 0 & 59 & 1 & 58 & 0 & 1 & 0 & 0 & 56 & 2 & 2 & 0 & 2 & 0 \\\\\n",
      "immeo & 0 & 0 & 0 & 0 & 0 & 0 & 0 & 0 & 0 & 0 & 11 & 0 & 11 & 0 \\\\\n",
      "jobindex & 0 & 45 & 22 & 23 & 4 & 12 & 6 & 7 & 4 & 12 & 209 & 45 & 146 & 18 \\\\\n",
      "kmd & 0 & 2 & 0 & 2 & 0 & 0 & 0 & 0 & 0 & 2 & 45 & 0 & 41 & 4 \\\\\n",
      "knowit & 0 & 70 & 31 & 39 & 4 & 25 & 2 & 3 & 34 & 2 & 62 & 0 & 62 & 0 \\\\\n",
      "kruso & 0 & 4 & 0 & 4 & 0 & 0 & 0 & 0 & 4 & 0 & 11 & 2 & 9 & 0 \\\\\n",
      "miracle & 0 & 60 & 24 & 36 & 0 & 22 & 2 & 4 & 30 & 2 & 194 & 0 & 192 & 2 \\\\\n",
      "must & 0 & 2 & 2 & 0 & 2 & 0 & 0 & 0 & 0 & 0 & 108 & 1 & 107 & 0 \\\\\n",
      "netcompany & 0 & 65 & 2 & 63 & 0 & 0 & 2 & 6 & 27 & 30 & 299 & 9 & 286 & 4 \\\\\n",
      "nuuday & 0 & 23 & 16 & 7 & 3 & 7 & 6 & 3 & 0 & 4 & 102 & 6 & 76 & 20 \\\\\n",
      "oxygen & 0 & 2 & 1 & 1 & 0 & 1 & 0 & 0 & 1 & 0 & 10 & 1 & 9 & 0 \\\\\n",
      "pentia & 0 & 83 & 81 & 2 & 0 & 79 & 2 & 0 & 2 & 0 & 192 & 4 & 184 & 4 \\\\\n",
      "reepay & 0 & 0 & 0 & 0 & 0 & 0 & 0 & 0 & 0 & 0 & 52 & 0 & 52 & 0 \\\\\n",
      "relatel & 0 & 2 & 2 & 0 & 0 & 0 & 2 & 0 & 0 & 0 & 96 & 0 & 90 & 6 \\\\\n",
      "saxo bank & 0 & 0 & 0 & 0 & 0 & 0 & 0 & 0 & 0 & 0 & 5 & 0 & 5 & 0 \\\\\n",
      "shape & 0 & 13 & 4 & 9 & 0 & 0 & 4 & 1 & 6 & 2 & 290 & 37 & 232 & 21 \\\\\n",
      "signifly & 0 & 6 & 5 & 1 & 2 & 0 & 3 & 1 & 0 & 0 & 175 & 4 & 163 & 8 \\\\\n",
      "siteimprove & 0 & 9 & 6 & 3 & 0 & 6 & 0 & 2 & 1 & 0 & 164 & 16 & 134 & 14 \\\\\n",
      "skat & 0 & 52 & 52 & 0 & 2 & 18 & 32 & 0 & 0 & 0 & 4 & 0 & 4 & 0 \\\\\n",
      "snapp & 0 & 0 & 0 & 0 & 0 & 0 & 0 & 0 & 0 & 0 & 12 & 0 & 12 & 0 \\\\\n",
      "strømlin & 1 & 12 & 12 & 0 & 0 & 12 & 0 & 0 & 0 & 0 & 0 & 0 & 0 & 0 \\\\\n",
      "systematic & 0 & 13 & 7 & 6 & 7 & 0 & 0 & 0 & 0 & 6 & 213 & 16 & 195 & 2 \\\\\n",
      "trifork & 0 & 2 & 1 & 1 & 1 & 0 & 0 & 1 & 0 & 0 & 1196 & 111 & 1041 & 44 \\\\\n",
      "tv2 & 0 & 7 & 2 & 5 & 0 & 0 & 2 & 2 & 3 & 0 & 172 & 9 & 155 & 8 \\\\\n",
      "uni-soft & 4 & 2 & 2 & 0 & 0 & 0 & 2 & 0 & 0 & 0 & 0 & 0 & 0 & 0 \\\\\n",
      "uptime & 0 & 5 & 2 & 3 & 2 & 0 & 0 & 3 & 0 & 0 & 81 & 7 & 70 & 4 \\\\\n",
      "yousee & 0 & 4 & 0 & 4 & 0 & 0 & 0 & 0 & 0 & 4 & 5 & 1 & 2 & 2 \\\\\n",
      "ørsted & 0 & 4 & 2 & 2 & 0 & 0 & 2 & 0 & 0 & 2 & 42 & 0 & 42 & 0 \\\\\n"
     ]
    }
   ],
   "source": [
    "# Get the latex table summary for attention actions\n",
    "attention_latex_summary, summary = summarize_company_interactions(\n",
    "    attention_edges_user_level, network_type=\"attention\"\n",
    ")\n",
    "\n",
    "# save as LaTeX file\n",
    "latex_file_path = fp_appendix_output / 'attention_table_6_action_summary_data_rows.tex'\n",
    "with open(latex_file_path, 'w') as f:\n",
    "    f.write(attention_latex_summary)\n",
    "\n",
    "print(summary)"
   ]
  },
  {
   "cell_type": "markdown",
   "metadata": {},
   "source": [
    "## 4.3 Adjadency matrix (only inter-level conenctions)"
   ]
  },
  {
   "cell_type": "code",
   "execution_count": null,
   "metadata": {},
   "outputs": [
    {
     "name": "stdout",
     "output_type": "stream",
     "text": [
      "1 Digital and marketing consultancies & 58 & 24 & 6 & 74 \\\\\n",
      "2 Bespoke app companies & 88 & 0 & 0 & 8 \\\\\n",
      "3 Data-broker- and infrastructure companies & 3 & 0 & 0 & 4 \\\\\n",
      "4 Companies with specific digital part/app as part of service/product & 15 & 1 & 13 & 12 \\\\\n"
     ]
    }
   ],
   "source": [
    "# Compute the adjacency matrix for inter-company edges\n",
    "matrix, latex_matrix = compute_adjacency_matrix_inter(\n",
    "    attention_edges_user_level\n",
    ")\n",
    "\n",
    "# Filter data rows only\n",
    "attention_adjacency_inter = filter_data_rows(latex_matrix, adjacency_table=True)\n",
    "print(attention_adjacency_inter)\n",
    "\n",
    "# Save the latex table to a file\n",
    "with open(fp_appendix_output / \"attention_table_5_adjacency_inter_data_rows.tex\", \"w\") as f:\n",
    "    f.write(attention_adjacency_inter)"
   ]
  },
  {
   "cell_type": "markdown",
   "metadata": {},
   "source": [
    "## 4.4 Adjadency matrix (all connections, including intra-level)"
   ]
  },
  {
   "cell_type": "code",
   "execution_count": null,
   "metadata": {},
   "outputs": [
    {
     "name": "stdout",
     "output_type": "stream",
     "text": [
      "1 Digital and marketing consultancies & 3299 & 24 & 6 & 74 \\\\\n",
      "2 Bespoke app companies & 88 & 208 & 0 & 8 \\\\\n",
      "3 Data-broker- and infrastructure companies & 3 & 0 & 237 & 4 \\\\\n",
      "4 Companies with specific digital part/app as part of service/product & 15 & 1 & 13 & 647 \\\\\n"
     ]
    }
   ],
   "source": [
    "# Compute the adjacency matrix for intra-company edges\n",
    "matrix, latex_matrix = compute_adjacency_matrix_intra(attention_edges_user_level)\n",
    "\n",
    "# Filter data rows only\n",
    "attention_adjacency_intra = filter_data_rows(latex_matrix, adjacency_table=True)\n",
    "print(attention_adjacency_intra)\n",
    "\n",
    "# Save the latex table to a file\n",
    "with open(fp_appendix_output / \"attention_2_adjacency_intra_data_rows.tex\", \"w\") as f:\n",
    "    f.write(attention_adjacency_intra)"
   ]
  }
 ],
 "metadata": {
  "kernelspec": {
   "display_name": "github",
   "language": "python",
   "name": "python3"
  },
  "language_info": {
   "codemirror_mode": {
    "name": "ipython",
    "version": 3
   },
   "file_extension": ".py",
   "mimetype": "text/x-python",
   "name": "python",
   "nbconvert_exporter": "python",
   "pygments_lexer": "ipython3",
   "version": "3.11.4"
  }
 },
 "nbformat": 4,
 "nbformat_minor": 2
}
