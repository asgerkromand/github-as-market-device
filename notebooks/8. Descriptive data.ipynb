{
 "cells": [
  {
   "cell_type": "markdown",
   "metadata": {},
   "source": [
    "# 0 Importing Packages"
   ]
  },
  {
   "cell_type": "code",
   "execution_count": 1,
   "metadata": {},
   "outputs": [],
   "source": [
    "# Load the autoreload extension to automatically reload modules before executing code (to avoid restarting the kernel)\n",
    "%load_ext autoreload \n",
    "# NB. uncomment the line above first time you run this cell\n",
    "%autoreload 2\n",
    "\n",
    "import pandas as pd\n",
    "\n",
    "from resources.network_functions import GraphConstructor, calculate_weighted_density\n",
    "from resources.appendix_table_functions import (summarize_company_interactions, \n",
    "                                                filter_data_rows, \n",
    "                                                compute_adjacency_matrix_inter, \n",
    "                                                compute_adjacency_matrix_intra)\n"
   ]
  },
  {
   "cell_type": "markdown",
   "metadata": {},
   "source": [
    "## 0.1 File Paths"
   ]
  },
  {
   "cell_type": "code",
   "execution_count": 2,
   "metadata": {},
   "outputs": [],
   "source": [
    "# File paths\n",
    "import resources.filepaths as fp\n",
    "\n",
    "fp_main = fp.fp_main\n",
    "fp_main_output = fp.fp_main_output\n",
    "\n",
    "# To output data that has to go to external s-drive\n",
    "fp_main_external = fp.fp_main_external\n",
    "fp_output_external = fp.fp_output_external\n",
    "\n",
    "# For appendix output files\n",
    "fp_appendix_output = fp.fp_appendix_output"
   ]
  },
  {
   "cell_type": "markdown",
   "metadata": {},
   "source": [
    "# 1 Load in edgelist data"
   ]
  },
  {
   "cell_type": "code",
   "execution_count": 3,
   "metadata": {},
   "outputs": [],
   "source": [
    "# Read in the data\n",
    "all_edges_user_level = pd.read_parquet(fp_output_external / 'all_edges_user_level.gzip.parquet')\n",
    "attention_edges_user_level = pd.read_parquet(fp_output_external / 'attention_edges_user_level.gzip.parquet')\n",
    "collaboration_edges_user_level = pd.read_parquet(fp_output_external / 'collaboration_edges_user_level.gzip.parquet')"
   ]
  },
  {
   "cell_type": "code",
   "execution_count": 4,
   "metadata": {},
   "outputs": [],
   "source": [
    "## 1.1 Construct the graphs\n",
    "gc_attention = GraphConstructor(all_edges_user_level, graph_type='attention')\n",
    "attention_graph = gc_attention.get_graph()\n",
    "\n",
    "gc_collaboration = GraphConstructor(all_edges_user_level, graph_type='collaboration')\n",
    "collaboration_graph = gc_collaboration.get_graph()"
   ]
  },
  {
   "cell_type": "markdown",
   "metadata": {},
   "source": [
    "## 2 Calculate basic descriptive for users and companies"
   ]
  },
  {
   "cell_type": "code",
   "execution_count": 5,
   "metadata": {},
   "outputs": [
    {
     "name": "stdout",
     "output_type": "stream",
     "text": [
      "Total number of unique companies: 15\n",
      "Number of each type of company:\n"
     ]
    },
    {
     "data": {
      "application/vnd.microsoft.datawrangler.viewer.v0+json": {
       "columns": [
        {
         "name": "category",
         "rawType": "int64",
         "type": "integer"
        },
        {
         "name": "count",
         "rawType": "int64",
         "type": "integer"
        }
       ],
       "ref": "9ce01242-b6c2-4d2a-9ebd-9218f7b137ff",
       "rows": [
        [
         "1",
         "15"
        ]
       ],
       "shape": {
        "columns": 1,
        "rows": 1
       }
      },
      "text/plain": [
       "category\n",
       "1    15\n",
       "Name: count, dtype: int64"
      ]
     },
     "execution_count": 5,
     "metadata": {},
     "output_type": "execute_result"
    }
   ],
   "source": [
    "# Get unique companies and their company types\n",
    "unique_src_companies = all_edges_user_level[['src_company', 'src_company_category']].rename(columns={'src_company': 'company', 'src_company_category': 'category'}).drop_duplicates()\n",
    "unique_target_companies = all_edges_user_level[['target_company', 'target_company_category']].rename(columns={'target_company': 'company', 'target_company_category': 'category'}).drop_duplicates()\n",
    "\n",
    "# Get the unique set of companies and their categories\n",
    "unique_companies = pd.concat([unique_src_companies, unique_target_companies]).drop_duplicates().reset_index(drop=True)\n",
    "\n",
    "# Companies in total\n",
    "total_companies = unique_companies['company'].nunique()\n",
    "print('Total number of unique companies:', total_companies)\n",
    "\n",
    "# Number of each type of company\n",
    "category_counts = unique_companies['category'].value_counts()\n",
    "print('Number of each type of company:')\n",
    "category_counts"
   ]
  },
  {
   "cell_type": "code",
   "execution_count": 6,
   "metadata": {},
   "outputs": [
    {
     "name": "stdout",
     "output_type": "stream",
     "text": [
      "Number of unique users in total: 192\n"
     ]
    },
    {
     "data": {
      "application/vnd.microsoft.datawrangler.viewer.v0+json": {
       "columns": [
        {
         "name": "usertype",
         "rawType": "object",
         "type": "string"
        },
        {
         "name": "count",
         "rawType": "int64",
         "type": "integer"
        }
       ],
       "ref": "1b5d60e6-a0ea-4da4-bd45-58571f3f29e0",
       "rows": [
        [
         "Organization",
         "9"
        ],
        [
         "User",
         "74"
        ]
       ],
       "shape": {
        "columns": 1,
        "rows": 2
       }
      },
      "text/plain": [
       "usertype\n",
       "Organization     9\n",
       "User            74\n",
       "Name: count, dtype: int64"
      ]
     },
     "execution_count": 6,
     "metadata": {},
     "output_type": "execute_result"
    }
   ],
   "source": [
    "# Get unique users and their types\n",
    "unique_src = all_edges_user_level[['src', 'src_usertype']].rename(columns={'src_user_type': 'usertype', 'src': 'user'}).drop_duplicates()\n",
    "unique_target = all_edges_user_level[['target', 'target_usertype']].rename(columns={'target_usertype': 'usertype', 'target': 'user'}).drop_duplicates()\n",
    "\n",
    "# Get unique set of src and target\n",
    "unique_set = pd.concat([unique_src, unique_target]).drop_duplicates().reset_index(drop=True)\n",
    "\n",
    "# Users in total\n",
    "print(f'Number of unique users in total: {len(unique_set)}')\n",
    "\n",
    "# Types of users\n",
    "unique_set.usertype.value_counts().sort_index()"
   ]
  },
  {
   "cell_type": "markdown",
   "metadata": {},
   "source": [
    "# 3 Collaboration Network Stats"
   ]
  },
  {
   "cell_type": "markdown",
   "metadata": {},
   "source": [
    "## 3.1 General network statistics"
   ]
  },
  {
   "cell_type": "code",
   "execution_count": 7,
   "metadata": {},
   "outputs": [
    {
     "name": "stdout",
     "output_type": "stream",
     "text": [
      "No. of users: 20\n",
      "No. of companies: 8\n",
      "Inter-company GH actions: 0\n",
      "Intra-company GH actions: 28\n",
      "Unique inter-company edges (directed): 0\n",
      "Unique directed user-to-user edges (inter): 0\n",
      "Unique directed user-to-user edges (intra): 18\n",
      "Weighted density: 0.0\n"
     ]
    }
   ],
   "source": [
    "# User level\n",
    "no_users = len(pd.unique(collaboration_edges_user_level[['src', 'target']].values.ravel()))\n",
    "no_unique_inter_user_to_user = collaboration_edges_user_level[collaboration_edges_user_level['d_inter_level'] == 1][['src', 'target']].drop_duplicates().shape[0]\n",
    "no_unique_intra_user_to_user = collaboration_edges_user_level[collaboration_edges_user_level['d_intra_level'] == 1][['src', 'target']].drop_duplicates().shape[0]\n",
    "\n",
    "# Company level\n",
    "no_companies = len(set(collaboration_edges_user_level[\"src_company\"]).union(collaboration_edges_user_level[\"target_company\"]))\n",
    "no_inter_company_edges_directed = len([(u,v) for u, v, d in collaboration_graph.edges(data=True) if d.get(\"d_inter_level\") == 1])\n",
    "\n",
    "# Total weight of inter-company edges (user-level, directed)\n",
    "no_inter_gh = collaboration_edges_user_level[collaboration_edges_user_level['d_inter_level'] == 1].shape[0]\n",
    "\n",
    "# Total weight of self-loop edges (src_company == tgt_company)z\n",
    "no_intra_gh = collaboration_edges_user_level[collaboration_edges_user_level['d_intra_level'] == 1].shape[0]\n",
    "\n",
    "# Calculate the weighted density of the collaboration graph\n",
    "weighted_density_collaboration = calculate_weighted_density(collaboration_graph)\n",
    "\n",
    "print(f\"No. of users: {no_users}\")\n",
    "print(f\"No. of companies: {no_companies}\")\n",
    "print(f\"Inter-company GH actions: {no_inter_gh}\")\n",
    "print(f\"Intra-company GH actions: {no_intra_gh}\")\n",
    "print(f\"Unique inter-company edges (directed): {no_inter_company_edges_directed}\")\n",
    "print(f\"Unique directed user-to-user edges (inter): {no_unique_inter_user_to_user}\")\n",
    "print(f\"Unique directed user-to-user edges (intra): {no_unique_intra_user_to_user}\")\n",
    "print(f\"Weighted density: {weighted_density_collaboration}\")"
   ]
  },
  {
   "cell_type": "markdown",
   "metadata": {},
   "source": [
    "## 3.2 Generate summary table of edges"
   ]
  },
  {
   "cell_type": "code",
   "execution_count": 8,
   "metadata": {},
   "outputs": [
    {
     "name": "stdout",
     "output_type": "stream",
     "text": [
      "  \\textbf{Company}  \\textbf{Company Category}  \\textbf{Total Inter Actions}  \\\n",
      "0           abtion                          0                             0   \n",
      "1           eg a s                          0                             0   \n",
      "2             must                          0                             0   \n",
      "3       netcompany                          0                             0   \n",
      "4            shape                          0                             0   \n",
      "5         signifly                          0                             0   \n",
      "6          trifork                          0                             0   \n",
      "7           uptime                          0                             0   \n",
      "\n",
      "   \\textbf{Inter Inbound Forks}  \\textbf{Inter Outbound Forks}  \\\n",
      "0                             0                              0   \n",
      "1                             0                              0   \n",
      "2                             0                              0   \n",
      "3                             0                              0   \n",
      "4                             0                              0   \n",
      "5                             0                              0   \n",
      "6                             0                              0   \n",
      "7                             0                              0   \n",
      "\n",
      "   \\textbf{Intra Forks}  \n",
      "0                     6  \n",
      "1                     4  \n",
      "2                     1  \n",
      "3                     6  \n",
      "4                     2  \n",
      "5                     3  \n",
      "6                     5  \n",
      "7                     1  \n"
     ]
    }
   ],
   "source": [
    "# Get the latex table summary for collaboration actions\n",
    "collaboration_latex_summary, summary = summarize_company_interactions(\n",
    "    collaboration_edges_user_level, network_type=\"collaboration\"\n",
    ")\n",
    "\n",
    "# Save as LaTeX file\n",
    "with open(fp_appendix_output / 'collaboration_table_4_action_summary_data_rows.tex', 'w') as f:\n",
    "    f.write(collaboration_latex_summary)\n",
    "\n",
    "print(summary)"
   ]
  },
  {
   "cell_type": "markdown",
   "metadata": {},
   "source": [
    "## 3.3 Adjadency matrix (only inter-level connections)"
   ]
  },
  {
   "cell_type": "code",
   "execution_count": 9,
   "metadata": {},
   "outputs": [
    {
     "name": "stdout",
     "output_type": "stream",
     "text": [
      "\n"
     ]
    }
   ],
   "source": [
    "# Compute the adjacency matrix for inter-company edges\n",
    "matrix, latex_matrix = compute_adjacency_matrix_inter(\n",
    "    collaboration_edges_user_level\n",
    ")\n",
    "\n",
    "# Filter data rows only\n",
    "collaboration_adjacency_inter = filter_data_rows(latex_matrix, adjacency_table=True)\n",
    "print(collaboration_adjacency_inter)\n",
    "\n",
    "# Save the latex table to a file\n",
    "with open(fp_appendix_output / \"collaboration_table_1_adjacency_inter_data_rows.tex\", \"w\") as f:\n",
    "    f.write(collaboration_adjacency_inter)"
   ]
  },
  {
   "cell_type": "markdown",
   "metadata": {},
   "source": [
    "## 3.4 Adjadency matrix (all connections, including intra)"
   ]
  },
  {
   "cell_type": "code",
   "execution_count": 10,
   "metadata": {},
   "outputs": [
    {
     "name": "stdout",
     "output_type": "stream",
     "text": [
      "1 Digital and marketing consultancies & 28 \\\\\n"
     ]
    }
   ],
   "source": [
    "# Compute the adjacency matrix for intra-company edges\n",
    "matrix, latex_matrix = compute_adjacency_matrix_intra(collaboration_edges_user_level)\n",
    "\n",
    "# Filter data rows only\n",
    "collaboration_adjacency_intra = filter_data_rows(latex_matrix, adjacency_table=True)\n",
    "print(collaboration_adjacency_intra)\n",
    "\n",
    "# Save the latex table to a file\n",
    "with open(fp_appendix_output / \"collaboration_table_3_adjacency_intra_data_rows.tex\", \"w\") as f:\n",
    "    f.write(collaboration_adjacency_intra)"
   ]
  },
  {
   "cell_type": "markdown",
   "metadata": {},
   "source": [
    "# 4 Attention Network Stats"
   ]
  },
  {
   "cell_type": "markdown",
   "metadata": {},
   "source": [
    "## 4.1 General network statistics"
   ]
  },
  {
   "cell_type": "code",
   "execution_count": 11,
   "metadata": {},
   "outputs": [
    {
     "name": "stdout",
     "output_type": "stream",
     "text": [
      "No. of users: 114\n",
      "No. of companies: 15\n",
      "Inter-company GH actions: 3\n",
      "Intra-company GH actions: 1197\n",
      "Unique inter-company edges (directed): 3\n",
      "Unique directed user-to-user edges (inter): 3\n",
      "Unique directed user-to-user edges (intra): 135\n",
      "Weighted density: 0.014285714285714285\n"
     ]
    }
   ],
   "source": [
    "# User level\n",
    "no_users = len(pd.unique(attention_edges_user_level[['src', 'target']].values.ravel()))\n",
    "no_unique_inter_user_to_user = attention_edges_user_level[attention_edges_user_level['d_inter_level'] == 1][['src', 'target']].drop_duplicates().shape[0]\n",
    "no_unique_intra_user_to_user = attention_edges_user_level[attention_edges_user_level['d_intra_level'] == 1][['src', 'target']].drop_duplicates().shape[0]\n",
    "\n",
    "# Company level\n",
    "no_companies = len(set(attention_edges_user_level[\"src_company\"]).union(attention_edges_user_level[\"target_company\"]))\n",
    "no_inter_company_edges_directed = len([(u,v) for u,v, d in attention_graph.edges(data=True) if d.get(\"d_inter_level\") == 1])\n",
    "\n",
    "# Total weight of inter-company edges (user-level, directed)\n",
    "no_inter_gh = attention_edges_user_level[attention_edges_user_level['d_inter_level'] == 1].shape[0]\n",
    "\n",
    "# Total weight of self-loop edges (src_company == tgt_company)z\n",
    "no_intra_gh = attention_edges_user_level[attention_edges_user_level['d_intra_level'] == 1].shape[0]\n",
    "\n",
    "# Calculate the weighted density of the attention graph\n",
    "weighted_density_attention = calculate_weighted_density(attention_graph)\n",
    "\n",
    "print(f\"No. of users: {no_users}\")\n",
    "print(f\"No. of companies: {no_companies}\")\n",
    "print(f\"Inter-company GH actions: {no_inter_gh}\")\n",
    "print(f\"Intra-company GH actions: {no_intra_gh}\")\n",
    "print(f\"Unique inter-company edges (directed): {no_inter_company_edges_directed}\")\n",
    "print(f\"Unique directed user-to-user edges (inter): {no_unique_inter_user_to_user}\")\n",
    "print(f\"Unique directed user-to-user edges (intra): {no_unique_intra_user_to_user}\")\n",
    "print(f\"Weighted density: {weighted_density_attention}\")"
   ]
  },
  {
   "cell_type": "markdown",
   "metadata": {},
   "source": [
    "## 4.2 Generate summary table of edges"
   ]
  },
  {
   "cell_type": "code",
   "execution_count": 12,
   "metadata": {},
   "outputs": [
    {
     "name": "stdout",
     "output_type": "stream",
     "text": [
      "   \\textbf{Company}  \\textbf{Company Category}  \\textbf{Total Inter Actions}  \\\n",
      "0            abtion                          0                             2   \n",
      "4         capgemini                          0                             0   \n",
      "3     charlie tango                          0                             1   \n",
      "5            eg a s                          0                             0   \n",
      "6               ffw                          0                             0   \n",
      "7            holion                          0                             0   \n",
      "8             kruso                          0                             0   \n",
      "9              must                          0                             0   \n",
      "10       netcompany                          0                             0   \n",
      "1            oxygen                          0                             2   \n",
      "11            shape                          0                             0   \n",
      "2          signifly                          0                             1   \n",
      "12       systematic                          0                             0   \n",
      "13          trifork                          0                             0   \n",
      "14           uptime                          0                             0   \n",
      "\n",
      "    \\textbf{Total Inter Inbound}  \\textbf{Total Inter Outbound}  \\\n",
      "0                              1                              1   \n",
      "4                              0                              0   \n",
      "3                              0                              1   \n",
      "5                              0                              0   \n",
      "6                              0                              0   \n",
      "7                              0                              0   \n",
      "8                              0                              0   \n",
      "9                              0                              0   \n",
      "10                             0                              0   \n",
      "1                              1                              1   \n",
      "11                             0                              0   \n",
      "2                              1                              0   \n",
      "12                             0                              0   \n",
      "13                             0                              0   \n",
      "14                             0                              0   \n",
      "\n",
      "    \\textbf{Inter Inbound Stars}  \\textbf{Inter Inbound Watches}  \\\n",
      "0                              0                               1   \n",
      "4                              0                               0   \n",
      "3                              0                               0   \n",
      "5                              0                               0   \n",
      "6                              0                               0   \n",
      "7                              0                               0   \n",
      "8                              0                               0   \n",
      "9                              0                               0   \n",
      "10                             0                               0   \n",
      "1                              0                               1   \n",
      "11                             0                               0   \n",
      "2                              0                               0   \n",
      "12                             0                               0   \n",
      "13                             0                               0   \n",
      "14                             0                               0   \n",
      "\n",
      "    \\textbf{Inter Inbound Follows}  \\textbf{Inter Outbound Stars}  \\\n",
      "0                                0                              0   \n",
      "4                                0                              0   \n",
      "3                                0                              0   \n",
      "5                                0                              0   \n",
      "6                                0                              0   \n",
      "7                                0                              0   \n",
      "8                                0                              0   \n",
      "9                                0                              0   \n",
      "10                               0                              0   \n",
      "1                                0                              0   \n",
      "11                               0                              0   \n",
      "2                                1                              0   \n",
      "12                               0                              0   \n",
      "13                               0                              0   \n",
      "14                               0                              0   \n",
      "\n",
      "    \\textbf{Inter Outbound Watches}  \\textbf{Inter Outbound Follows}  \\\n",
      "0                                 1                                0   \n",
      "4                                 0                                0   \n",
      "3                                 0                                1   \n",
      "5                                 0                                0   \n",
      "6                                 0                                0   \n",
      "7                                 0                                0   \n",
      "8                                 0                                0   \n",
      "9                                 0                                0   \n",
      "10                                0                                0   \n",
      "1                                 1                                0   \n",
      "11                                0                                0   \n",
      "2                                 0                                0   \n",
      "12                                0                                0   \n",
      "13                                0                                0   \n",
      "14                                0                                0   \n",
      "\n",
      "    \\textbf{Total Intra Actions}  \\textbf{Intra Stars}  \\\n",
      "0                            137                    10   \n",
      "4                              8                     0   \n",
      "3                            155                    16   \n",
      "5                            103                     1   \n",
      "6                              5                     0   \n",
      "7                             11                     0   \n",
      "8                              4                     0   \n",
      "9                             38                     1   \n",
      "10                           268                     6   \n",
      "1                              7                     0   \n",
      "11                           101                    13   \n",
      "2                             42                     2   \n",
      "12                           150                     8   \n",
      "13                           132                    17   \n",
      "14                            36                     2   \n",
      "\n",
      "    \\textbf{Intra Watches}  \\textbf{Intra Follows}  \n",
      "0                      125                       2  \n",
      "4                        8                       0  \n",
      "3                      127                      12  \n",
      "5                       32                      70  \n",
      "6                        5                       0  \n",
      "7                       11                       0  \n",
      "8                        4                       0  \n",
      "9                       37                       0  \n",
      "10                     260                       2  \n",
      "1                        7                       0  \n",
      "11                      87                       1  \n",
      "2                       40                       0  \n",
      "12                     142                       0  \n",
      "13                     103                      12  \n",
      "14                      34                       0  \n"
     ]
    }
   ],
   "source": [
    "# Get the latex table summary for attention actions\n",
    "attention_latex_summary, summary = summarize_company_interactions(\n",
    "    attention_edges_user_level, network_type=\"attention\"\n",
    ")\n",
    "\n",
    "# save as LaTeX file\n",
    "latex_file_path = fp_appendix_output / 'attention_table_6_action_summary_data_rows.tex'\n",
    "with open(latex_file_path, 'w') as f:\n",
    "    f.write(attention_latex_summary)\n",
    "\n",
    "print(summary)"
   ]
  },
  {
   "cell_type": "markdown",
   "metadata": {},
   "source": [
    "## 4.3 Adjadency matrix (only inter-level conenctions)"
   ]
  },
  {
   "cell_type": "code",
   "execution_count": 13,
   "metadata": {},
   "outputs": [
    {
     "name": "stdout",
     "output_type": "stream",
     "text": [
      "1 Digital and marketing consultancies & 3 \\\\\n"
     ]
    }
   ],
   "source": [
    "# Compute the adjacency matrix for inter-company edges\n",
    "matrix, latex_matrix = compute_adjacency_matrix_inter(\n",
    "    attention_edges_user_level\n",
    ")\n",
    "\n",
    "# Filter data rows only\n",
    "attention_adjacency_inter = filter_data_rows(latex_matrix, adjacency_table=True)\n",
    "print(attention_adjacency_inter)\n",
    "\n",
    "# Save the latex table to a file\n",
    "with open(fp_appendix_output / \"attention_table_5_adjacency_inter_data_rows.tex\", \"w\") as f:\n",
    "    f.write(attention_adjacency_inter)"
   ]
  },
  {
   "cell_type": "markdown",
   "metadata": {},
   "source": [
    "## 4.4 Adjadency matrix (all connections, including intra-level)"
   ]
  },
  {
   "cell_type": "code",
   "execution_count": 14,
   "metadata": {},
   "outputs": [
    {
     "name": "stdout",
     "output_type": "stream",
     "text": [
      "1 Digital and marketing consultancies & 1200 \\\\\n"
     ]
    }
   ],
   "source": [
    "# Compute the adjacency matrix for intra-company edges\n",
    "matrix, latex_matrix = compute_adjacency_matrix_intra(attention_edges_user_level)\n",
    "\n",
    "# Filter data rows only\n",
    "attention_adjacency_intra = filter_data_rows(latex_matrix, adjacency_table=True)\n",
    "print(attention_adjacency_intra)\n",
    "\n",
    "# Save the latex table to a file\n",
    "with open(fp_appendix_output / \"attention_2_adjacency_intra_data_rows.tex\", \"w\") as f:\n",
    "    f.write(attention_adjacency_intra)"
   ]
  }
 ],
 "metadata": {
  "kernelspec": {
   "display_name": "github",
   "language": "python",
   "name": "python3"
  },
  "language_info": {
   "codemirror_mode": {
    "name": "ipython",
    "version": 3
   },
   "file_extension": ".py",
   "mimetype": "text/x-python",
   "name": "python",
   "nbconvert_exporter": "python",
   "pygments_lexer": "ipython3",
   "version": "3.11.4"
  }
 },
 "nbformat": 4,
 "nbformat_minor": 2
}
