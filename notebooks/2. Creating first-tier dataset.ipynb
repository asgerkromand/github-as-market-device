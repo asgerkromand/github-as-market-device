{
 "cells": [
  {
   "cell_type": "markdown",
   "metadata": {},
   "source": [
    "# 0. Importing packages"
   ]
  },
  {
   "cell_type": "code",
   "execution_count": 1,
   "metadata": {},
   "outputs": [],
   "source": [
    "# Load the autoreload extension to automatically reload modules before executing code (to avoid restarting the kernel)\n",
    "%load_ext autoreload \n",
    "# NB. uncomment the line above first time you run this cell\n",
    "%autoreload 2\n",
    "\n",
    "import json\n",
    "import pandas as pd\n",
    "from pathlib import Path\n",
    "\n",
    "# Custom functions\n",
    "from resources.filter_functions import filter_ties"
   ]
  },
  {
   "cell_type": "markdown",
   "metadata": {},
   "source": [
    "## 0.1 File Paths"
   ]
  },
  {
   "cell_type": "code",
   "execution_count": 2,
   "metadata": {},
   "outputs": [],
   "source": [
    "# File paths\n",
    "import resources.filepaths as fp\n",
    "\n",
    "fp_main = fp.fp_main\n",
    "fp_main_output = fp.fp_main_output\n",
    "\n",
    "# To output data that has to go to external s-drive\n",
    "fp_main_external = fp.fp_main_external\n",
    "fp_output_external = fp.fp_output_external"
   ]
  },
  {
   "cell_type": "markdown",
   "metadata": {},
   "source": [
    "# 1. Importing data"
   ]
  },
  {
   "cell_type": "code",
   "execution_count": 3,
   "metadata": {},
   "outputs": [],
   "source": [
    "# Opening the file\n",
    "first_tier_file_name = \"first_tier_userinfo.jsonl\"\n",
    "fp_first_tier = fp_output_external / first_tier_file_name\n",
    "\n",
    "# Load the first tier data\n",
    "with open(fp_first_tier, \"r\") as f:\n",
    "    first_tier_data = [json.loads(line) for line in f]\n",
    "\n",
    "# Convert to DataFrame\n",
    "first_tier_userinfo = pd.DataFrame(first_tier_data)"
   ]
  },
  {
   "cell_type": "markdown",
   "metadata": {},
   "source": [
    "# 2. Aggegating unique user connections for each first-tier user"
   ]
  },
  {
   "cell_type": "code",
   "execution_count": 4,
   "metadata": {},
   "outputs": [],
   "source": [
    "fetch_ties_columns = [\n",
    "    \"follows_in\", \"follows_out\", \"watches_in\", \"watches_out\",\n",
    "    \"stars_in\", \"stars_out\", \"forks_in\", \"forks_out\",\n",
    "]\n",
    "\n",
    "first_tier_userinfo[\"unique_ties\"] = first_tier_userinfo.apply(\n",
    "    lambda row: filter_ties(row, fetch_ties_columns),\n",
    "    axis=1\n",
    ")"
   ]
  },
  {
   "cell_type": "markdown",
   "metadata": {},
   "source": [
    "# 3. Save the sorted DataFrame to a parquet file"
   ]
  },
  {
   "cell_type": "code",
   "execution_count": 5,
   "metadata": {},
   "outputs": [
    {
     "name": "stdout",
     "output_type": "stream",
     "text": [
      "Number of unique users in dataset: 149\n"
     ]
    }
   ],
   "source": [
    "# Print number of users\n",
    "print(f\"Number of unique users in dataset: {len(first_tier_userinfo)}\")\n",
    "\n",
    "# Outputting sorted first-tier-user list with gzip (because of list within the dataframe)\n",
    "first_tier_userinfo.to_parquet(\n",
    "    fp_output_external / \"first_tier_ties.parquet.gzip\"\n",
    "    )"
   ]
  }
 ],
 "metadata": {
  "kernelspec": {
   "display_name": "github",
   "language": "python",
   "name": "python3"
  },
  "language_info": {
   "codemirror_mode": {
    "name": "ipython",
    "version": 3
   },
   "file_extension": ".py",
   "mimetype": "text/x-python",
   "name": "python",
   "nbconvert_exporter": "python",
   "pygments_lexer": "ipython3",
   "version": "3.11.4"
  },
  "orig_nbformat": 4
 },
 "nbformat": 4,
 "nbformat_minor": 2
}
