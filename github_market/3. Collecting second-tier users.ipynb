{
 "cells": [
  {
   "cell_type": "markdown",
   "metadata": {},
   "source": [
    "# 0. Importing packages"
   ]
  },
  {
   "cell_type": "code",
   "execution_count": 1,
   "metadata": {},
   "outputs": [],
   "source": [
    "# Load the autoreload extension to automatically reload modules before executing code (to avoid restarting the kernel)\n",
    "%load_ext autoreload \n",
    "\n",
    "# Enable autoreload for all modules\n",
    "%autoreload 2"
   ]
  },
  {
   "cell_type": "code",
   "execution_count": 2,
   "id": "d9367c19-1737-4928-ad62-f530f4bbd45d",
   "metadata": {},
   "outputs": [],
   "source": [
    "import pandas as pd\n",
    "from pathlib import Path\n",
    "from itertools import chain\n",
    "from tqdm import tqdm\n",
    "\n",
    "# Custom functions\n",
    "from resources.github_functions import GithubScraper"
   ]
  },
  {
   "cell_type": "markdown",
   "metadata": {},
   "source": [
    "## 0.1 File Paths"
   ]
  },
  {
   "cell_type": "code",
   "execution_count": 3,
   "id": "fdded948-6a02-4ace-9948-0ebedf00120a",
   "metadata": {},
   "outputs": [],
   "source": [
    "fp_main = Path('/Volumes/SAM-SODAS-DISTRACT/Coding Distraction/github_as_a_market_device')\n",
    "fp_main_output = Path(fp_main / 'output')"
   ]
  },
  {
   "attachments": {},
   "cell_type": "markdown",
   "metadata": {},
   "source": [
    "# 1 Filtering users and making (named-user,company)-list"
   ]
  },
  {
   "cell_type": "markdown",
   "metadata": {},
   "source": [
    "## 1.1 Loading in the data on first tier users\n",
    "> For scrape and sorting of first tier see the notebooks:\n",
    "* 1. Collecting first-tier users.ipynb\n",
    "* 2. Sorting first-tier users.ipynb\n"
   ]
  },
  {
   "cell_type": "code",
   "execution_count": 4,
   "metadata": {},
   "outputs": [],
   "source": [
    "first_tier_info = pd.read_parquet(fp_main_output / 'first_tier_ties_sorted.parquet.gzip')"
   ]
  },
  {
   "cell_type": "markdown",
   "metadata": {},
   "source": [
    "### 1.2 Creating a dataframe where a row is a company with a list of potential second tier users"
   ]
  },
  {
   "cell_type": "code",
   "execution_count": 5,
   "metadata": {},
   "outputs": [
    {
     "name": "stdout",
     "output_type": "stream",
     "text": [
      "20082\n"
     ]
    }
   ],
   "source": [
    "# Aggregate potential second users for each company in the second tier\n",
    "second_tier_users_and_company = (\n",
    "    first_tier_info.groupby('search_with_company', as_index=False)['unique_ties']\n",
    "    .agg(lambda x: list(chain.from_iterable(x)))\n",
    ")\n",
    "\n",
    "# Calculate total number of potential second-tier users\n",
    "numb_of_second_tier_users = second_tier_users_and_company['unique_ties'].str.len().sum()\n",
    "\n",
    "print(numb_of_second_tier_users)"
   ]
  },
  {
   "cell_type": "markdown",
   "metadata": {},
   "source": [
    "# 2.2 Instantiating the GithubScraper and scrape"
   ]
  },
  {
   "cell_type": "code",
   "execution_count": 6,
   "metadata": {},
   "outputs": [
    {
     "name": "stdout",
     "output_type": "stream",
     "text": [
      "[INFO] File exists: first_tier_userinfo_user_log.jsonl\n",
      "[INFO] File exists: second_tier_userinfo_user_log.jsonl\n",
      "[INFO] File exists: users_attempted_scrape.jsonl\n"
     ]
    }
   ],
   "source": [
    "import json\n",
    "from pathlib import Path\n",
    "\n",
    "# Initialize sets for tracking\n",
    "users_already_scraped = set()\n",
    "companies_already_scraped = set()\n",
    "users_attempted_scraped = set()\n",
    "\n",
    "# Paths\n",
    "first_tier_user_log_file = 'first_tier_userinfo_user_log.jsonl'\n",
    "second_tier_user_log_file = 'second_tier_userinfo_user_log.jsonl'\n",
    "users_attempted_scrape_file = 'users_attempted_scrape.jsonl'\n",
    "\n",
    "first_tier_user_log_path = fp_main_output / first_tier_user_log_file\n",
    "second_tier_user_log_path = fp_main_output / second_tier_user_log_file\n",
    "users_attempted_scrape_path = fp_main_output / users_attempted_scrape_file\n",
    "\n",
    "def ensure_file_exists(path: Path):\n",
    "    if not path.exists():\n",
    "        print(f\"[INFO] File does not exist. Creating: {path.name}\")\n",
    "        path.touch(exist_ok=True)\n",
    "    else:\n",
    "        print(f\"[INFO] File exists: {path.name}\")\n",
    "\n",
    "def load_users_from_log(path: Path):\n",
    "    users = set()\n",
    "    if path.exists():\n",
    "        with open(path, \"r\", encoding=\"utf-8\") as f:\n",
    "            for line in f:\n",
    "                try:\n",
    "                    user_info = json.loads(line)\n",
    "                    users.add(user_info[\"user_login\"])\n",
    "                except (json.JSONDecodeError, KeyError) as err:\n",
    "                    print(f\"[WARNING] Skipping malformed user line in {path.name}: {err}\")\n",
    "    return users\n",
    "\n",
    "# Ensure all files exist\n",
    "for path in [first_tier_user_log_path, second_tier_user_log_path, users_attempted_scrape_path]:\n",
    "    ensure_file_exists(path)\n",
    "\n",
    "# Populate sets\n",
    "users_already_scraped |= load_users_from_log(first_tier_user_log_path)\n",
    "users_already_scraped |= load_users_from_log(second_tier_user_log_path)\n",
    "users_already_attempted = load_users_from_log(users_attempted_scrape_path)"
   ]
  },
  {
   "cell_type": "code",
   "execution_count": null,
   "metadata": {},
   "outputs": [
    {
     "name": "stdout",
     "output_type": "stream",
     "text": [
      "GithubScraper initialized with 3 tokens.\n",
      "First token in cycle. Initiating ACCESS_TOKEN_1.\n",
      "GithubScraper initialized with 0 companies and 228 users already scraped.\n",
      "GitHub REST API ratelimit reset time for token ACCESS_TOKEN_1 is 2025-05-28 14:29:41. That will be in a little less than 30 minutes.\n"
     ]
    },
    {
     "name": "stderr",
     "output_type": "stream",
     "text": [
      "  0%|          | 0/18934 [00:00<?, ?it/s]"
     ]
    },
    {
     "name": "stdout",
     "output_type": "stream",
     "text": [
      "[INFO] User Dynastig already scraped. Skipping.\n",
      "[INFO] User magnusfriis already scraped. Skipping.\n",
      "[INFO] User jeppester already scraped. Skipping.\n",
      "[INFO] User djuric already scraped. Skipping.\n",
      "[INFO] User AlejandraValdivia already scraped. Skipping.\n",
      "[INFO] User martincarlsen already scraped. Skipping.\n",
      "[INFO] User bokh already scraped. Skipping.\n",
      "[INFO] User aboedker already scraped. Skipping.\n",
      "[INFO] User mulky-sulaiman already scraped. Skipping.\n",
      "[INFO] User a-alak already scraped. Skipping.\n",
      "[INFO] User vayurobins already scraped. Skipping.\n",
      "[INFO] User iox already scraped. Skipping.\n",
      "[INFO] User RassaLibre already scraped. Skipping.\n",
      "[INFO] User casiodk already scraped. Skipping.\n",
      "[INFO] User paramadeep already scraped. Skipping.\n",
      "[INFO] User finnpedersenkazes already scraped. Skipping.\n",
      "[INFO] User GuldbekLEGO already scraped. Skipping.\n",
      "[INFO] User hrithikt already scraped. Skipping.\n",
      "[INFO] User runephilosof-abtion already scraped. Skipping.\n",
      "[INFO] User runephilosof already scraped. Skipping.\n",
      "[INFO] User epistrephein already scraped. Skipping.\n",
      "[INFO] User martinvintherp already scraped. Skipping.\n",
      "[INFO] User heatherm already scraped. Skipping.\n",
      "[INFO] User dj-abtion already scraped. Skipping.\n",
      "[INFO] User jekyll already scraped. Skipping.\n",
      "[INFO] User bohme already scraped. Skipping.\n",
      "[INFO] User reinisla already scraped. Skipping.\n",
      "[INFO] User MikkelHansenAbtion already scraped. Skipping.\n",
      "[INFO] User RobWu already scraped. Skipping.\n",
      "[INFO] User ozf already scraped. Skipping.\n",
      "[INFO] User andersklenke already scraped. Skipping.\n",
      "[INFO] User JijoBose already scraped. Skipping.\n",
      "[INFO] User webwhiz-ai already scraped. Skipping.\n",
      "[INFO] User slamidtfyn already scraped. Skipping.\n",
      "[INFO] User nauman already scraped. Skipping.\n",
      "[INFO] User MartJohannsen already scraped. Skipping.\n",
      "[INFO] User minhng92 already scraped. Skipping.\n",
      "[INFO] User simonask already scraped. Skipping.\n",
      "[INFO] User stefan-vrskovy already scraped. Skipping.\n",
      "[INFO] User TimMoser92 already scraped. Skipping.\n",
      "[INFO] User viesii already scraped. Skipping.\n",
      "[INFO] User Typeform already scraped. Skipping.\n",
      "[INFO] User Stevemoretz already scraped. Skipping.\n",
      "[INFO] User cosmic-banana already scraped. Skipping.\n",
      "[INFO] User Kosai106 already scraped. Skipping.\n",
      "[INFO] User AngelleAbtion already scraped. Skipping.\n",
      "[INFO] User liljom already scraped. Skipping.\n",
      "[INFO] User adminabtion already scraped. Skipping.\n",
      "[INFO] User synth already scraped. Skipping.\n",
      "[INFO] User substancelab already scraped. Skipping.\n",
      "[INFO] User Tejs-Abtion already scraped. Skipping.\n",
      "[INFO] User eemailme already scraped. Skipping.\n",
      "[INFO] User allowishus-dev already scraped. Skipping.\n",
      "[INFO] User namuit already scraped. Skipping.\n",
      "[INFO] User MadsZeneli already scraped. Skipping.\n",
      "[INFO] User morgenhaar already scraped. Skipping.\n",
      "[INFO] User hellevibeke already scraped. Skipping.\n",
      "[INFO] User karuncs already scraped. Skipping.\n",
      "[INFO] User pedryvo already scraped. Skipping.\n",
      "[INFO] User GeoffAbtion already scraped. Skipping.\n",
      "[INFO] User Aberen already scraped. Skipping.\n",
      "[INFO] User adionditsak already scraped. Skipping.\n",
      "[INFO] User thatdoogieguy already scraped. Skipping.\n",
      "[INFO] User cbit-abtion already scraped. Skipping.\n",
      "[INFO] User Guldbek already scraped. Skipping.\n",
      "[INFO] User sinisterchipmunk already scraped. Skipping.\n",
      "[INFO] User parseb already scraped. Skipping.\n",
      "[INFO] User hcarreras already scraped. Skipping.\n",
      "[INFO] User Citizen2028 already scraped. Skipping.\n",
      "[INFO] User apneadiving already scraped. Skipping.\n",
      "[INFO] User IanAbildskou already scraped. Skipping.\n",
      "[INFO] User LoneKP already scraped. Skipping.\n",
      "[INFO] User dhl already scraped. Skipping.\n",
      "[INFO] User JAntonioMarin already scraped. Skipping.\n",
      "[INFO] User vercel already scraped. Skipping.\n",
      "[INFO] User Samu92 already scraped. Skipping.\n",
      "[INFO] User aidanogues already scraped. Skipping.\n",
      "[INFO] User granadajs already scraped. Skipping.\n",
      "[INFO] User juanruiztorres661 already scraped. Skipping.\n",
      "[INFO] User Hobo already scraped. Skipping.\n",
      "[INFO] User ello already scraped. Skipping.\n",
      "[INFO] User rogercampos already scraped. Skipping.\n",
      "[INFO] User alexrothenberg already scraped. Skipping.\n",
      "[INFO] User angusshire already scraped. Skipping.\n",
      "[INFO] User RasmusEklund already scraped. Skipping.\n",
      "[INFO] User thoughtbot already scraped. Skipping.\n",
      "[INFO] User hacketyhack already scraped. Skipping.\n",
      "[INFO] User JannikStreek already scraped. Skipping.\n",
      "[INFO] User toblerone554 already scraped. Skipping.\n",
      "[INFO] User dcabo already scraped. Skipping.\n",
      "[INFO] User tareksamni already scraped. Skipping.\n",
      "[INFO] User fraywing already scraped. Skipping.\n",
      "[INFO] User albertoqa already scraped. Skipping.\n",
      "[INFO] User PragTob already scraped. Skipping.\n",
      "[INFO] User voodoorai2000 already scraped. Skipping.\n",
      "[INFO] User ppruiz already scraped. Skipping.\n",
      "[INFO] User knoopx already scraped. Skipping.\n",
      "[INFO] User Emguma already scraped. Skipping.\n",
      "[INFO] User markets already scraped. Skipping.\n",
      "[INFO] User josecolella already scraped. Skipping.\n",
      "[INFO] User afcapel already scraped. Skipping.\n",
      "[INFO] User bureson already scraped. Skipping.\n",
      "[INFO] User clacloy already scraped. Skipping.\n",
      "[INFO] User abtion already scraped. Skipping.\n",
      "[INFO] User PartidoDeInternet already scraped. Skipping.\n",
      "[INFO] User kaspernj already scraped. Skipping.\n",
      "[INFO] User JJ already scraped. Skipping.\n",
      "[INFO] User vemv already scraped. Skipping.\n",
      "[INFO] User streamio already scraped. Skipping.\n",
      "[INFO] User n-singh already scraped. Skipping.\n",
      "[INFO] User svenfuchs already scraped. Skipping.\n",
      "[INFO] User jimacoff already scraped. Skipping.\n",
      "[INFO] User evisko already scraped. Skipping.\n",
      "[INFO] User blhio already scraped. Skipping.\n",
      "[INFO] User keja already scraped. Skipping.\n",
      "[INFO] User andris9 already scraped. Skipping.\n",
      "[INFO] User Armienn already scraped. Skipping.\n",
      "[INFO] User fabn already scraped. Skipping.\n",
      "[INFO] User kostylo already scraped. Skipping.\n",
      "[INFO] User voormedia already scraped. Skipping.\n",
      "[INFO] User heroku already scraped. Skipping.\n",
      "[INFO] User munificent already scraped. Skipping.\n",
      "[INFO] User neoneye already scraped. Skipping.\n",
      "[INFO] User janko already scraped. Skipping.\n",
      "[INFO] User mainmatter already scraped. Skipping.\n",
      "[INFO] User simon0191 already scraped. Skipping.\n",
      "[INFO] User Insti already scraped. Skipping.\n",
      "[INFO] User tridactyl already scraped. Skipping.\n",
      "[INFO] User pboling already scraped. Skipping.\n",
      "[INFO] User heartcombo already scraped. Skipping.\n",
      "[INFO] User standardrb already scraped. Skipping.\n",
      "[INFO] User tabler already scraped. Skipping.\n",
      "[INFO] User iamthefox already scraped. Skipping.\n",
      "[INFO] User ilyakatz already scraped. Skipping.\n",
      "[INFO] User jreybert already scraped. Skipping.\n",
      "[INFO] User Dreamersoul already scraped. Skipping.\n",
      "[INFO] User lynndylanhurley already scraped. Skipping.\n",
      "[INFO] User lostisland already scraped. Skipping.\n",
      "[INFO] User bash-unit already scraped. Skipping.\n",
      "[INFO] User rubocop already scraped. Skipping.\n",
      "[INFO] User zipmark already scraped. Skipping.\n",
      "[INFO] User tpope already scraped. Skipping.\n",
      "[INFO] User brooklynDev already scraped. Skipping.\n",
      "[INFO] User itsecurityco already scraped. Skipping.\n",
      "[INFO] User catsky already scraped. Skipping.\n",
      "[INFO] User roo-rb already scraped. Skipping.\n",
      "[INFO] User influitive already scraped. Skipping.\n",
      "[INFO] User adrianadaria already scraped. Skipping.\n",
      "[INFO] User cvolund already scraped. Skipping.\n",
      "[INFO] User 10bestdesign already scraped. Skipping.\n",
      "[INFO] User bjslips already scraped. Skipping.\n",
      "[INFO] User bloodybit already scraped. Skipping.\n",
      "[INFO] User balaboon already scraped. Skipping.\n",
      "[INFO] User bjarkof already scraped. Skipping.\n",
      "[INFO] User bdobry already scraped. Skipping.\n",
      "[INFO] User Quarzi already scraped. Skipping.\n",
      "[INFO] User mobajo already scraped. Skipping.\n",
      "[INFO] User arshwinth already scraped. Skipping.\n"
     ]
    },
    {
     "name": "stderr",
     "output_type": "stream",
     "text": [
      "  1%|          | 159/18934 [00:00<01:54, 163.34it/s]"
     ]
    },
    {
     "name": "stdout",
     "output_type": "stream",
     "text": [
      "[INFO] User yiqu already scraped. Skipping.\n",
      "[INFO] User vincerubinetti already scraped. Skipping.\n",
      "[INFO] User piersolenski already scraped. Skipping.\n",
      "[INFO] User koogawa already scraped. Skipping.\n",
      "[INFO] User xdemocle already scraped. Skipping.\n",
      "[INFO] User mehrdad-shokri already scraped. Skipping.\n",
      "[INFO] User shenjo already scraped. Skipping.\n",
      "[INFO] User kesuskim already scraped. Skipping.\n",
      "[INFO] User rfougy already scraped. Skipping.\n",
      "[INFO] User bdsach already scraped. Skipping.\n",
      "[INFO] User mrhyperbit already scraped. Skipping.\n",
      "[INFO] User zutigrm already scraped. Skipping.\n"
     ]
    },
    {
     "name": "stderr",
     "output_type": "stream",
     "text": [
      "  1%|          | 176/18934 [00:10<24:16, 12.88it/s] "
     ]
    },
    {
     "name": "stdout",
     "output_type": "stream",
     "text": [
      "User leonardssh has more than 300 repos, skipping.\n",
      "[INFO] User Yasu-umi already scraped. Skipping.\n",
      "[INFO] User flamingofar already scraped. Skipping.\n",
      "[INFO] User lanma already scraped. Skipping.\n",
      "[INFO] User johnhamlin already scraped. Skipping.\n",
      "[INFO] User NateRobinson already scraped. Skipping.\n",
      "[INFO] User muhanjindan already scraped. Skipping.\n",
      "[INFO] User JamilBailonyLumofy already scraped. Skipping.\n"
     ]
    },
    {
     "name": "stderr",
     "output_type": "stream",
     "text": [
      "  1%|          | 187/18934 [00:25<1:15:04,  4.16it/s]"
     ]
    },
    {
     "name": "stdout",
     "output_type": "stream",
     "text": [
      "[INFO] User ppichier already scraped. Skipping.\n",
      "[INFO] User mrxnn already scraped. Skipping.\n"
     ]
    },
    {
     "name": "stderr",
     "output_type": "stream",
     "text": [
      "  1%|          | 192/18934 [00:32<1:52:38,  2.77it/s]"
     ]
    },
    {
     "name": "stdout",
     "output_type": "stream",
     "text": [
      "[INFO] User brunnolou already scraped. Skipping.\n",
      "[INFO] User yasutakatou already scraped. Skipping.\n",
      "[INFO] User tomekbuszewski already scraped. Skipping.\n",
      "[INFO] User u-abyss already scraped. Skipping.\n"
     ]
    },
    {
     "name": "stderr",
     "output_type": "stream",
     "text": [
      "  1%|          | 197/18934 [00:35<2:05:20,  2.49it/s]"
     ]
    },
    {
     "name": "stdout",
     "output_type": "stream",
     "text": [
      "[INFO] User firuzcanh already scraped. Skipping.\n"
     ]
    },
    {
     "name": "stderr",
     "output_type": "stream",
     "text": [
      "  1%|          | 199/18934 [00:38<2:27:40,  2.11it/s]"
     ]
    },
    {
     "name": "stdout",
     "output_type": "stream",
     "text": [
      "[INFO] User danielhusar already scraped. Skipping.\n"
     ]
    },
    {
     "name": "stderr",
     "output_type": "stream",
     "text": [
      "  1%|          | 202/18934 [00:41<2:57:45,  1.76it/s]"
     ]
    },
    {
     "name": "stdout",
     "output_type": "stream",
     "text": [
      "[INFO] User aashutoshrathi already scraped. Skipping.\n"
     ]
    },
    {
     "name": "stderr",
     "output_type": "stream",
     "text": [
      "  1%|          | 204/18934 [00:41<2:50:11,  1.83it/s]"
     ]
    },
    {
     "name": "stdout",
     "output_type": "stream",
     "text": [
      "[INFO] User sishenhei7 already scraped. Skipping.\n"
     ]
    },
    {
     "name": "stderr",
     "output_type": "stream",
     "text": [
      "  1%|          | 206/18934 [00:44<3:21:08,  1.55it/s]"
     ]
    },
    {
     "name": "stdout",
     "output_type": "stream",
     "text": [
      "[INFO] User buynao already scraped. Skipping.\n",
      "[INFO] User rfns already scraped. Skipping.\n",
      "[INFO] User prettier already scraped. Skipping.\n"
     ]
    },
    {
     "name": "stderr",
     "output_type": "stream",
     "text": [
      "  1%|          | 210/18934 [00:45<2:51:21,  1.82it/s]"
     ]
    },
    {
     "name": "stdout",
     "output_type": "stream",
     "text": [
      "[INFO] User VisageDvachevsky already scraped. Skipping.\n",
      "[INFO] User rmolinamir already scraped. Skipping.\n"
     ]
    },
    {
     "name": "stderr",
     "output_type": "stream",
     "text": [
      "  1%|          | 213/18934 [00:47<3:07:21,  1.67it/s]"
     ]
    },
    {
     "name": "stdout",
     "output_type": "stream",
     "text": [
      "[INFO] User ztoben already scraped. Skipping.\n",
      "[INFO] User gorkalaucirica already scraped. Skipping.\n",
      "[INFO] User life88 already scraped. Skipping.\n",
      "[INFO] User pasupuletics already scraped. Skipping.\n"
     ]
    },
    {
     "name": "stderr",
     "output_type": "stream",
     "text": [
      "  1%|          | 218/18934 [00:49<2:24:26,  2.16it/s]"
     ]
    },
    {
     "name": "stdout",
     "output_type": "stream",
     "text": [
      "[INFO] User whoamindx already scraped. Skipping.\n",
      "[INFO] User kirillgroshkov already scraped. Skipping.\n"
     ]
    },
    {
     "name": "stderr",
     "output_type": "stream",
     "text": [
      "  1%|          | 221/18934 [00:51<2:50:10,  1.83it/s]"
     ]
    },
    {
     "name": "stdout",
     "output_type": "stream",
     "text": [
      "[INFO] User michael-lefebvre already scraped. Skipping.\n"
     ]
    },
    {
     "name": "stderr",
     "output_type": "stream",
     "text": [
      "  1%|          | 223/18934 [00:58<5:38:30,  1.09s/it]"
     ]
    },
    {
     "name": "stdout",
     "output_type": "stream",
     "text": [
      "[INFO] User mvanleenden already scraped. Skipping.\n"
     ]
    },
    {
     "name": "stderr",
     "output_type": "stream",
     "text": [
      "  1%|          | 225/18934 [01:03<7:43:01,  1.48s/it]"
     ]
    },
    {
     "name": "stdout",
     "output_type": "stream",
     "text": [
      "[INFO] User muzyk0 already scraped. Skipping.\n",
      "[INFO] User GabeAtWork already scraped. Skipping.\n"
     ]
    },
    {
     "name": "stderr",
     "output_type": "stream",
     "text": [
      "  1%|          | 228/18934 [01:05<5:59:51,  1.15s/it]"
     ]
    },
    {
     "name": "stdout",
     "output_type": "stream",
     "text": [
      "[INFO] User wklsh already scraped. Skipping.\n"
     ]
    },
    {
     "name": "stderr",
     "output_type": "stream",
     "text": [
      "  1%|          | 230/18934 [01:06<5:19:49,  1.03s/it]"
     ]
    },
    {
     "name": "stdout",
     "output_type": "stream",
     "text": [
      "[INFO] User LancelotLewis already scraped. Skipping.\n"
     ]
    },
    {
     "name": "stderr",
     "output_type": "stream",
     "text": [
      "  1%|          | 232/18934 [01:10<6:28:11,  1.25s/it]"
     ]
    },
    {
     "name": "stdout",
     "output_type": "stream",
     "text": [
      "[INFO] User P233 already scraped. Skipping.\n"
     ]
    },
    {
     "name": "stderr",
     "output_type": "stream",
     "text": [
      "  1%|          | 234/18934 [01:13<6:59:18,  1.35s/it]"
     ]
    },
    {
     "name": "stdout",
     "output_type": "stream",
     "text": [
      "[INFO] User alexdunphy already scraped. Skipping.\n"
     ]
    },
    {
     "name": "stderr",
     "output_type": "stream",
     "text": [
      "  1%|▏         | 237/18934 [01:19<8:49:22,  1.70s/it]"
     ]
    },
    {
     "name": "stdout",
     "output_type": "stream",
     "text": [
      "[INFO] User xseignard already scraped. Skipping.\n"
     ]
    },
    {
     "name": "stderr",
     "output_type": "stream",
     "text": [
      "  1%|▏         | 241/18934 [01:30<15:11:01,  2.92s/it]"
     ]
    },
    {
     "name": "stdout",
     "output_type": "stream",
     "text": [
      "[INFO] User Cowboy-coder already scraped. Skipping.\n",
      "[INFO] User yyuneko already scraped. Skipping.\n"
     ]
    },
    {
     "name": "stderr",
     "output_type": "stream",
     "text": [
      "  1%|▏         | 244/18934 [01:33<10:40:05,  2.05s/it]"
     ]
    },
    {
     "name": "stdout",
     "output_type": "stream",
     "text": [
      "[INFO] User fly51fly already scraped. Skipping.\n"
     ]
    },
    {
     "name": "stderr",
     "output_type": "stream",
     "text": [
      "  1%|▏         | 246/18934 [01:37<10:14:46,  1.97s/it]"
     ]
    },
    {
     "name": "stdout",
     "output_type": "stream",
     "text": [
      "[INFO] User jazsouf already scraped. Skipping.\n",
      "[INFO] User aleeceburgess already scraped. Skipping.\n"
     ]
    },
    {
     "name": "stderr",
     "output_type": "stream",
     "text": [
      "  1%|▏         | 255/18934 [01:49<8:45:53,  1.69s/it] "
     ]
    },
    {
     "name": "stdout",
     "output_type": "stream",
     "text": [
      "[INFO] User samazevedo already scraped. Skipping.\n"
     ]
    },
    {
     "name": "stderr",
     "output_type": "stream",
     "text": [
      "  1%|▏         | 257/18934 [01:51<6:13:49,  1.20s/it]"
     ]
    },
    {
     "name": "stdout",
     "output_type": "stream",
     "text": [
      "[INFO] User wyllyan already scraped. Skipping.\n"
     ]
    },
    {
     "name": "stderr",
     "output_type": "stream",
     "text": [
      "  1%|▏         | 259/18934 [01:54<7:17:10,  1.40s/it]"
     ]
    },
    {
     "name": "stdout",
     "output_type": "stream",
     "text": [
      "[INFO] User nunojllemos already scraped. Skipping.\n",
      "[INFO] User ykzts already scraped. Skipping.\n",
      "[INFO] User wakkihaya already scraped. Skipping.\n",
      "[INFO] User MicahLyle already scraped. Skipping.\n",
      "[INFO] User rista404 already scraped. Skipping.\n"
     ]
    },
    {
     "name": "stderr",
     "output_type": "stream",
     "text": [
      "  1%|▏         | 265/18934 [01:56<3:32:56,  1.46it/s]"
     ]
    },
    {
     "name": "stdout",
     "output_type": "stream",
     "text": [
      "[INFO] User kimdhoe already scraped. Skipping.\n",
      "[INFO] User Plintash already scraped. Skipping.\n"
     ]
    },
    {
     "name": "stderr",
     "output_type": "stream",
     "text": [
      "  1%|▏         | 268/18934 [01:58<3:39:08,  1.42it/s]"
     ]
    },
    {
     "name": "stdout",
     "output_type": "stream",
     "text": [
      "[INFO] User rocklee889 already scraped. Skipping.\n"
     ]
    },
    {
     "name": "stderr",
     "output_type": "stream",
     "text": [
      "  1%|▏         | 270/18934 [02:02<5:29:40,  1.06s/it]"
     ]
    },
    {
     "name": "stdout",
     "output_type": "stream",
     "text": [
      "[INFO] User ismailkaraalioglu already scraped. Skipping.\n",
      "[INFO] User FailLone already scraped. Skipping.\n"
     ]
    },
    {
     "name": "stderr",
     "output_type": "stream",
     "text": [
      "  1%|▏         | 273/18934 [02:04<4:45:34,  1.09it/s]"
     ]
    },
    {
     "name": "stdout",
     "output_type": "stream",
     "text": [
      "[INFO] User christopherscott already scraped. Skipping.\n",
      "[INFO] User Aliendreamer already scraped. Skipping.\n",
      "[INFO] User masanaikeshima already scraped. Skipping.\n",
      "[INFO] User chenpx976 already scraped. Skipping.\n"
     ]
    },
    {
     "name": "stderr",
     "output_type": "stream",
     "text": [
      "  1%|▏         | 278/18934 [02:06<3:17:43,  1.57it/s]"
     ]
    },
    {
     "name": "stdout",
     "output_type": "stream",
     "text": [
      "[INFO] User akaboshinit already scraped. Skipping.\n",
      "[INFO] User guillermo-avalos already scraped. Skipping.\n",
      "[INFO] User okirim already scraped. Skipping.\n",
      "[INFO] User michaelycy already scraped. Skipping.\n"
     ]
    },
    {
     "name": "stderr",
     "output_type": "stream",
     "text": [
      "  1%|▏         | 284/18934 [02:09<3:10:47,  1.63it/s]"
     ]
    },
    {
     "name": "stdout",
     "output_type": "stream",
     "text": [
      "[INFO] User spacecowb0y already scraped. Skipping.\n"
     ]
    },
    {
     "name": "stderr",
     "output_type": "stream",
     "text": [
      "  2%|▏         | 289/18934 [02:27<10:35:14,  2.04s/it]"
     ]
    },
    {
     "name": "stdout",
     "output_type": "stream",
     "text": [
      "[INFO] User khoale9098 already scraped. Skipping.\n",
      "[INFO] User GrandNewbien already scraped. Skipping.\n",
      "[INFO] User henry-wu-1130 already scraped. Skipping.\n",
      "[INFO] User rmoralp already scraped. Skipping.\n"
     ]
    },
    {
     "name": "stderr",
     "output_type": "stream",
     "text": [
      "  2%|▏         | 294/18934 [02:30<6:11:38,  1.20s/it] "
     ]
    },
    {
     "name": "stdout",
     "output_type": "stream",
     "text": [
      "[INFO] User marbemac already scraped. Skipping.\n",
      "[INFO] User Inori-Lover already scraped. Skipping.\n",
      "[INFO] User DOORM4T already scraped. Skipping.\n"
     ]
    },
    {
     "name": "stderr",
     "output_type": "stream",
     "text": [
      "  2%|▏         | 300/18934 [02:34<4:58:41,  1.04it/s]"
     ]
    },
    {
     "name": "stdout",
     "output_type": "stream",
     "text": [
      "[INFO] User patrickgdl already scraped. Skipping.\n",
      "[INFO] User loggerhead already scraped. Skipping.\n",
      "[INFO] User jaytrovare already scraped. Skipping.\n"
     ]
    },
    {
     "name": "stderr",
     "output_type": "stream",
     "text": [
      "  2%|▏         | 305/18934 [02:42<7:30:45,  1.45s/it]"
     ]
    },
    {
     "name": "stdout",
     "output_type": "stream",
     "text": [
      "[INFO] User ugurakcora already scraped. Skipping.\n",
      "[INFO] User d00mducky already scraped. Skipping.\n"
     ]
    },
    {
     "name": "stderr",
     "output_type": "stream",
     "text": [
      "  2%|▏         | 308/18934 [02:43<5:40:41,  1.10s/it]"
     ]
    },
    {
     "name": "stdout",
     "output_type": "stream",
     "text": [
      "[INFO] User pugson already scraped. Skipping.\n"
     ]
    },
    {
     "name": "stderr",
     "output_type": "stream",
     "text": [
      "  2%|▏         | 310/18934 [02:48<7:18:40,  1.41s/it]"
     ]
    },
    {
     "name": "stdout",
     "output_type": "stream",
     "text": [
      "[INFO] User izakdvlpr already scraped. Skipping.\n",
      "[INFO] User markphd already scraped. Skipping.\n",
      "[INFO] User ianwijma already scraped. Skipping.\n"
     ]
    },
    {
     "name": "stderr",
     "output_type": "stream",
     "text": [
      "  2%|▏         | 316/18934 [02:53<6:06:00,  1.18s/it]"
     ]
    },
    {
     "name": "stdout",
     "output_type": "stream",
     "text": [
      "[INFO] User luanraithz already scraped. Skipping.\n",
      "[INFO] User arman94 already scraped. Skipping.\n",
      "[INFO] User ojj1123 already scraped. Skipping.\n",
      "[INFO] User evenchange4 already scraped. Skipping.\n",
      "[INFO] User davidnussio already scraped. Skipping.\n",
      "[INFO] User omid111621 already scraped. Skipping.\n",
      "[INFO] User mkohei already scraped. Skipping.\n",
      "[INFO] User leejw0803 already scraped. Skipping.\n"
     ]
    },
    {
     "name": "stderr",
     "output_type": "stream",
     "text": [
      "  2%|▏         | 325/18934 [02:55<2:35:00,  2.00it/s]"
     ]
    },
    {
     "name": "stdout",
     "output_type": "stream",
     "text": [
      "[INFO] User zlatanpham already scraped. Skipping.\n",
      "[INFO] User 413d already scraped. Skipping.\n"
     ]
    },
    {
     "name": "stderr",
     "output_type": "stream",
     "text": [
      "  2%|▏         | 328/18934 [03:01<4:34:20,  1.13it/s]"
     ]
    },
    {
     "name": "stdout",
     "output_type": "stream",
     "text": [
      "[INFO] User varHarrie already scraped. Skipping.\n"
     ]
    },
    {
     "name": "stderr",
     "output_type": "stream",
     "text": [
      "  2%|▏         | 331/18934 [03:05<5:04:10,  1.02it/s]"
     ]
    },
    {
     "name": "stdout",
     "output_type": "stream",
     "text": [
      "[INFO] User hoainamcse already scraped. Skipping.\n"
     ]
    },
    {
     "name": "stderr",
     "output_type": "stream",
     "text": [
      "  2%|▏         | 333/18934 [03:09<6:32:26,  1.27s/it]"
     ]
    },
    {
     "name": "stdout",
     "output_type": "stream",
     "text": [
      "[INFO] User andreaskarantzas already scraped. Skipping.\n",
      "[INFO] User gogorr1 already scraped. Skipping.\n"
     ]
    },
    {
     "name": "stderr",
     "output_type": "stream",
     "text": [
      "  2%|▏         | 336/18934 [03:09<4:31:23,  1.14it/s]"
     ]
    },
    {
     "name": "stdout",
     "output_type": "stream",
     "text": [
      "User muukii has more than 300 repos, skipping.\n",
      "[INFO] User Remeic already scraped. Skipping.\n",
      "[INFO] User purini39 already scraped. Skipping.\n"
     ]
    },
    {
     "name": "stderr",
     "output_type": "stream",
     "text": [
      "  2%|▏         | 339/18934 [03:11<3:43:16,  1.39it/s]"
     ]
    },
    {
     "name": "stdout",
     "output_type": "stream",
     "text": [
      "[INFO] User klis87 already scraped. Skipping.\n"
     ]
    },
    {
     "name": "stderr",
     "output_type": "stream",
     "text": [
      "  2%|▏         | 341/18934 [03:12<3:40:00,  1.41it/s]"
     ]
    },
    {
     "name": "stdout",
     "output_type": "stream",
     "text": [
      "[INFO] User x-cold already scraped. Skipping.\n",
      "[INFO] User samchungy already scraped. Skipping.\n"
     ]
    },
    {
     "name": "stderr",
     "output_type": "stream",
     "text": [
      "  2%|▏         | 347/18934 [03:20<5:52:26,  1.14s/it]"
     ]
    },
    {
     "name": "stdout",
     "output_type": "stream",
     "text": [
      "[INFO] User 0xr3yn already scraped. Skipping.\n",
      "[INFO] User airtoxin already scraped. Skipping.\n"
     ]
    },
    {
     "name": "stderr",
     "output_type": "stream",
     "text": [
      "  2%|▏         | 351/18934 [03:28<8:42:20,  1.69s/it]"
     ]
    },
    {
     "name": "stdout",
     "output_type": "stream",
     "text": [
      "[INFO] User windsome already scraped. Skipping.\n"
     ]
    },
    {
     "name": "stderr",
     "output_type": "stream",
     "text": [
      "  2%|▏         | 353/18934 [03:30<7:54:32,  1.53s/it]"
     ]
    },
    {
     "name": "stdout",
     "output_type": "stream",
     "text": [
      "[INFO] User ChangJun2019 already scraped. Skipping.\n",
      "[INFO] User gligorijenikolic already scraped. Skipping.\n"
     ]
    },
    {
     "name": "stderr",
     "output_type": "stream",
     "text": [
      "  2%|▏         | 357/18934 [03:34<6:44:10,  1.31s/it]"
     ]
    },
    {
     "name": "stdout",
     "output_type": "stream",
     "text": [
      "[INFO] User mosamlife already scraped. Skipping.\n"
     ]
    },
    {
     "name": "stderr",
     "output_type": "stream",
     "text": [
      "  2%|▏         | 359/18934 [03:43<11:58:56,  2.32s/it]"
     ]
    },
    {
     "name": "stdout",
     "output_type": "stream",
     "text": [
      "[INFO] User zaherg already scraped. Skipping.\n",
      "[INFO] User leojuriolli7 already scraped. Skipping.\n"
     ]
    },
    {
     "name": "stderr",
     "output_type": "stream",
     "text": [
      "  2%|▏         | 363/18934 [03:49<9:39:08,  1.87s/it] "
     ]
    },
    {
     "name": "stdout",
     "output_type": "stream",
     "text": [
      "[INFO] User rodriigomedeiros already scraped. Skipping.\n"
     ]
    },
    {
     "name": "stderr",
     "output_type": "stream",
     "text": [
      "  2%|▏         | 365/18934 [03:59<14:50:08,  2.88s/it]"
     ]
    },
    {
     "name": "stdout",
     "output_type": "stream",
     "text": [
      "[INFO] User pacexy already scraped. Skipping.\n",
      "[INFO] User simonemiar already scraped. Skipping.\n"
     ]
    },
    {
     "name": "stderr",
     "output_type": "stream",
     "text": [
      "  2%|▏         | 369/18934 [04:02<9:20:00,  1.81s/it] "
     ]
    },
    {
     "name": "stdout",
     "output_type": "stream",
     "text": [
      "[INFO] User davidzhao already scraped. Skipping.\n",
      "[INFO] User the-rob already scraped. Skipping.\n"
     ]
    },
    {
     "name": "stderr",
     "output_type": "stream",
     "text": [
      "  2%|▏         | 372/18934 [04:04<7:10:11,  1.39s/it]"
     ]
    },
    {
     "name": "stdout",
     "output_type": "stream",
     "text": [
      "[INFO] User thapecroth already scraped. Skipping.\n",
      "[INFO] User postcss already scraped. Skipping.\n"
     ]
    },
    {
     "name": "stderr",
     "output_type": "stream",
     "text": [
      "  2%|▏         | 375/18934 [04:06<5:17:42,  1.03s/it]"
     ]
    },
    {
     "name": "stdout",
     "output_type": "stream",
     "text": [
      "[INFO] User thiagosf already scraped. Skipping.\n"
     ]
    },
    {
     "name": "stderr",
     "output_type": "stream",
     "text": [
      "  2%|▏         | 377/18934 [04:09<5:59:11,  1.16s/it]"
     ]
    },
    {
     "name": "stdout",
     "output_type": "stream",
     "text": [
      "[INFO] User a-dera already scraped. Skipping.\n",
      "[INFO] User circlle already scraped. Skipping.\n",
      "[INFO] User alvin883 already scraped. Skipping.\n",
      "[INFO] User taisei-13046 already scraped. Skipping.\n",
      "[INFO] User MrBJasak already scraped. Skipping.\n",
      "[INFO] User lyanmm already scraped. Skipping.\n",
      "[INFO] User Splact already scraped. Skipping.\n"
     ]
    },
    {
     "name": "stderr",
     "output_type": "stream",
     "text": [
      "  2%|▏         | 386/18934 [04:12<3:39:25,  1.41it/s]"
     ]
    },
    {
     "name": "stdout",
     "output_type": "stream",
     "text": [
      "[INFO] User GabrielMajeri already scraped. Skipping.\n"
     ]
    },
    {
     "name": "stderr",
     "output_type": "stream",
     "text": [
      "  2%|▏         | 389/18934 [04:16<4:26:07,  1.16it/s]"
     ]
    },
    {
     "name": "stdout",
     "output_type": "stream",
     "text": [
      "[INFO] User AndrewHaine already scraped. Skipping.\n",
      "[INFO] User iamskok already scraped. Skipping.\n",
      "[INFO] User panzerdp already scraped. Skipping.\n",
      "[INFO] User SuryaL already scraped. Skipping.\n",
      "[INFO] User astleychen already scraped. Skipping.\n"
     ]
    },
    {
     "name": "stderr",
     "output_type": "stream",
     "text": [
      "  2%|▏         | 396/18934 [04:20<4:02:21,  1.27it/s]"
     ]
    },
    {
     "name": "stdout",
     "output_type": "stream",
     "text": [
      "[INFO] User ChrisLincoln already scraped. Skipping.\n"
     ]
    },
    {
     "name": "stderr",
     "output_type": "stream",
     "text": [
      "  2%|▏         | 398/18934 [04:22<4:26:51,  1.16it/s]"
     ]
    },
    {
     "name": "stdout",
     "output_type": "stream",
     "text": [
      "[INFO] User ygsgdbd already scraped. Skipping.\n"
     ]
    },
    {
     "name": "stderr",
     "output_type": "stream",
     "text": [
      "  2%|▏         | 401/18934 [04:32<8:14:40,  1.60s/it]"
     ]
    },
    {
     "name": "stdout",
     "output_type": "stream",
     "text": [
      "[INFO] User terry623 already scraped. Skipping.\n"
     ]
    },
    {
     "name": "stderr",
     "output_type": "stream",
     "text": [
      "  2%|▏         | 405/18934 [04:40<10:33:39,  2.05s/it]"
     ]
    },
    {
     "name": "stdout",
     "output_type": "stream",
     "text": [
      "[INFO] User simulieren already scraped. Skipping.\n",
      "[INFO] User Gideon-Duong already scraped. Skipping.\n",
      "[INFO] User yc-w-cn already scraped. Skipping.\n",
      "[INFO] User smnbbrv already scraped. Skipping.\n"
     ]
    },
    {
     "name": "stderr",
     "output_type": "stream",
     "text": [
      "  2%|▏         | 410/18934 [04:43<6:21:57,  1.24s/it] "
     ]
    },
    {
     "name": "stdout",
     "output_type": "stream",
     "text": [
      "[INFO] User Kevinnko already scraped. Skipping.\n"
     ]
    },
    {
     "name": "stderr",
     "output_type": "stream",
     "text": [
      "  2%|▏         | 412/18934 [04:48<8:08:14,  1.58s/it]"
     ]
    },
    {
     "name": "stdout",
     "output_type": "stream",
     "text": [
      "[INFO] User alexanderbluhm already scraped. Skipping.\n"
     ]
    },
    {
     "name": "stderr",
     "output_type": "stream",
     "text": [
      "  2%|▏         | 415/18934 [04:53<8:19:44,  1.62s/it]"
     ]
    },
    {
     "name": "stdout",
     "output_type": "stream",
     "text": [
      "[INFO] User zachgibson already scraped. Skipping.\n"
     ]
    },
    {
     "name": "stderr",
     "output_type": "stream",
     "text": [
      "  2%|▏         | 417/18934 [04:54<6:29:58,  1.26s/it]"
     ]
    },
    {
     "name": "stdout",
     "output_type": "stream",
     "text": [
      "[INFO] User gaurangrshah already scraped. Skipping.\n",
      "[INFO] User sgarbesi already scraped. Skipping.\n",
      "[INFO] User sunweibin already scraped. Skipping.\n",
      "[INFO] User brunatessaro already scraped. Skipping.\n",
      "[INFO] User itsfaqih already scraped. Skipping.\n"
     ]
    },
    {
     "name": "stderr",
     "output_type": "stream",
     "text": [
      "  2%|▏         | 423/18934 [04:56<3:55:32,  1.31it/s]"
     ]
    },
    {
     "name": "stdout",
     "output_type": "stream",
     "text": [
      "[INFO] User FranciscoMoretti already scraped. Skipping.\n"
     ]
    },
    {
     "name": "stderr",
     "output_type": "stream",
     "text": [
      "  2%|▏         | 425/18934 [04:59<4:47:45,  1.07it/s]"
     ]
    },
    {
     "name": "stdout",
     "output_type": "stream",
     "text": [
      "[INFO] User milesegan already scraped. Skipping.\n"
     ]
    },
    {
     "name": "stderr",
     "output_type": "stream",
     "text": [
      "  2%|▏         | 427/18934 [05:02<5:12:51,  1.01s/it]"
     ]
    },
    {
     "name": "stdout",
     "output_type": "stream",
     "text": [
      "[INFO] User gorilazish already scraped. Skipping.\n"
     ]
    },
    {
     "name": "stderr",
     "output_type": "stream",
     "text": [
      "  2%|▏         | 429/18934 [05:05<5:53:36,  1.15s/it]"
     ]
    },
    {
     "name": "stdout",
     "output_type": "stream",
     "text": [
      "[INFO] User DylanAllen already scraped. Skipping.\n"
     ]
    },
    {
     "name": "stderr",
     "output_type": "stream",
     "text": [
      "  2%|▏         | 431/18934 [05:07<5:37:53,  1.10s/it]"
     ]
    },
    {
     "name": "stdout",
     "output_type": "stream",
     "text": [
      "[INFO] User schyun9212 already scraped. Skipping.\n"
     ]
    },
    {
     "name": "stderr",
     "output_type": "stream",
     "text": [
      "  2%|▏         | 433/18934 [05:08<4:56:31,  1.04it/s]"
     ]
    },
    {
     "name": "stdout",
     "output_type": "stream",
     "text": [
      "[INFO] User ramonsza already scraped. Skipping.\n",
      "[INFO] User Popmotion already scraped. Skipping.\n"
     ]
    },
    {
     "name": "stderr",
     "output_type": "stream",
     "text": [
      "  2%|▏         | 436/18934 [05:10<4:30:13,  1.14it/s]"
     ]
    },
    {
     "name": "stdout",
     "output_type": "stream",
     "text": [
      "[INFO] User jagaapple already scraped. Skipping.\n",
      "[INFO] User dehamzah already scraped. Skipping.\n"
     ]
    },
    {
     "name": "stderr",
     "output_type": "stream",
     "text": [
      "  2%|▏         | 439/18934 [05:12<3:51:07,  1.33it/s]"
     ]
    },
    {
     "name": "stdout",
     "output_type": "stream",
     "text": [
      "[INFO] User os-hun already scraped. Skipping.\n",
      "[INFO] User nahumzs already scraped. Skipping.\n"
     ]
    },
    {
     "name": "stderr",
     "output_type": "stream",
     "text": [
      "  2%|▏         | 443/18934 [05:21<6:52:45,  1.34s/it]"
     ]
    },
    {
     "name": "stdout",
     "output_type": "stream",
     "text": [
      "[INFO] User masiucd already scraped. Skipping.\n"
     ]
    },
    {
     "name": "stderr",
     "output_type": "stream",
     "text": [
      "  2%|▏         | 445/18934 [05:23<6:39:41,  1.30s/it]"
     ]
    },
    {
     "name": "stdout",
     "output_type": "stream",
     "text": [
      "[INFO] User HumbertoL already scraped. Skipping.\n",
      "[INFO] User lmcorbo already scraped. Skipping.\n"
     ]
    },
    {
     "name": "stderr",
     "output_type": "stream",
     "text": [
      "  2%|▏         | 448/18934 [05:26<5:35:00,  1.09s/it]"
     ]
    },
    {
     "name": "stdout",
     "output_type": "stream",
     "text": [
      "[INFO] User Pettarn already scraped. Skipping.\n"
     ]
    },
    {
     "name": "stderr",
     "output_type": "stream",
     "text": [
      "  2%|▏         | 450/18934 [05:29<6:36:32,  1.29s/it]"
     ]
    },
    {
     "name": "stdout",
     "output_type": "stream",
     "text": [
      "[INFO] User lewenweijia already scraped. Skipping.\n",
      "[INFO] User Lucas65535 already scraped. Skipping.\n",
      "[INFO] User piehouserat already scraped. Skipping.\n",
      "[INFO] User pedro-lb already scraped. Skipping.\n"
     ]
    },
    {
     "name": "stderr",
     "output_type": "stream",
     "text": [
      "  2%|▏         | 455/18934 [05:30<3:49:59,  1.34it/s]"
     ]
    },
    {
     "name": "stdout",
     "output_type": "stream",
     "text": [
      "[INFO] User JoeKarow already scraped. Skipping.\n"
     ]
    },
    {
     "name": "stderr",
     "output_type": "stream",
     "text": [
      "  2%|▏         | 458/18934 [05:40<8:33:34,  1.67s/it]"
     ]
    },
    {
     "name": "stdout",
     "output_type": "stream",
     "text": [
      "[INFO] User prowlee already scraped. Skipping.\n"
     ]
    },
    {
     "name": "stderr",
     "output_type": "stream",
     "text": [
      "  2%|▏         | 460/18934 [05:41<6:52:04,  1.34s/it]"
     ]
    },
    {
     "name": "stdout",
     "output_type": "stream",
     "text": [
      "[INFO] User MariiaZimokha already scraped. Skipping.\n"
     ]
    },
    {
     "name": "stderr",
     "output_type": "stream",
     "text": [
      "  2%|▏         | 465/18934 [05:51<10:12:51,  1.99s/it]"
     ]
    },
    {
     "name": "stdout",
     "output_type": "stream",
     "text": [
      "[INFO] User cwardzala already scraped. Skipping.\n",
      "[INFO] User keichinger already scraped. Skipping.\n",
      "[INFO] User TANGHUALIN already scraped. Skipping.\n",
      "[INFO] User avencera already scraped. Skipping.\n"
     ]
    },
    {
     "name": "stderr",
     "output_type": "stream",
     "text": [
      "  3%|▎         | 476/18934 [06:14<17:32:22,  3.42s/it]"
     ]
    },
    {
     "name": "stdout",
     "output_type": "stream",
     "text": [
      "[INFO] User chalkygames123 already scraped. Skipping.\n",
      "[INFO] User MarioSC21 already scraped. Skipping.\n"
     ]
    },
    {
     "name": "stderr",
     "output_type": "stream",
     "text": [
      "  3%|▎         | 479/18934 [06:16<10:29:45,  2.05s/it]"
     ]
    },
    {
     "name": "stdout",
     "output_type": "stream",
     "text": [
      "[INFO] User jasonappah already scraped. Skipping.\n",
      "[INFO] User siraken already scraped. Skipping.\n"
     ]
    },
    {
     "name": "stderr",
     "output_type": "stream",
     "text": [
      "  3%|▎         | 483/18934 [06:23<9:32:52,  1.86s/it] "
     ]
    },
    {
     "name": "stdout",
     "output_type": "stream",
     "text": [
      "[INFO] User roylee0704 already scraped. Skipping.\n"
     ]
    },
    {
     "name": "stderr",
     "output_type": "stream",
     "text": [
      "  3%|▎         | 485/18934 [06:25<8:09:50,  1.59s/it]"
     ]
    },
    {
     "name": "stdout",
     "output_type": "stream",
     "text": [
      "[INFO] User davidalejandroaguilar already scraped. Skipping.\n"
     ]
    },
    {
     "name": "stderr",
     "output_type": "stream",
     "text": [
      "  3%|▎         | 494/18934 [06:47<17:06:49,  3.34s/it]"
     ]
    },
    {
     "name": "stdout",
     "output_type": "stream",
     "text": [
      "[INFO] User ezeikel already scraped. Skipping.\n",
      "[INFO] User takekos already scraped. Skipping.\n",
      "[INFO] User jxom already scraped. Skipping.\n",
      "[INFO] User WillKre already scraped. Skipping.\n",
      "[INFO] User zgreen already scraped. Skipping.\n",
      "[INFO] User Franklin361 already scraped. Skipping.\n",
      "[INFO] User jorgewuzhang already scraped. Skipping.\n"
     ]
    },
    {
     "name": "stderr",
     "output_type": "stream",
     "text": [
      "  3%|▎         | 502/18934 [06:48<4:43:22,  1.08it/s] "
     ]
    },
    {
     "name": "stdout",
     "output_type": "stream",
     "text": [
      "[INFO] User lsalazar85 already scraped. Skipping.\n",
      "[INFO] User eduardoformiga already scraped. Skipping.\n",
      "[INFO] User rickyraz already scraped. Skipping.\n"
     ]
    },
    {
     "name": "stderr",
     "output_type": "stream",
     "text": [
      "  3%|▎         | 506/18934 [06:49<3:21:05,  1.53it/s]"
     ]
    },
    {
     "name": "stdout",
     "output_type": "stream",
     "text": [
      "[INFO] User airroom already scraped. Skipping.\n",
      "[INFO] User nnecec already scraped. Skipping.\n"
     ]
    },
    {
     "name": "stderr",
     "output_type": "stream",
     "text": [
      "  3%|▎         | 509/18934 [06:51<3:07:57,  1.63it/s]"
     ]
    },
    {
     "name": "stdout",
     "output_type": "stream",
     "text": [
      "[INFO] User emzoumpo already scraped. Skipping.\n"
     ]
    },
    {
     "name": "stderr",
     "output_type": "stream",
     "text": [
      "  3%|▎         | 513/18934 [07:01<6:59:08,  1.37s/it]"
     ]
    },
    {
     "name": "stdout",
     "output_type": "stream",
     "text": [
      "[INFO] User pablopalacios already scraped. Skipping.\n"
     ]
    },
    {
     "name": "stderr",
     "output_type": "stream",
     "text": [
      "  3%|▎         | 517/18934 [07:10<10:59:26,  2.15s/it]"
     ]
    },
    {
     "name": "stdout",
     "output_type": "stream",
     "text": [
      "[INFO] User RemyMachado already scraped. Skipping.\n",
      "[INFO] User DomoniqueGordon already scraped. Skipping.\n",
      "[INFO] User Carolis already scraped. Skipping.\n"
     ]
    },
    {
     "name": "stderr",
     "output_type": "stream",
     "text": [
      "  3%|▎         | 521/18934 [07:11<5:44:56,  1.12s/it] "
     ]
    },
    {
     "name": "stdout",
     "output_type": "stream",
     "text": [
      "[INFO] User fulgari already scraped. Skipping.\n",
      "[INFO] User caleb already scraped. Skipping.\n",
      "[INFO] User elliotschultz already scraped. Skipping.\n"
     ]
    },
    {
     "name": "stderr",
     "output_type": "stream",
     "text": [
      "  3%|▎         | 525/18934 [07:13<3:54:16,  1.31it/s]"
     ]
    },
    {
     "name": "stdout",
     "output_type": "stream",
     "text": [
      "[INFO] User danieleagle already scraped. Skipping.\n",
      "[INFO] User markwilson already scraped. Skipping.\n",
      "[INFO] User alexeiaccio already scraped. Skipping.\n",
      "[INFO] User evgagp already scraped. Skipping.\n"
     ]
    },
    {
     "name": "stderr",
     "output_type": "stream",
     "text": [
      "  3%|▎         | 531/18934 [07:22<6:31:06,  1.28s/it]"
     ]
    },
    {
     "name": "stdout",
     "output_type": "stream",
     "text": [
      "[INFO] User aniceidea already scraped. Skipping.\n",
      "[INFO] User davbl already scraped. Skipping.\n"
     ]
    },
    {
     "name": "stderr",
     "output_type": "stream",
     "text": [
      "  3%|▎         | 536/18934 [07:30<7:04:47,  1.39s/it]"
     ]
    },
    {
     "name": "stdout",
     "output_type": "stream",
     "text": [
      "[INFO] User faker-js already scraped. Skipping.\n",
      "[INFO] User sindresorhus already scraped. Skipping.\n",
      "[INFO] User mkuklis already scraped. Skipping.\n",
      "[INFO] User Mmm44556 already scraped. Skipping.\n",
      "[INFO] User mrasoahaingo already scraped. Skipping.\n"
     ]
    },
    {
     "name": "stderr",
     "output_type": "stream",
     "text": [
      "  3%|▎         | 542/18934 [07:32<4:02:22,  1.26it/s]"
     ]
    },
    {
     "name": "stdout",
     "output_type": "stream",
     "text": [
      "[INFO] User AbdUlHamedMaree already scraped. Skipping.\n",
      "[INFO] User tgallacher already scraped. Skipping.\n",
      "[INFO] User andrewli-ca already scraped. Skipping.\n"
     ]
    },
    {
     "name": "stderr",
     "output_type": "stream",
     "text": [
      "  3%|▎         | 547/18934 [07:39<5:24:29,  1.06s/it]"
     ]
    },
    {
     "name": "stdout",
     "output_type": "stream",
     "text": [
      "[INFO] User achinchen already scraped. Skipping.\n",
      "[INFO] User insomenia-woobyeong already scraped. Skipping.\n",
      "[INFO] User abhishek28069 already scraped. Skipping.\n"
     ]
    },
    {
     "name": "stderr",
     "output_type": "stream",
     "text": [
      "  3%|▎         | 554/18934 [07:51<10:40:29,  2.09s/it]"
     ]
    },
    {
     "name": "stdout",
     "output_type": "stream",
     "text": [
      "[INFO] User gmlnchv already scraped. Skipping.\n",
      "[INFO] User cricketnest already scraped. Skipping.\n",
      "[INFO] User priteshjha already scraped. Skipping.\n",
      "[INFO] User ryonakae already scraped. Skipping.\n",
      "[INFO] User chkilel already scraped. Skipping.\n"
     ]
    },
    {
     "name": "stderr",
     "output_type": "stream",
     "text": [
      "  3%|▎         | 561/18934 [07:53<4:48:37,  1.06it/s] "
     ]
    },
    {
     "name": "stdout",
     "output_type": "stream",
     "text": [
      "[INFO] User stanislawfortonski already scraped. Skipping.\n"
     ]
    },
    {
     "name": "stderr",
     "output_type": "stream",
     "text": [
      "  3%|▎         | 567/18934 [08:04<11:37:26,  2.28s/it]"
     ]
    },
    {
     "name": "stdout",
     "output_type": "stream",
     "text": [
      "[INFO] User TylerBarnes already scraped. Skipping.\n",
      "[INFO] User andrewscofield already scraped. Skipping.\n",
      "[INFO] User ilhantekir already scraped. Skipping.\n",
      "[INFO] User salahmohsen already scraped. Skipping.\n",
      "[INFO] User gitusp already scraped. Skipping.\n",
      "[INFO] User jpnykw already scraped. Skipping.\n",
      "[INFO] User MassimoParisi already scraped. Skipping.\n"
     ]
    },
    {
     "name": "stderr",
     "output_type": "stream",
     "text": [
      "  3%|▎         | 575/18934 [08:07<4:14:11,  1.20it/s] "
     ]
    },
    {
     "name": "stdout",
     "output_type": "stream",
     "text": [
      "[INFO] User ndoherty-xyz already scraped. Skipping.\n"
     ]
    },
    {
     "name": "stderr",
     "output_type": "stream",
     "text": [
      "  3%|▎         | 578/18934 [08:13<6:11:26,  1.21s/it]"
     ]
    },
    {
     "name": "stdout",
     "output_type": "stream",
     "text": [
      "[INFO] User scotato already scraped. Skipping.\n",
      "[INFO] User roeybiran already scraped. Skipping.\n",
      "[INFO] User JiLiZART already scraped. Skipping.\n",
      "[INFO] User kumalee already scraped. Skipping.\n"
     ]
    },
    {
     "name": "stderr",
     "output_type": "stream",
     "text": [
      "  3%|▎         | 584/18934 [08:20<6:11:31,  1.21s/it]"
     ]
    },
    {
     "name": "stdout",
     "output_type": "stream",
     "text": [
      "[INFO] User xenokratos already scraped. Skipping.\n",
      "[INFO] User 0xHexE already scraped. Skipping.\n"
     ]
    },
    {
     "name": "stderr",
     "output_type": "stream",
     "text": [
      "  3%|▎         | 587/18934 [08:21<4:51:45,  1.05it/s]"
     ]
    },
    {
     "name": "stdout",
     "output_type": "stream",
     "text": [
      "[INFO] User Xuriwork already scraped. Skipping.\n"
     ]
    },
    {
     "name": "stderr",
     "output_type": "stream",
     "text": [
      "  3%|▎         | 589/18934 [08:23<5:02:44,  1.01it/s]"
     ]
    },
    {
     "name": "stdout",
     "output_type": "stream",
     "text": [
      "[INFO] User joshxfi already scraped. Skipping.\n",
      "[INFO] User aoberoi already scraped. Skipping.\n"
     ]
    },
    {
     "name": "stderr",
     "output_type": "stream",
     "text": [
      "  3%|▎         | 592/18934 [08:25<4:11:08,  1.22it/s]"
     ]
    },
    {
     "name": "stdout",
     "output_type": "stream",
     "text": [
      "[INFO] User nownabe already scraped. Skipping.\n",
      "[INFO] User hsavit1 already scraped. Skipping.\n"
     ]
    },
    {
     "name": "stderr",
     "output_type": "stream",
     "text": [
      "  3%|▎         | 599/18934 [08:44<14:35:31,  2.87s/it]"
     ]
    },
    {
     "name": "stdout",
     "output_type": "stream",
     "text": [
      "[INFO] User raslan already scraped. Skipping.\n"
     ]
    },
    {
     "name": "stderr",
     "output_type": "stream",
     "text": [
      "  3%|▎         | 601/18934 [08:46<10:05:29,  1.98s/it]"
     ]
    },
    {
     "name": "stdout",
     "output_type": "stream",
     "text": [
      "[INFO] User thedoublejay already scraped. Skipping.\n",
      "[INFO] User dvnnlnn already scraped. Skipping.\n",
      "[INFO] User la-la-Cute already scraped. Skipping.\n",
      "[INFO] User aglide100 already scraped. Skipping.\n"
     ]
    },
    {
     "name": "stderr",
     "output_type": "stream",
     "text": [
      "  3%|▎         | 606/18934 [08:48<5:42:44,  1.12s/it] "
     ]
    },
    {
     "name": "stdout",
     "output_type": "stream",
     "text": [
      "[INFO] User Aslam97 already scraped. Skipping.\n",
      "[INFO] User ZhangBo2016 already scraped. Skipping.\n",
      "[INFO] User jest-community already scraped. Skipping.\n",
      "[INFO] User vhfmag already scraped. Skipping.\n"
     ]
    },
    {
     "name": "stderr",
     "output_type": "stream",
     "text": [
      "  3%|▎         | 611/18934 [08:50<3:56:44,  1.29it/s]"
     ]
    },
    {
     "name": "stdout",
     "output_type": "stream",
     "text": [
      "[INFO] User skazi019 already scraped. Skipping.\n"
     ]
    },
    {
     "name": "stderr",
     "output_type": "stream",
     "text": [
      "  3%|▎         | 614/18934 [08:53<4:35:38,  1.11it/s]"
     ]
    },
    {
     "name": "stdout",
     "output_type": "stream",
     "text": [
      "[INFO] User princevasconcelos already scraped. Skipping.\n",
      "[INFO] User thejchap already scraped. Skipping.\n"
     ]
    },
    {
     "name": "stderr",
     "output_type": "stream",
     "text": [
      "  3%|▎         | 618/18934 [08:56<4:13:01,  1.21it/s]"
     ]
    },
    {
     "name": "stdout",
     "output_type": "stream",
     "text": [
      "[INFO] User babually already scraped. Skipping.\n"
     ]
    },
    {
     "name": "stderr",
     "output_type": "stream",
     "text": [
      "  3%|▎         | 620/18934 [08:59<5:16:29,  1.04s/it]"
     ]
    },
    {
     "name": "stdout",
     "output_type": "stream",
     "text": [
      "[INFO] User bgeck already scraped. Skipping.\n"
     ]
    },
    {
     "name": "stderr",
     "output_type": "stream",
     "text": [
      "  3%|▎         | 622/18934 [09:00<4:20:05,  1.17it/s]"
     ]
    },
    {
     "name": "stdout",
     "output_type": "stream",
     "text": [
      "[INFO] User typescript-eslint already scraped. Skipping.\n",
      "[INFO] User moatorres already scraped. Skipping.\n",
      "[INFO] User ginnnnnn already scraped. Skipping.\n",
      "[INFO] User ederssouza-hotmart already scraped. Skipping.\n",
      "[INFO] User koji already scraped. Skipping.\n",
      "[INFO] User jmenestr already scraped. Skipping.\n",
      "[INFO] User bjudson already scraped. Skipping.\n"
     ]
    },
    {
     "name": "stderr",
     "output_type": "stream",
     "text": [
      "  3%|▎         | 630/18934 [09:02<2:33:25,  1.99it/s]"
     ]
    },
    {
     "name": "stdout",
     "output_type": "stream",
     "text": [
      "[INFO] User letmeknowhow already scraped. Skipping.\n",
      "[INFO] User byteninja already scraped. Skipping.\n"
     ]
    },
    {
     "name": "stderr",
     "output_type": "stream",
     "text": [
      "  3%|▎         | 634/18934 [09:05<3:00:21,  1.69it/s]"
     ]
    },
    {
     "name": "stdout",
     "output_type": "stream",
     "text": [
      "[INFO] User Candy-Bullet already scraped. Skipping.\n"
     ]
    },
    {
     "name": "stderr",
     "output_type": "stream",
     "text": [
      "  3%|▎         | 636/18934 [09:05<2:29:12,  2.04it/s]"
     ]
    },
    {
     "name": "stdout",
     "output_type": "stream",
     "text": [
      "User acgfbr has more than 300 repos, skipping.\n",
      "[INFO] User adg29 already scraped. Skipping.\n",
      "[INFO] User thedaviddias already scraped. Skipping.\n",
      "[INFO] User nileshg already scraped. Skipping.\n"
     ]
    },
    {
     "name": "stderr",
     "output_type": "stream",
     "text": [
      "  3%|▎         | 640/18934 [09:07<2:05:33,  2.43it/s]"
     ]
    },
    {
     "name": "stdout",
     "output_type": "stream",
     "text": [
      "[INFO] User Iceapinan already scraped. Skipping.\n",
      "[INFO] User Dassiy already scraped. Skipping.\n",
      "[INFO] User barbararcbf12 already scraped. Skipping.\n",
      "[INFO] User peterklingelhofer already scraped. Skipping.\n",
      "[INFO] User samuelcolburn already scraped. Skipping.\n"
     ]
    },
    {
     "name": "stderr",
     "output_type": "stream",
     "text": [
      "  3%|▎         | 648/18934 [09:13<3:16:05,  1.55it/s]"
     ]
    },
    {
     "name": "stdout",
     "output_type": "stream",
     "text": [
      "[INFO] User hgrias already scraped. Skipping.\n"
     ]
    },
    {
     "name": "stderr",
     "output_type": "stream",
     "text": [
      "  3%|▎         | 650/18934 [09:17<5:01:39,  1.01it/s]"
     ]
    },
    {
     "name": "stdout",
     "output_type": "stream",
     "text": [
      "[INFO] User LukeBillo already scraped. Skipping.\n",
      "[INFO] User theiliad already scraped. Skipping.\n"
     ]
    },
    {
     "name": "stderr",
     "output_type": "stream",
     "text": [
      "  3%|▎         | 654/18934 [09:20<5:18:26,  1.05s/it]"
     ]
    },
    {
     "name": "stdout",
     "output_type": "stream",
     "text": [
      "[INFO] User eddort already scraped. Skipping.\n",
      "[INFO] User haxlys already scraped. Skipping.\n",
      "[INFO] User karol-majewski already scraped. Skipping.\n"
     ]
    },
    {
     "name": "stderr",
     "output_type": "stream",
     "text": [
      "  3%|▎         | 658/18934 [09:21<3:28:54,  1.46it/s]"
     ]
    },
    {
     "name": "stdout",
     "output_type": "stream",
     "text": [
      "[INFO] User keaysma already scraped. Skipping.\n"
     ]
    },
    {
     "name": "stderr",
     "output_type": "stream",
     "text": [
      "  3%|▎         | 660/18934 [09:25<5:00:03,  1.02it/s]"
     ]
    },
    {
     "name": "stdout",
     "output_type": "stream",
     "text": [
      "[INFO] User AmirhoseinHesami already scraped. Skipping.\n"
     ]
    },
    {
     "name": "stderr",
     "output_type": "stream",
     "text": [
      "  4%|▎         | 664/18934 [09:29<5:24:33,  1.07s/it]"
     ]
    },
    {
     "name": "stdout",
     "output_type": "stream",
     "text": [
      "[INFO] User styled-components already scraped. Skipping.\n",
      "[INFO] User chengjingfeng already scraped. Skipping.\n"
     ]
    },
    {
     "name": "stderr",
     "output_type": "stream",
     "text": [
      "  4%|▎         | 667/18934 [09:31<4:21:17,  1.17it/s]"
     ]
    },
    {
     "name": "stdout",
     "output_type": "stream",
     "text": [
      "[INFO] User chriskavanagh already scraped. Skipping.\n"
     ]
    },
    {
     "name": "stderr",
     "output_type": "stream",
     "text": [
      "  4%|▎         | 669/18934 [09:32<3:49:53,  1.32it/s]"
     ]
    },
    {
     "name": "stdout",
     "output_type": "stream",
     "text": [
      "[INFO] User isubasti already scraped. Skipping.\n"
     ]
    },
    {
     "name": "stderr",
     "output_type": "stream",
     "text": [
      "  4%|▎         | 672/18934 [09:34<3:42:06,  1.37it/s]"
     ]
    },
    {
     "name": "stdout",
     "output_type": "stream",
     "text": [
      "[INFO] User robinweser already scraped. Skipping.\n",
      "[INFO] User umutcanbolat already scraped. Skipping.\n"
     ]
    },
    {
     "name": "stderr",
     "output_type": "stream",
     "text": [
      "  4%|▎         | 675/18934 [09:36<3:17:51,  1.54it/s]"
     ]
    },
    {
     "name": "stdout",
     "output_type": "stream",
     "text": [
      "[INFO] User nathanlentz already scraped. Skipping.\n"
     ]
    },
    {
     "name": "stderr",
     "output_type": "stream",
     "text": [
      "  4%|▎         | 677/18934 [09:39<4:53:56,  1.04it/s]"
     ]
    },
    {
     "name": "stdout",
     "output_type": "stream",
     "text": [
      "[INFO] User lesterpaz99 already scraped. Skipping.\n"
     ]
    },
    {
     "name": "stderr",
     "output_type": "stream",
     "text": [
      "  4%|▎         | 683/18934 [09:57<12:18:04,  2.43s/it]"
     ]
    },
    {
     "name": "stdout",
     "output_type": "stream",
     "text": [
      "[INFO] User luccasmaso already scraped. Skipping.\n",
      "[INFO] User glideapps already scraped. Skipping.\n"
     ]
    },
    {
     "name": "stderr",
     "output_type": "stream",
     "text": [
      "  4%|▎         | 687/18934 [10:02<8:30:37,  1.68s/it] "
     ]
    },
    {
     "name": "stdout",
     "output_type": "stream",
     "text": [
      "[INFO] User mlnchk already scraped. Skipping.\n",
      "[INFO] User seekhow already scraped. Skipping.\n"
     ]
    },
    {
     "name": "stderr",
     "output_type": "stream",
     "text": [
      "  4%|▎         | 691/18934 [10:04<5:44:15,  1.13s/it]"
     ]
    },
    {
     "name": "stdout",
     "output_type": "stream",
     "text": [
      "[INFO] User cy920820 already scraped. Skipping.\n"
     ]
    },
    {
     "name": "stderr",
     "output_type": "stream",
     "text": [
      "  4%|▎         | 693/18934 [10:06<4:59:55,  1.01it/s]"
     ]
    },
    {
     "name": "stdout",
     "output_type": "stream",
     "text": [
      "[INFO] User mihaimoraru19 already scraped. Skipping.\n",
      "[INFO] User yangning2020 already scraped. Skipping.\n",
      "[INFO] User mkuniyil already scraped. Skipping.\n"
     ]
    },
    {
     "name": "stderr",
     "output_type": "stream",
     "text": [
      "  4%|▎         | 697/18934 [10:07<3:11:25,  1.59it/s]"
     ]
    },
    {
     "name": "stdout",
     "output_type": "stream",
     "text": [
      "[INFO] User alexkuz already scraped. Skipping.\n"
     ]
    },
    {
     "name": "stderr",
     "output_type": "stream",
     "text": [
      "  4%|▎         | 699/18934 [10:08<3:19:36,  1.52it/s]"
     ]
    },
    {
     "name": "stdout",
     "output_type": "stream",
     "text": [
      "[INFO] User vitest-dev already scraped. Skipping.\n",
      "[INFO] User twodft already scraped. Skipping.\n"
     ]
    },
    {
     "name": "stderr",
     "output_type": "stream",
     "text": [
      "  4%|▎         | 702/18934 [10:10<2:59:33,  1.69it/s]"
     ]
    },
    {
     "name": "stdout",
     "output_type": "stream",
     "text": [
      "[INFO] User liuuu already scraped. Skipping.\n",
      "[INFO] User valentinogagliardi already scraped. Skipping.\n",
      "[INFO] User stuart-williams already scraped. Skipping.\n"
     ]
    },
    {
     "name": "stderr",
     "output_type": "stream",
     "text": [
      "  4%|▎         | 706/18934 [10:11<2:21:23,  2.15it/s]"
     ]
    },
    {
     "name": "stdout",
     "output_type": "stream",
     "text": [
      "[INFO] User msigwart already scraped. Skipping.\n",
      "[INFO] User demark already scraped. Skipping.\n"
     ]
    },
    {
     "name": "stderr",
     "output_type": "stream",
     "text": [
      "  4%|▎         | 709/18934 [10:11<1:48:29,  2.80it/s]"
     ]
    },
    {
     "name": "stdout",
     "output_type": "stream",
     "text": [
      "User semdy has more than 300 repos, skipping.\n",
      "[INFO] User nasatome already scraped. Skipping.\n",
      "[INFO] User paul-phan already scraped. Skipping.\n",
      "[INFO] User amanBhawsar already scraped. Skipping.\n"
     ]
    },
    {
     "name": "stderr",
     "output_type": "stream",
     "text": [
      "  4%|▍         | 715/18934 [10:18<4:37:46,  1.09it/s]"
     ]
    },
    {
     "name": "stdout",
     "output_type": "stream",
     "text": [
      "[INFO] User kresnaputra already scraped. Skipping.\n"
     ]
    },
    {
     "name": "stderr",
     "output_type": "stream",
     "text": [
      "  4%|▍         | 717/18934 [10:21<5:35:58,  1.11s/it]"
     ]
    },
    {
     "name": "stdout",
     "output_type": "stream",
     "text": [
      "[INFO] User rehan-sattar already scraped. Skipping.\n",
      "[INFO] User LekoArts already scraped. Skipping.\n",
      "[INFO] User tfirdaus already scraped. Skipping.\n",
      "[INFO] User Keyvanizator already scraped. Skipping.\n",
      "[INFO] User kylemcd already scraped. Skipping.\n",
      "[INFO] User MjBedi already scraped. Skipping.\n",
      "[INFO] User zhenbin-z already scraped. Skipping.\n",
      "[INFO] User geoyws already scraped. Skipping.\n"
     ]
    },
    {
     "name": "stderr",
     "output_type": "stream",
     "text": [
      "  4%|▍         | 727/18934 [10:24<3:08:20,  1.61it/s]"
     ]
    },
    {
     "name": "stdout",
     "output_type": "stream",
     "text": [
      "[INFO] User Conrekatsu already scraped. Skipping.\n"
     ]
    },
    {
     "name": "stderr",
     "output_type": "stream",
     "text": [
      "  4%|▍         | 729/18934 [10:26<3:20:01,  1.52it/s]"
     ]
    },
    {
     "name": "stdout",
     "output_type": "stream",
     "text": [
      "[INFO] User mycvlnn already scraped. Skipping.\n",
      "[INFO] User Sam-app already scraped. Skipping.\n"
     ]
    },
    {
     "name": "stderr",
     "output_type": "stream",
     "text": [
      "  4%|▍         | 734/18934 [10:32<4:44:14,  1.07it/s]"
     ]
    },
    {
     "name": "stdout",
     "output_type": "stream",
     "text": [
      "[INFO] User ecyrbe already scraped. Skipping.\n",
      "[INFO] User ling-cy already scraped. Skipping.\n",
      "[INFO] User paulirish already scraped. Skipping.\n"
     ]
    },
    {
     "name": "stderr",
     "output_type": "stream",
     "text": [
      "  4%|▍         | 738/18934 [10:34<3:18:27,  1.53it/s]"
     ]
    },
    {
     "name": "stdout",
     "output_type": "stream",
     "text": [
      "[INFO] User xsnakes already scraped. Skipping.\n",
      "[INFO] User artdevgame already scraped. Skipping.\n",
      "[INFO] User reduxjs already scraped. Skipping.\n",
      "[INFO] User oolongstack already scraped. Skipping.\n",
      "[INFO] User xtalx already scraped. Skipping.\n",
      "[INFO] User groomain already scraped. Skipping.\n"
     ]
    },
    {
     "name": "stderr",
     "output_type": "stream",
     "text": [
      "  4%|▍         | 747/18934 [10:37<2:52:15,  1.76it/s]"
     ]
    },
    {
     "name": "stdout",
     "output_type": "stream",
     "text": [
      "[INFO] User lowpolyfox already scraped. Skipping.\n",
      "[INFO] User onurozkan already scraped. Skipping.\n",
      "[INFO] User partyconfetti already scraped. Skipping.\n",
      "[INFO] User zxq08 already scraped. Skipping.\n",
      "[INFO] User jackcaldwell already scraped. Skipping.\n"
     ]
    },
    {
     "name": "stderr",
     "output_type": "stream",
     "text": [
      "  4%|▍         | 754/18934 [10:41<3:15:30,  1.55it/s]"
     ]
    },
    {
     "name": "stdout",
     "output_type": "stream",
     "text": [
      "[INFO] User mswjs already scraped. Skipping.\n",
      "[INFO] User ChaiyoKung already scraped. Skipping.\n",
      "[INFO] User abhinav-khare-882 already scraped. Skipping.\n"
     ]
    },
    {
     "name": "stderr",
     "output_type": "stream",
     "text": [
      "  4%|▍         | 758/18934 [10:44<3:20:44,  1.51it/s]"
     ]
    },
    {
     "name": "stdout",
     "output_type": "stream",
     "text": [
      "[INFO] User angular already scraped. Skipping.\n"
     ]
    },
    {
     "name": "stderr",
     "output_type": "stream",
     "text": [
      "  4%|▍         | 760/18934 [10:45<3:07:26,  1.62it/s]"
     ]
    },
    {
     "name": "stdout",
     "output_type": "stream",
     "text": [
      "[INFO] User GLosch already scraped. Skipping.\n",
      "[INFO] User fimars already scraped. Skipping.\n",
      "[INFO] User traviewhite already scraped. Skipping.\n"
     ]
    },
    {
     "name": "stderr",
     "output_type": "stream",
     "text": [
      "  4%|▍         | 765/18934 [10:51<4:50:14,  1.04it/s]"
     ]
    },
    {
     "name": "stdout",
     "output_type": "stream",
     "text": [
      "[INFO] User saenyakorn already scraped. Skipping.\n",
      "[INFO] User thousight already scraped. Skipping.\n"
     ]
    },
    {
     "name": "stderr",
     "output_type": "stream",
     "text": [
      "  4%|▍         | 768/18934 [10:56<5:41:43,  1.13s/it]"
     ]
    },
    {
     "name": "stdout",
     "output_type": "stream",
     "text": [
      "[INFO] User lgh06 already scraped. Skipping.\n"
     ]
    },
    {
     "name": "stderr",
     "output_type": "stream",
     "text": [
      "  4%|▍         | 771/18934 [11:11<11:43:02,  2.32s/it]"
     ]
    },
    {
     "name": "stdout",
     "output_type": "stream",
     "text": [
      "[INFO] User jameslnewell already scraped. Skipping.\n"
     ]
    },
    {
     "name": "stderr",
     "output_type": "stream",
     "text": [
      "  4%|▍         | 773/18934 [11:13<9:52:39,  1.96s/it] "
     ]
    },
    {
     "name": "stdout",
     "output_type": "stream",
     "text": [
      "[INFO] User nc-minh already scraped. Skipping.\n",
      "[INFO] User jeanchaneto already scraped. Skipping.\n"
     ]
    },
    {
     "name": "stderr",
     "output_type": "stream",
     "text": [
      "  4%|▍         | 776/18934 [11:14<7:01:05,  1.39s/it]"
     ]
    },
    {
     "name": "stdout",
     "output_type": "stream",
     "text": [
      "[INFO] User tiagoamaro already scraped. Skipping.\n"
     ]
    },
    {
     "name": "stderr",
     "output_type": "stream",
     "text": [
      "  4%|▍         | 779/18934 [11:18<6:52:10,  1.36s/it]"
     ]
    },
    {
     "name": "stdout",
     "output_type": "stream",
     "text": [
      "[INFO] User levandovsky already scraped. Skipping.\n"
     ]
    },
    {
     "name": "stderr",
     "output_type": "stream",
     "text": [
      "  4%|▍         | 781/18934 [11:24<9:21:49,  1.86s/it]"
     ]
    },
    {
     "name": "stdout",
     "output_type": "stream",
     "text": [
      "[INFO] User nabigraphics already scraped. Skipping.\n"
     ]
    },
    {
     "name": "stderr",
     "output_type": "stream",
     "text": [
      "  4%|▍         | 783/18934 [11:25<7:25:54,  1.47s/it]"
     ]
    },
    {
     "name": "stdout",
     "output_type": "stream",
     "text": [
      "[INFO] User lucas-carl already scraped. Skipping.\n",
      "[INFO] User mihai-ro already scraped. Skipping.\n"
     ]
    },
    {
     "name": "stderr",
     "output_type": "stream",
     "text": [
      "  4%|▍         | 786/18934 [11:26<5:17:10,  1.05s/it]"
     ]
    },
    {
     "name": "stdout",
     "output_type": "stream",
     "text": [
      "[INFO] User andomorphia already scraped. Skipping.\n",
      "[INFO] User dreamawakening already scraped. Skipping.\n",
      "[INFO] User GodCoderzz already scraped. Skipping.\n"
     ]
    },
    {
     "name": "stderr",
     "output_type": "stream",
     "text": [
      "  4%|▍         | 792/18934 [11:32<5:48:01,  1.15s/it]"
     ]
    },
    {
     "name": "stdout",
     "output_type": "stream",
     "text": [
      "[INFO] User rjhartman already scraped. Skipping.\n"
     ]
    },
    {
     "name": "stderr",
     "output_type": "stream",
     "text": [
      "  4%|▍         | 795/18934 [11:36<6:17:11,  1.25s/it]"
     ]
    },
    {
     "name": "stdout",
     "output_type": "stream",
     "text": [
      "[INFO] User EnzoRobaina already scraped. Skipping.\n"
     ]
    },
    {
     "name": "stderr",
     "output_type": "stream",
     "text": [
      "  4%|▍         | 797/18934 [11:39<6:24:49,  1.27s/it]"
     ]
    },
    {
     "name": "stdout",
     "output_type": "stream",
     "text": [
      "[INFO] User Lonz8576 already scraped. Skipping.\n",
      "[INFO] User cosmiconfig already scraped. Skipping.\n"
     ]
    },
    {
     "name": "stderr",
     "output_type": "stream",
     "text": [
      "  4%|▍         | 801/18934 [11:43<6:00:47,  1.19s/it]"
     ]
    },
    {
     "name": "stdout",
     "output_type": "stream",
     "text": [
      "[INFO] User YtCsj already scraped. Skipping.\n"
     ]
    },
    {
     "name": "stderr",
     "output_type": "stream",
     "text": [
      "  4%|▍         | 803/18934 [11:45<5:15:32,  1.04s/it]"
     ]
    },
    {
     "name": "stdout",
     "output_type": "stream",
     "text": [
      "[INFO] User stereobooster already scraped. Skipping.\n",
      "[INFO] User layerok already scraped. Skipping.\n",
      "[INFO] User nrademacher already scraped. Skipping.\n",
      "[INFO] User LoicUV already scraped. Skipping.\n",
      "[INFO] User cassius425 already scraped. Skipping.\n",
      "[INFO] User aidenybai already scraped. Skipping.\n",
      "[INFO] User rphlmr already scraped. Skipping.\n"
     ]
    },
    {
     "name": "stderr",
     "output_type": "stream",
     "text": [
      "  4%|▍         | 813/18934 [11:54<5:40:48,  1.13s/it]"
     ]
    },
    {
     "name": "stdout",
     "output_type": "stream",
     "text": [
      "[INFO] User springyboy already scraped. Skipping.\n",
      "[INFO] User jonprather already scraped. Skipping.\n",
      "[INFO] User alstn2468 already scraped. Skipping.\n",
      "[INFO] User MantasMikal already scraped. Skipping.\n",
      "[INFO] User akitoshi already scraped. Skipping.\n"
     ]
    },
    {
     "name": "stderr",
     "output_type": "stream",
     "text": [
      "  4%|▍         | 820/18934 [11:57<3:41:50,  1.36it/s]"
     ]
    },
    {
     "name": "stdout",
     "output_type": "stream",
     "text": [
      "[INFO] User razvandobrovat already scraped. Skipping.\n"
     ]
    },
    {
     "name": "stderr",
     "output_type": "stream",
     "text": [
      "  4%|▍         | 823/18934 [12:04<7:03:06,  1.40s/it]"
     ]
    },
    {
     "name": "stdout",
     "output_type": "stream",
     "text": [
      "[INFO] User robsterlini already scraped. Skipping.\n"
     ]
    },
    {
     "name": "stderr",
     "output_type": "stream",
     "text": [
      "  4%|▍         | 825/18934 [12:05<6:23:56,  1.27s/it]"
     ]
    },
    {
     "name": "stdout",
     "output_type": "stream",
     "text": [
      "[INFO] User xiamu14 already scraped. Skipping.\n",
      "[INFO] User udovichenko already scraped. Skipping.\n"
     ]
    },
    {
     "name": "stderr",
     "output_type": "stream",
     "text": [
      "  4%|▍         | 828/18934 [12:10<7:04:48,  1.41s/it]"
     ]
    },
    {
     "name": "stdout",
     "output_type": "stream",
     "text": [
      "[INFO] User katerynarieznik already scraped. Skipping.\n",
      "[INFO] User gamcodev-josh already scraped. Skipping.\n",
      "[INFO] User tireymorris already scraped. Skipping.\n"
     ]
    },
    {
     "name": "stderr",
     "output_type": "stream",
     "text": [
      "  4%|▍         | 833/18934 [12:14<5:17:16,  1.05s/it]"
     ]
    },
    {
     "name": "stdout",
     "output_type": "stream",
     "text": [
      "[INFO] User JeroenReumkens already scraped. Skipping.\n"
     ]
    },
    {
     "name": "stderr",
     "output_type": "stream",
     "text": [
      "  4%|▍         | 835/18934 [12:15<4:44:48,  1.06it/s]"
     ]
    },
    {
     "name": "stdout",
     "output_type": "stream",
     "text": [
      "[INFO] User mrskiro already scraped. Skipping.\n",
      "[INFO] User jessestuart already scraped. Skipping.\n"
     ]
    },
    {
     "name": "stderr",
     "output_type": "stream",
     "text": [
      "  4%|▍         | 841/18934 [12:29<13:42:56,  2.73s/it]"
     ]
    },
    {
     "name": "stdout",
     "output_type": "stream",
     "text": [
      "[INFO] User brenofsena already scraped. Skipping.\n",
      "[INFO] User andrewspauld already scraped. Skipping.\n",
      "[INFO] User mxppxm already scraped. Skipping.\n"
     ]
    },
    {
     "name": "stderr",
     "output_type": "stream",
     "text": [
      "  4%|▍         | 845/18934 [12:30<6:36:27,  1.32s/it] "
     ]
    },
    {
     "name": "stdout",
     "output_type": "stream",
     "text": [
      "User szy0syz has more than 300 repos, skipping.\n",
      "[INFO] User angelsalazar-zz already scraped. Skipping.\n",
      "[INFO] User JadeGeek already scraped. Skipping.\n",
      "[INFO] User kyuuss already scraped. Skipping.\n"
     ]
    },
    {
     "name": "stderr",
     "output_type": "stream",
     "text": [
      "  4%|▍         | 849/18934 [12:33<5:24:33,  1.08s/it]"
     ]
    },
    {
     "name": "stdout",
     "output_type": "stream",
     "text": [
      "[INFO] User davehax already scraped. Skipping.\n",
      "[INFO] User zcallan already scraped. Skipping.\n",
      "[INFO] User bnjm already scraped. Skipping.\n"
     ]
    },
    {
     "name": "stderr",
     "output_type": "stream",
     "text": [
      "  5%|▍         | 853/18934 [12:34<3:55:49,  1.28it/s]"
     ]
    },
    {
     "name": "stdout",
     "output_type": "stream",
     "text": [
      "[INFO] User RIP21 already scraped. Skipping.\n"
     ]
    },
    {
     "name": "stderr",
     "output_type": "stream",
     "text": [
      "  5%|▍         | 855/18934 [12:36<4:20:20,  1.16it/s]"
     ]
    },
    {
     "name": "stdout",
     "output_type": "stream",
     "text": [
      "[INFO] User zaaakher already scraped. Skipping.\n"
     ]
    },
    {
     "name": "stderr",
     "output_type": "stream",
     "text": [
      "  5%|▍         | 857/18934 [12:37<3:28:27,  1.45it/s]"
     ]
    },
    {
     "name": "stdout",
     "output_type": "stream",
     "text": [
      "User dtinth has more than 300 repos, skipping.\n"
     ]
    },
    {
     "name": "stderr",
     "output_type": "stream",
     "text": [
      "  5%|▍         | 858/18934 [12:38<3:44:44,  1.34it/s]"
     ]
    },
    {
     "name": "stdout",
     "output_type": "stream",
     "text": [
      "[INFO] User atulmy already scraped. Skipping.\n"
     ]
    },
    {
     "name": "stderr",
     "output_type": "stream",
     "text": [
      "  5%|▍         | 860/18934 [12:39<3:29:51,  1.44it/s]"
     ]
    },
    {
     "name": "stdout",
     "output_type": "stream",
     "text": [
      "[INFO] User ryrudnev already scraped. Skipping.\n"
     ]
    },
    {
     "name": "stderr",
     "output_type": "stream",
     "text": [
      "  5%|▍         | 863/18934 [12:42<4:14:09,  1.19it/s]"
     ]
    },
    {
     "name": "stdout",
     "output_type": "stream",
     "text": [
      "[INFO] User jmfurlott already scraped. Skipping.\n"
     ]
    },
    {
     "name": "stderr",
     "output_type": "stream",
     "text": [
      "  5%|▍         | 866/18934 [12:44<4:05:58,  1.22it/s]"
     ]
    },
    {
     "name": "stdout",
     "output_type": "stream",
     "text": [
      "[INFO] User vannyle already scraped. Skipping.\n",
      "[INFO] User alexcarpenter already scraped. Skipping.\n",
      "[INFO] User porkytheblack already scraped. Skipping.\n"
     ]
    },
    {
     "name": "stderr",
     "output_type": "stream",
     "text": [
      "  5%|▍         | 870/18934 [12:46<2:51:03,  1.76it/s]"
     ]
    },
    {
     "name": "stdout",
     "output_type": "stream",
     "text": [
      "[INFO] User joswide already scraped. Skipping.\n",
      "[INFO] User codiyampa already scraped. Skipping.\n"
     ]
    },
    {
     "name": "stderr",
     "output_type": "stream",
     "text": [
      "  5%|▍         | 873/18934 [12:47<2:26:27,  2.06it/s]"
     ]
    },
    {
     "name": "stdout",
     "output_type": "stream",
     "text": [
      "[INFO] User Weffe already scraped. Skipping.\n",
      "[INFO] User rhenaldkarrel already scraped. Skipping.\n",
      "[INFO] User amitmishrg already scraped. Skipping.\n",
      "[INFO] User SebastianCCC already scraped. Skipping.\n",
      "[INFO] User nimarion already scraped. Skipping.\n",
      "[INFO] User sahat already scraped. Skipping.\n"
     ]
    },
    {
     "name": "stderr",
     "output_type": "stream",
     "text": [
      "  5%|▍         | 880/18934 [12:48<1:43:59,  2.89it/s]"
     ]
    },
    {
     "name": "stdout",
     "output_type": "stream",
     "text": [
      "[INFO] User williamlsh already scraped. Skipping.\n",
      "[INFO] User danicunhac already scraped. Skipping.\n",
      "[INFO] User zhenlan-zhao already scraped. Skipping.\n"
     ]
    },
    {
     "name": "stderr",
     "output_type": "stream",
     "text": [
      "  5%|▍         | 885/18934 [12:57<5:17:44,  1.06s/it]"
     ]
    },
    {
     "name": "stdout",
     "output_type": "stream",
     "text": [
      "[INFO] User khiemtong already scraped. Skipping.\n",
      "[INFO] User MaLIE2018 already scraped. Skipping.\n"
     ]
    },
    {
     "name": "stderr",
     "output_type": "stream",
     "text": [
      "  5%|▍         | 889/18934 [12:59<4:18:02,  1.17it/s]"
     ]
    },
    {
     "name": "stdout",
     "output_type": "stream",
     "text": [
      "[INFO] User daleksprinter already scraped. Skipping.\n",
      "[INFO] User dallanlee already scraped. Skipping.\n",
      "[INFO] User marcobiedermann already scraped. Skipping.\n",
      "[INFO] User sky1458 already scraped. Skipping.\n"
     ]
    },
    {
     "name": "stderr",
     "output_type": "stream",
     "text": [
      "  5%|▍         | 894/18934 [13:00<2:44:45,  1.82it/s]"
     ]
    },
    {
     "name": "stdout",
     "output_type": "stream",
     "text": [
      "[INFO] User mariuskueng already scraped. Skipping.\n"
     ]
    },
    {
     "name": "stderr",
     "output_type": "stream",
     "text": [
      "  5%|▍         | 896/18934 [13:01<2:45:51,  1.81it/s]"
     ]
    },
    {
     "name": "stdout",
     "output_type": "stream",
     "text": [
      "[INFO] User hellojser already scraped. Skipping.\n",
      "[INFO] User zkMake already scraped. Skipping.\n",
      "[INFO] User ericwooley already scraped. Skipping.\n",
      "[INFO] User eshlox already scraped. Skipping.\n"
     ]
    },
    {
     "name": "stderr",
     "output_type": "stream",
     "text": [
      "  5%|▍         | 901/18934 [13:03<2:23:38,  2.09it/s]"
     ]
    },
    {
     "name": "stdout",
     "output_type": "stream",
     "text": [
      "[INFO] User GankousKhan already scraped. Skipping.\n"
     ]
    },
    {
     "name": "stderr",
     "output_type": "stream",
     "text": [
      "  5%|▍         | 903/18934 [13:04<2:31:56,  1.98it/s]"
     ]
    },
    {
     "name": "stdout",
     "output_type": "stream",
     "text": [
      "[INFO] User forberg already scraped. Skipping.\n"
     ]
    },
    {
     "name": "stderr",
     "output_type": "stream",
     "text": [
      "  5%|▍         | 906/18934 [13:09<4:04:25,  1.23it/s]"
     ]
    },
    {
     "name": "stdout",
     "output_type": "stream",
     "text": [
      "[INFO] User SerjoPepper already scraped. Skipping.\n"
     ]
    },
    {
     "name": "stderr",
     "output_type": "stream",
     "text": [
      "  5%|▍         | 908/18934 [13:11<4:45:46,  1.05it/s]"
     ]
    },
    {
     "name": "stdout",
     "output_type": "stream",
     "text": [
      "[INFO] User dance2die already scraped. Skipping.\n",
      "[INFO] User eunsukimme already scraped. Skipping.\n",
      "[INFO] User tyjch already scraped. Skipping.\n",
      "[INFO] User kiranlm already scraped. Skipping.\n",
      "[INFO] User juanchristensen already scraped. Skipping.\n"
     ]
    },
    {
     "name": "stderr",
     "output_type": "stream",
     "text": [
      "  5%|▍         | 914/18934 [13:12<2:34:51,  1.94it/s]"
     ]
    },
    {
     "name": "stdout",
     "output_type": "stream",
     "text": [
      "[INFO] User doc22940 already scraped. Skipping.\n",
      "[INFO] User boaz-hwang already scraped. Skipping.\n",
      "[INFO] User thermarthae already scraped. Skipping.\n"
     ]
    },
    {
     "name": "stderr",
     "output_type": "stream",
     "text": [
      "  5%|▍         | 918/18934 [13:15<2:42:20,  1.85it/s]"
     ]
    },
    {
     "name": "stdout",
     "output_type": "stream",
     "text": [
      "[INFO] User Anderkins already scraped. Skipping.\n",
      "[INFO] User isNan909 already scraped. Skipping.\n"
     ]
    },
    {
     "name": "stderr",
     "output_type": "stream",
     "text": [
      "  5%|▍         | 921/18934 [13:16<2:30:28,  2.00it/s]"
     ]
    },
    {
     "name": "stdout",
     "output_type": "stream",
     "text": [
      "[INFO] User t-mocha already scraped. Skipping.\n",
      "[INFO] User vikx01 already scraped. Skipping.\n"
     ]
    },
    {
     "name": "stderr",
     "output_type": "stream",
     "text": [
      "  5%|▍         | 926/18934 [13:25<6:26:51,  1.29s/it]"
     ]
    },
    {
     "name": "stdout",
     "output_type": "stream",
     "text": [
      "[INFO] User mrold already scraped. Skipping.\n",
      "[INFO] User manini-1 already scraped. Skipping.\n",
      "[INFO] User jamesdbrock already scraped. Skipping.\n",
      "[INFO] User zephraph already scraped. Skipping.\n",
      "[INFO] User AliNazariii already scraped. Skipping.\n",
      "[INFO] User NoahWTeng already scraped. Skipping.\n",
      "[INFO] User nivnoiman already scraped. Skipping.\n"
     ]
    },
    {
     "name": "stderr",
     "output_type": "stream",
     "text": [
      "  5%|▍         | 935/18934 [13:31<4:44:00,  1.06it/s]"
     ]
    },
    {
     "name": "stdout",
     "output_type": "stream",
     "text": [
      "[INFO] User maliha991 already scraped. Skipping.\n"
     ]
    },
    {
     "name": "stderr",
     "output_type": "stream",
     "text": [
      "  5%|▍         | 937/18934 [13:34<5:36:00,  1.12s/it]"
     ]
    },
    {
     "name": "stdout",
     "output_type": "stream",
     "text": [
      "[INFO] User playerony already scraped. Skipping.\n",
      "[INFO] User Mati365 already scraped. Skipping.\n"
     ]
    },
    {
     "name": "stderr",
     "output_type": "stream",
     "text": [
      "  5%|▍         | 941/18934 [13:36<4:38:09,  1.08it/s]"
     ]
    },
    {
     "name": "stdout",
     "output_type": "stream",
     "text": [
      "[INFO] User christiananese already scraped. Skipping.\n"
     ]
    },
    {
     "name": "stderr",
     "output_type": "stream",
     "text": [
      "  5%|▍         | 943/18934 [13:41<6:20:55,  1.27s/it]"
     ]
    },
    {
     "name": "stdout",
     "output_type": "stream",
     "text": [
      "[INFO] User jsmith-sapient already scraped. Skipping.\n"
     ]
    },
    {
     "name": "stderr",
     "output_type": "stream",
     "text": [
      "  5%|▍         | 945/18934 [13:42<5:39:52,  1.13s/it]"
     ]
    },
    {
     "name": "stdout",
     "output_type": "stream",
     "text": [
      "[INFO] User dominique-mueller already scraped. Skipping.\n",
      "[INFO] User finaleaf already scraped. Skipping.\n"
     ]
    },
    {
     "name": "stderr",
     "output_type": "stream",
     "text": [
      "  5%|▌         | 949/18934 [13:44<3:49:24,  1.31it/s]"
     ]
    },
    {
     "name": "stdout",
     "output_type": "stream",
     "text": [
      "User yidianier has more than 300 repos, skipping.\n",
      "[INFO] User ihtml5 already scraped. Skipping.\n"
     ]
    },
    {
     "name": "stderr",
     "output_type": "stream",
     "text": [
      "  5%|▌         | 951/18934 [13:47<4:49:11,  1.04it/s]"
     ]
    },
    {
     "name": "stdout",
     "output_type": "stream",
     "text": [
      "[INFO] User realdennis already scraped. Skipping.\n",
      "[INFO] User alantoa already scraped. Skipping.\n"
     ]
    },
    {
     "name": "stderr",
     "output_type": "stream",
     "text": [
      "  5%|▌         | 954/18934 [13:48<3:36:07,  1.39it/s]"
     ]
    },
    {
     "name": "stdout",
     "output_type": "stream",
     "text": [
      "[INFO] User zmhweb already scraped. Skipping.\n",
      "[INFO] User user7241 already scraped. Skipping.\n",
      "[INFO] User pc035860 already scraped. Skipping.\n"
     ]
    },
    {
     "name": "stderr",
     "output_type": "stream",
     "text": [
      "  5%|▌         | 959/18934 [13:53<4:40:13,  1.07it/s]"
     ]
    },
    {
     "name": "stdout",
     "output_type": "stream",
     "text": [
      "[INFO] User paypeterlee already scraped. Skipping.\n"
     ]
    },
    {
     "name": "stderr",
     "output_type": "stream",
     "text": [
      "  5%|▌         | 961/18934 [13:54<4:10:46,  1.19it/s]"
     ]
    },
    {
     "name": "stdout",
     "output_type": "stream",
     "text": [
      "[INFO] User uwangg already scraped. Skipping.\n"
     ]
    },
    {
     "name": "stderr",
     "output_type": "stream",
     "text": [
      "  5%|▌         | 964/18934 [14:02<7:04:41,  1.42s/it]"
     ]
    },
    {
     "name": "stdout",
     "output_type": "stream",
     "text": [
      "[INFO] User amslezak already scraped. Skipping.\n",
      "[INFO] User rainstormza already scraped. Skipping.\n",
      "[INFO] User Inaztm already scraped. Skipping.\n"
     ]
    },
    {
     "name": "stderr",
     "output_type": "stream",
     "text": [
      "  5%|▌         | 968/18934 [14:04<4:48:54,  1.04it/s]"
     ]
    },
    {
     "name": "stdout",
     "output_type": "stream",
     "text": [
      "[INFO] User nasa1i already scraped. Skipping.\n",
      "[INFO] User ianwilliam already scraped. Skipping.\n"
     ]
    },
    {
     "name": "stderr",
     "output_type": "stream",
     "text": [
      "  5%|▌         | 975/18934 [14:10<4:33:05,  1.10it/s]"
     ]
    },
    {
     "name": "stdout",
     "output_type": "stream",
     "text": [
      "User kartset has more than 300 repos, skipping.\n",
      "[INFO] User mparisot already scraped. Skipping.\n",
      "[INFO] User raphaelcarlosr already scraped. Skipping.\n",
      "[INFO] User ASMohamedFaheemAnver already scraped. Skipping.\n",
      "[INFO] User JiaqiZheng already scraped. Skipping.\n",
      "[INFO] User w3labkr already scraped. Skipping.\n",
      "[INFO] User alfredomariamilano already scraped. Skipping.\n"
     ]
    },
    {
     "name": "stderr",
     "output_type": "stream",
     "text": [
      "  5%|▌         | 982/18934 [14:11<2:12:01,  2.27it/s]"
     ]
    },
    {
     "name": "stdout",
     "output_type": "stream",
     "text": [
      "[INFO] User federico-lo-presti already scraped. Skipping.\n",
      "[INFO] User shockw4ver already scraped. Skipping.\n",
      "[INFO] User edoardolincetto already scraped. Skipping.\n"
     ]
    },
    {
     "name": "stderr",
     "output_type": "stream",
     "text": [
      "  5%|▌         | 987/18934 [14:14<2:33:18,  1.95it/s]"
     ]
    },
    {
     "name": "stdout",
     "output_type": "stream",
     "text": [
      "[INFO] User jorgebaralt already scraped. Skipping.\n",
      "[INFO] User qiuziz already scraped. Skipping.\n"
     ]
    },
    {
     "name": "stderr",
     "output_type": "stream",
     "text": [
      "  5%|▌         | 992/18934 [14:20<5:13:23,  1.05s/it]"
     ]
    },
    {
     "name": "stdout",
     "output_type": "stream",
     "text": [
      "[INFO] User qas already scraped. Skipping.\n",
      "[INFO] User marcomafessolli already scraped. Skipping.\n",
      "[INFO] User HenrikJoreteg already scraped. Skipping.\n"
     ]
    },
    {
     "name": "stderr",
     "output_type": "stream",
     "text": [
      "  5%|▌         | 996/18934 [14:24<4:38:43,  1.07it/s]"
     ]
    },
    {
     "name": "stdout",
     "output_type": "stream",
     "text": [
      "[INFO] User KoenRijpstra already scraped. Skipping.\n",
      "[INFO] User Knufle already scraped. Skipping.\n",
      "[INFO] User keisukekomeda already scraped. Skipping.\n"
     ]
    },
    {
     "name": "stderr",
     "output_type": "stream",
     "text": [
      "  5%|▌         | 1000/18934 [14:24<3:01:33,  1.65it/s]"
     ]
    },
    {
     "name": "stdout",
     "output_type": "stream",
     "text": [
      "User kostasx has more than 300 repos, skipping.\n",
      "[INFO] User KryptXBSA already scraped. Skipping.\n"
     ]
    },
    {
     "name": "stderr",
     "output_type": "stream",
     "text": [
      "  5%|▌         | 1003/18934 [14:28<4:09:49,  1.20it/s]"
     ]
    },
    {
     "name": "stdout",
     "output_type": "stream",
     "text": [
      "[INFO] User taeyoungs already scraped. Skipping.\n"
     ]
    },
    {
     "name": "stderr",
     "output_type": "stream",
     "text": [
      "  5%|▌         | 1007/18934 [14:34<6:35:38,  1.32s/it]"
     ]
    },
    {
     "name": "stdout",
     "output_type": "stream",
     "text": [
      "[INFO] User linosorice already scraped. Skipping.\n"
     ]
    },
    {
     "name": "stderr",
     "output_type": "stream",
     "text": [
      "  5%|▌         | 1009/18934 [14:35<5:27:55,  1.10s/it]"
     ]
    },
    {
     "name": "stdout",
     "output_type": "stream",
     "text": [
      "[INFO] User gaspardip already scraped. Skipping.\n",
      "[INFO] User psygo already scraped. Skipping.\n",
      "[INFO] User jakobvase already scraped. Skipping.\n",
      "[INFO] User enesozturk already scraped. Skipping.\n",
      "[INFO] User MetaHG already scraped. Skipping.\n"
     ]
    },
    {
     "name": "stderr",
     "output_type": "stream",
     "text": [
      "  5%|▌         | 1015/18934 [14:36<2:44:38,  1.81it/s]"
     ]
    },
    {
     "name": "stdout",
     "output_type": "stream",
     "text": [
      "[INFO] User hk-skit already scraped. Skipping.\n"
     ]
    },
    {
     "name": "stderr",
     "output_type": "stream",
     "text": [
      "  5%|▌         | 1017/18934 [14:40<4:11:10,  1.19it/s]"
     ]
    },
    {
     "name": "stdout",
     "output_type": "stream",
     "text": [
      "[INFO] User hophiphip already scraped. Skipping.\n",
      "[INFO] User Mephistofeles already scraped. Skipping.\n",
      "[INFO] User hoangvvo already scraped. Skipping.\n",
      "[INFO] User CaptainAwesomeDi already scraped. Skipping.\n",
      "[INFO] User yangfei19881024 already scraped. Skipping.\n",
      "[INFO] User lcamargof already scraped. Skipping.\n",
      "[INFO] User TheEdoRan already scraped. Skipping.\n",
      "[INFO] User haohcraft already scraped. Skipping.\n"
     ]
    },
    {
     "name": "stderr",
     "output_type": "stream",
     "text": [
      "  5%|▌         | 1026/18934 [14:42<2:22:53,  2.09it/s]"
     ]
    },
    {
     "name": "stdout",
     "output_type": "stream",
     "text": [
      "[INFO] User imwexpex already scraped. Skipping.\n"
     ]
    },
    {
     "name": "stderr",
     "output_type": "stream",
     "text": [
      "  5%|▌         | 1028/18934 [14:45<3:16:36,  1.52it/s]"
     ]
    },
    {
     "name": "stdout",
     "output_type": "stream",
     "text": [
      "[INFO] User Victordgrandis already scraped. Skipping.\n",
      "[INFO] User LucasVilela already scraped. Skipping.\n"
     ]
    },
    {
     "name": "stderr",
     "output_type": "stream",
     "text": [
      "  5%|▌         | 1031/18934 [14:49<3:59:01,  1.25it/s]"
     ]
    },
    {
     "name": "stdout",
     "output_type": "stream",
     "text": [
      "[INFO] User austinkettner already scraped. Skipping.\n",
      "[INFO] User vicke4 already scraped. Skipping.\n"
     ]
    },
    {
     "name": "stderr",
     "output_type": "stream",
     "text": [
      "  5%|▌         | 1034/18934 [14:52<4:06:04,  1.21it/s]"
     ]
    },
    {
     "name": "stdout",
     "output_type": "stream",
     "text": [
      "[INFO] User StasZhuk already scraped. Skipping.\n",
      "[INFO] User davion-258 already scraped. Skipping.\n"
     ]
    },
    {
     "name": "stderr",
     "output_type": "stream",
     "text": [
      "  5%|▌         | 1037/18934 [14:55<4:21:34,  1.14it/s]"
     ]
    },
    {
     "name": "stdout",
     "output_type": "stream",
     "text": [
      "[INFO] User Dhoni77 already scraped. Skipping.\n",
      "[INFO] User nightire already scraped. Skipping.\n"
     ]
    },
    {
     "name": "stderr",
     "output_type": "stream",
     "text": [
      "  6%|▌         | 1044/18934 [15:03<6:37:20,  1.33s/it]"
     ]
    },
    {
     "name": "stdout",
     "output_type": "stream",
     "text": [
      "[INFO] User Arima666 already scraped. Skipping.\n",
      "[INFO] User daryl-z already scraped. Skipping.\n",
      "[INFO] User savaryna already scraped. Skipping.\n",
      "[INFO] User kiccho1101 already scraped. Skipping.\n"
     ]
    },
    {
     "name": "stderr",
     "output_type": "stream",
     "text": [
      "  6%|▌         | 1053/18934 [15:15<8:06:25,  1.63s/it]"
     ]
    },
    {
     "name": "stdout",
     "output_type": "stream",
     "text": [
      "[INFO] User Ryuurock already scraped. Skipping.\n",
      "[INFO] User cloudydaiyz already scraped. Skipping.\n"
     ]
    },
    {
     "name": "stderr",
     "output_type": "stream",
     "text": [
      "  6%|▌         | 1059/18934 [15:20<6:00:54,  1.21s/it]"
     ]
    },
    {
     "name": "stdout",
     "output_type": "stream",
     "text": [
      "[INFO] User eetuv already scraped. Skipping.\n"
     ]
    },
    {
     "name": "stderr",
     "output_type": "stream",
     "text": [
      "  6%|▌         | 1061/18934 [15:21<4:55:28,  1.01it/s]"
     ]
    },
    {
     "name": "stdout",
     "output_type": "stream",
     "text": [
      "[INFO] User minwe already scraped. Skipping.\n"
     ]
    },
    {
     "name": "stderr",
     "output_type": "stream",
     "text": [
      "  6%|▌         | 1063/18934 [15:25<6:59:38,  1.41s/it]"
     ]
    },
    {
     "name": "stdout",
     "output_type": "stream",
     "text": [
      "[INFO] User xiel already scraped. Skipping.\n"
     ]
    },
    {
     "name": "stderr",
     "output_type": "stream",
     "text": [
      "  6%|▌         | 1065/18934 [15:29<7:43:13,  1.56s/it]"
     ]
    },
    {
     "name": "stdout",
     "output_type": "stream",
     "text": [
      "[INFO] User twisty already scraped. Skipping.\n",
      "[INFO] User cattlechow already scraped. Skipping.\n",
      "[INFO] User fsegouin already scraped. Skipping.\n",
      "[INFO] User huochezaodian already scraped. Skipping.\n",
      "[INFO] User manfromanotherland already scraped. Skipping.\n",
      "[INFO] User bolutife-lawrence already scraped. Skipping.\n"
     ]
    },
    {
     "name": "stderr",
     "output_type": "stream",
     "text": [
      "  6%|▌         | 1072/18934 [15:31<3:44:07,  1.33it/s]"
     ]
    },
    {
     "name": "stdout",
     "output_type": "stream",
     "text": [
      "[INFO] User Deain already scraped. Skipping.\n",
      "[INFO] User jianglinghao already scraped. Skipping.\n",
      "[INFO] User asokani already scraped. Skipping.\n",
      "[INFO] User nh-199 already scraped. Skipping.\n"
     ]
    },
    {
     "name": "stderr",
     "output_type": "stream",
     "text": [
      "  6%|▌         | 1077/18934 [15:33<3:05:46,  1.60it/s]"
     ]
    },
    {
     "name": "stdout",
     "output_type": "stream",
     "text": [
      "[INFO] User yobretyo already scraped. Skipping.\n",
      "[INFO] User y-temp4 already scraped. Skipping.\n",
      "[INFO] User alxptr already scraped. Skipping.\n",
      "[INFO] User berraknil already scraped. Skipping.\n",
      "[INFO] User thashimoto123 already scraped. Skipping.\n",
      "[INFO] User mikelyons already scraped. Skipping.\n",
      "[INFO] User ShiiRochi already scraped. Skipping.\n"
     ]
    },
    {
     "name": "stderr",
     "output_type": "stream",
     "text": [
      "  6%|▌         | 1086/18934 [15:36<2:29:26,  1.99it/s]"
     ]
    },
    {
     "name": "stdout",
     "output_type": "stream",
     "text": [
      "[INFO] User orther already scraped. Skipping.\n",
      "[INFO] User sibelius already scraped. Skipping.\n"
     ]
    },
    {
     "name": "stderr",
     "output_type": "stream",
     "text": [
      "  6%|▌         | 1089/18934 [15:39<2:57:12,  1.68it/s]"
     ]
    },
    {
     "name": "stdout",
     "output_type": "stream",
     "text": [
      "[INFO] User focux already scraped. Skipping.\n",
      "[INFO] User flymee8 already scraped. Skipping.\n"
     ]
    },
    {
     "name": "stderr",
     "output_type": "stream",
     "text": [
      "  6%|▌         | 1092/18934 [15:42<3:27:53,  1.43it/s]"
     ]
    },
    {
     "name": "stdout",
     "output_type": "stream",
     "text": [
      "[INFO] User fazouane-marouane already scraped. Skipping.\n"
     ]
    },
    {
     "name": "stderr",
     "output_type": "stream",
     "text": [
      "  6%|▌         | 1094/18934 [15:43<3:18:12,  1.50it/s]"
     ]
    },
    {
     "name": "stdout",
     "output_type": "stream",
     "text": [
      "[INFO] User aguyfromdenmark already scraped. Skipping.\n",
      "[INFO] User qingguoing already scraped. Skipping.\n"
     ]
    },
    {
     "name": "stderr",
     "output_type": "stream",
     "text": [
      "  6%|▌         | 1097/18934 [15:45<3:10:40,  1.56it/s]"
     ]
    },
    {
     "name": "stdout",
     "output_type": "stream",
     "text": [
      "[INFO] User cameronbraid already scraped. Skipping.\n"
     ]
    },
    {
     "name": "stderr",
     "output_type": "stream",
     "text": [
      "  6%|▌         | 1101/18934 [15:52<5:56:51,  1.20s/it]"
     ]
    },
    {
     "name": "stdout",
     "output_type": "stream",
     "text": [
      "[INFO] User uncleLian already scraped. Skipping.\n",
      "[INFO] User Bazl1 already scraped. Skipping.\n"
     ]
    },
    {
     "name": "stderr",
     "output_type": "stream",
     "text": [
      "  6%|▌         | 1104/18934 [15:52<4:01:04,  1.23it/s]"
     ]
    },
    {
     "name": "stdout",
     "output_type": "stream",
     "text": [
      "[INFO] User YeSuX already scraped. Skipping.\n",
      "[INFO] User fuller already scraped. Skipping.\n"
     ]
    },
    {
     "name": "stderr",
     "output_type": "stream",
     "text": [
      "  6%|▌         | 1107/18934 [15:53<3:08:51,  1.57it/s]"
     ]
    },
    {
     "name": "stdout",
     "output_type": "stream",
     "text": [
      "[INFO] User xavimondev already scraped. Skipping.\n",
      "[INFO] User Dreno2003 already scraped. Skipping.\n"
     ]
    },
    {
     "name": "stderr",
     "output_type": "stream",
     "text": [
      "  6%|▌         | 1112/18934 [16:01<6:18:01,  1.27s/it]"
     ]
    },
    {
     "name": "stdout",
     "output_type": "stream",
     "text": [
      "[INFO] User user753 already scraped. Skipping.\n"
     ]
    },
    {
     "name": "stderr",
     "output_type": "stream",
     "text": [
      "  6%|▌         | 1115/18934 [16:07<7:57:13,  1.61s/it]"
     ]
    },
    {
     "name": "stdout",
     "output_type": "stream",
     "text": [
      "[INFO] User selimjouan already scraped. Skipping.\n"
     ]
    },
    {
     "name": "stderr",
     "output_type": "stream",
     "text": [
      "  6%|▌         | 1120/18934 [16:18<9:35:34,  1.94s/it] "
     ]
    },
    {
     "name": "stdout",
     "output_type": "stream",
     "text": [
      "[INFO] User Zophyr already scraped. Skipping.\n",
      "[INFO] User AnalogMemory already scraped. Skipping.\n",
      "[INFO] User agdolla already scraped. Skipping.\n",
      "[INFO] User remarkablemark already scraped. Skipping.\n",
      "[INFO] User mrmbird already scraped. Skipping.\n"
     ]
    },
    {
     "name": "stderr",
     "output_type": "stream",
     "text": [
      "  6%|▌         | 1126/18934 [16:20<3:45:35,  1.32it/s]"
     ]
    },
    {
     "name": "stdout",
     "output_type": "stream",
     "text": [
      "[INFO] User xiaoyao96 already scraped. Skipping.\n"
     ]
    },
    {
     "name": "stderr",
     "output_type": "stream",
     "text": [
      "  6%|▌         | 1128/18934 [16:21<4:01:15,  1.23it/s]"
     ]
    },
    {
     "name": "stdout",
     "output_type": "stream",
     "text": [
      "[INFO] User michalczukm already scraped. Skipping.\n",
      "[INFO] User donvitoalzaga already scraped. Skipping.\n"
     ]
    },
    {
     "name": "stderr",
     "output_type": "stream",
     "text": [
      "  6%|▌         | 1131/18934 [16:24<3:53:32,  1.27it/s]"
     ]
    },
    {
     "name": "stdout",
     "output_type": "stream",
     "text": [
      "[INFO] User typescript-cheatsheets already scraped. Skipping.\n"
     ]
    },
    {
     "name": "stderr",
     "output_type": "stream",
     "text": [
      "  6%|▌         | 1133/18934 [16:26<4:21:32,  1.13it/s]"
     ]
    },
    {
     "name": "stdout",
     "output_type": "stream",
     "text": [
      "[INFO] User jhonnymoreira already scraped. Skipping.\n"
     ]
    },
    {
     "name": "stderr",
     "output_type": "stream",
     "text": [
      "  6%|▌         | 1136/18934 [16:31<5:43:13,  1.16s/it]"
     ]
    },
    {
     "name": "stdout",
     "output_type": "stream",
     "text": [
      "[INFO] User asoray already scraped. Skipping.\n",
      "[INFO] User thomasdigby already scraped. Skipping.\n",
      "[INFO] User ghosh already scraped. Skipping.\n",
      "[INFO] User adambaialiev already scraped. Skipping.\n"
     ]
    },
    {
     "name": "stderr",
     "output_type": "stream",
     "text": [
      "  6%|▌         | 1141/18934 [16:34<4:33:04,  1.09it/s]"
     ]
    },
    {
     "name": "stdout",
     "output_type": "stream",
     "text": [
      "[INFO] User overra already scraped. Skipping.\n",
      "[INFO] User luizbatanero already scraped. Skipping.\n",
      "[INFO] User vikr01 already scraped. Skipping.\n"
     ]
    },
    {
     "name": "stderr",
     "output_type": "stream",
     "text": [
      "  6%|▌         | 1146/18934 [16:37<3:55:47,  1.26it/s]"
     ]
    },
    {
     "name": "stdout",
     "output_type": "stream",
     "text": [
      "[INFO] User angelsalazar already scraped. Skipping.\n",
      "[INFO] User tigressbailey already scraped. Skipping.\n"
     ]
    },
    {
     "name": "stderr",
     "output_type": "stream",
     "text": [
      "  6%|▌         | 1149/18934 [16:45<6:34:23,  1.33s/it]"
     ]
    },
    {
     "name": "stdout",
     "output_type": "stream",
     "text": [
      "[INFO] User ianizaguirre already scraped. Skipping.\n"
     ]
    },
    {
     "name": "stderr",
     "output_type": "stream",
     "text": [
      "  6%|▌         | 1151/18934 [16:48<7:06:43,  1.44s/it]"
     ]
    },
    {
     "name": "stdout",
     "output_type": "stream",
     "text": [
      "[INFO] User subeshb1 already scraped. Skipping.\n"
     ]
    },
    {
     "name": "stderr",
     "output_type": "stream",
     "text": [
      "  6%|▌         | 1153/18934 [16:49<5:59:16,  1.21s/it]"
     ]
    },
    {
     "name": "stdout",
     "output_type": "stream",
     "text": [
      "[INFO] User huijiewei already scraped. Skipping.\n",
      "[INFO] User Anrufen already scraped. Skipping.\n",
      "[INFO] User neatshell already scraped. Skipping.\n",
      "[INFO] User mintuz already scraped. Skipping.\n",
      "[INFO] User khairold already scraped. Skipping.\n",
      "[INFO] User rrroyal already scraped. Skipping.\n",
      "[INFO] User Invincibear already scraped. Skipping.\n"
     ]
    },
    {
     "name": "stderr",
     "output_type": "stream",
     "text": [
      "  6%|▌         | 1165/18934 [17:00<5:42:37,  1.16s/it]"
     ]
    },
    {
     "name": "stdout",
     "output_type": "stream",
     "text": [
      "[INFO] User juice49 already scraped. Skipping.\n"
     ]
    },
    {
     "name": "stderr",
     "output_type": "stream",
     "text": [
      "  6%|▌         | 1167/18934 [17:01<4:35:52,  1.07it/s]"
     ]
    },
    {
     "name": "stdout",
     "output_type": "stream",
     "text": [
      "[INFO] User 6220119 already scraped. Skipping.\n",
      "[INFO] User proxima-b-alpha already scraped. Skipping.\n"
     ]
    },
    {
     "name": "stderr",
     "output_type": "stream",
     "text": [
      "  6%|▌         | 1170/18934 [17:03<4:00:57,  1.23it/s]"
     ]
    },
    {
     "name": "stdout",
     "output_type": "stream",
     "text": [
      "[INFO] User pgonee already scraped. Skipping.\n",
      "[INFO] User sohibjonabdialimov already scraped. Skipping.\n"
     ]
    },
    {
     "name": "stderr",
     "output_type": "stream",
     "text": [
      "  6%|▌         | 1173/18934 [17:04<3:13:44,  1.53it/s]"
     ]
    },
    {
     "name": "stdout",
     "output_type": "stream",
     "text": [
      "[INFO] User marioloncarek already scraped. Skipping.\n"
     ]
    },
    {
     "name": "stderr",
     "output_type": "stream",
     "text": [
      "  6%|▌         | 1177/18934 [17:09<5:07:11,  1.04s/it]"
     ]
    },
    {
     "name": "stdout",
     "output_type": "stream",
     "text": [
      "[INFO] User rubenvar already scraped. Skipping.\n"
     ]
    },
    {
     "name": "stderr",
     "output_type": "stream",
     "text": [
      "  6%|▌         | 1179/18934 [17:14<7:03:06,  1.43s/it]"
     ]
    },
    {
     "name": "stdout",
     "output_type": "stream",
     "text": [
      "[INFO] User m98 already scraped. Skipping.\n",
      "[INFO] User chiefGui already scraped. Skipping.\n"
     ]
    },
    {
     "name": "stderr",
     "output_type": "stream",
     "text": [
      "  6%|▌         | 1182/18934 [17:14<4:13:07,  1.17it/s]"
     ]
    },
    {
     "name": "stdout",
     "output_type": "stream",
     "text": [
      "User scott1028 has more than 300 repos, skipping.\n"
     ]
    },
    {
     "name": "stderr",
     "output_type": "stream",
     "text": [
      "  6%|▌         | 1183/18934 [17:15<3:55:53,  1.25it/s]"
     ]
    },
    {
     "name": "stdout",
     "output_type": "stream",
     "text": [
      "User modulexcite has more than 300 repos, skipping.\n"
     ]
    },
    {
     "name": "stderr",
     "output_type": "stream",
     "text": [
      "  6%|▋         | 1184/18934 [17:20<8:05:15,  1.64s/it]"
     ]
    },
    {
     "name": "stdout",
     "output_type": "stream",
     "text": [
      "Token cycled to ACCESS_TOKEN_2.\n",
      "Cycle\n",
      "[INFO] User yingzhox already scraped. Skipping.\n",
      "[INFO] User AlexeyRyazanov already scraped. Skipping.\n",
      "Token cycled to ACCESS_TOKEN_3.\n",
      "Cycle\n"
     ]
    },
    {
     "name": "stderr",
     "output_type": "stream",
     "text": [
      "  6%|▋         | 1188/18934 [17:24<7:15:42,  1.47s/it]"
     ]
    },
    {
     "name": "stdout",
     "output_type": "stream",
     "text": [
      "[INFO] User octave08 already scraped. Skipping.\n",
      "[INFO] User HarwinBorger already scraped. Skipping.\n",
      "[INFO] User jahirfiquitiva already scraped. Skipping.\n",
      "[INFO] User bombshell-dev already scraped. Skipping.\n",
      "[INFO] User bytemain already scraped. Skipping.\n",
      "[INFO] User ljmsouza already scraped. Skipping.\n",
      "[INFO] User workshopper already scraped. Skipping.\n"
     ]
    },
    {
     "name": "stderr",
     "output_type": "stream",
     "text": [
      "  6%|▋         | 1196/18934 [17:25<2:49:51,  1.74it/s]"
     ]
    },
    {
     "name": "stdout",
     "output_type": "stream",
     "text": [
      "[INFO] User josteph already scraped. Skipping.\n",
      "[INFO] User kujohn already scraped. Skipping.\n"
     ]
    },
    {
     "name": "stderr",
     "output_type": "stream",
     "text": [
      "  6%|▋         | 1201/18934 [17:32<4:42:01,  1.05it/s]"
     ]
    },
    {
     "name": "stdout",
     "output_type": "stream",
     "text": [
      "User Kakuye has more than 300 repos, skipping.\n",
      "[INFO] User OlivierFortier already scraped. Skipping.\n",
      "[INFO] User anchsk already scraped. Skipping.\n"
     ]
    },
    {
     "name": "stderr",
     "output_type": "stream",
     "text": [
      "  6%|▋         | 1204/18934 [17:33<3:50:21,  1.28it/s]"
     ]
    },
    {
     "name": "stdout",
     "output_type": "stream",
     "text": [
      "[INFO] User sachinchoolur already scraped. Skipping.\n",
      "[INFO] User wangkailang already scraped. Skipping.\n"
     ]
    },
    {
     "name": "stderr",
     "output_type": "stream",
     "text": [
      "  6%|▋         | 1207/18934 [17:34<3:00:09,  1.64it/s]"
     ]
    },
    {
     "name": "stdout",
     "output_type": "stream",
     "text": [
      "[INFO] User oyeanuj already scraped. Skipping.\n"
     ]
    },
    {
     "name": "stderr",
     "output_type": "stream",
     "text": [
      "  6%|▋         | 1211/18934 [17:43<7:11:48,  1.46s/it]"
     ]
    },
    {
     "name": "stdout",
     "output_type": "stream",
     "text": [
      "[INFO] User rjdellecese already scraped. Skipping.\n"
     ]
    },
    {
     "name": "stderr",
     "output_type": "stream",
     "text": [
      "  6%|▋         | 1213/18934 [17:47<8:30:31,  1.73s/it]"
     ]
    },
    {
     "name": "stdout",
     "output_type": "stream",
     "text": [
      "[INFO] User umami-software already scraped. Skipping.\n"
     ]
    },
    {
     "name": "stderr",
     "output_type": "stream",
     "text": [
      "  6%|▋         | 1215/18934 [17:50<7:34:34,  1.54s/it]"
     ]
    },
    {
     "name": "stdout",
     "output_type": "stream",
     "text": [
      "[INFO] User elieven already scraped. Skipping.\n"
     ]
    },
    {
     "name": "stderr",
     "output_type": "stream",
     "text": [
      "  6%|▋         | 1220/18934 [18:01<9:33:21,  1.94s/it] "
     ]
    },
    {
     "name": "stdout",
     "output_type": "stream",
     "text": [
      "[INFO] User yinleiCoder already scraped. Skipping.\n",
      "[INFO] User alihaq27 already scraped. Skipping.\n",
      "[INFO] User guddukumar-gitHub already scraped. Skipping.\n"
     ]
    },
    {
     "name": "stderr",
     "output_type": "stream",
     "text": [
      "  6%|▋         | 1224/18934 [18:06<7:44:13,  1.57s/it]"
     ]
    },
    {
     "name": "stdout",
     "output_type": "stream",
     "text": [
      "[INFO] User ninest already scraped. Skipping.\n"
     ]
    },
    {
     "name": "stderr",
     "output_type": "stream",
     "text": [
      "  6%|▋         | 1227/18934 [18:14<11:07:43,  2.26s/it]"
     ]
    },
    {
     "name": "stdout",
     "output_type": "stream",
     "text": [
      "[INFO] User Online13 already scraped. Skipping.\n"
     ]
    },
    {
     "name": "stderr",
     "output_type": "stream",
     "text": [
      "  7%|▋         | 1231/18934 [18:21<10:11:53,  2.07s/it]"
     ]
    },
    {
     "name": "stdout",
     "output_type": "stream",
     "text": [
      "[INFO] User myeongheonhong already scraped. Skipping.\n",
      "[INFO] User n1k1c4 already scraped. Skipping.\n",
      "[INFO] User createdbymahmood already scraped. Skipping.\n",
      "[INFO] User kkruczek already scraped. Skipping.\n"
     ]
    },
    {
     "name": "stderr",
     "output_type": "stream",
     "text": [
      "  7%|▋         | 1236/18934 [18:22<4:46:05,  1.03it/s] "
     ]
    },
    {
     "name": "stdout",
     "output_type": "stream",
     "text": [
      "[INFO] User hartmannco already scraped. Skipping.\n",
      "[INFO] User zy0228 already scraped. Skipping.\n"
     ]
    },
    {
     "name": "stderr",
     "output_type": "stream",
     "text": [
      "  7%|▋         | 1239/18934 [18:29<6:34:30,  1.34s/it]"
     ]
    },
    {
     "name": "stdout",
     "output_type": "stream",
     "text": [
      "[INFO] User MaxmaxmaximusFree already scraped. Skipping.\n"
     ]
    },
    {
     "name": "stderr",
     "output_type": "stream",
     "text": [
      "  7%|▋         | 1241/18934 [18:30<5:38:54,  1.15s/it]"
     ]
    },
    {
     "name": "stdout",
     "output_type": "stream",
     "text": [
      "[INFO] User brunabrunabruna already scraped. Skipping.\n",
      "[INFO] User PapaLimaZulu already scraped. Skipping.\n",
      "[INFO] User amokrushin already scraped. Skipping.\n",
      "[INFO] User DC3 already scraped. Skipping.\n"
     ]
    },
    {
     "name": "stderr",
     "output_type": "stream",
     "text": [
      "  7%|▋         | 1247/18934 [18:32<3:38:29,  1.35it/s]"
     ]
    },
    {
     "name": "stdout",
     "output_type": "stream",
     "text": [
      "[INFO] User iammapping already scraped. Skipping.\n"
     ]
    },
    {
     "name": "stderr",
     "output_type": "stream",
     "text": [
      "  7%|▋         | 1250/18934 [18:36<4:43:22,  1.04it/s]"
     ]
    },
    {
     "name": "stdout",
     "output_type": "stream",
     "text": [
      "[INFO] User zenghongtu already scraped. Skipping.\n",
      "[INFO] User chenbo3371 already scraped. Skipping.\n"
     ]
    },
    {
     "name": "stderr",
     "output_type": "stream",
     "text": [
      "  7%|▋         | 1253/18934 [18:37<3:31:10,  1.40it/s]"
     ]
    },
    {
     "name": "stdout",
     "output_type": "stream",
     "text": [
      "[INFO] User re-taro already scraped. Skipping.\n",
      "[INFO] User pirate-barbosa already scraped. Skipping.\n",
      "[INFO] User zhuyudong already scraped. Skipping.\n",
      "[INFO] User xavieramoros already scraped. Skipping.\n"
     ]
    },
    {
     "name": "stderr",
     "output_type": "stream",
     "text": [
      "  7%|▋         | 1261/18934 [18:51<7:46:00,  1.58s/it]"
     ]
    },
    {
     "name": "stdout",
     "output_type": "stream",
     "text": [
      "[INFO] User anduong96 already scraped. Skipping.\n",
      "[INFO] User majman already scraped. Skipping.\n"
     ]
    },
    {
     "name": "stderr",
     "output_type": "stream",
     "text": [
      "  7%|▋         | 1270/18934 [19:01<6:08:09,  1.25s/it]"
     ]
    },
    {
     "name": "stdout",
     "output_type": "stream",
     "text": [
      "[INFO] User badbeoti already scraped. Skipping.\n",
      "[INFO] User angelsbv already scraped. Skipping.\n",
      "[INFO] User DGCP3 already scraped. Skipping.\n",
      "[INFO] User vanthao03596 already scraped. Skipping.\n"
     ]
    },
    {
     "name": "stderr",
     "output_type": "stream",
     "text": [
      "  7%|▋         | 1277/18934 [19:06<4:40:50,  1.05it/s]"
     ]
    },
    {
     "name": "stdout",
     "output_type": "stream",
     "text": [
      "[INFO] User saefulrahman already scraped. Skipping.\n"
     ]
    },
    {
     "name": "stderr",
     "output_type": "stream",
     "text": [
      "  7%|▋         | 1279/18934 [19:09<4:58:30,  1.01s/it]"
     ]
    },
    {
     "name": "stdout",
     "output_type": "stream",
     "text": [
      "[INFO] User dannydrinkwater already scraped. Skipping.\n",
      "[INFO] User Hansanghyeon already scraped. Skipping.\n"
     ]
    },
    {
     "name": "stderr",
     "output_type": "stream",
     "text": [
      "  7%|▋         | 1283/18934 [19:16<7:32:17,  1.54s/it]"
     ]
    },
    {
     "name": "stdout",
     "output_type": "stream",
     "text": [
      "[INFO] User lucasromerodb already scraped. Skipping.\n",
      "[INFO] User kvek-copper already scraped. Skipping.\n"
     ]
    },
    {
     "name": "stderr",
     "output_type": "stream",
     "text": [
      "  7%|▋         | 1286/18934 [19:20<6:44:27,  1.38s/it]"
     ]
    },
    {
     "name": "stdout",
     "output_type": "stream",
     "text": [
      "[INFO] User apolkingg8 already scraped. Skipping.\n"
     ]
    },
    {
     "name": "stderr",
     "output_type": "stream",
     "text": [
      "  7%|▋         | 1289/18934 [19:25<8:07:33,  1.66s/it]"
     ]
    },
    {
     "name": "stdout",
     "output_type": "stream",
     "text": [
      "[INFO] User kazuyaseki already scraped. Skipping.\n",
      "[INFO] User fernandofleury already scraped. Skipping.\n",
      "[INFO] User arturvardanyan already scraped. Skipping.\n"
     ]
    },
    {
     "name": "stderr",
     "output_type": "stream",
     "text": [
      "  7%|▋         | 1294/18934 [19:34<9:12:33,  1.88s/it]"
     ]
    },
    {
     "name": "stdout",
     "output_type": "stream",
     "text": [
      "[INFO] User leereliu already scraped. Skipping.\n"
     ]
    },
    {
     "name": "stderr",
     "output_type": "stream",
     "text": [
      "  7%|▋         | 1296/18934 [19:38<9:40:24,  1.97s/it]"
     ]
    },
    {
     "name": "stdout",
     "output_type": "stream",
     "text": [
      "[INFO] User rchuluc already scraped. Skipping.\n"
     ]
    },
    {
     "name": "stderr",
     "output_type": "stream",
     "text": [
      "  7%|▋         | 1301/18934 [19:47<9:37:29,  1.97s/it]"
     ]
    },
    {
     "name": "stdout",
     "output_type": "stream",
     "text": [
      "[INFO] User osmannkartall already scraped. Skipping.\n"
     ]
    },
    {
     "name": "stderr",
     "output_type": "stream",
     "text": [
      "  7%|▋         | 1303/18934 [19:48<7:13:59,  1.48s/it]"
     ]
    },
    {
     "name": "stdout",
     "output_type": "stream",
     "text": [
      "[INFO] User StefanSelfTaught already scraped. Skipping.\n"
     ]
    },
    {
     "name": "stderr",
     "output_type": "stream",
     "text": [
      "  7%|▋         | 1307/18934 [19:52<5:42:13,  1.16s/it]"
     ]
    },
    {
     "name": "stdout",
     "output_type": "stream",
     "text": [
      "[INFO] User kendallstrautman already scraped. Skipping.\n",
      "[INFO] User stacylondon already scraped. Skipping.\n",
      "[INFO] User kikich678 already scraped. Skipping.\n"
     ]
    },
    {
     "name": "stderr",
     "output_type": "stream",
     "text": [
      "  7%|▋         | 1311/18934 [19:53<3:28:46,  1.41it/s]"
     ]
    },
    {
     "name": "stdout",
     "output_type": "stream",
     "text": [
      "[INFO] User jhalvorson already scraped. Skipping.\n"
     ]
    },
    {
     "name": "stderr",
     "output_type": "stream",
     "text": [
      "  7%|▋         | 1313/18934 [19:58<5:44:22,  1.17s/it]"
     ]
    },
    {
     "name": "stdout",
     "output_type": "stream",
     "text": [
      "[INFO] User Kusou1 already scraped. Skipping.\n",
      "[INFO] User yecnj already scraped. Skipping.\n",
      "[INFO] User qiaoqiaoweb already scraped. Skipping.\n",
      "[INFO] User docoder already scraped. Skipping.\n"
     ]
    },
    {
     "name": "stderr",
     "output_type": "stream",
     "text": [
      "  7%|▋         | 1318/18934 [20:00<3:44:02,  1.31it/s]"
     ]
    },
    {
     "name": "stdout",
     "output_type": "stream",
     "text": [
      "[INFO] User alexchuadotc already scraped. Skipping.\n"
     ]
    },
    {
     "name": "stderr",
     "output_type": "stream",
     "text": [
      "  7%|▋         | 1321/18934 [20:04<4:29:19,  1.09it/s]"
     ]
    },
    {
     "name": "stdout",
     "output_type": "stream",
     "text": [
      "[INFO] User stitcombe already scraped. Skipping.\n",
      "[INFO] User KennedyOdhiambo already scraped. Skipping.\n",
      "[INFO] User thalestestoni already scraped. Skipping.\n",
      "[INFO] User braian85 already scraped. Skipping.\n"
     ]
    },
    {
     "name": "stderr",
     "output_type": "stream",
     "text": [
      "  7%|▋         | 1326/18934 [20:11<5:54:07,  1.21s/it]"
     ]
    },
    {
     "name": "stdout",
     "output_type": "stream",
     "text": [
      "[INFO] User Sir-hennihau already scraped. Skipping.\n",
      "[INFO] User li-jia-nan already scraped. Skipping.\n",
      "[INFO] User ui-ninja already scraped. Skipping.\n",
      "[INFO] User mayupaca already scraped. Skipping.\n"
     ]
    },
    {
     "name": "stderr",
     "output_type": "stream",
     "text": [
      "  7%|▋         | 1332/18934 [20:16<5:33:06,  1.14s/it]"
     ]
    },
    {
     "name": "stdout",
     "output_type": "stream",
     "text": [
      "[INFO] User IgorKilipenko already scraped. Skipping.\n",
      "[INFO] User amoghkulkarnifr already scraped. Skipping.\n",
      "[INFO] User Lcj-space already scraped. Skipping.\n"
     ]
    },
    {
     "name": "stderr",
     "output_type": "stream",
     "text": [
      "  7%|▋         | 1337/18934 [20:20<4:55:01,  1.01s/it]"
     ]
    },
    {
     "name": "stdout",
     "output_type": "stream",
     "text": [
      "[INFO] User erikunha already scraped. Skipping.\n",
      "[INFO] User qq919006380 already scraped. Skipping.\n"
     ]
    },
    {
     "name": "stderr",
     "output_type": "stream",
     "text": [
      "  7%|▋         | 1340/18934 [20:22<4:24:13,  1.11it/s]"
     ]
    },
    {
     "name": "stdout",
     "output_type": "stream",
     "text": [
      "[INFO] User csxzitu already scraped. Skipping.\n",
      "[INFO] User edouardb already scraped. Skipping.\n",
      "[INFO] User Krasnodaretc already scraped. Skipping.\n",
      "[INFO] User AquabitDev already scraped. Skipping.\n"
     ]
    },
    {
     "name": "stderr",
     "output_type": "stream",
     "text": [
      "  7%|▋         | 1348/18934 [20:36<10:52:38,  2.23s/it]"
     ]
    },
    {
     "name": "stdout",
     "output_type": "stream",
     "text": [
      "[INFO] User williamleiby already scraped. Skipping.\n"
     ]
    },
    {
     "name": "stderr",
     "output_type": "stream",
     "text": [
      "  7%|▋         | 1353/18934 [20:42<8:29:29,  1.74s/it] "
     ]
    },
    {
     "name": "stdout",
     "output_type": "stream",
     "text": [
      "[INFO] User TheYoxy already scraped. Skipping.\n",
      "[INFO] User AhmedRafiullah already scraped. Skipping.\n",
      "[INFO] User czfzc already scraped. Skipping.\n",
      "[INFO] User qvil already scraped. Skipping.\n"
     ]
    },
    {
     "name": "stderr",
     "output_type": "stream",
     "text": [
      "  7%|▋         | 1358/18934 [20:43<3:37:27,  1.35it/s]"
     ]
    },
    {
     "name": "stdout",
     "output_type": "stream",
     "text": [
      "[INFO] User TheBinaryGuy already scraped. Skipping.\n"
     ]
    },
    {
     "name": "stderr",
     "output_type": "stream",
     "text": [
      "  7%|▋         | 1360/18934 [20:47<5:01:25,  1.03s/it]"
     ]
    },
    {
     "name": "stdout",
     "output_type": "stream",
     "text": [
      "[INFO] User woobottle already scraped. Skipping.\n"
     ]
    },
    {
     "name": "stderr",
     "output_type": "stream",
     "text": [
      "  7%|▋         | 1362/18934 [20:53<8:05:54,  1.66s/it]"
     ]
    },
    {
     "name": "stdout",
     "output_type": "stream",
     "text": [
      "[INFO] User neicore already scraped. Skipping.\n"
     ]
    },
    {
     "name": "stderr",
     "output_type": "stream",
     "text": [
      "  7%|▋         | 1365/18934 [21:00<10:05:28,  2.07s/it]"
     ]
    },
    {
     "name": "stdout",
     "output_type": "stream",
     "text": [
      "[INFO] User olehreznichenko already scraped. Skipping.\n",
      "[INFO] User datocms already scraped. Skipping.\n"
     ]
    },
    {
     "name": "stderr",
     "output_type": "stream",
     "text": [
      "  7%|▋         | 1370/18934 [21:02<5:18:14,  1.09s/it] "
     ]
    },
    {
     "name": "stdout",
     "output_type": "stream",
     "text": [
      "User nikitavoloboev has more than 300 repos, skipping.\n"
     ]
    },
    {
     "name": "stderr",
     "output_type": "stream",
     "text": [
      "  7%|▋         | 1371/18934 [21:04<5:56:24,  1.22s/it]"
     ]
    },
    {
     "name": "stdout",
     "output_type": "stream",
     "text": [
      "[INFO] User bzapata95 already scraped. Skipping.\n",
      "[INFO] User alexhoma already scraped. Skipping.\n"
     ]
    },
    {
     "name": "stderr",
     "output_type": "stream",
     "text": [
      "  7%|▋         | 1377/18934 [21:18<13:25:54,  2.75s/it]"
     ]
    },
    {
     "name": "stdout",
     "output_type": "stream",
     "text": [
      "[INFO] User SilenceZeng already scraped. Skipping.\n"
     ]
    },
    {
     "name": "stderr",
     "output_type": "stream",
     "text": [
      "  7%|▋         | 1382/18934 [21:33<14:44:19,  3.02s/it]"
     ]
    },
    {
     "name": "stdout",
     "output_type": "stream",
     "text": [
      "[INFO] User overcome already scraped. Skipping.\n",
      "[INFO] User Golfklub already scraped. Skipping.\n",
      "[INFO] User reboottime already scraped. Skipping.\n"
     ]
    },
    {
     "name": "stderr",
     "output_type": "stream",
     "text": [
      "  7%|▋         | 1386/18934 [21:34<7:03:06,  1.45s/it] "
     ]
    },
    {
     "name": "stdout",
     "output_type": "stream",
     "text": [
      "[INFO] User jorrit already scraped. Skipping.\n"
     ]
    },
    {
     "name": "stderr",
     "output_type": "stream",
     "text": [
      "  7%|▋         | 1388/18934 [21:35<5:11:09,  1.06s/it]"
     ]
    },
    {
     "name": "stdout",
     "output_type": "stream",
     "text": [
      "User suyesh has more than 300 repos, skipping.\n"
     ]
    },
    {
     "name": "stderr",
     "output_type": "stream",
     "text": [
      "  7%|▋         | 1390/18934 [21:41<9:35:45,  1.97s/it]"
     ]
    },
    {
     "name": "stdout",
     "output_type": "stream",
     "text": [
      "[INFO] User ralphchristianeclipse already scraped. Skipping.\n",
      "[INFO] User teodosii already scraped. Skipping.\n"
     ]
    },
    {
     "name": "stderr",
     "output_type": "stream",
     "text": [
      "  7%|▋         | 1393/18934 [21:48<9:56:12,  2.04s/it]"
     ]
    },
    {
     "name": "stdout",
     "output_type": "stream",
     "text": [
      "[INFO] User kerekatu already scraped. Skipping.\n"
     ]
    },
    {
     "name": "stderr",
     "output_type": "stream",
     "text": [
      "  7%|▋         | 1395/18934 [21:52<9:53:07,  2.03s/it]"
     ]
    },
    {
     "name": "stdout",
     "output_type": "stream",
     "text": [
      "[INFO] User andreychev already scraped. Skipping.\n",
      "[INFO] User MohamedBechirMejri already scraped. Skipping.\n"
     ]
    },
    {
     "name": "stderr",
     "output_type": "stream",
     "text": [
      "  7%|▋         | 1398/18934 [21:53<6:37:34,  1.36s/it]"
     ]
    },
    {
     "name": "stdout",
     "output_type": "stream",
     "text": [
      "[INFO] User macrozone already scraped. Skipping.\n",
      "[INFO] User vincentbel already scraped. Skipping.\n"
     ]
    },
    {
     "name": "stderr",
     "output_type": "stream",
     "text": [
      "  7%|▋         | 1404/18934 [22:04<8:07:54,  1.67s/it]"
     ]
    },
    {
     "name": "stdout",
     "output_type": "stream",
     "text": [
      "[INFO] User ngrnv already scraped. Skipping.\n"
     ]
    },
    {
     "name": "stderr",
     "output_type": "stream",
     "text": [
      "  7%|▋         | 1406/18934 [22:09<9:17:06,  1.91s/it]"
     ]
    },
    {
     "name": "stdout",
     "output_type": "stream",
     "text": [
      "[INFO] User ShayanArjmand already scraped. Skipping.\n",
      "[INFO] User KrisPett already scraped. Skipping.\n",
      "[INFO] User hxyweb already scraped. Skipping.\n",
      "[INFO] User edwardlai3582 already scraped. Skipping.\n",
      "[INFO] User mfaridzia already scraped. Skipping.\n",
      "[INFO] User WilsonCWong already scraped. Skipping.\n"
     ]
    },
    {
     "name": "stderr",
     "output_type": "stream",
     "text": [
      "  7%|▋         | 1414/18934 [22:16<6:00:53,  1.24s/it]"
     ]
    },
    {
     "name": "stdout",
     "output_type": "stream",
     "text": [
      "[INFO] User sasha-bichkov already scraped. Skipping.\n",
      "[INFO] User T2J5 already scraped. Skipping.\n"
     ]
    },
    {
     "name": "stderr",
     "output_type": "stream",
     "text": [
      "  7%|▋         | 1417/18934 [22:17<4:50:37,  1.00it/s]"
     ]
    },
    {
     "name": "stdout",
     "output_type": "stream",
     "text": [
      "[INFO] User deweydell already scraped. Skipping.\n",
      "[INFO] User alanpeng-ailo already scraped. Skipping.\n",
      "[INFO] User faceless-ui already scraped. Skipping.\n",
      "[INFO] User illia-obukhau-itechart already scraped. Skipping.\n",
      "[INFO] User samheutmaker already scraped. Skipping.\n"
     ]
    },
    {
     "name": "stderr",
     "output_type": "stream",
     "text": [
      "  8%|▊         | 1423/18934 [22:21<3:54:37,  1.24it/s]"
     ]
    },
    {
     "name": "stdout",
     "output_type": "stream",
     "text": [
      "[INFO] User gurkanucar already scraped. Skipping.\n",
      "[INFO] User my-slab already scraped. Skipping.\n",
      "[INFO] User erhanaydin already scraped. Skipping.\n",
      "[INFO] User etripier already scraped. Skipping.\n"
     ]
    },
    {
     "name": "stderr",
     "output_type": "stream",
     "text": [
      "  8%|▊         | 1428/18934 [22:23<3:14:00,  1.50it/s]"
     ]
    },
    {
     "name": "stdout",
     "output_type": "stream",
     "text": [
      "[INFO] User sneveu already scraped. Skipping.\n",
      "[INFO] User juniorUsca already scraped. Skipping.\n"
     ]
    },
    {
     "name": "stderr",
     "output_type": "stream",
     "text": [
      "  8%|▊         | 1431/18934 [22:26<3:30:48,  1.38it/s]"
     ]
    },
    {
     "name": "stdout",
     "output_type": "stream",
     "text": [
      "[INFO] User jmparsons already scraped. Skipping.\n",
      "[INFO] User andrewgolovanov already scraped. Skipping.\n",
      "[INFO] User Mulcib3r already scraped. Skipping.\n"
     ]
    },
    {
     "name": "stderr",
     "output_type": "stream",
     "text": [
      "  8%|▊         | 1435/18934 [22:27<2:51:43,  1.70it/s]"
     ]
    },
    {
     "name": "stdout",
     "output_type": "stream",
     "text": [
      "[INFO] User mohibkay already scraped. Skipping.\n"
     ]
    },
    {
     "name": "stderr",
     "output_type": "stream",
     "text": [
      "  8%|▊         | 1437/18934 [22:28<2:55:47,  1.66it/s]"
     ]
    },
    {
     "name": "stdout",
     "output_type": "stream",
     "text": [
      "[INFO] User rammoozz already scraped. Skipping.\n",
      "[INFO] User Fraganya already scraped. Skipping.\n",
      "[INFO] User molindo already scraped. Skipping.\n",
      "[INFO] User hustle-dev already scraped. Skipping.\n"
     ]
    },
    {
     "name": "stderr",
     "output_type": "stream",
     "text": [
      "  8%|▊         | 1443/18934 [22:35<4:25:15,  1.10it/s]"
     ]
    },
    {
     "name": "stdout",
     "output_type": "stream",
     "text": [
      "[INFO] User radfahrer already scraped. Skipping.\n"
     ]
    },
    {
     "name": "stderr",
     "output_type": "stream",
     "text": [
      "  8%|▊         | 1446/18934 [22:39<5:08:05,  1.06s/it]"
     ]
    },
    {
     "name": "stdout",
     "output_type": "stream",
     "text": [
      "[INFO] User minimabot already scraped. Skipping.\n",
      "[INFO] User xiaoshuangLi already scraped. Skipping.\n",
      "[INFO] User delorge already scraped. Skipping.\n",
      "[INFO] User thbwd already scraped. Skipping.\n",
      "[INFO] User JamesCoonce already scraped. Skipping.\n",
      "[INFO] User miketmoore already scraped. Skipping.\n",
      "[INFO] User taedonn already scraped. Skipping.\n"
     ]
    },
    {
     "name": "stderr",
     "output_type": "stream",
     "text": [
      "  8%|▊         | 1454/18934 [22:40<2:26:59,  1.98it/s]"
     ]
    },
    {
     "name": "stdout",
     "output_type": "stream",
     "text": [
      "[INFO] User kbaltrinic already scraped. Skipping.\n",
      "[INFO] User Tiamat-Tech already scraped. Skipping.\n",
      "[INFO] User misho85 already scraped. Skipping.\n",
      "[INFO] User marcopiovanello already scraped. Skipping.\n"
     ]
    },
    {
     "name": "stderr",
     "output_type": "stream",
     "text": [
      "  8%|▊         | 1460/18934 [22:44<2:50:33,  1.71it/s]"
     ]
    },
    {
     "name": "stdout",
     "output_type": "stream",
     "text": [
      "[INFO] User chitacan already scraped. Skipping.\n"
     ]
    },
    {
     "name": "stderr",
     "output_type": "stream",
     "text": [
      "  8%|▊         | 1462/18934 [22:48<4:22:14,  1.11it/s]"
     ]
    },
    {
     "name": "stdout",
     "output_type": "stream",
     "text": [
      "[INFO] User riccardogiorato already scraped. Skipping.\n",
      "[INFO] User naushad2007 already scraped. Skipping.\n"
     ]
    },
    {
     "name": "stderr",
     "output_type": "stream",
     "text": [
      "  8%|▊         | 1465/18934 [22:49<3:31:55,  1.37it/s]"
     ]
    },
    {
     "name": "stdout",
     "output_type": "stream",
     "text": [
      "[INFO] User webdev-mss already scraped. Skipping.\n"
     ]
    },
    {
     "name": "stderr",
     "output_type": "stream",
     "text": [
      "  8%|▊         | 1467/18934 [22:51<3:45:31,  1.29it/s]"
     ]
    },
    {
     "name": "stdout",
     "output_type": "stream",
     "text": [
      "[INFO] User LeonardoMarquesDias already scraped. Skipping.\n"
     ]
    },
    {
     "name": "stderr",
     "output_type": "stream",
     "text": [
      "  8%|▊         | 1470/18934 [22:54<4:05:51,  1.18it/s]"
     ]
    },
    {
     "name": "stdout",
     "output_type": "stream",
     "text": [
      "[INFO] User mrcgrtz already scraped. Skipping.\n",
      "[INFO] User mohammadizanloo55 already scraped. Skipping.\n",
      "[INFO] User peterchencc already scraped. Skipping.\n"
     ]
    },
    {
     "name": "stderr",
     "output_type": "stream",
     "text": [
      "  8%|▊         | 1474/18934 [22:59<4:58:27,  1.03s/it]"
     ]
    },
    {
     "name": "stdout",
     "output_type": "stream",
     "text": [
      "[INFO] User pmndrs already scraped. Skipping.\n",
      "[INFO] User SparkGB already scraped. Skipping.\n"
     ]
    },
    {
     "name": "stderr",
     "output_type": "stream",
     "text": [
      "  8%|▊         | 1477/18934 [23:01<4:17:24,  1.13it/s]"
     ]
    },
    {
     "name": "stdout",
     "output_type": "stream",
     "text": [
      "[INFO] User selman-mobilab already scraped. Skipping.\n",
      "[INFO] User kalbhairavaa already scraped. Skipping.\n"
     ]
    },
    {
     "name": "stderr",
     "output_type": "stream",
     "text": [
      "  8%|▊         | 1480/18934 [23:06<5:29:32,  1.13s/it]"
     ]
    },
    {
     "name": "stdout",
     "output_type": "stream",
     "text": [
      "[INFO] User takapdayon already scraped. Skipping.\n",
      "[INFO] User abohannon already scraped. Skipping.\n"
     ]
    },
    {
     "name": "stderr",
     "output_type": "stream",
     "text": [
      "  8%|▊         | 1483/18934 [23:06<4:06:12,  1.18it/s]"
     ]
    },
    {
     "name": "stdout",
     "output_type": "stream",
     "text": [
      "[INFO] User ilyapasyuk already scraped. Skipping.\n",
      "[INFO] User antfu-collective already scraped. Skipping.\n",
      "[INFO] User TheUiTeam already scraped. Skipping.\n",
      "[INFO] User lezvieprod already scraped. Skipping.\n"
     ]
    },
    {
     "name": "stderr",
     "output_type": "stream",
     "text": [
      "  8%|▊         | 1490/18934 [23:20<8:19:08,  1.72s/it]"
     ]
    },
    {
     "name": "stdout",
     "output_type": "stream",
     "text": [
      "[INFO] User stryker-mutator already scraped. Skipping.\n",
      "[INFO] User taskrik already scraped. Skipping.\n",
      "[INFO] User AlaDouagi already scraped. Skipping.\n"
     ]
    },
    {
     "name": "stderr",
     "output_type": "stream",
     "text": [
      "  8%|▊         | 1494/18934 [23:24<6:33:23,  1.35s/it]"
     ]
    },
    {
     "name": "stdout",
     "output_type": "stream",
     "text": [
      "[INFO] User jeremyraffin already scraped. Skipping.\n"
     ]
    },
    {
     "name": "stderr",
     "output_type": "stream",
     "text": [
      "  8%|▊         | 1496/18934 [23:25<5:30:25,  1.14s/it]"
     ]
    },
    {
     "name": "stdout",
     "output_type": "stream",
     "text": [
      "[INFO] User hungdoansy already scraped. Skipping.\n",
      "[INFO] User bluenex already scraped. Skipping.\n"
     ]
    },
    {
     "name": "stderr",
     "output_type": "stream",
     "text": [
      "  8%|▊         | 1499/18934 [23:26<4:17:52,  1.13it/s]"
     ]
    },
    {
     "name": "stdout",
     "output_type": "stream",
     "text": [
      "[INFO] User captchafree already scraped. Skipping.\n",
      "[INFO] User deamme already scraped. Skipping.\n",
      "[INFO] User lukekarrys already scraped. Skipping.\n"
     ]
    },
    {
     "name": "stderr",
     "output_type": "stream",
     "text": [
      "  8%|▊         | 1504/18934 [23:29<3:35:46,  1.35it/s]"
     ]
    },
    {
     "name": "stdout",
     "output_type": "stream",
     "text": [
      "[INFO] User alessioacella already scraped. Skipping.\n",
      "[INFO] User tri-bit already scraped. Skipping.\n"
     ]
    },
    {
     "name": "stderr",
     "output_type": "stream",
     "text": [
      "  8%|▊         | 1508/18934 [23:31<3:36:02,  1.34it/s]"
     ]
    },
    {
     "name": "stdout",
     "output_type": "stream",
     "text": [
      "[INFO] User anymaniax already scraped. Skipping.\n"
     ]
    },
    {
     "name": "stderr",
     "output_type": "stream",
     "text": [
      "  8%|▊         | 1511/18934 [23:34<3:57:30,  1.22it/s]"
     ]
    },
    {
     "name": "stdout",
     "output_type": "stream",
     "text": [
      "[INFO] User chriswitko already scraped. Skipping.\n",
      "[INFO] User jamezrin already scraped. Skipping.\n"
     ]
    },
    {
     "name": "stderr",
     "output_type": "stream",
     "text": [
      "  8%|▊         | 1514/18934 [23:35<3:00:38,  1.61it/s]"
     ]
    },
    {
     "name": "stdout",
     "output_type": "stream",
     "text": [
      "[INFO] User PuruVJ already scraped. Skipping.\n",
      "[INFO] User nghiepdev already scraped. Skipping.\n",
      "[INFO] User leonardosarmentocastro already scraped. Skipping.\n"
     ]
    },
    {
     "name": "stderr",
     "output_type": "stream",
     "text": [
      "  8%|▊         | 1518/18934 [23:39<3:38:50,  1.33it/s]"
     ]
    },
    {
     "name": "stdout",
     "output_type": "stream",
     "text": [
      "[INFO] User Greeshma2903 already scraped. Skipping.\n"
     ]
    },
    {
     "name": "stderr",
     "output_type": "stream",
     "text": [
      "  8%|▊         | 1520/18934 [23:40<3:33:50,  1.36it/s]"
     ]
    },
    {
     "name": "stdout",
     "output_type": "stream",
     "text": [
      "[INFO] User Marcosfitzsimons already scraped. Skipping.\n",
      "[INFO] User Kying-star already scraped. Skipping.\n"
     ]
    },
    {
     "name": "stderr",
     "output_type": "stream",
     "text": [
      "  8%|▊         | 1523/18934 [23:41<2:54:39,  1.66it/s]"
     ]
    },
    {
     "name": "stdout",
     "output_type": "stream",
     "text": [
      "[INFO] User akella already scraped. Skipping.\n"
     ]
    },
    {
     "name": "stderr",
     "output_type": "stream",
     "text": [
      "  8%|▊         | 1525/18934 [23:43<3:02:43,  1.59it/s]"
     ]
    },
    {
     "name": "stdout",
     "output_type": "stream",
     "text": [
      "[INFO] User makaronma already scraped. Skipping.\n"
     ]
    },
    {
     "name": "stderr",
     "output_type": "stream",
     "text": [
      "  8%|▊         | 1527/18934 [23:44<3:04:55,  1.57it/s]"
     ]
    },
    {
     "name": "stdout",
     "output_type": "stream",
     "text": [
      "[INFO] User dextermb already scraped. Skipping.\n"
     ]
    },
    {
     "name": "stderr",
     "output_type": "stream",
     "text": [
      "  8%|▊         | 1529/18934 [23:45<3:12:16,  1.51it/s]"
     ]
    },
    {
     "name": "stdout",
     "output_type": "stream",
     "text": [
      "[INFO] User wporoslo already scraped. Skipping.\n",
      "[INFO] User nevernotsean already scraped. Skipping.\n"
     ]
    },
    {
     "name": "stderr",
     "output_type": "stream",
     "text": [
      "  8%|▊         | 1535/18934 [23:51<5:00:12,  1.04s/it]"
     ]
    },
    {
     "name": "stdout",
     "output_type": "stream",
     "text": [
      "[INFO] User 4m1z already scraped. Skipping.\n"
     ]
    },
    {
     "name": "stderr",
     "output_type": "stream",
     "text": [
      "  8%|▊         | 1537/18934 [23:53<4:32:54,  1.06it/s]"
     ]
    },
    {
     "name": "stdout",
     "output_type": "stream",
     "text": [
      "[INFO] User heny already scraped. Skipping.\n",
      "[INFO] User lilianchisca already scraped. Skipping.\n"
     ]
    },
    {
     "name": "stderr",
     "output_type": "stream",
     "text": [
      "  8%|▊         | 1540/18934 [23:53<2:42:22,  1.79it/s]"
     ]
    },
    {
     "name": "stdout",
     "output_type": "stream",
     "text": [
      "User fatelei has more than 300 repos, skipping.\n",
      "[INFO] User odanado already scraped. Skipping.\n"
     ]
    },
    {
     "name": "stderr",
     "output_type": "stream",
     "text": [
      "  8%|▊         | 1543/18934 [24:07<10:50:11,  2.24s/it]"
     ]
    },
    {
     "name": "stdout",
     "output_type": "stream",
     "text": [
      "[INFO] User 1thorarinn already scraped. Skipping.\n",
      "[INFO] User russelshane already scraped. Skipping.\n",
      "[INFO] User federico-villani already scraped. Skipping.\n",
      "[INFO] User henriqgoncalvs already scraped. Skipping.\n"
     ]
    },
    {
     "name": "stderr",
     "output_type": "stream",
     "text": [
      "  8%|▊         | 1548/18934 [24:17<10:21:50,  2.15s/it]"
     ]
    },
    {
     "name": "stdout",
     "output_type": "stream",
     "text": [
      "[INFO] User smacpherson64 already scraped. Skipping.\n"
     ]
    },
    {
     "name": "stderr",
     "output_type": "stream",
     "text": [
      "  8%|▊         | 1552/18934 [24:27<12:15:26,  2.54s/it]"
     ]
    },
    {
     "name": "stdout",
     "output_type": "stream",
     "text": [
      "[INFO] User thosil already scraped. Skipping.\n",
      "[INFO] User gswierczynski already scraped. Skipping.\n",
      "[INFO] User ericberens already scraped. Skipping.\n",
      "[INFO] User itta611 already scraped. Skipping.\n",
      "[INFO] User GrahamQuan already scraped. Skipping.\n"
     ]
    },
    {
     "name": "stderr",
     "output_type": "stream",
     "text": [
      "  8%|▊         | 1558/18934 [24:31<6:41:08,  1.39s/it] "
     ]
    },
    {
     "name": "stdout",
     "output_type": "stream",
     "text": [
      "[INFO] User exdeniz already scraped. Skipping.\n",
      "[INFO] User bisw4sh already scraped. Skipping.\n",
      "[INFO] User jwandekoken already scraped. Skipping.\n"
     ]
    },
    {
     "name": "stderr",
     "output_type": "stream",
     "text": [
      "  8%|▊         | 1562/18934 [24:33<5:16:17,  1.09s/it]"
     ]
    },
    {
     "name": "stdout",
     "output_type": "stream",
     "text": [
      "[INFO] User MindRave already scraped. Skipping.\n"
     ]
    },
    {
     "name": "stderr",
     "output_type": "stream",
     "text": [
      "  8%|▊         | 1566/18934 [24:37<5:25:51,  1.13s/it]"
     ]
    },
    {
     "name": "stdout",
     "output_type": "stream",
     "text": [
      "[INFO] User aomsk already scraped. Skipping.\n"
     ]
    },
    {
     "name": "stderr",
     "output_type": "stream",
     "text": [
      "  8%|▊         | 1570/18934 [24:46<8:19:20,  1.73s/it]"
     ]
    },
    {
     "name": "stdout",
     "output_type": "stream",
     "text": [
      "[INFO] User LucasSiqz already scraped. Skipping.\n"
     ]
    },
    {
     "name": "stderr",
     "output_type": "stream",
     "text": [
      "  8%|▊         | 1574/18934 [24:54<9:52:33,  2.05s/it]"
     ]
    },
    {
     "name": "stdout",
     "output_type": "stream",
     "text": [
      "[INFO] User obelmont already scraped. Skipping.\n"
     ]
    },
    {
     "name": "stderr",
     "output_type": "stream",
     "text": [
      "  8%|▊         | 1576/18934 [24:55<7:33:40,  1.57s/it]"
     ]
    },
    {
     "name": "stdout",
     "output_type": "stream",
     "text": [
      "[INFO] User sandiiarov already scraped. Skipping.\n",
      "[INFO] User sabrinaluohk01 already scraped. Skipping.\n"
     ]
    },
    {
     "name": "stderr",
     "output_type": "stream",
     "text": [
      "  8%|▊         | 1581/18934 [25:01<6:50:06,  1.42s/it]"
     ]
    },
    {
     "name": "stdout",
     "output_type": "stream",
     "text": [
      "[INFO] User lobzhana already scraped. Skipping.\n"
     ]
    },
    {
     "name": "stderr",
     "output_type": "stream",
     "text": [
      "  8%|▊         | 1586/18934 [25:09<7:14:16,  1.50s/it]"
     ]
    },
    {
     "name": "stdout",
     "output_type": "stream",
     "text": [
      "[INFO] User jaywcjlove already scraped. Skipping.\n",
      "[INFO] User PaleHazy already scraped. Skipping.\n",
      "[INFO] User billjjjj already scraped. Skipping.\n",
      "[INFO] User shiyiya already scraped. Skipping.\n",
      "[INFO] User Nicktho already scraped. Skipping.\n",
      "[INFO] User chanphiromsok already scraped. Skipping.\n",
      "[INFO] User billyma128 already scraped. Skipping.\n"
     ]
    },
    {
     "name": "stderr",
     "output_type": "stream",
     "text": [
      "  8%|▊         | 1595/18934 [25:14<3:49:26,  1.26it/s]"
     ]
    },
    {
     "name": "stdout",
     "output_type": "stream",
     "text": [
      "[INFO] User agger89 already scraped. Skipping.\n"
     ]
    },
    {
     "name": "stderr",
     "output_type": "stream",
     "text": [
      "  8%|▊         | 1597/18934 [25:16<3:59:44,  1.21it/s]"
     ]
    },
    {
     "name": "stdout",
     "output_type": "stream",
     "text": [
      "[INFO] User Biromain already scraped. Skipping.\n"
     ]
    },
    {
     "name": "stderr",
     "output_type": "stream",
     "text": [
      "  8%|▊         | 1599/18934 [25:18<3:58:45,  1.21it/s]"
     ]
    },
    {
     "name": "stdout",
     "output_type": "stream",
     "text": [
      "[INFO] User chenglou already scraped. Skipping.\n",
      "[INFO] User x3388638 already scraped. Skipping.\n",
      "[INFO] User hungdev already scraped. Skipping.\n",
      "[INFO] User hatake01 already scraped. Skipping.\n"
     ]
    },
    {
     "name": "stderr",
     "output_type": "stream",
     "text": [
      "  8%|▊         | 1606/18934 [25:34<10:39:41,  2.22s/it]"
     ]
    },
    {
     "name": "stdout",
     "output_type": "stream",
     "text": [
      "[INFO] User bannndi already scraped. Skipping.\n"
     ]
    },
    {
     "name": "stderr",
     "output_type": "stream",
     "text": [
      "  8%|▊         | 1609/18934 [25:36<8:06:33,  1.69s/it] "
     ]
    },
    {
     "name": "stdout",
     "output_type": "stream",
     "text": [
      "[INFO] User liuliangsir already scraped. Skipping.\n",
      "[INFO] User luis-mueller already scraped. Skipping.\n"
     ]
    },
    {
     "name": "stderr",
     "output_type": "stream",
     "text": [
      "  9%|▊         | 1612/18934 [25:41<7:32:40,  1.57s/it]"
     ]
    },
    {
     "name": "stdout",
     "output_type": "stream",
     "text": [
      "[INFO] User kmvan already scraped. Skipping.\n"
     ]
    },
    {
     "name": "stderr",
     "output_type": "stream",
     "text": [
      "  9%|▊         | 1614/18934 [25:42<6:25:21,  1.33s/it]"
     ]
    },
    {
     "name": "stdout",
     "output_type": "stream",
     "text": [
      "[INFO] User Abramovick already scraped. Skipping.\n",
      "[INFO] User ScreamZ already scraped. Skipping.\n",
      "[INFO] User davemooreuws already scraped. Skipping.\n",
      "[INFO] User luckyabner already scraped. Skipping.\n",
      "[INFO] User drmzio already scraped. Skipping.\n"
     ]
    },
    {
     "name": "stderr",
     "output_type": "stream",
     "text": [
      "  9%|▊         | 1620/18934 [25:45<3:59:29,  1.20it/s]"
     ]
    },
    {
     "name": "stdout",
     "output_type": "stream",
     "text": [
      "[INFO] User 0xYYY already scraped. Skipping.\n"
     ]
    },
    {
     "name": "stderr",
     "output_type": "stream",
     "text": [
      "  9%|▊         | 1622/18934 [25:46<3:44:55,  1.28it/s]"
     ]
    },
    {
     "name": "stdout",
     "output_type": "stream",
     "text": [
      "[INFO] User meijavier already scraped. Skipping.\n",
      "[INFO] User andriuskv already scraped. Skipping.\n",
      "[INFO] User bai already scraped. Skipping.\n"
     ]
    },
    {
     "name": "stderr",
     "output_type": "stream",
     "text": [
      "  9%|▊         | 1626/18934 [25:51<4:50:05,  1.01s/it]"
     ]
    },
    {
     "name": "stdout",
     "output_type": "stream",
     "text": [
      "[INFO] User simonpirko already scraped. Skipping.\n",
      "[INFO] User Alaev already scraped. Skipping.\n"
     ]
    },
    {
     "name": "stderr",
     "output_type": "stream",
     "text": [
      "  9%|▊         | 1629/18934 [25:55<4:51:17,  1.01s/it]"
     ]
    },
    {
     "name": "stdout",
     "output_type": "stream",
     "text": [
      "[INFO] User BellaNyein already scraped. Skipping.\n",
      "[INFO] User harleymay already scraped. Skipping.\n",
      "[INFO] User mjkalasky already scraped. Skipping.\n",
      "[INFO] User tauster already scraped. Skipping.\n",
      "[INFO] User h-nick already scraped. Skipping.\n",
      "[INFO] User SyMind already scraped. Skipping.\n"
     ]
    },
    {
     "name": "stderr",
     "output_type": "stream",
     "text": [
      "  9%|▊         | 1638/18934 [26:00<4:40:20,  1.03it/s]"
     ]
    },
    {
     "name": "stdout",
     "output_type": "stream",
     "text": [
      "[INFO] User cuiliangl already scraped. Skipping.\n"
     ]
    },
    {
     "name": "stderr",
     "output_type": "stream",
     "text": [
      "  9%|▊         | 1640/18934 [26:01<4:15:04,  1.13it/s]"
     ]
    },
    {
     "name": "stdout",
     "output_type": "stream",
     "text": [
      "[INFO] User gcdeng already scraped. Skipping.\n"
     ]
    },
    {
     "name": "stderr",
     "output_type": "stream",
     "text": [
      "  9%|▊         | 1642/18934 [26:08<6:55:43,  1.44s/it]"
     ]
    },
    {
     "name": "stdout",
     "output_type": "stream",
     "text": [
      "[INFO] User teleothleo already scraped. Skipping.\n"
     ]
    },
    {
     "name": "stderr",
     "output_type": "stream",
     "text": [
      "  9%|▊         | 1644/18934 [26:09<6:05:14,  1.27s/it]"
     ]
    },
    {
     "name": "stdout",
     "output_type": "stream",
     "text": [
      "[INFO] User sasansamit already scraped. Skipping.\n",
      "[INFO] User wx-chevalier already scraped. Skipping.\n",
      "[INFO] User kazunnakam already scraped. Skipping.\n",
      "[INFO] User nothing521314 already scraped. Skipping.\n",
      "[INFO] User AnirudhSinghBhadauria already scraped. Skipping.\n"
     ]
    },
    {
     "name": "stderr",
     "output_type": "stream",
     "text": [
      "  9%|▊         | 1651/18934 [26:11<3:08:47,  1.53it/s]"
     ]
    },
    {
     "name": "stdout",
     "output_type": "stream",
     "text": [
      "User atlassian has more than 300 repos, skipping.\n"
     ]
    },
    {
     "name": "stderr",
     "output_type": "stream",
     "text": [
      "  9%|▊         | 1652/18934 [26:14<5:04:20,  1.06s/it]"
     ]
    },
    {
     "name": "stdout",
     "output_type": "stream",
     "text": [
      "[INFO] User ram02z already scraped. Skipping.\n"
     ]
    },
    {
     "name": "stderr",
     "output_type": "stream",
     "text": [
      "  9%|▊         | 1654/18934 [26:15<4:12:22,  1.14it/s]"
     ]
    },
    {
     "name": "stdout",
     "output_type": "stream",
     "text": [
      "[INFO] User yoshimaru46 already scraped. Skipping.\n",
      "[INFO] User frederikchristensen already scraped. Skipping.\n",
      "[INFO] User gonzofish already scraped. Skipping.\n"
     ]
    },
    {
     "name": "stderr",
     "output_type": "stream",
     "text": [
      "  9%|▉         | 1658/18934 [26:15<2:29:41,  1.92it/s]"
     ]
    },
    {
     "name": "stdout",
     "output_type": "stream",
     "text": [
      "User jamesplease has more than 300 repos, skipping.\n"
     ]
    },
    {
     "name": "stderr",
     "output_type": "stream",
     "text": [
      "  9%|▉         | 1659/18934 [26:17<3:05:00,  1.56it/s]"
     ]
    },
    {
     "name": "stdout",
     "output_type": "stream",
     "text": [
      "[INFO] User satindar already scraped. Skipping.\n",
      "[INFO] User moyus already scraped. Skipping.\n",
      "[INFO] User CYBAI already scraped. Skipping.\n"
     ]
    },
    {
     "name": "stderr",
     "output_type": "stream",
     "text": [
      "  9%|▉         | 1663/18934 [26:18<2:20:27,  2.05it/s]"
     ]
    },
    {
     "name": "stdout",
     "output_type": "stream",
     "text": [
      "[INFO] User VolodymyrVoronov already scraped. Skipping.\n"
     ]
    },
    {
     "name": "stderr",
     "output_type": "stream",
     "text": [
      "  9%|▉         | 1667/18934 [26:31<8:59:27,  1.87s/it]"
     ]
    },
    {
     "name": "stdout",
     "output_type": "stream",
     "text": [
      "[INFO] User alistairholt already scraped. Skipping.\n"
     ]
    },
    {
     "name": "stderr",
     "output_type": "stream",
     "text": [
      "  9%|▉         | 1670/18934 [26:37<9:13:00,  1.92s/it]"
     ]
    },
    {
     "name": "stdout",
     "output_type": "stream",
     "text": [
      "[INFO] User karur4n already scraped. Skipping.\n",
      "[INFO] User PheRum already scraped. Skipping.\n",
      "[INFO] User dhamaniasad already scraped. Skipping.\n"
     ]
    },
    {
     "name": "stderr",
     "output_type": "stream",
     "text": [
      "  9%|▉         | 1674/18934 [26:39<5:54:36,  1.23s/it]"
     ]
    },
    {
     "name": "stdout",
     "output_type": "stream",
     "text": [
      "[INFO] User berylline already scraped. Skipping.\n",
      "[INFO] User GuoXian88 already scraped. Skipping.\n"
     ]
    },
    {
     "name": "stderr",
     "output_type": "stream",
     "text": [
      "  9%|▉         | 1678/18934 [26:42<4:53:15,  1.02s/it]"
     ]
    },
    {
     "name": "stdout",
     "output_type": "stream",
     "text": [
      "[INFO] User evanpurkhiser already scraped. Skipping.\n"
     ]
    },
    {
     "name": "stderr",
     "output_type": "stream",
     "text": [
      "  9%|▉         | 1681/18934 [26:46<5:13:21,  1.09s/it]"
     ]
    },
    {
     "name": "stdout",
     "output_type": "stream",
     "text": [
      "[INFO] User hello-pooh already scraped. Skipping.\n",
      "[INFO] User jafin already scraped. Skipping.\n",
      "[INFO] User jaredpalmer already scraped. Skipping.\n",
      "[INFO] User mikostel already scraped. Skipping.\n",
      "[INFO] User azakharo already scraped. Skipping.\n",
      "[INFO] User hadnet already scraped. Skipping.\n",
      "[INFO] User engrgolden already scraped. Skipping.\n",
      "[INFO] User chrisnager already scraped. Skipping.\n",
      "[INFO] User tvecchiattini already scraped. Skipping.\n"
     ]
    },
    {
     "name": "stderr",
     "output_type": "stream",
     "text": [
      "  9%|▉         | 1692/18934 [26:50<3:00:27,  1.59it/s]"
     ]
    },
    {
     "name": "stdout",
     "output_type": "stream",
     "text": [
      "[INFO] User evert-smit already scraped. Skipping.\n",
      "[INFO] User michaelmeinhart already scraped. Skipping.\n",
      "[INFO] User ayozebarrera already scraped. Skipping.\n"
     ]
    },
    {
     "name": "stderr",
     "output_type": "stream",
     "text": [
      "  9%|▉         | 1699/18934 [26:57<4:26:28,  1.08it/s]"
     ]
    },
    {
     "name": "stdout",
     "output_type": "stream",
     "text": [
      "[INFO] User zhbhun already scraped. Skipping.\n",
      "[INFO] User cristianmacedo already scraped. Skipping.\n",
      "[INFO] User dbx834 already scraped. Skipping.\n"
     ]
    },
    {
     "name": "stderr",
     "output_type": "stream",
     "text": [
      "  9%|▉         | 1703/18934 [27:00<4:12:17,  1.14it/s]"
     ]
    },
    {
     "name": "stdout",
     "output_type": "stream",
     "text": [
      "[INFO] User nrgapple already scraped. Skipping.\n",
      "[INFO] User frshaad already scraped. Skipping.\n",
      "[INFO] User mochoy already scraped. Skipping.\n",
      "[INFO] User litsdm already scraped. Skipping.\n",
      "[INFO] User azu already scraped. Skipping.\n"
     ]
    },
    {
     "name": "stderr",
     "output_type": "stream",
     "text": [
      "  9%|▉         | 1711/18934 [27:04<3:32:28,  1.35it/s]"
     ]
    },
    {
     "name": "stdout",
     "output_type": "stream",
     "text": [
      "[INFO] User aprilandjan already scraped. Skipping.\n",
      "[INFO] User helloJason0 already scraped. Skipping.\n"
     ]
    },
    {
     "name": "stderr",
     "output_type": "stream",
     "text": [
      "  9%|▉         | 1715/18934 [27:10<4:52:10,  1.02s/it]"
     ]
    },
    {
     "name": "stdout",
     "output_type": "stream",
     "text": [
      "[INFO] User chrislim already scraped. Skipping.\n"
     ]
    },
    {
     "name": "stderr",
     "output_type": "stream",
     "text": [
      "  9%|▉         | 1717/18934 [27:10<3:53:34,  1.23it/s]"
     ]
    },
    {
     "name": "stdout",
     "output_type": "stream",
     "text": [
      "[INFO] User theodorusclarence already scraped. Skipping.\n",
      "[INFO] User chakra-ui already scraped. Skipping.\n",
      "[INFO] User jonalport already scraped. Skipping.\n"
     ]
    },
    {
     "name": "stderr",
     "output_type": "stream",
     "text": [
      "  9%|▉         | 1722/18934 [27:15<4:29:42,  1.06it/s]"
     ]
    },
    {
     "name": "stdout",
     "output_type": "stream",
     "text": [
      "[INFO] User djcowan already scraped. Skipping.\n"
     ]
    },
    {
     "name": "stderr",
     "output_type": "stream",
     "text": [
      "  9%|▉         | 1725/18934 [27:22<7:52:00,  1.65s/it]"
     ]
    },
    {
     "name": "stdout",
     "output_type": "stream",
     "text": [
      "[INFO] User kiprasmel already scraped. Skipping.\n",
      "[INFO] User switz already scraped. Skipping.\n",
      "[INFO] User archieyang already scraped. Skipping.\n",
      "[INFO] User NTag already scraped. Skipping.\n",
      "[INFO] User ikovac already scraped. Skipping.\n",
      "[INFO] User rahulsya already scraped. Skipping.\n"
     ]
    },
    {
     "name": "stderr",
     "output_type": "stream",
     "text": [
      "  9%|▉         | 1732/18934 [27:23<3:28:52,  1.37it/s]"
     ]
    },
    {
     "name": "stdout",
     "output_type": "stream",
     "text": [
      "[INFO] User badjfas already scraped. Skipping.\n",
      "[INFO] User fpapado already scraped. Skipping.\n",
      "[INFO] User dqhieuu already scraped. Skipping.\n"
     ]
    },
    {
     "name": "stderr",
     "output_type": "stream",
     "text": [
      "  9%|▉         | 1736/18934 [27:25<3:21:27,  1.42it/s]"
     ]
    },
    {
     "name": "stdout",
     "output_type": "stream",
     "text": [
      "[INFO] User johanneslamers already scraped. Skipping.\n"
     ]
    },
    {
     "name": "stderr",
     "output_type": "stream",
     "text": [
      "  9%|▉         | 1738/18934 [27:26<3:08:16,  1.52it/s]"
     ]
    },
    {
     "name": "stdout",
     "output_type": "stream",
     "text": [
      "[INFO] User yuki-hinata already scraped. Skipping.\n",
      "[INFO] User nguyenbathanh already scraped. Skipping.\n"
     ]
    },
    {
     "name": "stderr",
     "output_type": "stream",
     "text": [
      "  9%|▉         | 1744/18934 [27:39<6:59:05,  1.46s/it]"
     ]
    },
    {
     "name": "stdout",
     "output_type": "stream",
     "text": [
      "[INFO] User coder-fang already scraped. Skipping.\n"
     ]
    },
    {
     "name": "stderr",
     "output_type": "stream",
     "text": [
      "  9%|▉         | 1749/18934 [27:48<8:24:25,  1.76s/it]"
     ]
    },
    {
     "name": "stdout",
     "output_type": "stream",
     "text": [
      "[INFO] User vyrozen already scraped. Skipping.\n"
     ]
    },
    {
     "name": "stderr",
     "output_type": "stream",
     "text": [
      "  9%|▉         | 1752/18934 [27:52<6:57:17,  1.46s/it]"
     ]
    },
    {
     "name": "stdout",
     "output_type": "stream",
     "text": [
      "[INFO] User theericzhang already scraped. Skipping.\n"
     ]
    },
    {
     "name": "stderr",
     "output_type": "stream",
     "text": [
      "  9%|▉         | 1754/18934 [27:54<6:35:20,  1.38s/it]"
     ]
    },
    {
     "name": "stdout",
     "output_type": "stream",
     "text": [
      "[INFO] User quantran020173 already scraped. Skipping.\n"
     ]
    },
    {
     "name": "stderr",
     "output_type": "stream",
     "text": [
      "  9%|▉         | 1757/18934 [27:58<5:59:17,  1.26s/it]"
     ]
    },
    {
     "name": "stdout",
     "output_type": "stream",
     "text": [
      "[INFO] User yarnaimo already scraped. Skipping.\n",
      "[INFO] User diemax already scraped. Skipping.\n"
     ]
    },
    {
     "name": "stderr",
     "output_type": "stream",
     "text": [
      "  9%|▉         | 1760/18934 [28:00<4:38:53,  1.03it/s]"
     ]
    },
    {
     "name": "stdout",
     "output_type": "stream",
     "text": [
      "[INFO] User harisraharjo already scraped. Skipping.\n"
     ]
    },
    {
     "name": "stderr",
     "output_type": "stream",
     "text": [
      "  9%|▉         | 1763/18934 [28:06<6:37:10,  1.39s/it]"
     ]
    },
    {
     "name": "stdout",
     "output_type": "stream",
     "text": [
      "[INFO] User kmelve already scraped. Skipping.\n",
      "[INFO] User akashshyamdev already scraped. Skipping.\n",
      "[INFO] User 1hyung already scraped. Skipping.\n",
      "[INFO] User Thecode764 already scraped. Skipping.\n",
      "[INFO] User nlf already scraped. Skipping.\n",
      "[INFO] User patokernel already scraped. Skipping.\n",
      "[INFO] User syug already scraped. Skipping.\n",
      "[INFO] User prashunchitkr already scraped. Skipping.\n",
      "[INFO] User madeelahsan already scraped. Skipping.\n"
     ]
    },
    {
     "name": "stderr",
     "output_type": "stream",
     "text": [
      "  9%|▉         | 1773/18934 [28:07<2:16:52,  2.09it/s]"
     ]
    },
    {
     "name": "stdout",
     "output_type": "stream",
     "text": [
      "[INFO] User ondrasak already scraped. Skipping.\n"
     ]
    },
    {
     "name": "stderr",
     "output_type": "stream",
     "text": [
      "  9%|▉         | 1779/18934 [28:26<9:20:49,  1.96s/it] "
     ]
    },
    {
     "name": "stdout",
     "output_type": "stream",
     "text": [
      "[INFO] User Julienng already scraped. Skipping.\n",
      "[INFO] User DaScientist already scraped. Skipping.\n",
      "[INFO] User taylor6iu already scraped. Skipping.\n",
      "[INFO] User andreprogramador1 already scraped. Skipping.\n"
     ]
    },
    {
     "name": "stderr",
     "output_type": "stream",
     "text": [
      "  9%|▉         | 1784/18934 [28:27<4:34:10,  1.04it/s]"
     ]
    },
    {
     "name": "stdout",
     "output_type": "stream",
     "text": [
      "[INFO] User rjcnd105 already scraped. Skipping.\n"
     ]
    },
    {
     "name": "stderr",
     "output_type": "stream",
     "text": [
      "  9%|▉         | 1787/18934 [28:39<11:14:20,  2.36s/it]"
     ]
    },
    {
     "name": "stdout",
     "output_type": "stream",
     "text": [
      "[INFO] User miwa223 already scraped. Skipping.\n",
      "[INFO] User jhony-v already scraped. Skipping.\n"
     ]
    },
    {
     "name": "stderr",
     "output_type": "stream",
     "text": [
      "  9%|▉         | 1790/18934 [28:41<8:28:23,  1.78s/it] "
     ]
    },
    {
     "name": "stdout",
     "output_type": "stream",
     "text": [
      "[INFO] User gh0sthx already scraped. Skipping.\n",
      "[INFO] User tutts already scraped. Skipping.\n",
      "[INFO] User Genie77998 already scraped. Skipping.\n",
      "[INFO] User strwind already scraped. Skipping.\n"
     ]
    },
    {
     "name": "stderr",
     "output_type": "stream",
     "text": [
      "  9%|▉         | 1795/18934 [28:43<5:15:29,  1.10s/it]"
     ]
    },
    {
     "name": "stdout",
     "output_type": "stream",
     "text": [
      "[INFO] User artem-malko already scraped. Skipping.\n",
      "[INFO] User garrett-huggins already scraped. Skipping.\n",
      "[INFO] User wei-yuuuu already scraped. Skipping.\n",
      "[INFO] User neal923 already scraped. Skipping.\n",
      "[INFO] User huang825172 already scraped. Skipping.\n",
      "[INFO] User HyperGrapher already scraped. Skipping.\n"
     ]
    },
    {
     "name": "stderr",
     "output_type": "stream",
     "text": [
      " 10%|▉         | 1803/18934 [28:48<4:08:48,  1.15it/s]"
     ]
    },
    {
     "name": "stdout",
     "output_type": "stream",
     "text": [
      "[INFO] User OGoodness already scraped. Skipping.\n"
     ]
    },
    {
     "name": "stderr",
     "output_type": "stream",
     "text": [
      " 10%|▉         | 1806/18934 [28:53<5:12:14,  1.09s/it]"
     ]
    },
    {
     "name": "stdout",
     "output_type": "stream",
     "text": [
      "[INFO] User ambroiseRabier already scraped. Skipping.\n",
      "[INFO] User edvalaquio already scraped. Skipping.\n",
      "[INFO] User asfktz already scraped. Skipping.\n",
      "[INFO] User hht already scraped. Skipping.\n",
      "[INFO] User kimkyeseung already scraped. Skipping.\n",
      "[INFO] User drkPrince already scraped. Skipping.\n",
      "[INFO] User AlexeyKorkoza already scraped. Skipping.\n",
      "[INFO] User DeepAnchor already scraped. Skipping.\n",
      "[INFO] User alaw989 already scraped. Skipping.\n",
      "[INFO] User nemoDreamer already scraped. Skipping.\n"
     ]
    },
    {
     "name": "stderr",
     "output_type": "stream",
     "text": [
      " 10%|▉         | 1821/18934 [29:01<5:04:25,  1.07s/it]"
     ]
    },
    {
     "name": "stdout",
     "output_type": "stream",
     "text": [
      "[INFO] User michaelhly already scraped. Skipping.\n",
      "[INFO] User lwhiteley already scraped. Skipping.\n",
      "[INFO] User flowman74 already scraped. Skipping.\n"
     ]
    },
    {
     "name": "stderr",
     "output_type": "stream",
     "text": [
      " 10%|▉         | 1827/18934 [29:07<5:30:36,  1.16s/it]"
     ]
    },
    {
     "name": "stdout",
     "output_type": "stream",
     "text": [
      "[INFO] User MrBr already scraped. Skipping.\n",
      "[INFO] User QuadFlask already scraped. Skipping.\n",
      "[INFO] User Naoto-Ida already scraped. Skipping.\n",
      "[INFO] User JaviCodx already scraped. Skipping.\n"
     ]
    },
    {
     "name": "stderr",
     "output_type": "stream",
     "text": [
      " 10%|▉         | 1833/18934 [29:11<4:09:07,  1.14it/s]"
     ]
    },
    {
     "name": "stdout",
     "output_type": "stream",
     "text": [
      "[INFO] User AnqingYou-GitHub already scraped. Skipping.\n",
      "[INFO] User TiaossuP already scraped. Skipping.\n",
      "[INFO] User andrskr already scraped. Skipping.\n"
     ]
    },
    {
     "name": "stderr",
     "output_type": "stream",
     "text": [
      " 10%|▉         | 1838/18934 [29:14<3:11:52,  1.49it/s]"
     ]
    },
    {
     "name": "stdout",
     "output_type": "stream",
     "text": [
      "[INFO] User JulesBlm already scraped. Skipping.\n"
     ]
    },
    {
     "name": "stderr",
     "output_type": "stream",
     "text": [
      " 10%|▉         | 1841/18934 [29:16<3:29:17,  1.36it/s]"
     ]
    },
    {
     "name": "stdout",
     "output_type": "stream",
     "text": [
      "[INFO] User chirag04 already scraped. Skipping.\n"
     ]
    },
    {
     "name": "stderr",
     "output_type": "stream",
     "text": [
      " 10%|▉         | 1844/18934 [29:19<4:07:41,  1.15it/s]"
     ]
    },
    {
     "name": "stdout",
     "output_type": "stream",
     "text": [
      "[INFO] User wilbert-abreu already scraped. Skipping.\n"
     ]
    },
    {
     "name": "stderr",
     "output_type": "stream",
     "text": [
      " 10%|▉         | 1848/18934 [29:26<7:56:15,  1.67s/it]"
     ]
    },
    {
     "name": "stdout",
     "output_type": "stream",
     "text": [
      "[INFO] User turnerjw already scraped. Skipping.\n",
      "[INFO] User daimresearch already scraped. Skipping.\n",
      "[INFO] User mcouts01 already scraped. Skipping.\n",
      "[INFO] User naranyala already scraped. Skipping.\n",
      "[INFO] User Cecilieditlevsen already scraped. Skipping.\n",
      "[INFO] User Frenziecodes already scraped. Skipping.\n",
      "[INFO] User kpman already scraped. Skipping.\n",
      "[INFO] User duataud already scraped. Skipping.\n"
     ]
    },
    {
     "name": "stderr",
     "output_type": "stream",
     "text": [
      " 10%|▉         | 1859/18934 [29:34<5:27:42,  1.15s/it]"
     ]
    },
    {
     "name": "stdout",
     "output_type": "stream",
     "text": [
      "[INFO] User joonyoung-lee already scraped. Skipping.\n"
     ]
    },
    {
     "name": "stderr",
     "output_type": "stream",
     "text": [
      " 10%|▉         | 1861/18934 [29:35<4:41:55,  1.01it/s]"
     ]
    },
    {
     "name": "stdout",
     "output_type": "stream",
     "text": [
      "[INFO] User snoozybot already scraped. Skipping.\n",
      "[INFO] User chrishale already scraped. Skipping.\n"
     ]
    },
    {
     "name": "stderr",
     "output_type": "stream",
     "text": [
      " 10%|▉         | 1864/18934 [29:36<3:36:46,  1.31it/s]"
     ]
    },
    {
     "name": "stdout",
     "output_type": "stream",
     "text": [
      "[INFO] User dudeman already scraped. Skipping.\n",
      "[INFO] User stefan-toubia already scraped. Skipping.\n",
      "[INFO] User daolou already scraped. Skipping.\n",
      "[INFO] User kaito071831 already scraped. Skipping.\n"
     ]
    },
    {
     "name": "stderr",
     "output_type": "stream",
     "text": [
      " 10%|▉         | 1869/18934 [29:45<6:03:39,  1.28s/it]"
     ]
    },
    {
     "name": "stdout",
     "output_type": "stream",
     "text": [
      "[INFO] User xm2by already scraped. Skipping.\n",
      "[INFO] User zxtemho already scraped. Skipping.\n"
     ]
    },
    {
     "name": "stderr",
     "output_type": "stream",
     "text": [
      " 10%|▉         | 1875/18934 [29:57<8:06:40,  1.71s/it]"
     ]
    },
    {
     "name": "stdout",
     "output_type": "stream",
     "text": [
      "[INFO] User ojoven already scraped. Skipping.\n"
     ]
    },
    {
     "name": "stderr",
     "output_type": "stream",
     "text": [
      " 10%|▉         | 1879/18934 [30:02<6:54:04,  1.46s/it]"
     ]
    },
    {
     "name": "stdout",
     "output_type": "stream",
     "text": [
      "[INFO] User reecem7 already scraped. Skipping.\n",
      "[INFO] User kkarasek already scraped. Skipping.\n",
      "[INFO] User Sowed already scraped. Skipping.\n"
     ]
    },
    {
     "name": "stderr",
     "output_type": "stream",
     "text": [
      " 10%|▉         | 1883/18934 [30:04<4:11:36,  1.13it/s]"
     ]
    },
    {
     "name": "stdout",
     "output_type": "stream",
     "text": [
      "[INFO] User tqwewe already scraped. Skipping.\n"
     ]
    },
    {
     "name": "stderr",
     "output_type": "stream",
     "text": [
      " 10%|▉         | 1888/18934 [30:20<10:46:41,  2.28s/it]"
     ]
    },
    {
     "name": "stdout",
     "output_type": "stream",
     "text": [
      "[INFO] User frommainland already scraped. Skipping.\n",
      "[INFO] User adnan-sheikh already scraped. Skipping.\n",
      "[INFO] User MeRichard123 already scraped. Skipping.\n",
      "[INFO] User DrSh4dow already scraped. Skipping.\n",
      "[INFO] User killtheliterate already scraped. Skipping.\n"
     ]
    },
    {
     "name": "stderr",
     "output_type": "stream",
     "text": [
      " 10%|█         | 1894/18934 [30:22<4:52:40,  1.03s/it] "
     ]
    },
    {
     "name": "stdout",
     "output_type": "stream",
     "text": [
      "[INFO] User elliottkan already scraped. Skipping.\n",
      "[INFO] User nick-keller already scraped. Skipping.\n",
      "[INFO] User brandonsueur already scraped. Skipping.\n"
     ]
    },
    {
     "name": "stderr",
     "output_type": "stream",
     "text": [
      " 10%|█         | 1898/18934 [30:23<3:29:09,  1.36it/s]"
     ]
    },
    {
     "name": "stdout",
     "output_type": "stream",
     "text": [
      "[INFO] User msheakoski already scraped. Skipping.\n",
      "[INFO] User ColinChen2 already scraped. Skipping.\n"
     ]
    },
    {
     "name": "stderr",
     "output_type": "stream",
     "text": [
      " 10%|█         | 1901/18934 [30:29<5:23:36,  1.14s/it]"
     ]
    },
    {
     "name": "stdout",
     "output_type": "stream",
     "text": [
      "[INFO] User finalize already scraped. Skipping.\n",
      "[INFO] User Bidyut-Kr-Das already scraped. Skipping.\n",
      "[INFO] User Qs-F already scraped. Skipping.\n"
     ]
    },
    {
     "name": "stderr",
     "output_type": "stream",
     "text": [
      " 10%|█         | 1905/18934 [30:31<4:04:48,  1.16it/s]"
     ]
    },
    {
     "name": "stdout",
     "output_type": "stream",
     "text": [
      "[INFO] User VeeShostak already scraped. Skipping.\n"
     ]
    },
    {
     "name": "stderr",
     "output_type": "stream",
     "text": [
      " 10%|█         | 1907/18934 [30:32<3:47:12,  1.25it/s]"
     ]
    },
    {
     "name": "stdout",
     "output_type": "stream",
     "text": [
      "[INFO] User MissNanLan already scraped. Skipping.\n",
      "[INFO] User DavidBachmann already scraped. Skipping.\n"
     ]
    },
    {
     "name": "stderr",
     "output_type": "stream",
     "text": [
      " 10%|█         | 1911/18934 [30:35<3:56:46,  1.20it/s]"
     ]
    },
    {
     "name": "stdout",
     "output_type": "stream",
     "text": [
      "[INFO] User edgerunner already scraped. Skipping.\n"
     ]
    },
    {
     "name": "stderr",
     "output_type": "stream",
     "text": [
      " 10%|█         | 1913/18934 [30:36<3:37:43,  1.30it/s]"
     ]
    },
    {
     "name": "stdout",
     "output_type": "stream",
     "text": [
      "[INFO] User zumper already scraped. Skipping.\n",
      "[INFO] User aliosman21 already scraped. Skipping.\n"
     ]
    },
    {
     "name": "stderr",
     "output_type": "stream",
     "text": [
      " 10%|█         | 1916/18934 [30:38<3:04:58,  1.53it/s]"
     ]
    },
    {
     "name": "stdout",
     "output_type": "stream",
     "text": [
      "[INFO] User jerlyrosa already scraped. Skipping.\n"
     ]
    },
    {
     "name": "stderr",
     "output_type": "stream",
     "text": [
      " 10%|█         | 1918/18934 [30:39<2:44:05,  1.73it/s]"
     ]
    },
    {
     "name": "stdout",
     "output_type": "stream",
     "text": [
      "[INFO] User marufMunshi already scraped. Skipping.\n"
     ]
    },
    {
     "name": "stderr",
     "output_type": "stream",
     "text": [
      " 10%|█         | 1920/18934 [30:40<2:59:42,  1.58it/s]"
     ]
    },
    {
     "name": "stdout",
     "output_type": "stream",
     "text": [
      "[INFO] User dzngusta already scraped. Skipping.\n",
      "[INFO] User MartijnHols already scraped. Skipping.\n"
     ]
    },
    {
     "name": "stderr",
     "output_type": "stream",
     "text": [
      " 10%|█         | 1924/18934 [30:44<3:51:50,  1.22it/s]"
     ]
    },
    {
     "name": "stdout",
     "output_type": "stream",
     "text": [
      "[INFO] User ehowey already scraped. Skipping.\n",
      "[INFO] User rishimohan already scraped. Skipping.\n",
      "[INFO] User ARustamA already scraped. Skipping.\n"
     ]
    },
    {
     "name": "stderr",
     "output_type": "stream",
     "text": [
      " 10%|█         | 1928/18934 [30:46<3:07:51,  1.51it/s]"
     ]
    },
    {
     "name": "stdout",
     "output_type": "stream",
     "text": [
      "[INFO] User bshepeliuk already scraped. Skipping.\n",
      "[INFO] User clark-cui already scraped. Skipping.\n",
      "[INFO] User naeminhye already scraped. Skipping.\n"
     ]
    },
    {
     "name": "stderr",
     "output_type": "stream",
     "text": [
      " 10%|█         | 1933/18934 [30:49<3:08:49,  1.50it/s]"
     ]
    },
    {
     "name": "stdout",
     "output_type": "stream",
     "text": [
      "[INFO] User 4ortytwo already scraped. Skipping.\n",
      "[INFO] User jbroadice already scraped. Skipping.\n",
      "[INFO] User RoyalHunt already scraped. Skipping.\n",
      "[INFO] User tiernacity already scraped. Skipping.\n"
     ]
    },
    {
     "name": "stderr",
     "output_type": "stream",
     "text": [
      " 10%|█         | 1939/18934 [30:52<2:37:15,  1.80it/s]"
     ]
    },
    {
     "name": "stdout",
     "output_type": "stream",
     "text": [
      "[INFO] User verycosy already scraped. Skipping.\n"
     ]
    },
    {
     "name": "stderr",
     "output_type": "stream",
     "text": [
      " 10%|█         | 1942/18934 [31:05<9:37:55,  2.04s/it]"
     ]
    },
    {
     "name": "stdout",
     "output_type": "stream",
     "text": [
      "[INFO] User dblodorn already scraped. Skipping.\n"
     ]
    },
    {
     "name": "stderr",
     "output_type": "stream",
     "text": [
      " 10%|█         | 1944/18934 [31:10<10:13:42,  2.17s/it]"
     ]
    },
    {
     "name": "stdout",
     "output_type": "stream",
     "text": [
      "[INFO] User k-horita-itf already scraped. Skipping.\n",
      "[INFO] User ordercloudbg already scraped. Skipping.\n",
      "[INFO] User adardesign already scraped. Skipping.\n",
      "[INFO] User kristenmarie already scraped. Skipping.\n"
     ]
    },
    {
     "name": "stderr",
     "output_type": "stream",
     "text": [
      " 10%|█         | 1949/18934 [31:13<6:32:35,  1.39s/it] "
     ]
    },
    {
     "name": "stdout",
     "output_type": "stream",
     "text": [
      "[INFO] User sarthaktexas already scraped. Skipping.\n",
      "[INFO] User rhiokim already scraped. Skipping.\n",
      "[INFO] User kozakana already scraped. Skipping.\n",
      "[INFO] User wirekang already scraped. Skipping.\n",
      "[INFO] User Infi-Knight already scraped. Skipping.\n"
     ]
    },
    {
     "name": "stderr",
     "output_type": "stream",
     "text": [
      " 10%|█         | 1955/18934 [31:16<4:28:04,  1.06it/s]"
     ]
    },
    {
     "name": "stdout",
     "output_type": "stream",
     "text": [
      "[INFO] User peetck already scraped. Skipping.\n"
     ]
    },
    {
     "name": "stderr",
     "output_type": "stream",
     "text": [
      " 10%|█         | 1958/18934 [31:19<4:53:29,  1.04s/it]"
     ]
    },
    {
     "name": "stdout",
     "output_type": "stream",
     "text": [
      "[INFO] User Parasar already scraped. Skipping.\n"
     ]
    },
    {
     "name": "stderr",
     "output_type": "stream",
     "text": [
      " 10%|█         | 1961/18934 [31:21<4:24:49,  1.07it/s]"
     ]
    },
    {
     "name": "stdout",
     "output_type": "stream",
     "text": [
      "[INFO] User dvdzkwsk already scraped. Skipping.\n",
      "[INFO] User kubosho already scraped. Skipping.\n"
     ]
    },
    {
     "name": "stderr",
     "output_type": "stream",
     "text": [
      " 10%|█         | 1964/18934 [31:30<8:23:31,  1.78s/it]"
     ]
    },
    {
     "name": "stdout",
     "output_type": "stream",
     "text": [
      "[INFO] User sbezludny already scraped. Skipping.\n",
      "[INFO] User denghuacc already scraped. Skipping.\n"
     ]
    },
    {
     "name": "stderr",
     "output_type": "stream",
     "text": [
      " 10%|█         | 1967/18934 [31:32<6:33:22,  1.39s/it]"
     ]
    },
    {
     "name": "stdout",
     "output_type": "stream",
     "text": [
      "[INFO] User sebbenmbarek already scraped. Skipping.\n",
      "[INFO] User ioulian already scraped. Skipping.\n",
      "[INFO] User mrmartineau already scraped. Skipping.\n",
      "[INFO] User anilahsu already scraped. Skipping.\n",
      "[INFO] User thealiilman already scraped. Skipping.\n",
      "[INFO] User zwjtheone already scraped. Skipping.\n"
     ]
    },
    {
     "name": "stderr",
     "output_type": "stream",
     "text": [
      " 10%|█         | 1976/18934 [31:39<5:28:06,  1.16s/it]"
     ]
    },
    {
     "name": "stdout",
     "output_type": "stream",
     "text": [
      "[INFO] User willymiiee already scraped. Skipping.\n"
     ]
    },
    {
     "name": "stderr",
     "output_type": "stream",
     "text": [
      " 10%|█         | 1978/18934 [31:42<5:39:02,  1.20s/it]"
     ]
    },
    {
     "name": "stdout",
     "output_type": "stream",
     "text": [
      "[INFO] User beshkenadze already scraped. Skipping.\n",
      "[INFO] User devthejo already scraped. Skipping.\n"
     ]
    },
    {
     "name": "stderr",
     "output_type": "stream",
     "text": [
      " 10%|█         | 1981/18934 [31:44<5:03:38,  1.07s/it]"
     ]
    },
    {
     "name": "stdout",
     "output_type": "stream",
     "text": [
      "[INFO] User bbjbc already scraped. Skipping.\n"
     ]
    },
    {
     "name": "stderr",
     "output_type": "stream",
     "text": [
      " 10%|█         | 1983/18934 [31:46<4:56:58,  1.05s/it]"
     ]
    },
    {
     "name": "stdout",
     "output_type": "stream",
     "text": [
      "[INFO] User lagab already scraped. Skipping.\n",
      "[INFO] User nholuongut already scraped. Skipping.\n"
     ]
    },
    {
     "name": "stderr",
     "output_type": "stream",
     "text": [
      " 10%|█         | 1987/18934 [31:50<4:29:51,  1.05it/s]"
     ]
    },
    {
     "name": "stdout",
     "output_type": "stream",
     "text": [
      "[INFO] User PyYoshi already scraped. Skipping.\n"
     ]
    },
    {
     "name": "stderr",
     "output_type": "stream",
     "text": [
      " 11%|█         | 1989/18934 [31:52<4:50:44,  1.03s/it]"
     ]
    },
    {
     "name": "stdout",
     "output_type": "stream",
     "text": [
      "[INFO] User SanekxArcs already scraped. Skipping.\n"
     ]
    },
    {
     "name": "stderr",
     "output_type": "stream",
     "text": [
      " 11%|█         | 1992/18934 [32:02<8:57:21,  1.90s/it]"
     ]
    },
    {
     "name": "stdout",
     "output_type": "stream",
     "text": [
      "[INFO] User johndjameson already scraped. Skipping.\n",
      "[INFO] User pujitm already scraped. Skipping.\n",
      "[INFO] User jmn69 already scraped. Skipping.\n",
      "[INFO] User mcernusca already scraped. Skipping.\n",
      "[INFO] User davidknezic already scraped. Skipping.\n",
      "[INFO] User vnylbscr already scraped. Skipping.\n"
     ]
    },
    {
     "name": "stderr",
     "output_type": "stream",
     "text": [
      " 11%|█         | 1999/18934 [32:03<3:35:39,  1.31it/s]"
     ]
    },
    {
     "name": "stdout",
     "output_type": "stream",
     "text": [
      "[INFO] User KalinichenkoIlia already scraped. Skipping.\n",
      "[INFO] User jefn76 already scraped. Skipping.\n"
     ]
    },
    {
     "name": "stderr",
     "output_type": "stream",
     "text": [
      " 11%|█         | 2002/18934 [32:04<3:18:49,  1.42it/s]"
     ]
    },
    {
     "name": "stdout",
     "output_type": "stream",
     "text": [
      "[INFO] User Temzasse already scraped. Skipping.\n",
      "[INFO] User kuliebiakin already scraped. Skipping.\n",
      "[INFO] User garmeeh already scraped. Skipping.\n"
     ]
    },
    {
     "name": "stderr",
     "output_type": "stream",
     "text": [
      " 11%|█         | 2006/18934 [32:05<2:38:25,  1.78it/s]"
     ]
    },
    {
     "name": "stdout",
     "output_type": "stream",
     "text": [
      "[INFO] User sudhirj already scraped. Skipping.\n",
      "[INFO] User mikestraczek already scraped. Skipping.\n",
      "[INFO] User lukasduspiva already scraped. Skipping.\n",
      "[INFO] User meverone already scraped. Skipping.\n",
      "[INFO] User UcheSylvester already scraped. Skipping.\n",
      "[INFO] User gambonny already scraped. Skipping.\n",
      "[INFO] User akacdev already scraped. Skipping.\n",
      "[INFO] User sbtly already scraped. Skipping.\n"
     ]
    },
    {
     "name": "stderr",
     "output_type": "stream",
     "text": [
      " 11%|█         | 2017/18934 [32:14<4:08:38,  1.13it/s]"
     ]
    },
    {
     "name": "stdout",
     "output_type": "stream",
     "text": [
      "[INFO] User GLEF1X already scraped. Skipping.\n"
     ]
    },
    {
     "name": "stderr",
     "output_type": "stream",
     "text": [
      " 11%|█         | 2025/18934 [32:29<9:36:58,  2.05s/it]"
     ]
    },
    {
     "name": "stdout",
     "output_type": "stream",
     "text": [
      "[INFO] User csvidit already scraped. Skipping.\n"
     ]
    },
    {
     "name": "stderr",
     "output_type": "stream",
     "text": [
      " 11%|█         | 2028/18934 [32:35<9:15:35,  1.97s/it]"
     ]
    },
    {
     "name": "stdout",
     "output_type": "stream",
     "text": [
      "[INFO] User freewheel70 already scraped. Skipping.\n",
      "[INFO] User Nuhasami already scraped. Skipping.\n",
      "[INFO] User choryDev already scraped. Skipping.\n",
      "[INFO] User ugened47 already scraped. Skipping.\n",
      "[INFO] User farshidshahmoradi1996 already scraped. Skipping.\n"
     ]
    },
    {
     "name": "stderr",
     "output_type": "stream",
     "text": [
      " 11%|█         | 2035/18934 [32:36<3:23:08,  1.39it/s]"
     ]
    },
    {
     "name": "stdout",
     "output_type": "stream",
     "text": [
      "User indrajithbandara has more than 300 repos, skipping.\n",
      "[INFO] User Nate-Wilkins already scraped. Skipping.\n"
     ]
    },
    {
     "name": "stderr",
     "output_type": "stream",
     "text": [
      " 11%|█         | 2037/18934 [32:37<3:07:58,  1.50it/s]"
     ]
    },
    {
     "name": "stdout",
     "output_type": "stream",
     "text": [
      "[INFO] User kopimaniz already scraped. Skipping.\n",
      "[INFO] User yatoo1993 already scraped. Skipping.\n"
     ]
    },
    {
     "name": "stderr",
     "output_type": "stream",
     "text": [
      " 11%|█         | 2042/18934 [32:43<4:50:36,  1.03s/it]"
     ]
    },
    {
     "name": "stdout",
     "output_type": "stream",
     "text": [
      "[INFO] User mohammadhosseinmoradi already scraped. Skipping.\n",
      "[INFO] User faran4hatch already scraped. Skipping.\n",
      "[INFO] User ImTheOdd0ne already scraped. Skipping.\n",
      "[INFO] User junaid-faryad already scraped. Skipping.\n",
      "[INFO] User danii1 already scraped. Skipping.\n",
      "[INFO] User tonimasc already scraped. Skipping.\n"
     ]
    },
    {
     "name": "stderr",
     "output_type": "stream",
     "text": [
      " 11%|█         | 2050/18934 [32:46<2:40:44,  1.75it/s]"
     ]
    },
    {
     "name": "stdout",
     "output_type": "stream",
     "text": [
      "User zxhycxq has more than 300 repos, skipping.\n",
      "[INFO] User afurculita already scraped. Skipping.\n"
     ]
    },
    {
     "name": "stderr",
     "output_type": "stream",
     "text": [
      " 11%|█         | 2052/18934 [32:48<3:23:22,  1.38it/s]"
     ]
    },
    {
     "name": "stdout",
     "output_type": "stream",
     "text": [
      "[INFO] User enijar already scraped. Skipping.\n",
      "[INFO] User proYang already scraped. Skipping.\n"
     ]
    },
    {
     "name": "stderr",
     "output_type": "stream",
     "text": [
      " 11%|█         | 2057/18934 [32:55<5:36:16,  1.20s/it]"
     ]
    },
    {
     "name": "stdout",
     "output_type": "stream",
     "text": [
      "[INFO] User besirovic already scraped. Skipping.\n"
     ]
    },
    {
     "name": "stderr",
     "output_type": "stream",
     "text": [
      " 11%|█         | 2059/18934 [32:58<5:52:57,  1.25s/it]"
     ]
    },
    {
     "name": "stdout",
     "output_type": "stream",
     "text": [
      "[INFO] User QuangKhai-dev already scraped. Skipping.\n",
      "[INFO] User chen86860 already scraped. Skipping.\n",
      "[INFO] User bjuretko already scraped. Skipping.\n"
     ]
    },
    {
     "name": "stderr",
     "output_type": "stream",
     "text": [
      " 11%|█         | 2065/18934 [33:03<5:19:20,  1.14s/it]"
     ]
    },
    {
     "name": "stdout",
     "output_type": "stream",
     "text": [
      "[INFO] User vimcaw already scraped. Skipping.\n",
      "[INFO] User zhangyadong90 already scraped. Skipping.\n",
      "[INFO] User sulkowski already scraped. Skipping.\n",
      "[INFO] User nggonzalez already scraped. Skipping.\n",
      "[INFO] User VictorComeGuillon already scraped. Skipping.\n"
     ]
    },
    {
     "name": "stderr",
     "output_type": "stream",
     "text": [
      " 11%|█         | 2071/18934 [33:04<2:48:20,  1.67it/s]"
     ]
    },
    {
     "name": "stdout",
     "output_type": "stream",
     "text": [
      "[INFO] User duvillierA already scraped. Skipping.\n",
      "[INFO] User magoz already scraped. Skipping.\n"
     ]
    },
    {
     "name": "stderr",
     "output_type": "stream",
     "text": [
      " 11%|█         | 2074/18934 [33:07<3:03:28,  1.53it/s]"
     ]
    },
    {
     "name": "stdout",
     "output_type": "stream",
     "text": [
      "[INFO] User sliuqin already scraped. Skipping.\n"
     ]
    },
    {
     "name": "stderr",
     "output_type": "stream",
     "text": [
      " 11%|█         | 2076/18934 [33:09<3:34:59,  1.31it/s]"
     ]
    },
    {
     "name": "stdout",
     "output_type": "stream",
     "text": [
      "[INFO] User fengfengchenchen already scraped. Skipping.\n",
      "[INFO] User kdurek already scraped. Skipping.\n",
      "[INFO] User vunamhung already scraped. Skipping.\n",
      "[INFO] User journeymanavi already scraped. Skipping.\n",
      "[INFO] User CagriUysal already scraped. Skipping.\n",
      "[INFO] User belozer already scraped. Skipping.\n",
      "[INFO] User dperezbarreiro already scraped. Skipping.\n"
     ]
    },
    {
     "name": "stderr",
     "output_type": "stream",
     "text": [
      " 11%|█         | 2084/18934 [33:14<3:05:12,  1.52it/s]"
     ]
    },
    {
     "name": "stdout",
     "output_type": "stream",
     "text": [
      "[INFO] User Yrsafam already scraped. Skipping.\n"
     ]
    },
    {
     "name": "stderr",
     "output_type": "stream",
     "text": [
      " 11%|█         | 2086/18934 [33:20<5:06:29,  1.09s/it]"
     ]
    },
    {
     "name": "stdout",
     "output_type": "stream",
     "text": [
      "[INFO] User chenyanfei-m already scraped. Skipping.\n",
      "[INFO] User bigrooty6 already scraped. Skipping.\n"
     ]
    },
    {
     "name": "stderr",
     "output_type": "stream",
     "text": [
      " 11%|█         | 2089/18934 [33:24<5:12:45,  1.11s/it]"
     ]
    },
    {
     "name": "stdout",
     "output_type": "stream",
     "text": [
      "[INFO] User wataru-maeda already scraped. Skipping.\n",
      "[INFO] User zhaolei-hu already scraped. Skipping.\n"
     ]
    },
    {
     "name": "stderr",
     "output_type": "stream",
     "text": [
      " 11%|█         | 2093/18934 [33:26<4:35:00,  1.02it/s]"
     ]
    },
    {
     "name": "stdout",
     "output_type": "stream",
     "text": [
      "[INFO] User terminedev already scraped. Skipping.\n"
     ]
    },
    {
     "name": "stderr",
     "output_type": "stream",
     "text": [
      " 11%|█         | 2095/18934 [33:28<4:31:18,  1.03it/s]"
     ]
    },
    {
     "name": "stdout",
     "output_type": "stream",
     "text": [
      "[INFO] User TobiasLauer already scraped. Skipping.\n"
     ]
    },
    {
     "name": "stderr",
     "output_type": "stream",
     "text": [
      " 11%|█         | 2097/18934 [33:29<4:05:42,  1.14it/s]"
     ]
    },
    {
     "name": "stdout",
     "output_type": "stream",
     "text": [
      "[INFO] User RazvanBalota already scraped. Skipping.\n",
      "[INFO] User guillermaster already scraped. Skipping.\n"
     ]
    },
    {
     "name": "stderr",
     "output_type": "stream",
     "text": [
      " 11%|█         | 2100/18934 [33:33<4:34:03,  1.02it/s]"
     ]
    },
    {
     "name": "stdout",
     "output_type": "stream",
     "text": [
      "[INFO] User robertdusek already scraped. Skipping.\n",
      "[INFO] User RoyalIcing already scraped. Skipping.\n",
      "[INFO] User damirJa already scraped. Skipping.\n",
      "[INFO] User eduardlotz already scraped. Skipping.\n",
      "[INFO] User donpanpete already scraped. Skipping.\n"
     ]
    },
    {
     "name": "stderr",
     "output_type": "stream",
     "text": [
      " 11%|█         | 2106/18934 [33:34<2:42:43,  1.72it/s]"
     ]
    },
    {
     "name": "stdout",
     "output_type": "stream",
     "text": [
      "[INFO] User InSuperposition already scraped. Skipping.\n"
     ]
    },
    {
     "name": "stderr",
     "output_type": "stream",
     "text": [
      " 11%|█         | 2111/18934 [33:47<7:09:57,  1.53s/it]"
     ]
    },
    {
     "name": "stdout",
     "output_type": "stream",
     "text": [
      "[INFO] User EvandroLG already scraped. Skipping.\n"
     ]
    },
    {
     "name": "stderr",
     "output_type": "stream",
     "text": [
      " 11%|█         | 2115/18934 [33:51<5:49:37,  1.25s/it]"
     ]
    },
    {
     "name": "stdout",
     "output_type": "stream",
     "text": [
      "[INFO] User TrillCyborg already scraped. Skipping.\n",
      "[INFO] User ryub3n already scraped. Skipping.\n"
     ]
    },
    {
     "name": "stderr",
     "output_type": "stream",
     "text": [
      " 11%|█         | 2118/18934 [33:51<3:41:46,  1.26it/s]"
     ]
    },
    {
     "name": "stdout",
     "output_type": "stream",
     "text": [
      "[INFO] User devmanny already scraped. Skipping.\n",
      "[INFO] User zhanziyang already scraped. Skipping.\n"
     ]
    },
    {
     "name": "stderr",
     "output_type": "stream",
     "text": [
      " 11%|█         | 2123/18934 [33:58<6:05:27,  1.30s/it]"
     ]
    },
    {
     "name": "stdout",
     "output_type": "stream",
     "text": [
      "[INFO] User welkinwong already scraped. Skipping.\n",
      "[INFO] User vladk1m0 already scraped. Skipping.\n"
     ]
    },
    {
     "name": "stderr",
     "output_type": "stream",
     "text": [
      " 11%|█         | 2126/18934 [34:00<4:52:12,  1.04s/it]"
     ]
    },
    {
     "name": "stdout",
     "output_type": "stream",
     "text": [
      "[INFO] User kioviensis already scraped. Skipping.\n",
      "[INFO] User Ynsinan already scraped. Skipping.\n"
     ]
    },
    {
     "name": "stderr",
     "output_type": "stream",
     "text": [
      " 11%|█         | 2129/18934 [34:01<3:30:03,  1.33it/s]"
     ]
    },
    {
     "name": "stdout",
     "output_type": "stream",
     "text": [
      "[INFO] User AdamSiekierski already scraped. Skipping.\n"
     ]
    },
    {
     "name": "stderr",
     "output_type": "stream",
     "text": [
      " 11%|█▏        | 2131/18934 [34:03<4:03:57,  1.15it/s]"
     ]
    },
    {
     "name": "stdout",
     "output_type": "stream",
     "text": [
      "[INFO] User giliamverheide already scraped. Skipping.\n",
      "[INFO] User diyorbek already scraped. Skipping.\n"
     ]
    },
    {
     "name": "stderr",
     "output_type": "stream",
     "text": [
      " 11%|█▏        | 2134/18934 [34:05<3:31:07,  1.33it/s]"
     ]
    },
    {
     "name": "stdout",
     "output_type": "stream",
     "text": [
      "[INFO] User gweecl already scraped. Skipping.\n",
      "[INFO] User forabi already scraped. Skipping.\n"
     ]
    },
    {
     "name": "stderr",
     "output_type": "stream",
     "text": [
      " 11%|█▏        | 2139/18934 [34:11<4:50:56,  1.04s/it]"
     ]
    },
    {
     "name": "stdout",
     "output_type": "stream",
     "text": [
      "[INFO] User Ajeetlakhani already scraped. Skipping.\n",
      "[INFO] User nadim already scraped. Skipping.\n",
      "[INFO] User byronwall already scraped. Skipping.\n",
      "[INFO] User kotarella1110 already scraped. Skipping.\n",
      "[INFO] User fknop already scraped. Skipping.\n",
      "[INFO] User artfuldev already scraped. Skipping.\n",
      "[INFO] User jkubacki already scraped. Skipping.\n",
      "[INFO] User trautmaa already scraped. Skipping.\n"
     ]
    },
    {
     "name": "stderr",
     "output_type": "stream",
     "text": [
      " 11%|█▏        | 2148/18934 [34:12<1:56:23,  2.40it/s]"
     ]
    },
    {
     "name": "stdout",
     "output_type": "stream",
     "text": [
      "[INFO] User christopher-buss already scraped. Skipping.\n",
      "[INFO] User fostyfost already scraped. Skipping.\n"
     ]
    },
    {
     "name": "stderr",
     "output_type": "stream",
     "text": [
      " 11%|█▏        | 2151/18934 [34:15<2:46:10,  1.68it/s]"
     ]
    },
    {
     "name": "stdout",
     "output_type": "stream",
     "text": [
      "[INFO] User lukeed already scraped. Skipping.\n",
      "[INFO] User jinmingpang already scraped. Skipping.\n"
     ]
    },
    {
     "name": "stderr",
     "output_type": "stream",
     "text": [
      " 11%|█▏        | 2157/18934 [34:22<3:29:21,  1.34it/s]"
     ]
    },
    {
     "name": "stdout",
     "output_type": "stream",
     "text": [
      "[INFO] User TimRoussilhe already scraped. Skipping.\n",
      "[INFO] User roelvan already scraped. Skipping.\n",
      "[INFO] User HeadFox already scraped. Skipping.\n",
      "[INFO] User miktirr already scraped. Skipping.\n",
      "[INFO] User didoo already scraped. Skipping.\n"
     ]
    },
    {
     "name": "stderr",
     "output_type": "stream",
     "text": [
      " 11%|█▏        | 2165/18934 [34:29<4:43:10,  1.01s/it]"
     ]
    },
    {
     "name": "stdout",
     "output_type": "stream",
     "text": [
      "[INFO] User remotion-dev already scraped. Skipping.\n",
      "[INFO] User vopecula already scraped. Skipping.\n"
     ]
    },
    {
     "name": "stderr",
     "output_type": "stream",
     "text": [
      " 11%|█▏        | 2169/18934 [34:35<7:00:09,  1.50s/it]"
     ]
    },
    {
     "name": "stdout",
     "output_type": "stream",
     "text": [
      "[INFO] User 4MR74R3K already scraped. Skipping.\n"
     ]
    },
    {
     "name": "stderr",
     "output_type": "stream",
     "text": [
      " 11%|█▏        | 2172/18934 [34:48<12:17:56,  2.64s/it]"
     ]
    },
    {
     "name": "stdout",
     "output_type": "stream",
     "text": [
      "[INFO] User aktuehr already scraped. Skipping.\n"
     ]
    },
    {
     "name": "stderr",
     "output_type": "stream",
     "text": [
      " 11%|█▏        | 2174/18934 [34:49<8:49:38,  1.90s/it] "
     ]
    },
    {
     "name": "stdout",
     "output_type": "stream",
     "text": [
      "[INFO] User jwangnz already scraped. Skipping.\n"
     ]
    },
    {
     "name": "stderr",
     "output_type": "stream",
     "text": [
      " 11%|█▏        | 2177/18934 [34:55<9:21:25,  2.01s/it]"
     ]
    },
    {
     "name": "stdout",
     "output_type": "stream",
     "text": [
      "[INFO] User marcelmusiol already scraped. Skipping.\n"
     ]
    },
    {
     "name": "stderr",
     "output_type": "stream",
     "text": [
      " 12%|█▏        | 2181/18934 [35:02<9:51:50,  2.12s/it]"
     ]
    },
    {
     "name": "stdout",
     "output_type": "stream",
     "text": [
      "[INFO] User andre-lergier already scraped. Skipping.\n",
      "[INFO] User DavidWells already scraped. Skipping.\n",
      "[INFO] User fedikhatib already scraped. Skipping.\n",
      "[INFO] User SuperOleg39 already scraped. Skipping.\n",
      "[INFO] User cyaenorama already scraped. Skipping.\n",
      "[INFO] User V-Gutierrez already scraped. Skipping.\n"
     ]
    },
    {
     "name": "stderr",
     "output_type": "stream",
     "text": [
      " 12%|█▏        | 2190/18934 [35:06<4:13:45,  1.10it/s]"
     ]
    },
    {
     "name": "stdout",
     "output_type": "stream",
     "text": [
      "[INFO] User pondorasti already scraped. Skipping.\n"
     ]
    },
    {
     "name": "stderr",
     "output_type": "stream",
     "text": [
      " 12%|█▏        | 2195/18934 [35:17<7:59:47,  1.72s/it]"
     ]
    },
    {
     "name": "stdout",
     "output_type": "stream",
     "text": [
      "User googleapis has more than 300 repos, skipping.\n"
     ]
    },
    {
     "name": "stderr",
     "output_type": "stream",
     "text": [
      " 12%|█▏        | 2196/18934 [35:18<7:01:56,  1.51s/it]"
     ]
    },
    {
     "name": "stdout",
     "output_type": "stream",
     "text": [
      "[INFO] User asheerrizvi already scraped. Skipping.\n"
     ]
    },
    {
     "name": "stderr",
     "output_type": "stream",
     "text": [
      " 12%|█▏        | 2199/18934 [35:22<6:22:06,  1.37s/it]"
     ]
    },
    {
     "name": "stdout",
     "output_type": "stream",
     "text": [
      "[INFO] User mohsen1 already scraped. Skipping.\n"
     ]
    },
    {
     "name": "stderr",
     "output_type": "stream",
     "text": [
      " 12%|█▏        | 2201/18934 [35:23<5:07:29,  1.10s/it]"
     ]
    },
    {
     "name": "stdout",
     "output_type": "stream",
     "text": [
      "[INFO] User faysvas already scraped. Skipping.\n",
      "[INFO] User melvynhills already scraped. Skipping.\n"
     ]
    },
    {
     "name": "stderr",
     "output_type": "stream",
     "text": [
      " 12%|█▏        | 2204/18934 [35:25<4:09:03,  1.12it/s]"
     ]
    },
    {
     "name": "stdout",
     "output_type": "stream",
     "text": [
      "[INFO] User yuto-tomita already scraped. Skipping.\n"
     ]
    },
    {
     "name": "stderr",
     "output_type": "stream",
     "text": [
      " 12%|█▏        | 2207/18934 [35:33<7:56:06,  1.71s/it]"
     ]
    },
    {
     "name": "stdout",
     "output_type": "stream",
     "text": [
      "[INFO] User sachdeva-shrey already scraped. Skipping.\n",
      "[INFO] User mikaer86 already scraped. Skipping.\n",
      "[INFO] User Kijacode already scraped. Skipping.\n",
      "[INFO] User kl-nevermore already scraped. Skipping.\n",
      "[INFO] User spdlqj23 already scraped. Skipping.\n",
      "[INFO] User AizenSousuke already scraped. Skipping.\n",
      "[INFO] User keeeper already scraped. Skipping.\n",
      "[INFO] User codev0 already scraped. Skipping.\n",
      "[INFO] User alemoraru already scraped. Skipping.\n"
     ]
    },
    {
     "name": "stderr",
     "output_type": "stream",
     "text": [
      " 12%|█▏        | 2218/18934 [35:35<2:48:28,  1.65it/s]"
     ]
    },
    {
     "name": "stdout",
     "output_type": "stream",
     "text": [
      "[INFO] User aamorozov already scraped. Skipping.\n",
      "[INFO] User olivierphi already scraped. Skipping.\n"
     ]
    },
    {
     "name": "stderr",
     "output_type": "stream",
     "text": [
      " 12%|█▏        | 2221/18934 [35:38<3:24:30,  1.36it/s]"
     ]
    },
    {
     "name": "stdout",
     "output_type": "stream",
     "text": [
      "[INFO] User sunnmist already scraped. Skipping.\n",
      "[INFO] User heracek already scraped. Skipping.\n"
     ]
    },
    {
     "name": "stderr",
     "output_type": "stream",
     "text": [
      " 12%|█▏        | 2227/18934 [35:41<2:30:06,  1.86it/s]"
     ]
    },
    {
     "name": "stdout",
     "output_type": "stream",
     "text": [
      "[INFO] User koz already scraped. Skipping.\n",
      "User brillout has more than 300 repos, skipping.\n",
      "[INFO] User monica-regmy already scraped. Skipping.\n",
      "[INFO] User kunalmawade already scraped. Skipping.\n",
      "[INFO] User jihchi already scraped. Skipping.\n"
     ]
    },
    {
     "name": "stderr",
     "output_type": "stream",
     "text": [
      " 12%|█▏        | 2231/18934 [35:42<2:07:42,  2.18it/s]"
     ]
    },
    {
     "name": "stdout",
     "output_type": "stream",
     "text": [
      "[INFO] User Higashi-Kota already scraped. Skipping.\n",
      "[INFO] User 3crazyspecial already scraped. Skipping.\n",
      "[INFO] User Freytag already scraped. Skipping.\n"
     ]
    },
    {
     "name": "stderr",
     "output_type": "stream",
     "text": [
      " 12%|█▏        | 2236/18934 [35:50<4:51:52,  1.05s/it]"
     ]
    },
    {
     "name": "stdout",
     "output_type": "stream",
     "text": [
      "[INFO] User Borming already scraped. Skipping.\n",
      "[INFO] User rfmiotto already scraped. Skipping.\n"
     ]
    },
    {
     "name": "stderr",
     "output_type": "stream",
     "text": [
      " 12%|█▏        | 2239/18934 [35:51<3:51:17,  1.20it/s]"
     ]
    },
    {
     "name": "stdout",
     "output_type": "stream",
     "text": [
      "[INFO] User hota1024 already scraped. Skipping.\n"
     ]
    },
    {
     "name": "stderr",
     "output_type": "stream",
     "text": [
      " 12%|█▏        | 2242/18934 [35:59<6:25:14,  1.38s/it]"
     ]
    },
    {
     "name": "stdout",
     "output_type": "stream",
     "text": [
      "[INFO] User ragunathjawahar already scraped. Skipping.\n",
      "[INFO] User Breezelled already scraped. Skipping.\n",
      "[INFO] User SrAnthony already scraped. Skipping.\n"
     ]
    },
    {
     "name": "stderr",
     "output_type": "stream",
     "text": [
      " 12%|█▏        | 2246/18934 [36:01<4:40:15,  1.01s/it]"
     ]
    },
    {
     "name": "stdout",
     "output_type": "stream",
     "text": [
      "[INFO] User kode15333 already scraped. Skipping.\n"
     ]
    },
    {
     "name": "stderr",
     "output_type": "stream",
     "text": [
      " 12%|█▏        | 2253/18934 [36:12<6:36:50,  1.43s/it]"
     ]
    },
    {
     "name": "stdout",
     "output_type": "stream",
     "text": [
      "[INFO] User JohnsonMao already scraped. Skipping.\n"
     ]
    },
    {
     "name": "stderr",
     "output_type": "stream",
     "text": [
      " 12%|█▏        | 2255/18934 [36:17<8:42:47,  1.88s/it]"
     ]
    },
    {
     "name": "stdout",
     "output_type": "stream",
     "text": [
      "[INFO] User SukkaW already scraped. Skipping.\n",
      "[INFO] User isuscbrmid already scraped. Skipping.\n",
      "[INFO] User ivogt already scraped. Skipping.\n"
     ]
    },
    {
     "name": "stderr",
     "output_type": "stream",
     "text": [
      " 12%|█▏        | 2259/18934 [36:17<4:12:14,  1.10it/s]"
     ]
    },
    {
     "name": "stdout",
     "output_type": "stream",
     "text": [
      "User nolanlawson has more than 300 repos, skipping.\n",
      "[INFO] User QuocVi1994 already scraped. Skipping.\n",
      "[INFO] User Maxsy already scraped. Skipping.\n"
     ]
    },
    {
     "name": "stderr",
     "output_type": "stream",
     "text": [
      " 12%|█▏        | 2263/18934 [36:21<4:44:52,  1.03s/it]"
     ]
    },
    {
     "name": "stdout",
     "output_type": "stream",
     "text": [
      "[INFO] User vikmovcan already scraped. Skipping.\n"
     ]
    },
    {
     "name": "stderr",
     "output_type": "stream",
     "text": [
      " 12%|█▏        | 2265/18934 [36:24<4:45:04,  1.03s/it]"
     ]
    },
    {
     "name": "stdout",
     "output_type": "stream",
     "text": [
      "[INFO] User princejoogie already scraped. Skipping.\n"
     ]
    },
    {
     "name": "stderr",
     "output_type": "stream",
     "text": [
      " 12%|█▏        | 2268/18934 [36:29<6:03:48,  1.31s/it]"
     ]
    },
    {
     "name": "stdout",
     "output_type": "stream",
     "text": [
      "[INFO] User Amurmurmur already scraped. Skipping.\n",
      "[INFO] User jdolle already scraped. Skipping.\n",
      "[INFO] User fux-plus already scraped. Skipping.\n",
      "[INFO] User kelvin9314 already scraped. Skipping.\n",
      "[INFO] User 8rd4n5 already scraped. Skipping.\n"
     ]
    },
    {
     "name": "stderr",
     "output_type": "stream",
     "text": [
      " 12%|█▏        | 2274/18934 [36:35<5:19:06,  1.15s/it]"
     ]
    },
    {
     "name": "stdout",
     "output_type": "stream",
     "text": [
      "[INFO] User madsfaerch already scraped. Skipping.\n",
      "[INFO] User SoyaSauceOk already scraped. Skipping.\n",
      "[INFO] User Andy1210 already scraped. Skipping.\n",
      "[INFO] User Santorz already scraped. Skipping.\n",
      "[INFO] User zrj1031 already scraped. Skipping.\n"
     ]
    },
    {
     "name": "stderr",
     "output_type": "stream",
     "text": [
      " 12%|█▏        | 2280/18934 [36:44<6:00:24,  1.30s/it]"
     ]
    },
    {
     "name": "stdout",
     "output_type": "stream",
     "text": [
      "[INFO] User octout already scraped. Skipping.\n"
     ]
    },
    {
     "name": "stderr",
     "output_type": "stream",
     "text": [
      " 12%|█▏        | 2284/18934 [36:52<7:43:04,  1.67s/it]"
     ]
    },
    {
     "name": "stdout",
     "output_type": "stream",
     "text": [
      "[INFO] User DaxSoft already scraped. Skipping.\n",
      "[INFO] User muhammad-f-huda already scraped. Skipping.\n"
     ]
    },
    {
     "name": "stderr",
     "output_type": "stream",
     "text": [
      " 12%|█▏        | 2287/18934 [36:54<5:38:24,  1.22s/it]"
     ]
    },
    {
     "name": "stdout",
     "output_type": "stream",
     "text": [
      "[INFO] User zhangyu1818 already scraped. Skipping.\n",
      "[INFO] User cvpcasada already scraped. Skipping.\n",
      "[INFO] User primofin already scraped. Skipping.\n"
     ]
    },
    {
     "name": "stderr",
     "output_type": "stream",
     "text": [
      " 12%|█▏        | 2291/18934 [36:56<4:17:48,  1.08it/s]"
     ]
    },
    {
     "name": "stdout",
     "output_type": "stream",
     "text": [
      "[INFO] User OrekiSH already scraped. Skipping.\n",
      "[INFO] User smoooty already scraped. Skipping.\n",
      "[INFO] User DanielXuuuuu already scraped. Skipping.\n"
     ]
    },
    {
     "name": "stderr",
     "output_type": "stream",
     "text": [
      " 12%|█▏        | 2296/18934 [37:01<4:32:07,  1.02it/s]"
     ]
    },
    {
     "name": "stdout",
     "output_type": "stream",
     "text": [
      "[INFO] User AXeL-dev already scraped. Skipping.\n",
      "[INFO] User Gomah already scraped. Skipping.\n",
      "[INFO] User sheelah already scraped. Skipping.\n"
     ]
    },
    {
     "name": "stderr",
     "output_type": "stream",
     "text": [
      " 12%|█▏        | 2300/18934 [37:02<3:10:03,  1.46it/s]"
     ]
    },
    {
     "name": "stdout",
     "output_type": "stream",
     "text": [
      "[INFO] User ymcheung already scraped. Skipping.\n",
      "[INFO] User toinmdq already scraped. Skipping.\n"
     ]
    },
    {
     "name": "stderr",
     "output_type": "stream",
     "text": [
      " 12%|█▏        | 2303/18934 [37:04<3:15:32,  1.42it/s]"
     ]
    },
    {
     "name": "stdout",
     "output_type": "stream",
     "text": [
      "[INFO] User TsangKalung already scraped. Skipping.\n",
      "[INFO] User limtingzhi already scraped. Skipping.\n",
      "[INFO] User Filgeary already scraped. Skipping.\n",
      "[INFO] User DecampsRenan already scraped. Skipping.\n"
     ]
    },
    {
     "name": "stderr",
     "output_type": "stream",
     "text": [
      " 12%|█▏        | 2312/18934 [37:11<3:58:15,  1.16it/s]"
     ]
    },
    {
     "name": "stdout",
     "output_type": "stream",
     "text": [
      "[INFO] User cure53 already scraped. Skipping.\n",
      "[INFO] User aivarasbiliunas already scraped. Skipping.\n",
      "[INFO] User chap95 already scraped. Skipping.\n",
      "[INFO] User edmundito already scraped. Skipping.\n"
     ]
    },
    {
     "name": "stderr",
     "output_type": "stream",
     "text": [
      " 12%|█▏        | 2318/18934 [37:17<4:53:21,  1.06s/it]"
     ]
    },
    {
     "name": "stdout",
     "output_type": "stream",
     "text": [
      "[INFO] User woro83c already scraped. Skipping.\n",
      "[INFO] User joshwcomeau already scraped. Skipping.\n",
      "[INFO] User react-boilerplate already scraped. Skipping.\n",
      "[INFO] User hamcher already scraped. Skipping.\n",
      "[INFO] User songxiaoliang already scraped. Skipping.\n"
     ]
    },
    {
     "name": "stderr",
     "output_type": "stream",
     "text": [
      " 12%|█▏        | 2325/18934 [37:21<3:36:51,  1.28it/s]"
     ]
    },
    {
     "name": "stdout",
     "output_type": "stream",
     "text": [
      "[INFO] User umeshmk already scraped. Skipping.\n"
     ]
    },
    {
     "name": "stderr",
     "output_type": "stream",
     "text": [
      " 12%|█▏        | 2327/18934 [37:24<4:29:00,  1.03it/s]"
     ]
    },
    {
     "name": "stdout",
     "output_type": "stream",
     "text": [
      "[INFO] User gabeklein already scraped. Skipping.\n"
     ]
    },
    {
     "name": "stderr",
     "output_type": "stream",
     "text": [
      " 12%|█▏        | 2329/18934 [37:27<5:24:41,  1.17s/it]"
     ]
    },
    {
     "name": "stdout",
     "output_type": "stream",
     "text": [
      "[INFO] User AkaraChen already scraped. Skipping.\n"
     ]
    },
    {
     "name": "stderr",
     "output_type": "stream",
     "text": [
      " 12%|█▏        | 2332/18934 [37:36<9:17:14,  2.01s/it]"
     ]
    },
    {
     "name": "stdout",
     "output_type": "stream",
     "text": [
      "[INFO] User WRinnovation already scraped. Skipping.\n"
     ]
    },
    {
     "name": "stderr",
     "output_type": "stream",
     "text": [
      " 12%|█▏        | 2334/18934 [37:41<10:02:35,  2.18s/it]"
     ]
    },
    {
     "name": "stdout",
     "output_type": "stream",
     "text": [
      "[INFO] User pedoc already scraped. Skipping.\n"
     ]
    },
    {
     "name": "stderr",
     "output_type": "stream",
     "text": [
      " 12%|█▏        | 2336/18934 [37:44<9:17:28,  2.02s/it] "
     ]
    },
    {
     "name": "stdout",
     "output_type": "stream",
     "text": [
      "[INFO] User gravesisme already scraped. Skipping.\n"
     ]
    },
    {
     "name": "stderr",
     "output_type": "stream",
     "text": [
      " 12%|█▏        | 2339/18934 [37:51<9:27:39,  2.05s/it]"
     ]
    },
    {
     "name": "stdout",
     "output_type": "stream",
     "text": [
      "[INFO] User SantoshSrinivas79 already scraped. Skipping.\n",
      "[INFO] User yousakamori already scraped. Skipping.\n"
     ]
    },
    {
     "name": "stderr",
     "output_type": "stream",
     "text": [
      " 12%|█▏        | 2342/18934 [37:51<5:54:21,  1.28s/it]"
     ]
    },
    {
     "name": "stdout",
     "output_type": "stream",
     "text": [
      "[INFO] User chemiadel already scraped. Skipping.\n",
      "[INFO] User lqze already scraped. Skipping.\n",
      "[INFO] User liran already scraped. Skipping.\n"
     ]
    },
    {
     "name": "stderr",
     "output_type": "stream",
     "text": [
      " 12%|█▏        | 2346/18934 [37:55<5:02:59,  1.10s/it]"
     ]
    },
    {
     "name": "stdout",
     "output_type": "stream",
     "text": [
      "[INFO] User srtfisher already scraped. Skipping.\n",
      "[INFO] User adammanderson already scraped. Skipping.\n",
      "[INFO] User nickpresta already scraped. Skipping.\n",
      "[INFO] User Joshuafolorunsho already scraped. Skipping.\n",
      "[INFO] User francoismassart already scraped. Skipping.\n",
      "[INFO] User reed6868 already scraped. Skipping.\n",
      "[INFO] User huyaocode already scraped. Skipping.\n"
     ]
    },
    {
     "name": "stderr",
     "output_type": "stream",
     "text": [
      " 12%|█▏        | 2357/18934 [38:10<8:23:15,  1.82s/it]"
     ]
    },
    {
     "name": "stdout",
     "output_type": "stream",
     "text": [
      "[INFO] User dspnorman already scraped. Skipping.\n",
      "[INFO] User huihongzhou already scraped. Skipping.\n"
     ]
    },
    {
     "name": "stderr",
     "output_type": "stream",
     "text": [
      " 12%|█▏        | 2360/18934 [38:19<10:11:16,  2.21s/it]"
     ]
    },
    {
     "name": "stdout",
     "output_type": "stream",
     "text": [
      "[INFO] User adithep already scraped. Skipping.\n"
     ]
    },
    {
     "name": "stderr",
     "output_type": "stream",
     "text": [
      " 12%|█▏        | 2363/18934 [38:22<8:11:03,  1.78s/it] "
     ]
    },
    {
     "name": "stdout",
     "output_type": "stream",
     "text": [
      "[INFO] User ByteCrumb already scraped. Skipping.\n",
      "[INFO] User kik-o already scraped. Skipping.\n"
     ]
    },
    {
     "name": "stderr",
     "output_type": "stream",
     "text": [
      " 12%|█▏        | 2366/18934 [38:24<6:13:46,  1.35s/it]"
     ]
    },
    {
     "name": "stdout",
     "output_type": "stream",
     "text": [
      "[INFO] User nelsonreitz already scraped. Skipping.\n",
      "[INFO] User serranomorante already scraped. Skipping.\n",
      "[INFO] User oliverkra already scraped. Skipping.\n",
      "[INFO] User tkp0331 already scraped. Skipping.\n",
      "[INFO] User purinx already scraped. Skipping.\n",
      "[INFO] User XueMoMo already scraped. Skipping.\n"
     ]
    },
    {
     "name": "stderr",
     "output_type": "stream",
     "text": [
      " 13%|█▎        | 2374/18934 [38:29<4:07:04,  1.12it/s]"
     ]
    },
    {
     "name": "stdout",
     "output_type": "stream",
     "text": [
      "[INFO] User d-feliz already scraped. Skipping.\n"
     ]
    },
    {
     "name": "stderr",
     "output_type": "stream",
     "text": [
      " 13%|█▎        | 2376/18934 [38:30<3:47:52,  1.21it/s]"
     ]
    },
    {
     "name": "stdout",
     "output_type": "stream",
     "text": [
      "[INFO] User nickbytes already scraped. Skipping.\n",
      "[INFO] User papageno already scraped. Skipping.\n",
      "[INFO] User Newcandy already scraped. Skipping.\n",
      "[INFO] User alejandronanez already scraped. Skipping.\n",
      "[INFO] User nguyenhiep97ht already scraped. Skipping.\n",
      "[INFO] User sz423242122 already scraped. Skipping.\n"
     ]
    },
    {
     "name": "stderr",
     "output_type": "stream",
     "text": [
      " 13%|█▎        | 2384/18934 [38:32<2:26:04,  1.89it/s]"
     ]
    },
    {
     "name": "stdout",
     "output_type": "stream",
     "text": [
      "[INFO] User sanjoyksardar12 already scraped. Skipping.\n"
     ]
    },
    {
     "name": "stderr",
     "output_type": "stream",
     "text": [
      " 13%|█▎        | 2386/18934 [38:33<2:20:13,  1.97it/s]"
     ]
    },
    {
     "name": "stdout",
     "output_type": "stream",
     "text": [
      "[INFO] User algoORgoal already scraped. Skipping.\n"
     ]
    },
    {
     "name": "stderr",
     "output_type": "stream",
     "text": [
      " 13%|█▎        | 2388/18934 [38:34<2:25:07,  1.90it/s]"
     ]
    },
    {
     "name": "stdout",
     "output_type": "stream",
     "text": [
      "[INFO] User FluroAsh already scraped. Skipping.\n",
      "[INFO] User dev-kml already scraped. Skipping.\n"
     ]
    },
    {
     "name": "stderr",
     "output_type": "stream",
     "text": [
      " 13%|█▎        | 2391/18934 [38:35<2:16:24,  2.02it/s]"
     ]
    },
    {
     "name": "stdout",
     "output_type": "stream",
     "text": [
      "[INFO] User schadeck already scraped. Skipping.\n",
      "[INFO] User JessyBAER already scraped. Skipping.\n",
      "[INFO] User catherineriver already scraped. Skipping.\n",
      "[INFO] User Simek already scraped. Skipping.\n",
      "[INFO] User harsla already scraped. Skipping.\n",
      "[INFO] User HananoshikaYomaru already scraped. Skipping.\n"
     ]
    },
    {
     "name": "stderr",
     "output_type": "stream",
     "text": [
      " 13%|█▎        | 2398/18934 [38:35<1:09:57,  3.94it/s]"
     ]
    },
    {
     "name": "stdout",
     "output_type": "stream",
     "text": [
      "User michaelBenin has more than 300 repos, skipping.\n",
      "[INFO] User evgenii-minkov already scraped. Skipping.\n",
      "[INFO] User erfankorki already scraped. Skipping.\n",
      "[INFO] User joedel already scraped. Skipping.\n",
      "[INFO] User fhouser already scraped. Skipping.\n"
     ]
    },
    {
     "name": "stderr",
     "output_type": "stream",
     "text": [
      " 13%|█▎        | 2405/18934 [38:42<3:20:43,  1.37it/s]"
     ]
    },
    {
     "name": "stdout",
     "output_type": "stream",
     "text": [
      "[INFO] User dianavoyanets already scraped. Skipping.\n"
     ]
    },
    {
     "name": "stderr",
     "output_type": "stream",
     "text": [
      " 13%|█▎        | 2408/18934 [38:45<3:36:58,  1.27it/s]"
     ]
    },
    {
     "name": "stdout",
     "output_type": "stream",
     "text": [
      "[INFO] User vurpa already scraped. Skipping.\n",
      "[INFO] User juandeto already scraped. Skipping.\n",
      "[INFO] User Hahlh already scraped. Skipping.\n"
     ]
    },
    {
     "name": "stderr",
     "output_type": "stream",
     "text": [
      " 13%|█▎        | 2412/18934 [38:49<4:17:53,  1.07it/s]"
     ]
    },
    {
     "name": "stdout",
     "output_type": "stream",
     "text": [
      "[INFO] User shallwefootball already scraped. Skipping.\n",
      "[INFO] User chiragJoshi24 already scraped. Skipping.\n"
     ]
    },
    {
     "name": "stderr",
     "output_type": "stream",
     "text": [
      " 13%|█▎        | 2417/18934 [39:04<8:42:44,  1.90s/it]"
     ]
    },
    {
     "name": "stdout",
     "output_type": "stream",
     "text": [
      "[INFO] User hippycore already scraped. Skipping.\n"
     ]
    },
    {
     "name": "stderr",
     "output_type": "stream",
     "text": [
      " 13%|█▎        | 2419/18934 [39:06<7:25:03,  1.62s/it]"
     ]
    },
    {
     "name": "stdout",
     "output_type": "stream",
     "text": [
      "[INFO] User fleonard already scraped. Skipping.\n",
      "[INFO] User Solo-steven already scraped. Skipping.\n",
      "[INFO] User Hongda-OSU already scraped. Skipping.\n",
      "[INFO] User lk321 already scraped. Skipping.\n"
     ]
    },
    {
     "name": "stderr",
     "output_type": "stream",
     "text": [
      " 13%|█▎        | 2424/18934 [39:09<4:34:42,  1.00it/s]"
     ]
    },
    {
     "name": "stdout",
     "output_type": "stream",
     "text": [
      "[INFO] User MatheusBBarni already scraped. Skipping.\n",
      "[INFO] User mohamed80doryder already scraped. Skipping.\n"
     ]
    },
    {
     "name": "stderr",
     "output_type": "stream",
     "text": [
      " 13%|█▎        | 2427/18934 [39:10<3:47:06,  1.21it/s]"
     ]
    },
    {
     "name": "stdout",
     "output_type": "stream",
     "text": [
      "[INFO] User yikZero already scraped. Skipping.\n",
      "[INFO] User MicheleBertoli already scraped. Skipping.\n",
      "[INFO] User doigo already scraped. Skipping.\n",
      "[INFO] User DipanshKhandelwal already scraped. Skipping.\n"
     ]
    },
    {
     "name": "stderr",
     "output_type": "stream",
     "text": [
      " 13%|█▎        | 2432/18934 [39:12<2:55:05,  1.57it/s]"
     ]
    },
    {
     "name": "stdout",
     "output_type": "stream",
     "text": [
      "[INFO] User mastergenius already scraped. Skipping.\n",
      "[INFO] User mohdsayed already scraped. Skipping.\n"
     ]
    },
    {
     "name": "stderr",
     "output_type": "stream",
     "text": [
      " 13%|█▎        | 2435/18934 [39:17<4:01:31,  1.14it/s]"
     ]
    },
    {
     "name": "stdout",
     "output_type": "stream",
     "text": [
      "[INFO] User yyyyyyyyyunf already scraped. Skipping.\n",
      "[INFO] User isimonlaw already scraped. Skipping.\n",
      "[INFO] User igor-lid already scraped. Skipping.\n",
      "[INFO] User kuge already scraped. Skipping.\n",
      "[INFO] User mugglim already scraped. Skipping.\n",
      "[INFO] User drostano already scraped. Skipping.\n",
      "[INFO] User nik-s already scraped. Skipping.\n"
     ]
    },
    {
     "name": "stderr",
     "output_type": "stream",
     "text": [
      " 13%|█▎        | 2444/18934 [39:21<3:27:07,  1.33it/s]"
     ]
    },
    {
     "name": "stdout",
     "output_type": "stream",
     "text": [
      "[INFO] User alexandesigner already scraped. Skipping.\n"
     ]
    },
    {
     "name": "stderr",
     "output_type": "stream",
     "text": [
      " 13%|█▎        | 2447/18934 [39:25<3:57:27,  1.16it/s]"
     ]
    },
    {
     "name": "stdout",
     "output_type": "stream",
     "text": [
      "[INFO] User M4Tdev already scraped. Skipping.\n"
     ]
    },
    {
     "name": "stderr",
     "output_type": "stream",
     "text": [
      " 13%|█▎        | 2449/18934 [39:27<4:04:45,  1.12it/s]"
     ]
    },
    {
     "name": "stdout",
     "output_type": "stream",
     "text": [
      "[INFO] User tanwenxin already scraped. Skipping.\n"
     ]
    },
    {
     "name": "stderr",
     "output_type": "stream",
     "text": [
      " 13%|█▎        | 2454/18934 [39:41<9:00:16,  1.97s/it]"
     ]
    },
    {
     "name": "stdout",
     "output_type": "stream",
     "text": [
      "[INFO] User hugo-cardenas already scraped. Skipping.\n"
     ]
    },
    {
     "name": "stderr",
     "output_type": "stream",
     "text": [
      " 13%|█▎        | 2456/18934 [39:42<6:14:39,  1.36s/it]"
     ]
    },
    {
     "name": "stdout",
     "output_type": "stream",
     "text": [
      "[INFO] User Nemo64 already scraped. Skipping.\n"
     ]
    },
    {
     "name": "stderr",
     "output_type": "stream",
     "text": [
      " 13%|█▎        | 2459/18934 [39:49<8:51:17,  1.93s/it]"
     ]
    },
    {
     "name": "stdout",
     "output_type": "stream",
     "text": [
      "[INFO] User koki-shino-couger already scraped. Skipping.\n"
     ]
    },
    {
     "name": "stderr",
     "output_type": "stream",
     "text": [
      " 13%|█▎        | 2462/18934 [39:52<6:48:04,  1.49s/it]"
     ]
    },
    {
     "name": "stdout",
     "output_type": "stream",
     "text": [
      "[INFO] User lucasbento already scraped. Skipping.\n",
      "[INFO] User i18next already scraped. Skipping.\n",
      "[INFO] User astunov already scraped. Skipping.\n",
      "[INFO] User medhavibasera already scraped. Skipping.\n",
      "[INFO] User QTimort already scraped. Skipping.\n"
     ]
    },
    {
     "name": "stderr",
     "output_type": "stream",
     "text": [
      " 13%|█▎        | 2470/18934 [40:01<6:02:58,  1.32s/it]"
     ]
    },
    {
     "name": "stdout",
     "output_type": "stream",
     "text": [
      "[INFO] User bstro already scraped. Skipping.\n"
     ]
    },
    {
     "name": "stderr",
     "output_type": "stream",
     "text": [
      " 13%|█▎        | 2472/18934 [40:03<6:06:42,  1.34s/it]"
     ]
    },
    {
     "name": "stdout",
     "output_type": "stream",
     "text": [
      "[INFO] User nikitapilgrim already scraped. Skipping.\n",
      "[INFO] User klaaay already scraped. Skipping.\n"
     ]
    },
    {
     "name": "stderr",
     "output_type": "stream",
     "text": [
      " 13%|█▎        | 2477/18934 [40:07<4:22:01,  1.05it/s]"
     ]
    },
    {
     "name": "stdout",
     "output_type": "stream",
     "text": [
      "User NazoSnare has more than 300 repos, skipping.\n"
     ]
    },
    {
     "name": "stderr",
     "output_type": "stream",
     "text": [
      " 13%|█▎        | 2478/18934 [40:09<5:57:17,  1.30s/it]"
     ]
    },
    {
     "name": "stdout",
     "output_type": "stream",
     "text": [
      "[INFO] User cristobal-io already scraped. Skipping.\n",
      "[INFO] User SangchoKim already scraped. Skipping.\n"
     ]
    },
    {
     "name": "stderr",
     "output_type": "stream",
     "text": [
      " 13%|█▎        | 2481/18934 [40:10<3:52:31,  1.18it/s]"
     ]
    },
    {
     "name": "stdout",
     "output_type": "stream",
     "text": [
      "[INFO] User fabiochiquezi already scraped. Skipping.\n"
     ]
    },
    {
     "name": "stderr",
     "output_type": "stream",
     "text": [
      " 13%|█▎        | 2484/18934 [40:14<4:36:28,  1.01s/it]"
     ]
    },
    {
     "name": "stdout",
     "output_type": "stream",
     "text": [
      "[INFO] User CarlosSimon02 already scraped. Skipping.\n",
      "[INFO] User thejimmylin already scraped. Skipping.\n",
      "[INFO] User StarpTech already scraped. Skipping.\n"
     ]
    },
    {
     "name": "stderr",
     "output_type": "stream",
     "text": [
      " 13%|█▎        | 2489/18934 [40:17<3:36:15,  1.27it/s]"
     ]
    },
    {
     "name": "stdout",
     "output_type": "stream",
     "text": [
      "[INFO] User ndelangen already scraped. Skipping.\n"
     ]
    },
    {
     "name": "stderr",
     "output_type": "stream",
     "text": [
      " 13%|█▎        | 2498/18934 [40:36<6:13:18,  1.36s/it] "
     ]
    },
    {
     "name": "stdout",
     "output_type": "stream",
     "text": [
      "User simonfan has more than 300 repos, skipping.\n",
      "[INFO] User shunkakinoki already scraped. Skipping.\n"
     ]
    },
    {
     "name": "stderr",
     "output_type": "stream",
     "text": [
      " 13%|█▎        | 2500/18934 [40:38<5:19:56,  1.17s/it]"
     ]
    },
    {
     "name": "stdout",
     "output_type": "stream",
     "text": [
      "[INFO] User shulhani already scraped. Skipping.\n"
     ]
    },
    {
     "name": "stderr",
     "output_type": "stream",
     "text": [
      " 13%|█▎        | 2502/18934 [40:45<9:42:47,  2.13s/it]"
     ]
    },
    {
     "name": "stdout",
     "output_type": "stream",
     "text": [
      "[INFO] User paolocorti already scraped. Skipping.\n",
      "[INFO] User 0x7673 already scraped. Skipping.\n",
      "[INFO] User mathewjordan already scraped. Skipping.\n",
      "[INFO] User 386jp already scraped. Skipping.\n",
      "[INFO] User gaearon already scraped. Skipping.\n",
      "[INFO] User eriknguyen already scraped. Skipping.\n"
     ]
    },
    {
     "name": "stderr",
     "output_type": "stream",
     "text": [
      " 13%|█▎        | 2510/18934 [40:48<4:23:26,  1.04it/s]"
     ]
    },
    {
     "name": "stdout",
     "output_type": "stream",
     "text": [
      "[INFO] User victorbenedict already scraped. Skipping.\n",
      "[INFO] User scottarnold already scraped. Skipping.\n",
      "[INFO] User tientran0019 already scraped. Skipping.\n",
      "[INFO] User sonergonencler already scraped. Skipping.\n"
     ]
    },
    {
     "name": "stderr",
     "output_type": "stream",
     "text": [
      " 13%|█▎        | 2516/18934 [40:55<5:08:16,  1.13s/it]"
     ]
    },
    {
     "name": "stdout",
     "output_type": "stream",
     "text": [
      "[INFO] User kyung-lee-official already scraped. Skipping.\n",
      "[INFO] User NotAPattern already scraped. Skipping.\n",
      "[INFO] User mustafakibar already scraped. Skipping.\n"
     ]
    },
    {
     "name": "stderr",
     "output_type": "stream",
     "text": [
      " 13%|█▎        | 2521/18934 [41:08<8:17:03,  1.82s/it]"
     ]
    },
    {
     "name": "stdout",
     "output_type": "stream",
     "text": [
      "[INFO] User facebookexperimental already scraped. Skipping.\n"
     ]
    },
    {
     "name": "stderr",
     "output_type": "stream",
     "text": [
      " 13%|█▎        | 2523/18934 [41:09<6:53:23,  1.51s/it]"
     ]
    },
    {
     "name": "stdout",
     "output_type": "stream",
     "text": [
      "[INFO] User osvaldokalvaitir already scraped. Skipping.\n",
      "[INFO] User venivediveci already scraped. Skipping.\n",
      "[INFO] User t45978 already scraped. Skipping.\n"
     ]
    },
    {
     "name": "stderr",
     "output_type": "stream",
     "text": [
      " 13%|█▎        | 2527/18934 [41:12<5:10:55,  1.14s/it]"
     ]
    },
    {
     "name": "stdout",
     "output_type": "stream",
     "text": [
      "[INFO] User ciffelia already scraped. Skipping.\n"
     ]
    },
    {
     "name": "stderr",
     "output_type": "stream",
     "text": [
      " 13%|█▎        | 2529/18934 [41:16<6:22:19,  1.40s/it]"
     ]
    },
    {
     "name": "stdout",
     "output_type": "stream",
     "text": [
      "[INFO] User wzla already scraped. Skipping.\n"
     ]
    },
    {
     "name": "stderr",
     "output_type": "stream",
     "text": [
      " 13%|█▎        | 2531/18934 [41:18<5:58:56,  1.31s/it]"
     ]
    },
    {
     "name": "stdout",
     "output_type": "stream",
     "text": [
      "[INFO] User nemanja85 already scraped. Skipping.\n"
     ]
    },
    {
     "name": "stderr",
     "output_type": "stream",
     "text": [
      " 13%|█▎        | 2535/18934 [41:24<6:10:01,  1.35s/it]"
     ]
    },
    {
     "name": "stdout",
     "output_type": "stream",
     "text": [
      "[INFO] User microsoft already scraped. Skipping.\n",
      "[INFO] User druvisc already scraped. Skipping.\n",
      "[INFO] User YellowTech already scraped. Skipping.\n"
     ]
    },
    {
     "name": "stderr",
     "output_type": "stream",
     "text": [
      " 13%|█▎        | 2541/18934 [41:30<5:46:32,  1.27s/it]"
     ]
    },
    {
     "name": "stdout",
     "output_type": "stream",
     "text": [
      "[INFO] User shrekuu already scraped. Skipping.\n",
      "[INFO] User cuikaipeng already scraped. Skipping.\n"
     ]
    },
    {
     "name": "stderr",
     "output_type": "stream",
     "text": [
      " 13%|█▎        | 2544/18934 [41:33<5:19:25,  1.17s/it]"
     ]
    },
    {
     "name": "stdout",
     "output_type": "stream",
     "text": [
      "[INFO] User osedoe already scraped. Skipping.\n",
      "[INFO] User csabapalfi already scraped. Skipping.\n"
     ]
    },
    {
     "name": "stderr",
     "output_type": "stream",
     "text": [
      " 13%|█▎        | 2548/18934 [41:36<4:34:02,  1.00s/it]"
     ]
    },
    {
     "name": "stdout",
     "output_type": "stream",
     "text": [
      "[INFO] User ryota-murakami already scraped. Skipping.\n",
      "[INFO] User shivjsdev already scraped. Skipping.\n",
      "[INFO] User felixmosh already scraped. Skipping.\n",
      "[INFO] User JoV5 already scraped. Skipping.\n",
      "[INFO] User shinyuna already scraped. Skipping.\n"
     ]
    },
    {
     "name": "stderr",
     "output_type": "stream",
     "text": [
      " 13%|█▎        | 2555/18934 [41:42<4:28:46,  1.02it/s]"
     ]
    },
    {
     "name": "stdout",
     "output_type": "stream",
     "text": [
      "[INFO] User ansonchaan already scraped. Skipping.\n"
     ]
    },
    {
     "name": "stderr",
     "output_type": "stream",
     "text": [
      " 14%|█▎        | 2557/18934 [41:44<4:23:38,  1.04it/s]"
     ]
    },
    {
     "name": "stdout",
     "output_type": "stream",
     "text": [
      "[INFO] User ryanoglesby08 already scraped. Skipping.\n"
     ]
    },
    {
     "name": "stderr",
     "output_type": "stream",
     "text": [
      " 14%|█▎        | 2559/18934 [41:46<4:36:13,  1.01s/it]"
     ]
    },
    {
     "name": "stdout",
     "output_type": "stream",
     "text": [
      "[INFO] User derickwarshaw already scraped. Skipping.\n",
      "[INFO] User TheRakeshPurohit already scraped. Skipping.\n"
     ]
    },
    {
     "name": "stderr",
     "output_type": "stream",
     "text": [
      " 14%|█▎        | 2562/18934 [41:48<4:06:43,  1.11it/s]"
     ]
    },
    {
     "name": "stdout",
     "output_type": "stream",
     "text": [
      "[INFO] User Runor0624 already scraped. Skipping.\n",
      "[INFO] User mohammadxali already scraped. Skipping.\n"
     ]
    },
    {
     "name": "stderr",
     "output_type": "stream",
     "text": [
      " 14%|█▎        | 2567/18934 [42:05<11:17:52,  2.49s/it]"
     ]
    },
    {
     "name": "stdout",
     "output_type": "stream",
     "text": [
      "[INFO] User erichartline already scraped. Skipping.\n",
      "[INFO] User edmon1024 already scraped. Skipping.\n"
     ]
    },
    {
     "name": "stderr",
     "output_type": "stream",
     "text": [
      " 14%|█▎        | 2571/18934 [42:07<6:49:45,  1.50s/it] "
     ]
    },
    {
     "name": "stdout",
     "output_type": "stream",
     "text": [
      "[INFO] User jxnblk already scraped. Skipping.\n"
     ]
    },
    {
     "name": "stderr",
     "output_type": "stream",
     "text": [
      " 14%|█▎        | 2574/18934 [42:11<6:05:38,  1.34s/it]"
     ]
    },
    {
     "name": "stdout",
     "output_type": "stream",
     "text": [
      "User dexit has more than 300 repos, skipping.\n",
      "[INFO] User delete already scraped. Skipping.\n",
      "[INFO] User HaixingOoO already scraped. Skipping.\n",
      "[INFO] User jalalazimi already scraped. Skipping.\n",
      "[INFO] User kocisov already scraped. Skipping.\n"
     ]
    },
    {
     "name": "stderr",
     "output_type": "stream",
     "text": [
      " 14%|█▎        | 2579/18934 [42:13<3:25:13,  1.33it/s]"
     ]
    },
    {
     "name": "stdout",
     "output_type": "stream",
     "text": [
      "[INFO] User drahmedshaheen already scraped. Skipping.\n"
     ]
    },
    {
     "name": "stderr",
     "output_type": "stream",
     "text": [
      " 14%|█▎        | 2581/18934 [42:13<3:03:20,  1.49it/s]"
     ]
    },
    {
     "name": "stdout",
     "output_type": "stream",
     "text": [
      "[INFO] User heypeanut already scraped. Skipping.\n"
     ]
    },
    {
     "name": "stderr",
     "output_type": "stream",
     "text": [
      " 14%|█▎        | 2584/18934 [42:19<5:18:59,  1.17s/it]"
     ]
    },
    {
     "name": "stdout",
     "output_type": "stream",
     "text": [
      "[INFO] User hasibhassan already scraped. Skipping.\n",
      "[INFO] User wasjakub already scraped. Skipping.\n",
      "[INFO] User pmowrer already scraped. Skipping.\n"
     ]
    },
    {
     "name": "stderr",
     "output_type": "stream",
     "text": [
      " 14%|█▎        | 2588/18934 [42:20<3:24:11,  1.33it/s]"
     ]
    },
    {
     "name": "stdout",
     "output_type": "stream",
     "text": [
      "[INFO] User loiclaudet already scraped. Skipping.\n",
      "[INFO] User s-ong-c already scraped. Skipping.\n"
     ]
    },
    {
     "name": "stderr",
     "output_type": "stream",
     "text": [
      " 14%|█▎        | 2591/18934 [42:23<3:37:37,  1.25it/s]"
     ]
    },
    {
     "name": "stdout",
     "output_type": "stream",
     "text": [
      "[INFO] User thomasKn already scraped. Skipping.\n",
      "[INFO] User Fiju already scraped. Skipping.\n",
      "[INFO] User Bluorenge already scraped. Skipping.\n",
      "[INFO] User Eiies already scraped. Skipping.\n",
      "[INFO] User sergej-s already scraped. Skipping.\n",
      "[INFO] User zhangchao828 already scraped. Skipping.\n",
      "[INFO] User f0-x already scraped. Skipping.\n",
      "[INFO] User YieldRay already scraped. Skipping.\n",
      "[INFO] User OscarWoHA already scraped. Skipping.\n"
     ]
    },
    {
     "name": "stderr",
     "output_type": "stream",
     "text": [
      " 14%|█▎        | 2601/18934 [42:24<1:42:26,  2.66it/s]"
     ]
    },
    {
     "name": "stdout",
     "output_type": "stream",
     "text": [
      "[INFO] User nathanssantos already scraped. Skipping.\n",
      "[INFO] User lesterfernandez already scraped. Skipping.\n",
      "[INFO] User Alioth1017 already scraped. Skipping.\n",
      "[INFO] User MaybeMonad already scraped. Skipping.\n",
      "[INFO] User fkhadra already scraped. Skipping.\n",
      "[INFO] User dudarau already scraped. Skipping.\n"
     ]
    },
    {
     "name": "stderr",
     "output_type": "stream",
     "text": [
      " 14%|█▍        | 2608/18934 [42:25<1:18:16,  3.48it/s]"
     ]
    },
    {
     "name": "stdout",
     "output_type": "stream",
     "text": [
      "[INFO] User zackautocracy already scraped. Skipping.\n"
     ]
    },
    {
     "name": "stderr",
     "output_type": "stream",
     "text": [
      " 14%|█▍        | 2618/18934 [42:44<8:32:56,  1.89s/it]"
     ]
    },
    {
     "name": "stdout",
     "output_type": "stream",
     "text": [
      "[INFO] User emresandikci already scraped. Skipping.\n",
      "[INFO] User kgtkr already scraped. Skipping.\n",
      "[INFO] User thomasklemm already scraped. Skipping.\n",
      "[INFO] User pozymasika already scraped. Skipping.\n"
     ]
    },
    {
     "name": "stderr",
     "output_type": "stream",
     "text": [
      " 14%|█▍        | 2623/18934 [42:44<3:31:57,  1.28it/s]"
     ]
    },
    {
     "name": "stdout",
     "output_type": "stream",
     "text": [
      "[INFO] User arrigolupori already scraped. Skipping.\n",
      "[INFO] User cbcruk already scraped. Skipping.\n",
      "[INFO] User ysu-gjx already scraped. Skipping.\n"
     ]
    },
    {
     "name": "stderr",
     "output_type": "stream",
     "text": [
      " 14%|█▍        | 2632/18934 [43:00<8:58:52,  1.98s/it]"
     ]
    },
    {
     "name": "stdout",
     "output_type": "stream",
     "text": [
      "[INFO] User pinkguyius already scraped. Skipping.\n"
     ]
    },
    {
     "name": "stderr",
     "output_type": "stream",
     "text": [
      " 14%|█▍        | 2634/18934 [43:04<8:20:31,  1.84s/it]"
     ]
    },
    {
     "name": "stdout",
     "output_type": "stream",
     "text": [
      "[INFO] User lucian-dev already scraped. Skipping.\n"
     ]
    },
    {
     "name": "stderr",
     "output_type": "stream",
     "text": [
      " 14%|█▍        | 2638/18934 [43:10<8:03:10,  1.78s/it]"
     ]
    },
    {
     "name": "stdout",
     "output_type": "stream",
     "text": [
      "[INFO] User spoeken already scraped. Skipping.\n",
      "[INFO] User osawasatoru already scraped. Skipping.\n"
     ]
    },
    {
     "name": "stderr",
     "output_type": "stream",
     "text": [
      " 14%|█▍        | 2647/18934 [43:28<10:25:58,  2.31s/it]"
     ]
    },
    {
     "name": "stdout",
     "output_type": "stream",
     "text": [
      "[INFO] User mofelee already scraped. Skipping.\n",
      "[INFO] User karmingc already scraped. Skipping.\n",
      "[INFO] User the-cc-dev already scraped. Skipping.\n",
      "[INFO] User hw0k already scraped. Skipping.\n",
      "[INFO] User zeroarst already scraped. Skipping.\n",
      "[INFO] User xnimorz already scraped. Skipping.\n",
      "[INFO] User lineCode already scraped. Skipping.\n",
      "[INFO] User websterchak already scraped. Skipping.\n",
      "[INFO] User chiga0 already scraped. Skipping.\n"
     ]
    },
    {
     "name": "stderr",
     "output_type": "stream",
     "text": [
      " 14%|█▍        | 2658/18934 [43:37<5:39:57,  1.25s/it] "
     ]
    },
    {
     "name": "stdout",
     "output_type": "stream",
     "text": [
      "[INFO] User fwcd already scraped. Skipping.\n"
     ]
    },
    {
     "name": "stderr",
     "output_type": "stream",
     "text": [
      " 14%|█▍        | 2660/18934 [43:40<5:37:09,  1.24s/it]"
     ]
    },
    {
     "name": "stdout",
     "output_type": "stream",
     "text": [
      "[INFO] User mitsuruog already scraped. Skipping.\n",
      "[INFO] User sofineo already scraped. Skipping.\n",
      "[INFO] User poppinss already scraped. Skipping.\n"
     ]
    },
    {
     "name": "stderr",
     "output_type": "stream",
     "text": [
      " 14%|█▍        | 2666/18934 [43:46<5:01:10,  1.11s/it]"
     ]
    },
    {
     "name": "stdout",
     "output_type": "stream",
     "text": [
      "[INFO] User loquemedalagana already scraped. Skipping.\n"
     ]
    },
    {
     "name": "stderr",
     "output_type": "stream",
     "text": [
      " 14%|█▍        | 2668/18934 [43:48<4:51:43,  1.08s/it]"
     ]
    },
    {
     "name": "stdout",
     "output_type": "stream",
     "text": [
      "[INFO] User mthines already scraped. Skipping.\n"
     ]
    },
    {
     "name": "stderr",
     "output_type": "stream",
     "text": [
      " 14%|█▍        | 2671/18934 [43:51<5:07:41,  1.14s/it]"
     ]
    },
    {
     "name": "stdout",
     "output_type": "stream",
     "text": [
      "[INFO] User alexanderwallin already scraped. Skipping.\n"
     ]
    },
    {
     "name": "stderr",
     "output_type": "stream",
     "text": [
      " 14%|█▍        | 2674/18934 [43:54<4:52:09,  1.08s/it]"
     ]
    },
    {
     "name": "stdout",
     "output_type": "stream",
     "text": [
      "[INFO] User blckrabbit already scraped. Skipping.\n"
     ]
    },
    {
     "name": "stderr",
     "output_type": "stream",
     "text": [
      " 14%|█▍        | 2676/18934 [43:56<4:53:09,  1.08s/it]"
     ]
    },
    {
     "name": "stdout",
     "output_type": "stream",
     "text": [
      "[INFO] User Archakov06 already scraped. Skipping.\n",
      "[INFO] User 999843 already scraped. Skipping.\n"
     ]
    },
    {
     "name": "stderr",
     "output_type": "stream",
     "text": [
      " 14%|█▍        | 2680/18934 [44:02<5:48:50,  1.29s/it]"
     ]
    },
    {
     "name": "stdout",
     "output_type": "stream",
     "text": [
      "[INFO] User jmcancode already scraped. Skipping.\n",
      "[INFO] User frankspin89 already scraped. Skipping.\n",
      "[INFO] User brantem already scraped. Skipping.\n"
     ]
    },
    {
     "name": "stderr",
     "output_type": "stream",
     "text": [
      " 14%|█▍        | 2684/18934 [44:03<3:38:37,  1.24it/s]"
     ]
    },
    {
     "name": "stdout",
     "output_type": "stream",
     "text": [
      "[INFO] User rumtraubenuss already scraped. Skipping.\n",
      "[INFO] User gky360 already scraped. Skipping.\n",
      "[INFO] User ricokahler already scraped. Skipping.\n"
     ]
    },
    {
     "name": "stderr",
     "output_type": "stream",
     "text": [
      " 14%|█▍        | 2688/18934 [44:08<4:13:11,  1.07it/s]"
     ]
    },
    {
     "name": "stdout",
     "output_type": "stream",
     "text": [
      "[INFO] User ValchanOficial already scraped. Skipping.\n"
     ]
    },
    {
     "name": "stderr",
     "output_type": "stream",
     "text": [
      " 14%|█▍        | 2692/18934 [44:19<7:55:06,  1.76s/it]"
     ]
    },
    {
     "name": "stdout",
     "output_type": "stream",
     "text": [
      "[INFO] User nakaakist already scraped. Skipping.\n"
     ]
    },
    {
     "name": "stderr",
     "output_type": "stream",
     "text": [
      " 14%|█▍        | 2696/18934 [44:27<8:43:16,  1.93s/it]"
     ]
    },
    {
     "name": "stdout",
     "output_type": "stream",
     "text": [
      "[INFO] User eagrwx already scraped. Skipping.\n"
     ]
    },
    {
     "name": "stderr",
     "output_type": "stream",
     "text": [
      " 14%|█▍        | 2700/18934 [44:31<6:04:47,  1.35s/it]"
     ]
    },
    {
     "name": "stdout",
     "output_type": "stream",
     "text": [
      "[INFO] User BaroqueEngine already scraped. Skipping.\n"
     ]
    },
    {
     "name": "stderr",
     "output_type": "stream",
     "text": [
      " 14%|█▍        | 2702/18934 [44:34<6:33:08,  1.45s/it]"
     ]
    },
    {
     "name": "stdout",
     "output_type": "stream",
     "text": [
      "[INFO] User Reklino already scraped. Skipping.\n"
     ]
    },
    {
     "name": "stderr",
     "output_type": "stream",
     "text": [
      " 14%|█▍        | 2706/18934 [44:39<6:13:56,  1.38s/it]"
     ]
    },
    {
     "name": "stdout",
     "output_type": "stream",
     "text": [
      "[INFO] User raochoar already scraped. Skipping.\n",
      "[INFO] User mohammadzr already scraped. Skipping.\n",
      "[INFO] User NickCallaghan already scraped. Skipping.\n",
      "[INFO] User sixheads already scraped. Skipping.\n",
      "[INFO] User makaria already scraped. Skipping.\n",
      "[INFO] User KennFatt already scraped. Skipping.\n"
     ]
    },
    {
     "name": "stderr",
     "output_type": "stream",
     "text": [
      " 14%|█▍        | 2722/18934 [45:08<12:46:59,  2.84s/it]"
     ]
    },
    {
     "name": "stdout",
     "output_type": "stream",
     "text": [
      "[INFO] User tzkmx already scraped. Skipping.\n",
      "[INFO] User Turtle-Hwan already scraped. Skipping.\n",
      "[INFO] User MiroDojkic already scraped. Skipping.\n",
      "[INFO] User lujunji-1 already scraped. Skipping.\n"
     ]
    },
    {
     "name": "stderr",
     "output_type": "stream",
     "text": [
      " 14%|█▍        | 2727/18934 [45:10<4:59:02,  1.11s/it] "
     ]
    },
    {
     "name": "stdout",
     "output_type": "stream",
     "text": [
      "[INFO] User everurstruly already scraped. Skipping.\n",
      "[INFO] User lethang7794 already scraped. Skipping.\n"
     ]
    },
    {
     "name": "stderr",
     "output_type": "stream",
     "text": [
      " 14%|█▍        | 2730/18934 [45:11<4:10:22,  1.08it/s]"
     ]
    },
    {
     "name": "stdout",
     "output_type": "stream",
     "text": [
      "[INFO] User flex-uyeong already scraped. Skipping.\n",
      "[INFO] User keys2code already scraped. Skipping.\n",
      "[INFO] User cid8600 already scraped. Skipping.\n",
      "[INFO] User TiveCS already scraped. Skipping.\n",
      "[INFO] User anton-liubushkin already scraped. Skipping.\n"
     ]
    },
    {
     "name": "stderr",
     "output_type": "stream",
     "text": [
      " 14%|█▍        | 2737/18934 [45:17<3:51:48,  1.16it/s]"
     ]
    },
    {
     "name": "stdout",
     "output_type": "stream",
     "text": [
      "[INFO] User ocho-sadot already scraped. Skipping.\n"
     ]
    },
    {
     "name": "stderr",
     "output_type": "stream",
     "text": [
      " 14%|█▍        | 2740/18934 [45:26<6:51:01,  1.52s/it]"
     ]
    },
    {
     "name": "stdout",
     "output_type": "stream",
     "text": [
      "[INFO] User art-ash already scraped. Skipping.\n"
     ]
    },
    {
     "name": "stderr",
     "output_type": "stream",
     "text": [
      " 14%|█▍        | 2742/18934 [45:27<5:30:27,  1.22s/it]"
     ]
    },
    {
     "name": "stdout",
     "output_type": "stream",
     "text": [
      "[INFO] User jet12790 already scraped. Skipping.\n"
     ]
    },
    {
     "name": "stderr",
     "output_type": "stream",
     "text": [
      " 15%|█▍        | 2747/18934 [45:39<10:46:14,  2.40s/it]"
     ]
    },
    {
     "name": "stdout",
     "output_type": "stream",
     "text": [
      "[INFO] User botway already scraped. Skipping.\n",
      "[INFO] User ibqn already scraped. Skipping.\n"
     ]
    },
    {
     "name": "stderr",
     "output_type": "stream",
     "text": [
      " 15%|█▍        | 2750/18934 [45:42<7:32:46,  1.68s/it] "
     ]
    },
    {
     "name": "stdout",
     "output_type": "stream",
     "text": [
      "[INFO] User tiersept already scraped. Skipping.\n",
      "[INFO] User wisnuyasha already scraped. Skipping.\n",
      "[INFO] User grgur already scraped. Skipping.\n",
      "[INFO] User xav-ie already scraped. Skipping.\n",
      "[INFO] User silkquasar already scraped. Skipping.\n",
      "[INFO] User lamhan3012cmvn already scraped. Skipping.\n"
     ]
    },
    {
     "name": "stderr",
     "output_type": "stream",
     "text": [
      " 15%|█▍        | 2758/18934 [45:48<5:20:18,  1.19s/it]"
     ]
    },
    {
     "name": "stdout",
     "output_type": "stream",
     "text": [
      "[INFO] User raineorshine already scraped. Skipping.\n"
     ]
    },
    {
     "name": "stderr",
     "output_type": "stream",
     "text": [
      " 15%|█▍        | 2760/18934 [45:51<5:18:06,  1.18s/it]"
     ]
    },
    {
     "name": "stdout",
     "output_type": "stream",
     "text": [
      "[INFO] User dohooo already scraped. Skipping.\n",
      "[INFO] User qiutian00 already scraped. Skipping.\n",
      "[INFO] User czp3009 already scraped. Skipping.\n"
     ]
    },
    {
     "name": "stderr",
     "output_type": "stream",
     "text": [
      " 15%|█▍        | 2764/18934 [45:52<3:34:54,  1.25it/s]"
     ]
    },
    {
     "name": "stdout",
     "output_type": "stream",
     "text": [
      "[INFO] User ryparker already scraped. Skipping.\n"
     ]
    },
    {
     "name": "stderr",
     "output_type": "stream",
     "text": [
      " 15%|█▍        | 2766/18934 [45:54<3:56:08,  1.14it/s]"
     ]
    },
    {
     "name": "stdout",
     "output_type": "stream",
     "text": [
      "[INFO] User waldemirflj already scraped. Skipping.\n"
     ]
    },
    {
     "name": "stderr",
     "output_type": "stream",
     "text": [
      " 15%|█▍        | 2768/18934 [45:55<3:29:13,  1.29it/s]"
     ]
    },
    {
     "name": "stdout",
     "output_type": "stream",
     "text": [
      "[INFO] User wood3n already scraped. Skipping.\n"
     ]
    },
    {
     "name": "stderr",
     "output_type": "stream",
     "text": [
      " 15%|█▍        | 2770/18934 [45:57<3:58:29,  1.13it/s]"
     ]
    },
    {
     "name": "stdout",
     "output_type": "stream",
     "text": [
      "[INFO] User mhazizk already scraped. Skipping.\n"
     ]
    },
    {
     "name": "stderr",
     "output_type": "stream",
     "text": [
      " 15%|█▍        | 2772/18934 [46:01<4:58:52,  1.11s/it]"
     ]
    },
    {
     "name": "stdout",
     "output_type": "stream",
     "text": [
      "[INFO] User ksvkabra already scraped. Skipping.\n",
      "[INFO] User chalermkried already scraped. Skipping.\n",
      "[INFO] User metuuu already scraped. Skipping.\n",
      "[INFO] User pontusab already scraped. Skipping.\n"
     ]
    },
    {
     "name": "stderr",
     "output_type": "stream",
     "text": [
      " 15%|█▍        | 2777/18934 [46:10<6:44:40,  1.50s/it]"
     ]
    },
    {
     "name": "stdout",
     "output_type": "stream",
     "text": [
      "[INFO] User mikedubcurry already scraped. Skipping.\n"
     ]
    },
    {
     "name": "stderr",
     "output_type": "stream",
     "text": [
      " 15%|█▍        | 2779/18934 [46:19<9:46:56,  2.18s/it]"
     ]
    },
    {
     "name": "stdout",
     "output_type": "stream",
     "text": [
      "[INFO] User jucian0 already scraped. Skipping.\n",
      "[INFO] User nickmcmillan already scraped. Skipping.\n",
      "[INFO] User takuma104 already scraped. Skipping.\n"
     ]
    },
    {
     "name": "stderr",
     "output_type": "stream",
     "text": [
      " 15%|█▍        | 2783/18934 [46:21<6:43:30,  1.50s/it]"
     ]
    },
    {
     "name": "stdout",
     "output_type": "stream",
     "text": [
      "[INFO] User cloud2303 already scraped. Skipping.\n",
      "[INFO] User crismali already scraped. Skipping.\n",
      "[INFO] User huckbit already scraped. Skipping.\n"
     ]
    },
    {
     "name": "stderr",
     "output_type": "stream",
     "text": [
      " 15%|█▍        | 2787/18934 [46:23<5:18:27,  1.18s/it]"
     ]
    },
    {
     "name": "stdout",
     "output_type": "stream",
     "text": [
      "[INFO] User Agiothyella already scraped. Skipping.\n",
      "[INFO] User mgtitimoli already scraped. Skipping.\n",
      "[INFO] User jackinf already scraped. Skipping.\n",
      "[INFO] User everdrone already scraped. Skipping.\n"
     ]
    },
    {
     "name": "stderr",
     "output_type": "stream",
     "text": [
      " 15%|█▍        | 2793/18934 [46:28<4:21:35,  1.03it/s]"
     ]
    },
    {
     "name": "stdout",
     "output_type": "stream",
     "text": [
      "[INFO] User buixuanhai already scraped. Skipping.\n"
     ]
    },
    {
     "name": "stderr",
     "output_type": "stream",
     "text": [
      " 15%|█▍        | 2797/18934 [46:33<5:15:45,  1.17s/it]"
     ]
    },
    {
     "name": "stdout",
     "output_type": "stream",
     "text": [
      "[INFO] User arminbro already scraped. Skipping.\n",
      "[INFO] User huynhducduy already scraped. Skipping.\n",
      "[INFO] User zoujia already scraped. Skipping.\n"
     ]
    },
    {
     "name": "stderr",
     "output_type": "stream",
     "text": [
      " 15%|█▍        | 2803/18934 [46:41<7:03:49,  1.58s/it]"
     ]
    },
    {
     "name": "stdout",
     "output_type": "stream",
     "text": [
      "[INFO] User ihatem already scraped. Skipping.\n"
     ]
    },
    {
     "name": "stderr",
     "output_type": "stream",
     "text": [
      " 15%|█▍        | 2805/18934 [46:43<6:48:22,  1.52s/it]"
     ]
    },
    {
     "name": "stdout",
     "output_type": "stream",
     "text": [
      "[INFO] User junioralvesbr already scraped. Skipping.\n",
      "[INFO] User limpid-kzonix already scraped. Skipping.\n",
      "[INFO] User pjans already scraped. Skipping.\n"
     ]
    },
    {
     "name": "stderr",
     "output_type": "stream",
     "text": [
      " 15%|█▍        | 2811/18934 [46:51<6:35:55,  1.47s/it]"
     ]
    },
    {
     "name": "stdout",
     "output_type": "stream",
     "text": [
      "[INFO] User dragma already scraped. Skipping.\n",
      "[INFO] User Dup4 already scraped. Skipping.\n",
      "[INFO] User jacob-beltran already scraped. Skipping.\n"
     ]
    },
    {
     "name": "stderr",
     "output_type": "stream",
     "text": [
      " 15%|█▍        | 2817/18934 [47:10<13:13:43,  2.95s/it]"
     ]
    },
    {
     "name": "stdout",
     "output_type": "stream",
     "text": [
      "[INFO] User matiishyn already scraped. Skipping.\n"
     ]
    },
    {
     "name": "stderr",
     "output_type": "stream",
     "text": [
      " 15%|█▍        | 2820/18934 [47:16<11:18:18,  2.53s/it]"
     ]
    },
    {
     "name": "stdout",
     "output_type": "stream",
     "text": [
      "[INFO] User sidd already scraped. Skipping.\n",
      "[INFO] User b2whats already scraped. Skipping.\n",
      "[INFO] User KonstantinosAng already scraped. Skipping.\n",
      "[INFO] User snjssk already scraped. Skipping.\n"
     ]
    },
    {
     "name": "stderr",
     "output_type": "stream",
     "text": [
      " 15%|█▍        | 2825/18934 [47:18<5:49:45,  1.30s/it] "
     ]
    },
    {
     "name": "stdout",
     "output_type": "stream",
     "text": [
      "[INFO] User TianboZ already scraped. Skipping.\n",
      "[INFO] User morellodev already scraped. Skipping.\n",
      "[INFO] User vimutti77 already scraped. Skipping.\n"
     ]
    },
    {
     "name": "stderr",
     "output_type": "stream",
     "text": [
      " 15%|█▍        | 2829/18934 [47:20<4:26:09,  1.01it/s]"
     ]
    },
    {
     "name": "stdout",
     "output_type": "stream",
     "text": [
      "[INFO] User zy1p already scraped. Skipping.\n"
     ]
    },
    {
     "name": "stderr",
     "output_type": "stream",
     "text": [
      " 15%|█▍        | 2831/18934 [47:25<5:48:01,  1.30s/it]"
     ]
    },
    {
     "name": "stdout",
     "output_type": "stream",
     "text": [
      "[INFO] User v-pietro already scraped. Skipping.\n",
      "[INFO] User terkelg already scraped. Skipping.\n"
     ]
    },
    {
     "name": "stderr",
     "output_type": "stream",
     "text": [
      " 15%|█▍        | 2835/18934 [47:28<5:06:59,  1.14s/it]"
     ]
    },
    {
     "name": "stdout",
     "output_type": "stream",
     "text": [
      "[INFO] User fabiau already scraped. Skipping.\n"
     ]
    },
    {
     "name": "stderr",
     "output_type": "stream",
     "text": [
      " 15%|█▍        | 2838/18934 [47:34<6:36:00,  1.48s/it]"
     ]
    },
    {
     "name": "stdout",
     "output_type": "stream",
     "text": [
      "[INFO] User traqx already scraped. Skipping.\n",
      "[INFO] User perchjackson already scraped. Skipping.\n",
      "[INFO] User theMosaad already scraped. Skipping.\n"
     ]
    },
    {
     "name": "stderr",
     "output_type": "stream",
     "text": [
      " 15%|█▌        | 2842/18934 [47:35<4:07:37,  1.08it/s]"
     ]
    },
    {
     "name": "stdout",
     "output_type": "stream",
     "text": [
      "[INFO] User hen-x already scraped. Skipping.\n",
      "[INFO] User shunke07 already scraped. Skipping.\n",
      "[INFO] User giuseppeg already scraped. Skipping.\n",
      "[INFO] User hazuremon already scraped. Skipping.\n",
      "[INFO] User muratcatal already scraped. Skipping.\n",
      "[INFO] User duonghoanghai already scraped. Skipping.\n"
     ]
    },
    {
     "name": "stderr",
     "output_type": "stream",
     "text": [
      " 15%|█▌        | 2849/18934 [47:37<2:41:10,  1.66it/s]"
     ]
    },
    {
     "name": "stdout",
     "output_type": "stream",
     "text": [
      "[INFO] User Leizhenpeng already scraped. Skipping.\n",
      "[INFO] User r2g already scraped. Skipping.\n"
     ]
    },
    {
     "name": "stderr",
     "output_type": "stream",
     "text": [
      " 15%|█▌        | 2852/18934 [47:38<2:23:33,  1.87it/s]"
     ]
    },
    {
     "name": "stdout",
     "output_type": "stream",
     "text": [
      "[INFO] User huazhuangnan already scraped. Skipping.\n"
     ]
    },
    {
     "name": "stderr",
     "output_type": "stream",
     "text": [
      " 15%|█▌        | 2854/18934 [47:41<2:57:27,  1.51it/s]"
     ]
    },
    {
     "name": "stdout",
     "output_type": "stream",
     "text": [
      "[INFO] User lint-staged already scraped. Skipping.\n",
      "[INFO] User arlandi already scraped. Skipping.\n",
      "[INFO] User aaronbrunet already scraped. Skipping.\n",
      "[INFO] User kiyotd already scraped. Skipping.\n"
     ]
    },
    {
     "name": "stderr",
     "output_type": "stream",
     "text": [
      " 15%|█▌        | 2861/18934 [47:47<4:24:29,  1.01it/s]"
     ]
    },
    {
     "name": "stdout",
     "output_type": "stream",
     "text": [
      "[INFO] User acf-patrick already scraped. Skipping.\n",
      "[INFO] User mfts already scraped. Skipping.\n",
      "[INFO] User moharnadreza already scraped. Skipping.\n",
      "[INFO] User stellarhoof already scraped. Skipping.\n",
      "[INFO] User AliBagheri2079 already scraped. Skipping.\n"
     ]
    },
    {
     "name": "stderr",
     "output_type": "stream",
     "text": [
      " 15%|█▌        | 2868/18934 [47:49<2:52:55,  1.55it/s]"
     ]
    },
    {
     "name": "stdout",
     "output_type": "stream",
     "text": [
      "[INFO] User katsiev1997 already scraped. Skipping.\n"
     ]
    },
    {
     "name": "stderr",
     "output_type": "stream",
     "text": [
      " 15%|█▌        | 2870/18934 [47:52<3:28:18,  1.29it/s]"
     ]
    },
    {
     "name": "stdout",
     "output_type": "stream",
     "text": [
      "[INFO] User stroemdev already scraped. Skipping.\n"
     ]
    },
    {
     "name": "stderr",
     "output_type": "stream",
     "text": [
      " 15%|█▌        | 2872/18934 [47:54<3:55:58,  1.13it/s]"
     ]
    },
    {
     "name": "stdout",
     "output_type": "stream",
     "text": [
      "[INFO] User brandonpapworth already scraped. Skipping.\n",
      "[INFO] User edisonLzy already scraped. Skipping.\n",
      "[INFO] User roygiladi already scraped. Skipping.\n"
     ]
    },
    {
     "name": "stderr",
     "output_type": "stream",
     "text": [
      " 15%|█▌        | 2876/18934 [47:55<2:38:05,  1.69it/s]"
     ]
    },
    {
     "name": "stdout",
     "output_type": "stream",
     "text": [
      "[INFO] User hytarys already scraped. Skipping.\n",
      "[INFO] User nurseiit already scraped. Skipping.\n",
      "[INFO] User aramis-it already scraped. Skipping.\n"
     ]
    },
    {
     "name": "stderr",
     "output_type": "stream",
     "text": [
      " 15%|█▌        | 2886/18934 [48:19<10:38:42,  2.39s/it]"
     ]
    },
    {
     "name": "stdout",
     "output_type": "stream",
     "text": [
      "[INFO] User Ce1ling already scraped. Skipping.\n",
      "[INFO] User neuotq already scraped. Skipping.\n",
      "[INFO] User theinvensi already scraped. Skipping.\n",
      "[INFO] User kik4 already scraped. Skipping.\n",
      "[INFO] User imanderson already scraped. Skipping.\n"
     ]
    },
    {
     "name": "stderr",
     "output_type": "stream",
     "text": [
      " 15%|█▌        | 2892/18934 [48:22<4:37:44,  1.04s/it] "
     ]
    },
    {
     "name": "stdout",
     "output_type": "stream",
     "text": [
      "[INFO] User withspectrum already scraped. Skipping.\n"
     ]
    },
    {
     "name": "stderr",
     "output_type": "stream",
     "text": [
      " 15%|█▌        | 2894/18934 [48:23<4:06:38,  1.08it/s]"
     ]
    },
    {
     "name": "stdout",
     "output_type": "stream",
     "text": [
      "[INFO] User PragmaticBeaver already scraped. Skipping.\n",
      "[INFO] User granpepito already scraped. Skipping.\n",
      "[INFO] User flipenjor already scraped. Skipping.\n",
      "[INFO] User snvfk1n already scraped. Skipping.\n",
      "[INFO] User ArgonAlex already scraped. Skipping.\n"
     ]
    },
    {
     "name": "stderr",
     "output_type": "stream",
     "text": [
      " 15%|█▌        | 2900/18934 [48:26<3:09:21,  1.41it/s]"
     ]
    },
    {
     "name": "stdout",
     "output_type": "stream",
     "text": [
      "[INFO] User sankaSanjeeva already scraped. Skipping.\n"
     ]
    },
    {
     "name": "stderr",
     "output_type": "stream",
     "text": [
      " 15%|█▌        | 2902/18934 [48:28<3:19:48,  1.34it/s]"
     ]
    },
    {
     "name": "stdout",
     "output_type": "stream",
     "text": [
      "[INFO] User Maghaen already scraped. Skipping.\n",
      "[INFO] User luanfonsecap already scraped. Skipping.\n",
      "[INFO] User fushanwang2020 already scraped. Skipping.\n",
      "[INFO] User fathiabdulrahim already scraped. Skipping.\n"
     ]
    },
    {
     "name": "stderr",
     "output_type": "stream",
     "text": [
      " 15%|█▌        | 2907/18934 [48:30<2:56:25,  1.51it/s]"
     ]
    },
    {
     "name": "stdout",
     "output_type": "stream",
     "text": [
      "[INFO] User kitayoshi already scraped. Skipping.\n",
      "[INFO] User qlawmarq already scraped. Skipping.\n"
     ]
    },
    {
     "name": "stderr",
     "output_type": "stream",
     "text": [
      " 15%|█▌        | 2910/18934 [48:32<2:40:54,  1.66it/s]"
     ]
    },
    {
     "name": "stdout",
     "output_type": "stream",
     "text": [
      "[INFO] User windheart already scraped. Skipping.\n",
      "[INFO] User hyeonhong already scraped. Skipping.\n",
      "[INFO] User agmmnn already scraped. Skipping.\n"
     ]
    },
    {
     "name": "stderr",
     "output_type": "stream",
     "text": [
      " 15%|█▌        | 2914/18934 [48:33<2:27:55,  1.80it/s]"
     ]
    },
    {
     "name": "stdout",
     "output_type": "stream",
     "text": [
      "[INFO] User pest96 already scraped. Skipping.\n",
      "[INFO] User JT501 already scraped. Skipping.\n"
     ]
    },
    {
     "name": "stderr",
     "output_type": "stream",
     "text": [
      " 15%|█▌        | 2919/18934 [48:38<3:25:01,  1.30it/s]"
     ]
    },
    {
     "name": "stdout",
     "output_type": "stream",
     "text": [
      "[INFO] User nagq already scraped. Skipping.\n",
      "[INFO] User aliereny already scraped. Skipping.\n"
     ]
    },
    {
     "name": "stderr",
     "output_type": "stream",
     "text": [
      " 15%|█▌        | 2923/18934 [48:41<3:48:56,  1.17it/s]"
     ]
    },
    {
     "name": "stdout",
     "output_type": "stream",
     "text": [
      "[INFO] User Nzent already scraped. Skipping.\n",
      "[INFO] User eivanmariscal already scraped. Skipping.\n",
      "[INFO] User andrejnsimoes already scraped. Skipping.\n"
     ]
    },
    {
     "name": "stderr",
     "output_type": "stream",
     "text": [
      " 15%|█▌        | 2930/18934 [48:46<3:45:50,  1.18it/s]"
     ]
    },
    {
     "name": "stdout",
     "output_type": "stream",
     "text": [
      "[INFO] User icyJoseph already scraped. Skipping.\n"
     ]
    },
    {
     "name": "stderr",
     "output_type": "stream",
     "text": [
      " 15%|█▌        | 2932/18934 [48:49<4:30:48,  1.02s/it]"
     ]
    },
    {
     "name": "stdout",
     "output_type": "stream",
     "text": [
      "[INFO] User matheusgrodrigues already scraped. Skipping.\n"
     ]
    },
    {
     "name": "stderr",
     "output_type": "stream",
     "text": [
      " 15%|█▌        | 2934/18934 [48:50<3:34:53,  1.24it/s]"
     ]
    },
    {
     "name": "stdout",
     "output_type": "stream",
     "text": [
      "[INFO] User arekbartnik already scraped. Skipping.\n"
     ]
    },
    {
     "name": "stderr",
     "output_type": "stream",
     "text": [
      " 16%|█▌        | 2937/18934 [48:54<5:08:39,  1.16s/it]"
     ]
    },
    {
     "name": "stdout",
     "output_type": "stream",
     "text": [
      "[INFO] User sectsect already scraped. Skipping.\n"
     ]
    },
    {
     "name": "stderr",
     "output_type": "stream",
     "text": [
      " 16%|█▌        | 2939/18934 [48:57<5:23:50,  1.21s/it]"
     ]
    },
    {
     "name": "stdout",
     "output_type": "stream",
     "text": [
      "[INFO] User HashashinMaster already scraped. Skipping.\n"
     ]
    },
    {
     "name": "stderr",
     "output_type": "stream",
     "text": [
      " 16%|█▌        | 2942/18934 [48:59<4:39:18,  1.05s/it]"
     ]
    },
    {
     "name": "stdout",
     "output_type": "stream",
     "text": [
      "[INFO] User Aaaaash already scraped. Skipping.\n",
      "[INFO] User ganiromnovda already scraped. Skipping.\n"
     ]
    },
    {
     "name": "stderr",
     "output_type": "stream",
     "text": [
      " 16%|█▌        | 2945/18934 [49:03<4:38:18,  1.04s/it]"
     ]
    },
    {
     "name": "stdout",
     "output_type": "stream",
     "text": [
      "[INFO] User ReactTraining already scraped. Skipping.\n"
     ]
    },
    {
     "name": "stderr",
     "output_type": "stream",
     "text": [
      " 16%|█▌        | 2947/18934 [49:03<3:27:22,  1.28it/s]"
     ]
    },
    {
     "name": "stdout",
     "output_type": "stream",
     "text": [
      "User egoist has more than 300 repos, skipping.\n",
      "[INFO] User transitive-bullshit already scraped. Skipping.\n"
     ]
    },
    {
     "name": "stderr",
     "output_type": "stream",
     "text": [
      " 16%|█▌        | 2949/18934 [49:04<3:24:45,  1.30it/s]"
     ]
    },
    {
     "name": "stdout",
     "output_type": "stream",
     "text": [
      "[INFO] User flashblaze already scraped. Skipping.\n",
      "[INFO] User enomotodev already scraped. Skipping.\n",
      "[INFO] User RFitz already scraped. Skipping.\n"
     ]
    },
    {
     "name": "stderr",
     "output_type": "stream",
     "text": [
      " 16%|█▌        | 2953/18934 [49:11<5:24:21,  1.22s/it]"
     ]
    },
    {
     "name": "stdout",
     "output_type": "stream",
     "text": [
      "[INFO] User quangthandev already scraped. Skipping.\n",
      "[INFO] User shuklayash10 already scraped. Skipping.\n"
     ]
    },
    {
     "name": "stderr",
     "output_type": "stream",
     "text": [
      " 16%|█▌        | 2956/18934 [49:12<4:05:21,  1.09it/s]"
     ]
    },
    {
     "name": "stdout",
     "output_type": "stream",
     "text": [
      "[INFO] User kylemocode already scraped. Skipping.\n",
      "[INFO] User bellizio already scraped. Skipping.\n"
     ]
    },
    {
     "name": "stderr",
     "output_type": "stream",
     "text": [
      " 16%|█▌        | 2962/18934 [49:21<6:43:49,  1.52s/it]"
     ]
    },
    {
     "name": "stdout",
     "output_type": "stream",
     "text": [
      "[INFO] User ReinKaos95 already scraped. Skipping.\n",
      "[INFO] User lintangdigdoyo already scraped. Skipping.\n"
     ]
    },
    {
     "name": "stderr",
     "output_type": "stream",
     "text": [
      " 16%|█▌        | 2966/18934 [49:25<5:21:35,  1.21s/it]"
     ]
    },
    {
     "name": "stdout",
     "output_type": "stream",
     "text": [
      "[INFO] User mapringg already scraped. Skipping.\n",
      "[INFO] User gelodgreat already scraped. Skipping.\n"
     ]
    },
    {
     "name": "stderr",
     "output_type": "stream",
     "text": [
      " 16%|█▌        | 2969/18934 [49:30<6:28:34,  1.46s/it]"
     ]
    },
    {
     "name": "stdout",
     "output_type": "stream",
     "text": [
      "[INFO] User piyushchauhan2011 already scraped. Skipping.\n"
     ]
    },
    {
     "name": "stderr",
     "output_type": "stream",
     "text": [
      " 16%|█▌        | 2971/18934 [49:32<5:37:05,  1.27s/it]"
     ]
    },
    {
     "name": "stdout",
     "output_type": "stream",
     "text": [
      "[INFO] User sari3l already scraped. Skipping.\n"
     ]
    },
    {
     "name": "stderr",
     "output_type": "stream",
     "text": [
      " 16%|█▌        | 2975/18934 [49:35<4:35:33,  1.04s/it]"
     ]
    },
    {
     "name": "stdout",
     "output_type": "stream",
     "text": [
      "[INFO] User baranelitez already scraped. Skipping.\n"
     ]
    },
    {
     "name": "stderr",
     "output_type": "stream",
     "text": [
      " 16%|█▌        | 2977/18934 [49:35<3:17:44,  1.34it/s]"
     ]
    },
    {
     "name": "stdout",
     "output_type": "stream",
     "text": [
      "User JonatanSalas has more than 300 repos, skipping.\n",
      "[INFO] User digitalbreed already scraped. Skipping.\n",
      "[INFO] User pywuziming already scraped. Skipping.\n",
      "[INFO] User uidotdev already scraped. Skipping.\n"
     ]
    },
    {
     "name": "stderr",
     "output_type": "stream",
     "text": [
      " 16%|█▌        | 2983/18934 [49:48<8:56:26,  2.02s/it]"
     ]
    },
    {
     "name": "stdout",
     "output_type": "stream",
     "text": [
      "[INFO] User Ricy137 already scraped. Skipping.\n",
      "[INFO] User ergodic1 already scraped. Skipping.\n"
     ]
    },
    {
     "name": "stderr",
     "output_type": "stream",
     "text": [
      " 16%|█▌        | 2987/18934 [49:50<5:46:07,  1.30s/it]"
     ]
    },
    {
     "name": "stdout",
     "output_type": "stream",
     "text": [
      "[INFO] User xyy94813 already scraped. Skipping.\n",
      "[INFO] User zhouzi already scraped. Skipping.\n"
     ]
    },
    {
     "name": "stderr",
     "output_type": "stream",
     "text": [
      " 16%|█▌        | 2990/18934 [49:51<3:53:25,  1.14it/s]"
     ]
    },
    {
     "name": "stdout",
     "output_type": "stream",
     "text": [
      "[INFO] User dalalRohit already scraped. Skipping.\n"
     ]
    },
    {
     "name": "stderr",
     "output_type": "stream",
     "text": [
      " 16%|█▌        | 2992/18934 [49:52<3:41:16,  1.20it/s]"
     ]
    },
    {
     "name": "stdout",
     "output_type": "stream",
     "text": [
      "[INFO] User danroshko already scraped. Skipping.\n",
      "[INFO] User navidmesbah already scraped. Skipping.\n"
     ]
    },
    {
     "name": "stderr",
     "output_type": "stream",
     "text": [
      " 16%|█▌        | 2995/18934 [49:54<2:57:21,  1.50it/s]"
     ]
    },
    {
     "name": "stdout",
     "output_type": "stream",
     "text": [
      "[INFO] User snc already scraped. Skipping.\n",
      "[INFO] User julianosirtori already scraped. Skipping.\n",
      "[INFO] User lesenelir already scraped. Skipping.\n",
      "[INFO] User TotooriaHyperion already scraped. Skipping.\n"
     ]
    },
    {
     "name": "stderr",
     "output_type": "stream",
     "text": [
      " 16%|█▌        | 3000/18934 [49:55<2:02:15,  2.17it/s]"
     ]
    },
    {
     "name": "stdout",
     "output_type": "stream",
     "text": [
      "[INFO] User pyrenaicus already scraped. Skipping.\n",
      "[INFO] User kruzyk already scraped. Skipping.\n"
     ]
    },
    {
     "name": "stderr",
     "output_type": "stream",
     "text": [
      " 16%|█▌        | 3004/18934 [49:59<3:17:11,  1.35it/s]"
     ]
    },
    {
     "name": "stdout",
     "output_type": "stream",
     "text": [
      "[INFO] User lalicia already scraped. Skipping.\n"
     ]
    },
    {
     "name": "stderr",
     "output_type": "stream",
     "text": [
      " 16%|█▌        | 3007/18934 [50:02<3:47:40,  1.17it/s]"
     ]
    },
    {
     "name": "stdout",
     "output_type": "stream",
     "text": [
      "[INFO] User huangkairan already scraped. Skipping.\n",
      "[INFO] User askides already scraped. Skipping.\n"
     ]
    },
    {
     "name": "stderr",
     "output_type": "stream",
     "text": [
      " 16%|█▌        | 3010/18934 [50:03<3:01:47,  1.46it/s]"
     ]
    },
    {
     "name": "stdout",
     "output_type": "stream",
     "text": [
      "[INFO] User shriekdj already scraped. Skipping.\n"
     ]
    },
    {
     "name": "stderr",
     "output_type": "stream",
     "text": [
      " 16%|█▌        | 3012/18934 [50:04<2:39:52,  1.66it/s]"
     ]
    },
    {
     "name": "stdout",
     "output_type": "stream",
     "text": [
      "[INFO] User emerson-paiva already scraped. Skipping.\n",
      "[INFO] User aulneau already scraped. Skipping.\n"
     ]
    },
    {
     "name": "stderr",
     "output_type": "stream",
     "text": [
      " 16%|█▌        | 3015/18934 [50:05<2:13:51,  1.98it/s]"
     ]
    },
    {
     "name": "stdout",
     "output_type": "stream",
     "text": [
      "[INFO] User kwonjs already scraped. Skipping.\n"
     ]
    },
    {
     "name": "stderr",
     "output_type": "stream",
     "text": [
      " 16%|█▌        | 3017/18934 [50:07<2:56:15,  1.51it/s]"
     ]
    },
    {
     "name": "stdout",
     "output_type": "stream",
     "text": [
      "[INFO] User mottamatheus already scraped. Skipping.\n"
     ]
    },
    {
     "name": "stderr",
     "output_type": "stream",
     "text": [
      " 16%|█▌        | 3019/18934 [50:08<2:39:35,  1.66it/s]"
     ]
    },
    {
     "name": "stdout",
     "output_type": "stream",
     "text": [
      "[INFO] User himself65 already scraped. Skipping.\n"
     ]
    },
    {
     "name": "stderr",
     "output_type": "stream",
     "text": [
      " 16%|█▌        | 3024/18934 [50:22<8:54:54,  2.02s/it]"
     ]
    },
    {
     "name": "stdout",
     "output_type": "stream",
     "text": [
      "[INFO] User ifthenelse already scraped. Skipping.\n",
      "[INFO] User hyoungnam already scraped. Skipping.\n"
     ]
    },
    {
     "name": "stderr",
     "output_type": "stream",
     "text": [
      " 16%|█▌        | 3028/18934 [50:27<7:24:10,  1.68s/it]"
     ]
    },
    {
     "name": "stdout",
     "output_type": "stream",
     "text": [
      "[INFO] User svagi already scraped. Skipping.\n"
     ]
    },
    {
     "name": "stderr",
     "output_type": "stream",
     "text": [
      " 16%|█▌        | 3030/18934 [50:29<6:32:28,  1.48s/it]"
     ]
    },
    {
     "name": "stdout",
     "output_type": "stream",
     "text": [
      "[INFO] User koteus already scraped. Skipping.\n"
     ]
    },
    {
     "name": "stderr",
     "output_type": "stream",
     "text": [
      " 16%|█▌        | 3035/18934 [50:39<9:32:33,  2.16s/it]"
     ]
    },
    {
     "name": "stdout",
     "output_type": "stream",
     "text": [
      "[INFO] User daveyheuser already scraped. Skipping.\n"
     ]
    },
    {
     "name": "stderr",
     "output_type": "stream",
     "text": [
      " 16%|█▌        | 3037/18934 [50:40<6:28:43,  1.47s/it]"
     ]
    },
    {
     "name": "stdout",
     "output_type": "stream",
     "text": [
      "[INFO] User AngelDev0329 already scraped. Skipping.\n",
      "[INFO] User kevin0168 already scraped. Skipping.\n",
      "[INFO] User talensjr already scraped. Skipping.\n",
      "[INFO] User testing-library already scraped. Skipping.\n",
      "[INFO] User JanJakes already scraped. Skipping.\n",
      "[INFO] User coderdiaz already scraped. Skipping.\n"
     ]
    },
    {
     "name": "stderr",
     "output_type": "stream",
     "text": [
      " 16%|█▌        | 3045/18934 [50:43<2:53:33,  1.53it/s]"
     ]
    },
    {
     "name": "stdout",
     "output_type": "stream",
     "text": [
      "[INFO] User lifeisbeautifu1 already scraped. Skipping.\n"
     ]
    },
    {
     "name": "stderr",
     "output_type": "stream",
     "text": [
      " 16%|█▌        | 3047/18934 [50:43<2:34:17,  1.72it/s]"
     ]
    },
    {
     "name": "stdout",
     "output_type": "stream",
     "text": [
      "[INFO] User petraplatz already scraped. Skipping.\n"
     ]
    },
    {
     "name": "stderr",
     "output_type": "stream",
     "text": [
      " 16%|█▌        | 3049/18934 [50:46<3:24:20,  1.30it/s]"
     ]
    },
    {
     "name": "stdout",
     "output_type": "stream",
     "text": [
      "[INFO] User ImAbdullahJan already scraped. Skipping.\n",
      "[INFO] User YunosukeY already scraped. Skipping.\n"
     ]
    },
    {
     "name": "stderr",
     "output_type": "stream",
     "text": [
      " 16%|█▌        | 3052/18934 [50:48<3:10:24,  1.39it/s]"
     ]
    },
    {
     "name": "stdout",
     "output_type": "stream",
     "text": [
      "[INFO] User PeterChen1997 already scraped. Skipping.\n",
      "[INFO] User Maxuell123 already scraped. Skipping.\n",
      "[INFO] User georgiosgiatsidis already scraped. Skipping.\n"
     ]
    },
    {
     "name": "stderr",
     "output_type": "stream",
     "text": [
      " 16%|█▌        | 3057/18934 [50:56<5:46:50,  1.31s/it]"
     ]
    },
    {
     "name": "stdout",
     "output_type": "stream",
     "text": [
      "[INFO] User larsenwork already scraped. Skipping.\n",
      "[INFO] User szilarddoro already scraped. Skipping.\n",
      "[INFO] User Iryna-Vyshniak already scraped. Skipping.\n"
     ]
    },
    {
     "name": "stderr",
     "output_type": "stream",
     "text": [
      " 16%|█▌        | 3061/18934 [50:56<3:31:01,  1.25it/s]"
     ]
    },
    {
     "name": "stdout",
     "output_type": "stream",
     "text": [
      "User junhoyeo has more than 300 repos, skipping.\n",
      "[INFO] User theKashey already scraped. Skipping.\n"
     ]
    },
    {
     "name": "stderr",
     "output_type": "stream",
     "text": [
      " 16%|█▌        | 3063/18934 [50:59<3:48:35,  1.16it/s]"
     ]
    },
    {
     "name": "stdout",
     "output_type": "stream",
     "text": [
      "[INFO] User delaudio already scraped. Skipping.\n",
      "[INFO] User ManuRodgers already scraped. Skipping.\n",
      "[INFO] User petermihailov already scraped. Skipping.\n",
      "[INFO] User danoszz already scraped. Skipping.\n",
      "[INFO] User weilantian already scraped. Skipping.\n",
      "[INFO] User lzg0321 already scraped. Skipping.\n",
      "[INFO] User hulatang already scraped. Skipping.\n",
      "[INFO] User miguelvictor already scraped. Skipping.\n",
      "[INFO] User bryphe already scraped. Skipping.\n"
     ]
    },
    {
     "name": "stderr",
     "output_type": "stream",
     "text": [
      " 16%|█▌        | 3076/18934 [51:12<6:57:04,  1.58s/it]"
     ]
    },
    {
     "name": "stdout",
     "output_type": "stream",
     "text": [
      "[INFO] User grigoryan0326 already scraped. Skipping.\n",
      "[INFO] User Asderex already scraped. Skipping.\n",
      "[INFO] User akhrarovsaid already scraped. Skipping.\n",
      "[INFO] User iamswain25 already scraped. Skipping.\n",
      "[INFO] User chooin already scraped. Skipping.\n"
     ]
    },
    {
     "name": "stderr",
     "output_type": "stream",
     "text": [
      " 16%|█▋        | 3084/18934 [51:23<8:07:12,  1.84s/it]"
     ]
    },
    {
     "name": "stdout",
     "output_type": "stream",
     "text": [
      "[INFO] User karthikvrao already scraped. Skipping.\n",
      "[INFO] User sakit0 already scraped. Skipping.\n"
     ]
    },
    {
     "name": "stderr",
     "output_type": "stream",
     "text": [
      " 16%|█▋        | 3088/18934 [51:26<6:01:18,  1.37s/it]"
     ]
    },
    {
     "name": "stdout",
     "output_type": "stream",
     "text": [
      "[INFO] User federico-barbieri already scraped. Skipping.\n",
      "[INFO] User italoiz already scraped. Skipping.\n",
      "[INFO] User g-makarov already scraped. Skipping.\n"
     ]
    },
    {
     "name": "stderr",
     "output_type": "stream",
     "text": [
      " 16%|█▋        | 3093/18934 [51:31<5:20:22,  1.21s/it]"
     ]
    },
    {
     "name": "stdout",
     "output_type": "stream",
     "text": [
      "[INFO] User maradondt already scraped. Skipping.\n"
     ]
    },
    {
     "name": "stderr",
     "output_type": "stream",
     "text": [
      " 16%|█▋        | 3096/18934 [51:34<4:36:16,  1.05s/it]"
     ]
    },
    {
     "name": "stdout",
     "output_type": "stream",
     "text": [
      "[INFO] User Shofol already scraped. Skipping.\n",
      "[INFO] User RenatoFranca already scraped. Skipping.\n",
      "[INFO] User ruskid already scraped. Skipping.\n",
      "[INFO] User ryong9rrr already scraped. Skipping.\n"
     ]
    },
    {
     "name": "stderr",
     "output_type": "stream",
     "text": [
      " 16%|█▋        | 3101/18934 [51:35<2:42:24,  1.62it/s]"
     ]
    },
    {
     "name": "stdout",
     "output_type": "stream",
     "text": [
      "[INFO] User vadimdemedes already scraped. Skipping.\n",
      "[INFO] User yuki-tomioka already scraped. Skipping.\n",
      "[INFO] User Sunny-117 already scraped. Skipping.\n"
     ]
    },
    {
     "name": "stderr",
     "output_type": "stream",
     "text": [
      " 16%|█▋        | 3106/18934 [51:38<3:05:44,  1.42it/s]"
     ]
    },
    {
     "name": "stdout",
     "output_type": "stream",
     "text": [
      "[INFO] User shiminshen already scraped. Skipping.\n",
      "[INFO] User violin-wang already scraped. Skipping.\n"
     ]
    },
    {
     "name": "stderr",
     "output_type": "stream",
     "text": [
      " 16%|█▋        | 3112/18934 [51:52<7:00:16,  1.59s/it]"
     ]
    },
    {
     "name": "stdout",
     "output_type": "stream",
     "text": [
      "[INFO] User amoline-optum already scraped. Skipping.\n"
     ]
    },
    {
     "name": "stderr",
     "output_type": "stream",
     "text": [
      " 16%|█▋        | 3114/18934 [51:54<6:30:33,  1.48s/it]"
     ]
    },
    {
     "name": "stdout",
     "output_type": "stream",
     "text": [
      "[INFO] User Nauss already scraped. Skipping.\n",
      "[INFO] User thawankeane already scraped. Skipping.\n"
     ]
    },
    {
     "name": "stderr",
     "output_type": "stream",
     "text": [
      " 16%|█▋        | 3118/18934 [52:00<6:34:57,  1.50s/it]"
     ]
    },
    {
     "name": "stdout",
     "output_type": "stream",
     "text": [
      "[INFO] User hugotox already scraped. Skipping.\n",
      "[INFO] User philipwalton already scraped. Skipping.\n",
      "[INFO] User florinescu already scraped. Skipping.\n",
      "[INFO] User pricco already scraped. Skipping.\n"
     ]
    },
    {
     "name": "stderr",
     "output_type": "stream",
     "text": [
      " 16%|█▋        | 3123/18934 [52:04<4:39:34,  1.06s/it]"
     ]
    },
    {
     "name": "stdout",
     "output_type": "stream",
     "text": [
      "[INFO] User himyjan already scraped. Skipping.\n",
      "[INFO] User qhoekman already scraped. Skipping.\n"
     ]
    },
    {
     "name": "stderr",
     "output_type": "stream",
     "text": [
      " 17%|█▋        | 3128/18934 [52:09<5:05:01,  1.16s/it]"
     ]
    },
    {
     "name": "stdout",
     "output_type": "stream",
     "text": [
      "[INFO] User xanxus135 already scraped. Skipping.\n"
     ]
    },
    {
     "name": "stderr",
     "output_type": "stream",
     "text": [
      " 17%|█▋        | 3131/18934 [52:12<4:51:27,  1.11s/it]"
     ]
    },
    {
     "name": "stdout",
     "output_type": "stream",
     "text": [
      "[INFO] User knowthen already scraped. Skipping.\n"
     ]
    },
    {
     "name": "stderr",
     "output_type": "stream",
     "text": [
      " 17%|█▋        | 3133/18934 [52:14<4:40:14,  1.06s/it]"
     ]
    },
    {
     "name": "stdout",
     "output_type": "stream",
     "text": [
      "[INFO] User agergo already scraped. Skipping.\n",
      "[INFO] User stevenpersia already scraped. Skipping.\n",
      "[INFO] User kandeol already scraped. Skipping.\n",
      "[INFO] User imuntil already scraped. Skipping.\n",
      "[INFO] User PanicAtTheCostco already scraped. Skipping.\n"
     ]
    },
    {
     "name": "stderr",
     "output_type": "stream",
     "text": [
      " 17%|█▋        | 3139/18934 [52:16<2:29:47,  1.76it/s]"
     ]
    },
    {
     "name": "stdout",
     "output_type": "stream",
     "text": [
      "[INFO] User andreivasilache already scraped. Skipping.\n",
      "[INFO] User atablash already scraped. Skipping.\n"
     ]
    },
    {
     "name": "stderr",
     "output_type": "stream",
     "text": [
      " 17%|█▋        | 3142/18934 [52:25<5:44:00,  1.31s/it]"
     ]
    },
    {
     "name": "stdout",
     "output_type": "stream",
     "text": [
      "[INFO] User AMR-21 already scraped. Skipping.\n"
     ]
    },
    {
     "name": "stderr",
     "output_type": "stream",
     "text": [
      " 17%|█▋        | 3145/18934 [52:29<6:09:15,  1.40s/it]"
     ]
    },
    {
     "name": "stdout",
     "output_type": "stream",
     "text": [
      "[INFO] User xdboyx already scraped. Skipping.\n"
     ]
    },
    {
     "name": "stderr",
     "output_type": "stream",
     "text": [
      " 17%|█▋        | 3148/18934 [52:37<8:06:53,  1.85s/it]"
     ]
    },
    {
     "name": "stdout",
     "output_type": "stream",
     "text": [
      "[INFO] User felixx78 already scraped. Skipping.\n",
      "[INFO] User hotman0901 already scraped. Skipping.\n"
     ]
    },
    {
     "name": "stderr",
     "output_type": "stream",
     "text": [
      " 17%|█▋        | 3151/18934 [52:39<6:11:21,  1.41s/it]"
     ]
    },
    {
     "name": "stdout",
     "output_type": "stream",
     "text": [
      "[INFO] User KitsuneDev already scraped. Skipping.\n"
     ]
    },
    {
     "name": "stderr",
     "output_type": "stream",
     "text": [
      " 17%|█▋        | 3153/18934 [52:42<6:31:53,  1.49s/it]"
     ]
    },
    {
     "name": "stdout",
     "output_type": "stream",
     "text": [
      "[INFO] User pminhtri already scraped. Skipping.\n"
     ]
    },
    {
     "name": "stderr",
     "output_type": "stream",
     "text": [
      " 17%|█▋        | 3155/18934 [52:44<5:49:24,  1.33s/it]"
     ]
    },
    {
     "name": "stdout",
     "output_type": "stream",
     "text": [
      "[INFO] User andystalick already scraped. Skipping.\n",
      "[INFO] User Chen0807AiLJX already scraped. Skipping.\n",
      "[INFO] User zedfight already scraped. Skipping.\n",
      "[INFO] User amorfati0310 already scraped. Skipping.\n",
      "[INFO] User zslabs already scraped. Skipping.\n"
     ]
    },
    {
     "name": "stderr",
     "output_type": "stream",
     "text": [
      " 17%|█▋        | 3162/18934 [52:47<3:28:31,  1.26it/s]"
     ]
    },
    {
     "name": "stdout",
     "output_type": "stream",
     "text": [
      "[INFO] User yayvery already scraped. Skipping.\n",
      "[INFO] User hiddentao already scraped. Skipping.\n"
     ]
    },
    {
     "name": "stderr",
     "output_type": "stream",
     "text": [
      " 17%|█▋        | 3166/18934 [52:50<3:18:50,  1.32it/s]"
     ]
    },
    {
     "name": "stdout",
     "output_type": "stream",
     "text": [
      "[INFO] User rquadling already scraped. Skipping.\n"
     ]
    },
    {
     "name": "stderr",
     "output_type": "stream",
     "text": [
      " 17%|█▋        | 3168/18934 [52:55<5:56:54,  1.36s/it]"
     ]
    },
    {
     "name": "stdout",
     "output_type": "stream",
     "text": [
      "[INFO] User tianliaoaccelai already scraped. Skipping.\n",
      "[INFO] User esp10mm already scraped. Skipping.\n"
     ]
    },
    {
     "name": "stderr",
     "output_type": "stream",
     "text": [
      " 17%|█▋        | 3171/18934 [52:57<4:26:29,  1.01s/it]"
     ]
    },
    {
     "name": "stdout",
     "output_type": "stream",
     "text": [
      "[INFO] User dkimura already scraped. Skipping.\n",
      "[INFO] User zakke27 already scraped. Skipping.\n"
     ]
    },
    {
     "name": "stderr",
     "output_type": "stream",
     "text": [
      " 17%|█▋        | 3177/18934 [53:17<14:14:19,  3.25s/it]"
     ]
    },
    {
     "name": "stdout",
     "output_type": "stream",
     "text": [
      "[INFO] User mamal72 already scraped. Skipping.\n",
      "[INFO] User idw111 already scraped. Skipping.\n"
     ]
    },
    {
     "name": "stderr",
     "output_type": "stream",
     "text": [
      " 17%|█▋        | 3181/18934 [53:18<7:13:47,  1.65s/it] "
     ]
    },
    {
     "name": "stdout",
     "output_type": "stream",
     "text": [
      "User jonschlinkert has more than 300 repos, skipping.\n",
      "[INFO] User tashbenbetov already scraped. Skipping.\n",
      "[INFO] User ncbecker already scraped. Skipping.\n"
     ]
    },
    {
     "name": "stderr",
     "output_type": "stream",
     "text": [
      " 17%|█▋        | 3184/18934 [53:21<5:28:17,  1.25s/it]"
     ]
    },
    {
     "name": "stdout",
     "output_type": "stream",
     "text": [
      "[INFO] User shibuime already scraped. Skipping.\n"
     ]
    },
    {
     "name": "stderr",
     "output_type": "stream",
     "text": [
      " 17%|█▋        | 3186/18934 [53:24<6:04:03,  1.39s/it]"
     ]
    },
    {
     "name": "stdout",
     "output_type": "stream",
     "text": [
      "[INFO] User Benjamin-Zh already scraped. Skipping.\n",
      "[INFO] User Dmitriy24S already scraped. Skipping.\n",
      "[INFO] User HannesDeMets already scraped. Skipping.\n",
      "[INFO] User aalvarado already scraped. Skipping.\n",
      "[INFO] User VictorBelvg already scraped. Skipping.\n",
      "[INFO] User gambowoa already scraped. Skipping.\n",
      "[INFO] User huygn already scraped. Skipping.\n",
      "[INFO] User lquixada already scraped. Skipping.\n",
      "[INFO] User haneenmahd already scraped. Skipping.\n"
     ]
    },
    {
     "name": "stderr",
     "output_type": "stream",
     "text": [
      " 17%|█▋        | 3197/18934 [53:30<3:36:32,  1.21it/s]"
     ]
    },
    {
     "name": "stdout",
     "output_type": "stream",
     "text": [
      "[INFO] User fulutas already scraped. Skipping.\n"
     ]
    },
    {
     "name": "stderr",
     "output_type": "stream",
     "text": [
      " 17%|█▋        | 3199/18934 [53:33<4:08:59,  1.05it/s]"
     ]
    },
    {
     "name": "stdout",
     "output_type": "stream",
     "text": [
      "[INFO] User ronlaniado already scraped. Skipping.\n"
     ]
    },
    {
     "name": "stderr",
     "output_type": "stream",
     "text": [
      " 17%|█▋        | 3201/18934 [53:33<3:21:44,  1.30it/s]"
     ]
    },
    {
     "name": "stdout",
     "output_type": "stream",
     "text": [
      "User SamVerschueren has more than 300 repos, skipping.\n",
      "[INFO] User tiaanduplessis already scraped. Skipping.\n"
     ]
    },
    {
     "name": "stderr",
     "output_type": "stream",
     "text": [
      " 17%|█▋        | 3203/18934 [53:35<3:24:39,  1.28it/s]"
     ]
    },
    {
     "name": "stdout",
     "output_type": "stream",
     "text": [
      "[INFO] User yamamoto-eng already scraped. Skipping.\n"
     ]
    },
    {
     "name": "stderr",
     "output_type": "stream",
     "text": [
      " 17%|█▋        | 3205/18934 [53:37<3:43:02,  1.18it/s]"
     ]
    },
    {
     "name": "stdout",
     "output_type": "stream",
     "text": [
      "[INFO] User zlever01 already scraped. Skipping.\n",
      "[INFO] User wawoon already scraped. Skipping.\n",
      "[INFO] User nickmurr already scraped. Skipping.\n"
     ]
    },
    {
     "name": "stderr",
     "output_type": "stream",
     "text": [
      " 17%|█▋        | 3212/18934 [53:49<6:16:59,  1.44s/it]"
     ]
    },
    {
     "name": "stdout",
     "output_type": "stream",
     "text": [
      "[INFO] User yano3nora already scraped. Skipping.\n"
     ]
    },
    {
     "name": "stderr",
     "output_type": "stream",
     "text": [
      " 17%|█▋        | 3214/18934 [53:50<4:59:57,  1.14s/it]"
     ]
    },
    {
     "name": "stdout",
     "output_type": "stream",
     "text": [
      "[INFO] User fmal already scraped. Skipping.\n"
     ]
    },
    {
     "name": "stderr",
     "output_type": "stream",
     "text": [
      " 17%|█▋        | 3218/18934 [53:57<5:56:06,  1.36s/it]"
     ]
    },
    {
     "name": "stdout",
     "output_type": "stream",
     "text": [
      "User developit has more than 300 repos, skipping.\n"
     ]
    },
    {
     "name": "stderr",
     "output_type": "stream",
     "text": [
      " 17%|█▋        | 3221/18934 [54:02<7:12:17,  1.65s/it]"
     ]
    },
    {
     "name": "stdout",
     "output_type": "stream",
     "text": [
      "[INFO] User dmoKruso already scraped. Skipping.\n"
     ]
    },
    {
     "name": "stderr",
     "output_type": "stream",
     "text": [
      " 17%|█▋        | 3223/18934 [54:04<5:17:20,  1.21s/it]"
     ]
    },
    {
     "name": "stdout",
     "output_type": "stream",
     "text": [
      "[INFO] User mechatroNick already scraped. Skipping.\n"
     ]
    },
    {
     "name": "stderr",
     "output_type": "stream",
     "text": [
      " 17%|█▋        | 3226/18934 [54:11<8:34:26,  1.96s/it]"
     ]
    },
    {
     "name": "stdout",
     "output_type": "stream",
     "text": [
      "[INFO] User dimorphic already scraped. Skipping.\n"
     ]
    },
    {
     "name": "stderr",
     "output_type": "stream",
     "text": [
      " 17%|█▋        | 3229/18934 [54:16<7:03:48,  1.62s/it]"
     ]
    },
    {
     "name": "stdout",
     "output_type": "stream",
     "text": [
      "[INFO] User YashKandalkar already scraped. Skipping.\n"
     ]
    },
    {
     "name": "stderr",
     "output_type": "stream",
     "text": [
      " 17%|█▋        | 3231/18934 [54:17<5:30:44,  1.26s/it]"
     ]
    },
    {
     "name": "stdout",
     "output_type": "stream",
     "text": [
      "[INFO] User LunasCodingDiary already scraped. Skipping.\n",
      "[INFO] User 6BCC2C3896 already scraped. Skipping.\n"
     ]
    },
    {
     "name": "stderr",
     "output_type": "stream",
     "text": [
      " 17%|█▋        | 3236/18934 [54:26<7:04:58,  1.62s/it]"
     ]
    },
    {
     "name": "stdout",
     "output_type": "stream",
     "text": [
      "[INFO] User TwoSquirrels already scraped. Skipping.\n"
     ]
    },
    {
     "name": "stderr",
     "output_type": "stream",
     "text": [
      " 17%|█▋        | 3238/18934 [54:28<6:09:40,  1.41s/it]"
     ]
    },
    {
     "name": "stdout",
     "output_type": "stream",
     "text": [
      "[INFO] User m-heyda already scraped. Skipping.\n",
      "[INFO] User coziboy already scraped. Skipping.\n",
      "[INFO] User violabg already scraped. Skipping.\n"
     ]
    },
    {
     "name": "stderr",
     "output_type": "stream",
     "text": [
      " 17%|█▋        | 3243/18934 [54:32<5:31:25,  1.27s/it]"
     ]
    },
    {
     "name": "stdout",
     "output_type": "stream",
     "text": [
      "[INFO] User hacke2 already scraped. Skipping.\n",
      "[INFO] User crimsonvspurple already scraped. Skipping.\n",
      "[INFO] User xhwSkhizein already scraped. Skipping.\n",
      "[INFO] User gulpjs already scraped. Skipping.\n",
      "[INFO] User IanWoodard already scraped. Skipping.\n"
     ]
    },
    {
     "name": "stderr",
     "output_type": "stream",
     "text": [
      " 17%|█▋        | 3251/18934 [54:36<3:15:57,  1.33it/s]"
     ]
    },
    {
     "name": "stdout",
     "output_type": "stream",
     "text": [
      "[INFO] User Kongthap-code already scraped. Skipping.\n"
     ]
    },
    {
     "name": "stderr",
     "output_type": "stream",
     "text": [
      " 17%|█▋        | 3253/18934 [54:37<3:09:48,  1.38it/s]"
     ]
    },
    {
     "name": "stdout",
     "output_type": "stream",
     "text": [
      "[INFO] User thienho-manifera already scraped. Skipping.\n",
      "[INFO] User fengjutian already scraped. Skipping.\n"
     ]
    },
    {
     "name": "stderr",
     "output_type": "stream",
     "text": [
      " 17%|█▋        | 3256/18934 [54:39<3:15:16,  1.34it/s]"
     ]
    },
    {
     "name": "stdout",
     "output_type": "stream",
     "text": [
      "[INFO] User oaflindberg already scraped. Skipping.\n",
      "[INFO] User gywlsp already scraped. Skipping.\n",
      "[INFO] User street2geek already scraped. Skipping.\n",
      "[INFO] User kripod already scraped. Skipping.\n",
      "[INFO] User thatbeautifuldream already scraped. Skipping.\n"
     ]
    },
    {
     "name": "stderr",
     "output_type": "stream",
     "text": [
      " 17%|█▋        | 3262/18934 [54:43<2:45:49,  1.58it/s]"
     ]
    },
    {
     "name": "stdout",
     "output_type": "stream",
     "text": [
      "[INFO] User rosskhanas already scraped. Skipping.\n",
      "[INFO] User amirkoshkian already scraped. Skipping.\n",
      "[INFO] User ChaoshengZhang already scraped. Skipping.\n",
      "[INFO] User samueljohnprasad already scraped. Skipping.\n",
      "[INFO] User EdisonSu768 already scraped. Skipping.\n",
      "[INFO] User uber already scraped. Skipping.\n",
      "[INFO] User edverillo already scraped. Skipping.\n"
     ]
    },
    {
     "name": "stderr",
     "output_type": "stream",
     "text": [
      " 17%|█▋        | 3271/18934 [54:45<1:56:08,  2.25it/s]"
     ]
    },
    {
     "name": "stdout",
     "output_type": "stream",
     "text": [
      "[INFO] User vitbokisch already scraped. Skipping.\n"
     ]
    },
    {
     "name": "stderr",
     "output_type": "stream",
     "text": [
      " 17%|█▋        | 3273/18934 [54:48<2:58:26,  1.46it/s]"
     ]
    },
    {
     "name": "stdout",
     "output_type": "stream",
     "text": [
      "[INFO] User inikulin already scraped. Skipping.\n",
      "[INFO] User vsokolov already scraped. Skipping.\n",
      "[INFO] User aderchox already scraped. Skipping.\n"
     ]
    },
    {
     "name": "stderr",
     "output_type": "stream",
     "text": [
      " 17%|█▋        | 3277/18934 [54:52<3:18:35,  1.31it/s]"
     ]
    },
    {
     "name": "stdout",
     "output_type": "stream",
     "text": [
      "[INFO] User kaptinlin already scraped. Skipping.\n",
      "[INFO] User Eustatiu already scraped. Skipping.\n",
      "[INFO] User 1JW1 already scraped. Skipping.\n",
      "[INFO] User tosviol already scraped. Skipping.\n"
     ]
    },
    {
     "name": "stderr",
     "output_type": "stream",
     "text": [
      " 17%|█▋        | 3283/18934 [54:54<2:34:50,  1.68it/s]"
     ]
    },
    {
     "name": "stdout",
     "output_type": "stream",
     "text": [
      "[INFO] User YvetteLau already scraped. Skipping.\n"
     ]
    },
    {
     "name": "stderr",
     "output_type": "stream",
     "text": [
      " 17%|█▋        | 3287/18934 [55:02<5:40:14,  1.30s/it]"
     ]
    },
    {
     "name": "stdout",
     "output_type": "stream",
     "text": [
      "[INFO] User jfanals already scraped. Skipping.\n",
      "[INFO] User juliemr already scraped. Skipping.\n",
      "[INFO] User sagarpanda already scraped. Skipping.\n",
      "[INFO] User PrinceNC already scraped. Skipping.\n"
     ]
    },
    {
     "name": "stderr",
     "output_type": "stream",
     "text": [
      " 17%|█▋        | 3292/18934 [55:06<4:30:28,  1.04s/it]"
     ]
    },
    {
     "name": "stdout",
     "output_type": "stream",
     "text": [
      "[INFO] User hieuhlc already scraped. Skipping.\n",
      "[INFO] User timelessover already scraped. Skipping.\n"
     ]
    },
    {
     "name": "stderr",
     "output_type": "stream",
     "text": [
      " 17%|█▋        | 3295/18934 [55:07<3:11:10,  1.36it/s]"
     ]
    },
    {
     "name": "stdout",
     "output_type": "stream",
     "text": [
      "User Saekit has more than 300 repos, skipping.\n"
     ]
    },
    {
     "name": "stderr",
     "output_type": "stream",
     "text": [
      " 17%|█▋        | 3296/18934 [55:09<4:03:01,  1.07it/s]"
     ]
    },
    {
     "name": "stdout",
     "output_type": "stream",
     "text": [
      "[INFO] User stopyransky already scraped. Skipping.\n",
      "[INFO] User bekmarc already scraped. Skipping.\n"
     ]
    },
    {
     "name": "stderr",
     "output_type": "stream",
     "text": [
      " 17%|█▋        | 3299/18934 [55:11<3:34:48,  1.21it/s]"
     ]
    },
    {
     "name": "stdout",
     "output_type": "stream",
     "text": [
      "[INFO] User knight10-ux already scraped. Skipping.\n",
      "[INFO] User gitcoderis already scraped. Skipping.\n"
     ]
    },
    {
     "name": "stderr",
     "output_type": "stream",
     "text": [
      " 17%|█▋        | 3303/18934 [55:13<3:19:20,  1.31it/s]"
     ]
    },
    {
     "name": "stdout",
     "output_type": "stream",
     "text": [
      "[INFO] User bobaaaaa already scraped. Skipping.\n",
      "[INFO] User jopemachine already scraped. Skipping.\n"
     ]
    },
    {
     "name": "stderr",
     "output_type": "stream",
     "text": [
      " 17%|█▋        | 3306/18934 [55:16<3:44:07,  1.16it/s]"
     ]
    },
    {
     "name": "stdout",
     "output_type": "stream",
     "text": [
      "[INFO] User niccai already scraped. Skipping.\n"
     ]
    },
    {
     "name": "stderr",
     "output_type": "stream",
     "text": [
      " 17%|█▋        | 3308/18934 [55:22<6:08:59,  1.42s/it]"
     ]
    },
    {
     "name": "stdout",
     "output_type": "stream",
     "text": [
      "[INFO] User xuo already scraped. Skipping.\n"
     ]
    },
    {
     "name": "stderr",
     "output_type": "stream",
     "text": [
      " 17%|█▋        | 3310/18934 [55:26<6:20:25,  1.46s/it]"
     ]
    },
    {
     "name": "stdout",
     "output_type": "stream",
     "text": [
      "[INFO] User floating-ui already scraped. Skipping.\n"
     ]
    },
    {
     "name": "stderr",
     "output_type": "stream",
     "text": [
      " 17%|█▋        | 3312/18934 [55:31<8:06:32,  1.87s/it]"
     ]
    },
    {
     "name": "stdout",
     "output_type": "stream",
     "text": [
      "[INFO] User zclnma already scraped. Skipping.\n",
      "[INFO] User mardin06 already scraped. Skipping.\n",
      "[INFO] User insin already scraped. Skipping.\n"
     ]
    },
    {
     "name": "stderr",
     "output_type": "stream",
     "text": [
      " 18%|█▊        | 3320/18934 [55:46<9:12:27,  2.12s/it]"
     ]
    },
    {
     "name": "stdout",
     "output_type": "stream",
     "text": [
      "[INFO] User bugrakocak already scraped. Skipping.\n"
     ]
    },
    {
     "name": "stderr",
     "output_type": "stream",
     "text": [
      " 18%|█▊        | 3322/18934 [55:47<6:34:06,  1.51s/it]"
     ]
    },
    {
     "name": "stdout",
     "output_type": "stream",
     "text": [
      "[INFO] User jonanderdev already scraped. Skipping.\n",
      "[INFO] User MortadaDEV already scraped. Skipping.\n"
     ]
    },
    {
     "name": "stderr",
     "output_type": "stream",
     "text": [
      " 18%|█▊        | 3325/18934 [55:50<5:41:37,  1.31s/it]"
     ]
    },
    {
     "name": "stdout",
     "output_type": "stream",
     "text": [
      "[INFO] User subblue already scraped. Skipping.\n"
     ]
    },
    {
     "name": "stderr",
     "output_type": "stream",
     "text": [
      " 18%|█▊        | 3327/18934 [55:51<4:42:04,  1.08s/it]"
     ]
    },
    {
     "name": "stdout",
     "output_type": "stream",
     "text": [
      "[INFO] User khang-nd already scraped. Skipping.\n",
      "[INFO] User ChingHsun already scraped. Skipping.\n",
      "[INFO] User msudgh already scraped. Skipping.\n",
      "[INFO] User ajaykurien already scraped. Skipping.\n",
      "[INFO] User charliewilco already scraped. Skipping.\n",
      "[INFO] User axhl already scraped. Skipping.\n"
     ]
    },
    {
     "name": "stderr",
     "output_type": "stream",
     "text": [
      " 18%|█▊        | 3335/18934 [55:55<3:20:26,  1.30it/s]"
     ]
    },
    {
     "name": "stdout",
     "output_type": "stream",
     "text": [
      "[INFO] User takueof already scraped. Skipping.\n",
      "[INFO] User ORRNY already scraped. Skipping.\n",
      "[INFO] User silvenon already scraped. Skipping.\n"
     ]
    },
    {
     "name": "stderr",
     "output_type": "stream",
     "text": [
      " 18%|█▊        | 3343/18934 [56:06<6:18:12,  1.46s/it]"
     ]
    },
    {
     "name": "stdout",
     "output_type": "stream",
     "text": [
      "[INFO] User gauravkumar37 already scraped. Skipping.\n",
      "[INFO] User yutakiyama already scraped. Skipping.\n"
     ]
    },
    {
     "name": "stderr",
     "output_type": "stream",
     "text": [
      " 18%|█▊        | 3347/18934 [56:12<6:26:04,  1.49s/it]"
     ]
    },
    {
     "name": "stdout",
     "output_type": "stream",
     "text": [
      "[INFO] User dalladirosa already scraped. Skipping.\n",
      "[INFO] User remorses already scraped. Skipping.\n"
     ]
    },
    {
     "name": "stderr",
     "output_type": "stream",
     "text": [
      " 18%|█▊        | 3350/18934 [56:13<4:17:00,  1.01it/s]"
     ]
    },
    {
     "name": "stdout",
     "output_type": "stream",
     "text": [
      "[INFO] User sam-chuang already scraped. Skipping.\n",
      "[INFO] User davidowens already scraped. Skipping.\n"
     ]
    },
    {
     "name": "stderr",
     "output_type": "stream",
     "text": [
      " 18%|█▊        | 3355/18934 [56:17<4:15:41,  1.02it/s]"
     ]
    },
    {
     "name": "stdout",
     "output_type": "stream",
     "text": [
      "[INFO] User ilcherry already scraped. Skipping.\n",
      "[INFO] User momoci99 already scraped. Skipping.\n"
     ]
    },
    {
     "name": "stderr",
     "output_type": "stream",
     "text": [
      " 18%|█▊        | 3362/18934 [56:27<7:31:28,  1.74s/it]"
     ]
    },
    {
     "name": "stdout",
     "output_type": "stream",
     "text": [
      "[INFO] User adexot already scraped. Skipping.\n",
      "[INFO] User pdaher already scraped. Skipping.\n"
     ]
    },
    {
     "name": "stderr",
     "output_type": "stream",
     "text": [
      " 18%|█▊        | 3365/18934 [56:28<4:13:30,  1.02it/s]"
     ]
    },
    {
     "name": "stdout",
     "output_type": "stream",
     "text": [
      "[INFO] User prefer2 already scraped. Skipping.\n",
      "[INFO] User ioixioi already scraped. Skipping.\n",
      "[INFO] User surajgoraya already scraped. Skipping.\n",
      "[INFO] User yamosan already scraped. Skipping.\n"
     ]
    },
    {
     "name": "stderr",
     "output_type": "stream",
     "text": [
      " 18%|█▊        | 3370/18934 [56:31<3:13:43,  1.34it/s]"
     ]
    },
    {
     "name": "stdout",
     "output_type": "stream",
     "text": [
      "[INFO] User yuanman0109 already scraped. Skipping.\n"
     ]
    },
    {
     "name": "stderr",
     "output_type": "stream",
     "text": [
      " 18%|█▊        | 3373/18934 [56:34<3:49:55,  1.13it/s]"
     ]
    },
    {
     "name": "stdout",
     "output_type": "stream",
     "text": [
      "User Daniel15 has more than 300 repos, skipping.\n"
     ]
    },
    {
     "name": "stderr",
     "output_type": "stream",
     "text": [
      " 18%|█▊        | 3375/18934 [56:37<4:09:58,  1.04it/s]"
     ]
    },
    {
     "name": "stdout",
     "output_type": "stream",
     "text": [
      "[INFO] User zerosoul already scraped. Skipping.\n"
     ]
    },
    {
     "name": "stderr",
     "output_type": "stream",
     "text": [
      " 18%|█▊        | 3377/18934 [56:38<3:44:54,  1.15it/s]"
     ]
    },
    {
     "name": "stdout",
     "output_type": "stream",
     "text": [
      "[INFO] User obiPlabon already scraped. Skipping.\n",
      "[INFO] User laurensnl already scraped. Skipping.\n",
      "[INFO] User lucasdu4rte already scraped. Skipping.\n",
      "[INFO] User marco-baratta-sdg already scraped. Skipping.\n",
      "[INFO] User sum1tgtm already scraped. Skipping.\n"
     ]
    },
    {
     "name": "stderr",
     "output_type": "stream",
     "text": [
      " 18%|█▊        | 3383/18934 [56:41<2:58:37,  1.45it/s]"
     ]
    },
    {
     "name": "stdout",
     "output_type": "stream",
     "text": [
      "[INFO] User coryhouse already scraped. Skipping.\n"
     ]
    },
    {
     "name": "stderr",
     "output_type": "stream",
     "text": [
      " 18%|█▊        | 3385/18934 [56:44<3:41:25,  1.17it/s]"
     ]
    },
    {
     "name": "stdout",
     "output_type": "stream",
     "text": [
      "[INFO] User ellwarco already scraped. Skipping.\n",
      "[INFO] User Ceylonlatte already scraped. Skipping.\n",
      "[INFO] User marsidev already scraped. Skipping.\n",
      "[INFO] User cenkSengunlu already scraped. Skipping.\n",
      "[INFO] User hdpero already scraped. Skipping.\n",
      "[INFO] User volkyeth already scraped. Skipping.\n"
     ]
    },
    {
     "name": "stderr",
     "output_type": "stream",
     "text": [
      " 18%|█▊        | 3392/18934 [56:47<2:27:41,  1.75it/s]"
     ]
    },
    {
     "name": "stdout",
     "output_type": "stream",
     "text": [
      "[INFO] User bcurioous already scraped. Skipping.\n",
      "[INFO] User jorgeAgoiz already scraped. Skipping.\n",
      "[INFO] User michaeloliverx already scraped. Skipping.\n"
     ]
    },
    {
     "name": "stderr",
     "output_type": "stream",
     "text": [
      " 18%|█▊        | 3397/18934 [56:54<4:41:04,  1.09s/it]"
     ]
    },
    {
     "name": "stdout",
     "output_type": "stream",
     "text": [
      "[INFO] User Odonno already scraped. Skipping.\n",
      "[INFO] User Ealon already scraped. Skipping.\n",
      "[INFO] User llun already scraped. Skipping.\n"
     ]
    },
    {
     "name": "stderr",
     "output_type": "stream",
     "text": [
      " 18%|█▊        | 3403/18934 [57:04<6:13:41,  1.44s/it]"
     ]
    },
    {
     "name": "stdout",
     "output_type": "stream",
     "text": [
      "[INFO] User harvestnide already scraped. Skipping.\n",
      "[INFO] User rinsuki already scraped. Skipping.\n",
      "[INFO] User fjodoroff already scraped. Skipping.\n",
      "[INFO] User joe-bell already scraped. Skipping.\n"
     ]
    },
    {
     "name": "stderr",
     "output_type": "stream",
     "text": [
      " 18%|█▊        | 3409/18934 [57:06<3:58:56,  1.08it/s]"
     ]
    },
    {
     "name": "stdout",
     "output_type": "stream",
     "text": [
      "[INFO] User day-scene already scraped. Skipping.\n",
      "[INFO] User RJHarvest already scraped. Skipping.\n",
      "[INFO] User nvmnghia already scraped. Skipping.\n"
     ]
    },
    {
     "name": "stderr",
     "output_type": "stream",
     "text": [
      " 18%|█▊        | 3414/18934 [57:11<4:06:49,  1.05it/s]"
     ]
    },
    {
     "name": "stdout",
     "output_type": "stream",
     "text": [
      "[INFO] User shunssv already scraped. Skipping.\n"
     ]
    },
    {
     "name": "stderr",
     "output_type": "stream",
     "text": [
      " 18%|█▊        | 3419/18934 [57:16<5:12:58,  1.21s/it]"
     ]
    },
    {
     "name": "stdout",
     "output_type": "stream",
     "text": [
      "[INFO] User ondrejkralik already scraped. Skipping.\n",
      "[INFO] User martonkaufmann already scraped. Skipping.\n",
      "[INFO] User nityanantan23 already scraped. Skipping.\n"
     ]
    },
    {
     "name": "stderr",
     "output_type": "stream",
     "text": [
      " 18%|█▊        | 3423/18934 [57:18<3:18:36,  1.30it/s]"
     ]
    },
    {
     "name": "stdout",
     "output_type": "stream",
     "text": [
      "[INFO] User kalechao87 already scraped. Skipping.\n"
     ]
    },
    {
     "name": "stderr",
     "output_type": "stream",
     "text": [
      " 18%|█▊        | 3425/18934 [57:19<2:54:23,  1.48it/s]"
     ]
    },
    {
     "name": "stdout",
     "output_type": "stream",
     "text": [
      "[INFO] User pavelprokes-avast already scraped. Skipping.\n",
      "[INFO] User futurepastori already scraped. Skipping.\n",
      "[INFO] User ivanzotov already scraped. Skipping.\n"
     ]
    },
    {
     "name": "stderr",
     "output_type": "stream",
     "text": [
      " 18%|█▊        | 3429/18934 [57:23<3:31:14,  1.22it/s]"
     ]
    },
    {
     "name": "stdout",
     "output_type": "stream",
     "text": [
      "[INFO] User ataraxie67 already scraped. Skipping.\n"
     ]
    },
    {
     "name": "stderr",
     "output_type": "stream",
     "text": [
      " 18%|█▊        | 3431/18934 [57:24<3:13:46,  1.33it/s]"
     ]
    },
    {
     "name": "stdout",
     "output_type": "stream",
     "text": [
      "[INFO] User virtuosyo already scraped. Skipping.\n"
     ]
    },
    {
     "name": "stderr",
     "output_type": "stream",
     "text": [
      " 18%|█▊        | 3433/18934 [57:28<4:38:21,  1.08s/it]"
     ]
    },
    {
     "name": "stdout",
     "output_type": "stream",
     "text": [
      "[INFO] User wypk already scraped. Skipping.\n",
      "[INFO] User CodePsy-2001 already scraped. Skipping.\n",
      "[INFO] User novanish already scraped. Skipping.\n"
     ]
    },
    {
     "name": "stderr",
     "output_type": "stream",
     "text": [
      " 18%|█▊        | 3437/18934 [57:29<3:09:56,  1.36it/s]"
     ]
    },
    {
     "name": "stdout",
     "output_type": "stream",
     "text": [
      "[INFO] User BrowserSync already scraped. Skipping.\n",
      "[INFO] User valerio-pescatori already scraped. Skipping.\n"
     ]
    },
    {
     "name": "stderr",
     "output_type": "stream",
     "text": [
      " 18%|█▊        | 3440/18934 [57:30<2:23:11,  1.80it/s]"
     ]
    },
    {
     "name": "stdout",
     "output_type": "stream",
     "text": [
      "User FormidableLabs has more than 300 repos, skipping.\n",
      "[INFO] User supertinou already scraped. Skipping.\n"
     ]
    },
    {
     "name": "stderr",
     "output_type": "stream",
     "text": [
      " 18%|█▊        | 3444/18934 [57:35<4:39:24,  1.08s/it]"
     ]
    },
    {
     "name": "stdout",
     "output_type": "stream",
     "text": [
      "[INFO] User lightning1993 already scraped. Skipping.\n",
      "[INFO] User naoki-sawada already scraped. Skipping.\n"
     ]
    },
    {
     "name": "stderr",
     "output_type": "stream",
     "text": [
      " 18%|█▊        | 3447/18934 [57:44<7:56:14,  1.85s/it]"
     ]
    },
    {
     "name": "stdout",
     "output_type": "stream",
     "text": [
      "[INFO] User majoravery already scraped. Skipping.\n"
     ]
    },
    {
     "name": "stderr",
     "output_type": "stream",
     "text": [
      " 18%|█▊        | 3449/18934 [57:45<6:29:19,  1.51s/it]"
     ]
    },
    {
     "name": "stdout",
     "output_type": "stream",
     "text": [
      "[INFO] User andreoav already scraped. Skipping.\n"
     ]
    },
    {
     "name": "stderr",
     "output_type": "stream",
     "text": [
      " 18%|█▊        | 3456/18934 [58:22<31:06:22,  7.23s/it]"
     ]
    },
    {
     "name": "stdout",
     "output_type": "stream",
     "text": [
      "User match kristofferkjelde logged.\n",
      "[INFO] 229 users scraped so far.\n",
      "[INFO] User xygcxy already scraped. Skipping.\n",
      "[INFO] User sureshHARDIYA already scraped. Skipping.\n"
     ]
    },
    {
     "name": "stderr",
     "output_type": "stream",
     "text": [
      " 18%|█▊        | 3460/18934 [58:29<17:18:01,  4.02s/it]"
     ]
    },
    {
     "name": "stdout",
     "output_type": "stream",
     "text": [
      "[INFO] User danielwii already scraped. Skipping.\n"
     ]
    },
    {
     "name": "stderr",
     "output_type": "stream",
     "text": [
      " 18%|█▊        | 3462/18934 [58:34<15:11:26,  3.53s/it]"
     ]
    },
    {
     "name": "stdout",
     "output_type": "stream",
     "text": [
      "[INFO] User andyshora already scraped. Skipping.\n"
     ]
    },
    {
     "name": "stderr",
     "output_type": "stream",
     "text": [
      " 18%|█▊        | 3465/18934 [58:36<10:00:23,  2.33s/it]"
     ]
    },
    {
     "name": "stdout",
     "output_type": "stream",
     "text": [
      "[INFO] User shannonmoeller already scraped. Skipping.\n",
      "[INFO] User hexboy already scraped. Skipping.\n",
      "[INFO] User RomainClem already scraped. Skipping.\n",
      "[INFO] User bvaughn already scraped. Skipping.\n"
     ]
    },
    {
     "name": "stderr",
     "output_type": "stream",
     "text": [
      " 18%|█▊        | 3472/18934 [58:41<5:11:53,  1.21s/it] "
     ]
    },
    {
     "name": "stdout",
     "output_type": "stream",
     "text": [
      "[INFO] User mksonkar already scraped. Skipping.\n",
      "[INFO] User vrease already scraped. Skipping.\n"
     ]
    },
    {
     "name": "stderr",
     "output_type": "stream",
     "text": [
      " 18%|█▊        | 3475/18934 [58:42<3:37:50,  1.18it/s]"
     ]
    },
    {
     "name": "stdout",
     "output_type": "stream",
     "text": [
      "[INFO] User horiuchi already scraped. Skipping.\n",
      "[INFO] User umanusorn already scraped. Skipping.\n"
     ]
    },
    {
     "name": "stderr",
     "output_type": "stream",
     "text": [
      " 18%|█▊        | 3478/18934 [58:43<2:48:20,  1.53it/s]"
     ]
    },
    {
     "name": "stdout",
     "output_type": "stream",
     "text": [
      "[INFO] User energydrink9 already scraped. Skipping.\n",
      "[INFO] User kyohei8 already scraped. Skipping.\n"
     ]
    },
    {
     "name": "stderr",
     "output_type": "stream",
     "text": [
      " 18%|█▊        | 3481/18934 [58:44<2:26:09,  1.76it/s]"
     ]
    },
    {
     "name": "stdout",
     "output_type": "stream",
     "text": [
      "[INFO] User gaoryrt already scraped. Skipping.\n"
     ]
    },
    {
     "name": "stderr",
     "output_type": "stream",
     "text": [
      " 18%|█▊        | 3483/18934 [58:45<2:27:31,  1.75it/s]"
     ]
    },
    {
     "name": "stdout",
     "output_type": "stream",
     "text": [
      "[INFO] User jferrettiboke already scraped. Skipping.\n"
     ]
    },
    {
     "name": "stderr",
     "output_type": "stream",
     "text": [
      " 18%|█▊        | 3485/18934 [58:46<2:28:45,  1.73it/s]"
     ]
    },
    {
     "name": "stdout",
     "output_type": "stream",
     "text": [
      "[INFO] User gnasamx already scraped. Skipping.\n",
      "[INFO] User ccpu already scraped. Skipping.\n",
      "[INFO] User tkcizumi already scraped. Skipping.\n",
      "[INFO] User alewis729 already scraped. Skipping.\n",
      "[INFO] User quangrau already scraped. Skipping.\n",
      "[INFO] User bernardomontoya already scraped. Skipping.\n",
      "[INFO] User atiqueansaribz already scraped. Skipping.\n",
      "[INFO] User matiassingers already scraped. Skipping.\n",
      "[INFO] User browinskipl already scraped. Skipping.\n"
     ]
    },
    {
     "name": "stderr",
     "output_type": "stream",
     "text": [
      " 18%|█▊        | 3498/18934 [58:57<4:34:16,  1.07s/it]"
     ]
    },
    {
     "name": "stdout",
     "output_type": "stream",
     "text": [
      "[INFO] User Bigme2020 already scraped. Skipping.\n"
     ]
    },
    {
     "name": "stderr",
     "output_type": "stream",
     "text": [
      " 18%|█▊        | 3500/18934 [58:58<4:07:33,  1.04it/s]"
     ]
    },
    {
     "name": "stdout",
     "output_type": "stream",
     "text": [
      "[INFO] User vnurich already scraped. Skipping.\n",
      "[INFO] User jbee37142 already scraped. Skipping.\n",
      "[INFO] User maltesa already scraped. Skipping.\n"
     ]
    },
    {
     "name": "stderr",
     "output_type": "stream",
     "text": [
      " 19%|█▊        | 3507/18934 [59:08<5:32:23,  1.29s/it]"
     ]
    },
    {
     "name": "stdout",
     "output_type": "stream",
     "text": [
      "[INFO] User noorjs already scraped. Skipping.\n",
      "[INFO] User Muzyar-rad already scraped. Skipping.\n",
      "[INFO] User mjanssen already scraped. Skipping.\n"
     ]
    },
    {
     "name": "stderr",
     "output_type": "stream",
     "text": [
      " 19%|█▊        | 3512/18934 [59:16<7:10:19,  1.67s/it]"
     ]
    },
    {
     "name": "stdout",
     "output_type": "stream",
     "text": [
      "[INFO] User vadimyen already scraped. Skipping.\n"
     ]
    },
    {
     "name": "stderr",
     "output_type": "stream",
     "text": [
      " 19%|█▊        | 3514/18934 [59:20<7:45:00,  1.81s/it]"
     ]
    },
    {
     "name": "stdout",
     "output_type": "stream",
     "text": [
      "[INFO] User CharGomez already scraped. Skipping.\n"
     ]
    },
    {
     "name": "stderr",
     "output_type": "stream",
     "text": [
      " 19%|█▊        | 3516/18934 [59:22<6:56:55,  1.62s/it]"
     ]
    },
    {
     "name": "stdout",
     "output_type": "stream",
     "text": [
      "[INFO] User nosovsh already scraped. Skipping.\n",
      "[INFO] User Lmmmmmm-bb already scraped. Skipping.\n"
     ]
    },
    {
     "name": "stderr",
     "output_type": "stream",
     "text": [
      " 19%|█▊        | 3519/18934 [59:23<4:46:52,  1.12s/it]"
     ]
    },
    {
     "name": "stdout",
     "output_type": "stream",
     "text": [
      "[INFO] User jastrand already scraped. Skipping.\n",
      "[INFO] User MarkBennett already scraped. Skipping.\n"
     ]
    },
    {
     "name": "stderr",
     "output_type": "stream",
     "text": [
      " 19%|█▊        | 3522/18934 [59:30<6:46:25,  1.58s/it]"
     ]
    },
    {
     "name": "stdout",
     "output_type": "stream",
     "text": [
      "[INFO] User astahmer already scraped. Skipping.\n"
     ]
    },
    {
     "name": "stderr",
     "output_type": "stream",
     "text": [
      " 19%|█▊        | 3524/18934 [59:32<5:48:43,  1.36s/it]"
     ]
    },
    {
     "name": "stdout",
     "output_type": "stream",
     "text": [
      "[INFO] User gherkins already scraped. Skipping.\n",
      "[INFO] User EricTsai83 already scraped. Skipping.\n"
     ]
    },
    {
     "name": "stderr",
     "output_type": "stream",
     "text": [
      " 19%|█▊        | 3527/18934 [59:33<4:12:52,  1.02it/s]"
     ]
    },
    {
     "name": "stdout",
     "output_type": "stream",
     "text": [
      "[INFO] User effy-yin already scraped. Skipping.\n",
      "[INFO] User iShawnWang already scraped. Skipping.\n",
      "[INFO] User richard1015 already scraped. Skipping.\n",
      "[INFO] User duclc2301 already scraped. Skipping.\n"
     ]
    },
    {
     "name": "stderr",
     "output_type": "stream",
     "text": [
      " 19%|█▊        | 3533/18934 [59:36<3:16:01,  1.31it/s]"
     ]
    },
    {
     "name": "stdout",
     "output_type": "stream",
     "text": [
      "[INFO] User josejefferson already scraped. Skipping.\n",
      "[INFO] User OllehSpirit already scraped. Skipping.\n",
      "[INFO] User kucira already scraped. Skipping.\n",
      "[INFO] User bouquetrender already scraped. Skipping.\n",
      "[INFO] User MotionComplex already scraped. Skipping.\n",
      "[INFO] User YYJay already scraped. Skipping.\n"
     ]
    },
    {
     "name": "stderr",
     "output_type": "stream",
     "text": [
      " 19%|█▊        | 3546/18934 [1:00:00<15:14:43,  3.57s/it]"
     ]
    },
    {
     "name": "stdout",
     "output_type": "stream",
     "text": [
      "[INFO] User alfonsus20 already scraped. Skipping.\n",
      "[INFO] User vhscom already scraped. Skipping.\n"
     ]
    },
    {
     "name": "stderr",
     "output_type": "stream",
     "text": [
      " 19%|█▊        | 3550/18934 [1:00:05<9:57:34,  2.33s/it] "
     ]
    },
    {
     "name": "stdout",
     "output_type": "stream",
     "text": [
      "[INFO] User Bob-Wassermann-Bose already scraped. Skipping.\n"
     ]
    },
    {
     "name": "stderr",
     "output_type": "stream",
     "text": [
      " 19%|█▉        | 3552/18934 [1:00:07<8:00:40,  1.87s/it]"
     ]
    },
    {
     "name": "stdout",
     "output_type": "stream",
     "text": [
      "[INFO] User HytonightYX already scraped. Skipping.\n",
      "[INFO] User Sinoptik93 already scraped. Skipping.\n",
      "[INFO] User nelsieborja already scraped. Skipping.\n",
      "[INFO] User netufo already scraped. Skipping.\n"
     ]
    },
    {
     "name": "stderr",
     "output_type": "stream",
     "text": [
      " 19%|█▉        | 3557/18934 [1:00:09<4:31:24,  1.06s/it]"
     ]
    },
    {
     "name": "stdout",
     "output_type": "stream",
     "text": [
      "[INFO] User dnhess already scraped. Skipping.\n",
      "[INFO] User ferryal already scraped. Skipping.\n",
      "[INFO] User JClackett already scraped. Skipping.\n"
     ]
    },
    {
     "name": "stderr",
     "output_type": "stream",
     "text": [
      " 19%|█▉        | 3561/18934 [1:00:11<3:26:21,  1.24it/s]"
     ]
    },
    {
     "name": "stdout",
     "output_type": "stream",
     "text": [
      "[INFO] User tripol already scraped. Skipping.\n",
      "[INFO] User heondeam already scraped. Skipping.\n"
     ]
    },
    {
     "name": "stderr",
     "output_type": "stream",
     "text": [
      " 19%|█▉        | 3564/18934 [1:00:11<2:31:26,  1.69it/s]"
     ]
    },
    {
     "name": "stdout",
     "output_type": "stream",
     "text": [
      "User krmao has more than 300 repos, skipping.\n",
      "[INFO] User jakiestfu already scraped. Skipping.\n"
     ]
    },
    {
     "name": "stderr",
     "output_type": "stream",
     "text": [
      " 19%|█▉        | 3566/18934 [1:00:13<3:01:16,  1.41it/s]"
     ]
    },
    {
     "name": "stdout",
     "output_type": "stream",
     "text": [
      "[INFO] User drkdelaney already scraped. Skipping.\n"
     ]
    },
    {
     "name": "stderr",
     "output_type": "stream",
     "text": [
      " 19%|█▉        | 3569/18934 [1:00:18<4:23:53,  1.03s/it]"
     ]
    },
    {
     "name": "stdout",
     "output_type": "stream",
     "text": [
      "[INFO] User luxo-ai already scraped. Skipping.\n"
     ]
    },
    {
     "name": "stderr",
     "output_type": "stream",
     "text": [
      " 19%|█▉        | 3573/18934 [1:00:28<7:47:58,  1.83s/it]"
     ]
    },
    {
     "name": "stdout",
     "output_type": "stream",
     "text": [
      "[INFO] User nahidhasan141400 already scraped. Skipping.\n",
      "[INFO] User AntTargett already scraped. Skipping.\n"
     ]
    },
    {
     "name": "stderr",
     "output_type": "stream",
     "text": [
      " 19%|█▉        | 3577/18934 [1:00:31<5:24:49,  1.27s/it]"
     ]
    },
    {
     "name": "stdout",
     "output_type": "stream",
     "text": [
      "[INFO] User lovincyrus already scraped. Skipping.\n",
      "[INFO] User Rowadz already scraped. Skipping.\n",
      "[INFO] User oguzergul already scraped. Skipping.\n",
      "[INFO] User chrislicodes already scraped. Skipping.\n"
     ]
    },
    {
     "name": "stderr",
     "output_type": "stream",
     "text": [
      " 19%|█▉        | 3583/18934 [1:00:42<6:43:27,  1.58s/it]"
     ]
    },
    {
     "name": "stdout",
     "output_type": "stream",
     "text": [
      "[INFO] User shadcn-ui already scraped. Skipping.\n",
      "[INFO] User nvh95 already scraped. Skipping.\n",
      "[INFO] User kiktomo already scraped. Skipping.\n"
     ]
    },
    {
     "name": "stderr",
     "output_type": "stream",
     "text": [
      " 19%|█▉        | 3588/18934 [1:00:48<6:38:44,  1.56s/it]"
     ]
    },
    {
     "name": "stdout",
     "output_type": "stream",
     "text": [
      "[INFO] User crazy4groovy already scraped. Skipping.\n",
      "[INFO] User Dan7n already scraped. Skipping.\n"
     ]
    },
    {
     "name": "stderr",
     "output_type": "stream",
     "text": [
      " 19%|█▉        | 3591/18934 [1:00:51<5:23:49,  1.27s/it]"
     ]
    },
    {
     "name": "stdout",
     "output_type": "stream",
     "text": [
      "[INFO] User ferdikoomen already scraped. Skipping.\n"
     ]
    },
    {
     "name": "stderr",
     "output_type": "stream",
     "text": [
      " 19%|█▉        | 3594/18934 [1:00:53<4:43:07,  1.11s/it]"
     ]
    },
    {
     "name": "stdout",
     "output_type": "stream",
     "text": [
      "[INFO] User ecklf already scraped. Skipping.\n",
      "[INFO] User notthatnathan already scraped. Skipping.\n"
     ]
    },
    {
     "name": "stderr",
     "output_type": "stream",
     "text": [
      " 19%|█▉        | 3598/18934 [1:00:59<5:53:33,  1.38s/it]"
     ]
    },
    {
     "name": "stdout",
     "output_type": "stream",
     "text": [
      "[INFO] User abdolahneocom already scraped. Skipping.\n",
      "[INFO] User redfrog already scraped. Skipping.\n"
     ]
    },
    {
     "name": "stderr",
     "output_type": "stream",
     "text": [
      " 19%|█▉        | 3602/18934 [1:01:02<4:20:56,  1.02s/it]"
     ]
    },
    {
     "name": "stdout",
     "output_type": "stream",
     "text": [
      "[INFO] User kaiNext already scraped. Skipping.\n",
      "[INFO] User mnewlife already scraped. Skipping.\n"
     ]
    },
    {
     "name": "stderr",
     "output_type": "stream",
     "text": [
      " 19%|█▉        | 3605/18934 [1:01:03<3:11:18,  1.34it/s]"
     ]
    },
    {
     "name": "stdout",
     "output_type": "stream",
     "text": [
      "[INFO] User Brunoalcau already scraped. Skipping.\n",
      "[INFO] User MarkNygaard already scraped. Skipping.\n",
      "[INFO] User KevinShih-689 already scraped. Skipping.\n"
     ]
    },
    {
     "name": "stderr",
     "output_type": "stream",
     "text": [
      " 19%|█▉        | 3609/18934 [1:01:05<2:53:02,  1.48it/s]"
     ]
    },
    {
     "name": "stdout",
     "output_type": "stream",
     "text": [
      "[INFO] User Upskxkit already scraped. Skipping.\n",
      "[INFO] User shokopunk already scraped. Skipping.\n"
     ]
    },
    {
     "name": "stderr",
     "output_type": "stream",
     "text": [
      " 19%|█▉        | 3614/18934 [1:01:09<3:49:21,  1.11it/s]"
     ]
    },
    {
     "name": "stdout",
     "output_type": "stream",
     "text": [
      "[INFO] User nanostores already scraped. Skipping.\n"
     ]
    },
    {
     "name": "stderr",
     "output_type": "stream",
     "text": [
      " 19%|█▉        | 3616/18934 [1:01:11<4:02:41,  1.05it/s]"
     ]
    },
    {
     "name": "stdout",
     "output_type": "stream",
     "text": [
      "[INFO] User sayjeyhi already scraped. Skipping.\n"
     ]
    },
    {
     "name": "stderr",
     "output_type": "stream",
     "text": [
      " 19%|█▉        | 3619/18934 [1:01:14<3:44:36,  1.14it/s]"
     ]
    },
    {
     "name": "stdout",
     "output_type": "stream",
     "text": [
      "[INFO] User tatoMa already scraped. Skipping.\n"
     ]
    },
    {
     "name": "stderr",
     "output_type": "stream",
     "text": [
      " 19%|█▉        | 3621/18934 [1:01:16<4:12:54,  1.01it/s]"
     ]
    },
    {
     "name": "stdout",
     "output_type": "stream",
     "text": [
      "[INFO] User susumu-sasaki already scraped. Skipping.\n"
     ]
    },
    {
     "name": "stderr",
     "output_type": "stream",
     "text": [
      " 19%|█▉        | 3623/18934 [1:01:19<4:59:44,  1.17s/it]"
     ]
    },
    {
     "name": "stdout",
     "output_type": "stream",
     "text": [
      "[INFO] User ernestopye already scraped. Skipping.\n"
     ]
    },
    {
     "name": "stderr",
     "output_type": "stream",
     "text": [
      " 19%|█▉        | 3625/18934 [1:01:21<4:21:00,  1.02s/it]"
     ]
    },
    {
     "name": "stdout",
     "output_type": "stream",
     "text": [
      "[INFO] User MichalJZ already scraped. Skipping.\n"
     ]
    },
    {
     "name": "stderr",
     "output_type": "stream",
     "text": [
      " 19%|█▉        | 3629/18934 [1:01:24<4:21:36,  1.03s/it]"
     ]
    },
    {
     "name": "stdout",
     "output_type": "stream",
     "text": [
      "[INFO] User Zneider already scraped. Skipping.\n"
     ]
    },
    {
     "name": "stderr",
     "output_type": "stream",
     "text": [
      " 19%|█▉        | 3632/18934 [1:01:27<4:28:47,  1.05s/it]"
     ]
    },
    {
     "name": "stdout",
     "output_type": "stream",
     "text": [
      "[INFO] User ajaidanial already scraped. Skipping.\n",
      "[INFO] User albert-luta already scraped. Skipping.\n",
      "[INFO] User L-Blondy already scraped. Skipping.\n",
      "[INFO] User oh930428 already scraped. Skipping.\n"
     ]
    },
    {
     "name": "stderr",
     "output_type": "stream",
     "text": [
      " 19%|█▉        | 3637/18934 [1:01:33<4:28:17,  1.05s/it]"
     ]
    },
    {
     "name": "stdout",
     "output_type": "stream",
     "text": [
      "[INFO] User iamursky already scraped. Skipping.\n"
     ]
    },
    {
     "name": "stderr",
     "output_type": "stream",
     "text": [
      " 19%|█▉        | 3639/18934 [1:01:38<6:22:03,  1.50s/it]"
     ]
    },
    {
     "name": "stdout",
     "output_type": "stream",
     "text": [
      "[INFO] User op-buggy already scraped. Skipping.\n",
      "[INFO] User tiavina-mika already scraped. Skipping.\n",
      "[INFO] User moroshko already scraped. Skipping.\n",
      "[INFO] User hushicai already scraped. Skipping.\n",
      "[INFO] User intlbn already scraped. Skipping.\n",
      "[INFO] User chalkpe already scraped. Skipping.\n",
      "[INFO] User jmaciaa already scraped. Skipping.\n"
     ]
    },
    {
     "name": "stderr",
     "output_type": "stream",
     "text": [
      " 19%|█▉        | 3647/18934 [1:01:39<2:59:13,  1.42it/s]"
     ]
    },
    {
     "name": "stdout",
     "output_type": "stream",
     "text": [
      "[INFO] User apisurfer already scraped. Skipping.\n"
     ]
    },
    {
     "name": "stderr",
     "output_type": "stream",
     "text": [
      " 19%|█▉        | 3649/18934 [1:01:43<3:43:42,  1.14it/s]"
     ]
    },
    {
     "name": "stdout",
     "output_type": "stream",
     "text": [
      "[INFO] User kharazi already scraped. Skipping.\n",
      "[INFO] User youngle316 already scraped. Skipping.\n"
     ]
    },
    {
     "name": "stderr",
     "output_type": "stream",
     "text": [
      " 19%|█▉        | 3654/18934 [1:01:56<9:25:34,  2.22s/it]"
     ]
    },
    {
     "name": "stdout",
     "output_type": "stream",
     "text": [
      "[INFO] User negu63 already scraped. Skipping.\n",
      "[INFO] User garrett-thompson already scraped. Skipping.\n",
      "[INFO] User rachelg-g already scraped. Skipping.\n",
      "[INFO] User TD-gaowei already scraped. Skipping.\n"
     ]
    },
    {
     "name": "stderr",
     "output_type": "stream",
     "text": [
      " 19%|█▉        | 3662/18934 [1:02:05<7:54:05,  1.86s/it]"
     ]
    },
    {
     "name": "stdout",
     "output_type": "stream",
     "text": [
      "[INFO] User mortezashojaei already scraped. Skipping.\n",
      "[INFO] User jacksonblankenship already scraped. Skipping.\n",
      "[INFO] User yuyu-ryokucha already scraped. Skipping.\n"
     ]
    },
    {
     "name": "stderr",
     "output_type": "stream",
     "text": [
      " 19%|█▉        | 3667/18934 [1:02:11<6:53:49,  1.63s/it]"
     ]
    },
    {
     "name": "stdout",
     "output_type": "stream",
     "text": [
      "[INFO] User RobEasthope already scraped. Skipping.\n"
     ]
    },
    {
     "name": "stderr",
     "output_type": "stream",
     "text": [
      " 19%|█▉        | 3669/18934 [1:02:15<7:02:03,  1.66s/it]"
     ]
    },
    {
     "name": "stdout",
     "output_type": "stream",
     "text": [
      "[INFO] User Manoj85 already scraped. Skipping.\n"
     ]
    },
    {
     "name": "stderr",
     "output_type": "stream",
     "text": [
      " 19%|█▉        | 3671/18934 [1:02:16<5:50:42,  1.38s/it]"
     ]
    },
    {
     "name": "stdout",
     "output_type": "stream",
     "text": [
      "[INFO] User m0chi2 already scraped. Skipping.\n",
      "[INFO] User atoledo1 already scraped. Skipping.\n",
      "[INFO] User mifi already scraped. Skipping.\n"
     ]
    },
    {
     "name": "stderr",
     "output_type": "stream",
     "text": [
      " 19%|█▉        | 3686/18934 [1:02:46<9:21:51,  2.21s/it] "
     ]
    },
    {
     "name": "stdout",
     "output_type": "stream",
     "text": [
      "[INFO] User yoansj already scraped. Skipping.\n"
     ]
    },
    {
     "name": "stderr",
     "output_type": "stream",
     "text": [
      " 19%|█▉        | 3689/18934 [1:02:50<7:16:46,  1.72s/it]"
     ]
    },
    {
     "name": "stdout",
     "output_type": "stream",
     "text": [
      "[INFO] User lakerswgq already scraped. Skipping.\n",
      "[INFO] User bodyno already scraped. Skipping.\n"
     ]
    },
    {
     "name": "stderr",
     "output_type": "stream",
     "text": [
      " 19%|█▉        | 3692/18934 [1:02:51<4:35:47,  1.09s/it]"
     ]
    },
    {
     "name": "stdout",
     "output_type": "stream",
     "text": [
      "[INFO] User rileytomasek already scraped. Skipping.\n",
      "[INFO] User starship already scraped. Skipping.\n",
      "[INFO] User aleclarson already scraped. Skipping.\n"
     ]
    },
    {
     "name": "stderr",
     "output_type": "stream",
     "text": [
      " 20%|█▉        | 3697/18934 [1:02:54<3:29:14,  1.21it/s]"
     ]
    },
    {
     "name": "stdout",
     "output_type": "stream",
     "text": [
      "[INFO] User yonycalsin already scraped. Skipping.\n",
      "[INFO] User egecavusoglu already scraped. Skipping.\n",
      "[INFO] User ZhaoTim already scraped. Skipping.\n"
     ]
    },
    {
     "name": "stderr",
     "output_type": "stream",
     "text": [
      " 20%|█▉        | 3701/18934 [1:03:00<4:32:21,  1.07s/it]"
     ]
    },
    {
     "name": "stdout",
     "output_type": "stream",
     "text": [
      "[INFO] User andysongsca already scraped. Skipping.\n"
     ]
    },
    {
     "name": "stderr",
     "output_type": "stream",
     "text": [
      " 20%|█▉        | 3703/18934 [1:03:02<4:43:13,  1.12s/it]"
     ]
    },
    {
     "name": "stdout",
     "output_type": "stream",
     "text": [
      "[INFO] User spero61 already scraped. Skipping.\n",
      "[INFO] User inlost already scraped. Skipping.\n"
     ]
    },
    {
     "name": "stderr",
     "output_type": "stream",
     "text": [
      " 20%|█▉        | 3706/18934 [1:03:03<3:29:17,  1.21it/s]"
     ]
    },
    {
     "name": "stdout",
     "output_type": "stream",
     "text": [
      "[INFO] User guilian9527-1 already scraped. Skipping.\n",
      "[INFO] User agungyuliaji already scraped. Skipping.\n"
     ]
    },
    {
     "name": "stderr",
     "output_type": "stream",
     "text": [
      " 20%|█▉        | 3709/18934 [1:03:05<3:01:23,  1.40it/s]"
     ]
    },
    {
     "name": "stdout",
     "output_type": "stream",
     "text": [
      "[INFO] User radix-ui already scraped. Skipping.\n",
      "[INFO] User xylophonehero already scraped. Skipping.\n",
      "[INFO] User neilzh already scraped. Skipping.\n",
      "[INFO] User ID-JA already scraped. Skipping.\n",
      "[INFO] User jannisbecker already scraped. Skipping.\n",
      "[INFO] User alexzabn already scraped. Skipping.\n"
     ]
    },
    {
     "name": "stderr",
     "output_type": "stream",
     "text": [
      " 20%|█▉        | 3718/18934 [1:03:10<3:07:53,  1.35it/s]"
     ]
    },
    {
     "name": "stdout",
     "output_type": "stream",
     "text": [
      "[INFO] User lxsmnsyc already scraped. Skipping.\n"
     ]
    },
    {
     "name": "stderr",
     "output_type": "stream",
     "text": [
      " 20%|█▉        | 3721/18934 [1:03:17<5:29:22,  1.30s/it]"
     ]
    },
    {
     "name": "stdout",
     "output_type": "stream",
     "text": [
      "[INFO] User TianJiaDaShao already scraped. Skipping.\n"
     ]
    },
    {
     "name": "stderr",
     "output_type": "stream",
     "text": [
      " 20%|█▉        | 3723/18934 [1:03:18<4:28:39,  1.06s/it]"
     ]
    },
    {
     "name": "stdout",
     "output_type": "stream",
     "text": [
      "[INFO] User rdok already scraped. Skipping.\n",
      "[INFO] User telesma already scraped. Skipping.\n",
      "[INFO] User arjndr already scraped. Skipping.\n"
     ]
    },
    {
     "name": "stderr",
     "output_type": "stream",
     "text": [
      " 20%|█▉        | 3730/18934 [1:03:26<5:32:20,  1.31s/it]"
     ]
    },
    {
     "name": "stdout",
     "output_type": "stream",
     "text": [
      "[INFO] User monecchi already scraped. Skipping.\n",
      "[INFO] User d7my11 already scraped. Skipping.\n"
     ]
    },
    {
     "name": "stderr",
     "output_type": "stream",
     "text": [
      " 20%|█▉        | 3733/18934 [1:03:27<3:44:00,  1.13it/s]"
     ]
    },
    {
     "name": "stdout",
     "output_type": "stream",
     "text": [
      "[INFO] User JuSfrei already scraped. Skipping.\n"
     ]
    },
    {
     "name": "stderr",
     "output_type": "stream",
     "text": [
      " 20%|█▉        | 3736/18934 [1:03:34<6:38:29,  1.57s/it]"
     ]
    },
    {
     "name": "stdout",
     "output_type": "stream",
     "text": [
      "[INFO] User amirmalekian already scraped. Skipping.\n"
     ]
    },
    {
     "name": "stderr",
     "output_type": "stream",
     "text": [
      " 20%|█▉        | 3739/18934 [1:03:37<5:48:14,  1.38s/it]"
     ]
    },
    {
     "name": "stdout",
     "output_type": "stream",
     "text": [
      "[INFO] User boyue0 already scraped. Skipping.\n"
     ]
    },
    {
     "name": "stderr",
     "output_type": "stream",
     "text": [
      " 20%|█▉        | 3741/18934 [1:03:39<5:17:50,  1.26s/it]"
     ]
    },
    {
     "name": "stdout",
     "output_type": "stream",
     "text": [
      "[INFO] User kaite-test already scraped. Skipping.\n",
      "[INFO] User n3r4zzurr0 already scraped. Skipping.\n"
     ]
    },
    {
     "name": "stderr",
     "output_type": "stream",
     "text": [
      " 20%|█▉        | 3745/18934 [1:03:42<4:02:03,  1.05it/s]"
     ]
    },
    {
     "name": "stdout",
     "output_type": "stream",
     "text": [
      "[INFO] User marioAmauta already scraped. Skipping.\n"
     ]
    },
    {
     "name": "stderr",
     "output_type": "stream",
     "text": [
      " 20%|█▉        | 3747/18934 [1:03:46<5:36:30,  1.33s/it]"
     ]
    },
    {
     "name": "stdout",
     "output_type": "stream",
     "text": [
      "[INFO] User callstack already scraped. Skipping.\n",
      "[INFO] User soupetersen already scraped. Skipping.\n"
     ]
    },
    {
     "name": "stderr",
     "output_type": "stream",
     "text": [
      " 20%|█▉        | 3751/18934 [1:03:50<4:53:58,  1.16s/it]"
     ]
    },
    {
     "name": "stdout",
     "output_type": "stream",
     "text": [
      "[INFO] User shadymoses already scraped. Skipping.\n",
      "[INFO] User versusbassz already scraped. Skipping.\n",
      "[INFO] User m4r71n already scraped. Skipping.\n",
      "[INFO] User dyabol already scraped. Skipping.\n",
      "[INFO] User ashivliving already scraped. Skipping.\n"
     ]
    },
    {
     "name": "stderr",
     "output_type": "stream",
     "text": [
      " 20%|█▉        | 3757/18934 [1:03:51<2:27:50,  1.71it/s]"
     ]
    },
    {
     "name": "stdout",
     "output_type": "stream",
     "text": [
      "[INFO] User aralroca already scraped. Skipping.\n"
     ]
    },
    {
     "name": "stderr",
     "output_type": "stream",
     "text": [
      " 20%|█▉        | 3759/18934 [1:03:51<2:07:43,  1.98it/s]"
     ]
    },
    {
     "name": "stdout",
     "output_type": "stream",
     "text": [
      "User ICLXL has more than 300 repos, skipping.\n"
     ]
    },
    {
     "name": "stderr",
     "output_type": "stream",
     "text": [
      " 20%|█▉        | 3761/18934 [1:03:59<6:39:10,  1.58s/it]"
     ]
    },
    {
     "name": "stdout",
     "output_type": "stream",
     "text": [
      "[INFO] User yayoc already scraped. Skipping.\n"
     ]
    },
    {
     "name": "stderr",
     "output_type": "stream",
     "text": [
      " 20%|█▉        | 3763/18934 [1:04:06<8:59:51,  2.14s/it]"
     ]
    },
    {
     "name": "stdout",
     "output_type": "stream",
     "text": [
      "[INFO] User CaioQuirinoMedeiros already scraped. Skipping.\n",
      "[INFO] User 1000peach already scraped. Skipping.\n"
     ]
    },
    {
     "name": "stderr",
     "output_type": "stream",
     "text": [
      " 20%|█▉        | 3766/18934 [1:04:07<6:03:48,  1.44s/it]"
     ]
    },
    {
     "name": "stdout",
     "output_type": "stream",
     "text": [
      "[INFO] User harrytran998 already scraped. Skipping.\n",
      "[INFO] User mattymess already scraped. Skipping.\n"
     ]
    },
    {
     "name": "stderr",
     "output_type": "stream",
     "text": [
      " 20%|█▉        | 3769/18934 [1:04:08<4:34:24,  1.09s/it]"
     ]
    },
    {
     "name": "stdout",
     "output_type": "stream",
     "text": [
      "[INFO] User mezhanglei already scraped. Skipping.\n"
     ]
    },
    {
     "name": "stderr",
     "output_type": "stream",
     "text": [
      " 20%|█▉        | 3777/18934 [1:04:36<13:14:53,  3.15s/it]"
     ]
    },
    {
     "name": "stdout",
     "output_type": "stream",
     "text": [
      "[INFO] User Shopify already scraped. Skipping.\n"
     ]
    },
    {
     "name": "stderr",
     "output_type": "stream",
     "text": [
      " 20%|█▉        | 3779/18934 [1:04:39<10:06:52,  2.40s/it]"
     ]
    },
    {
     "name": "stdout",
     "output_type": "stream",
     "text": [
      "[INFO] User revskill10 already scraped. Skipping.\n"
     ]
    },
    {
     "name": "stderr",
     "output_type": "stream",
     "text": [
      " 20%|█▉        | 3781/18934 [1:04:41<7:47:47,  1.85s/it] "
     ]
    },
    {
     "name": "stdout",
     "output_type": "stream",
     "text": [
      "[INFO] User viettl already scraped. Skipping.\n"
     ]
    },
    {
     "name": "stderr",
     "output_type": "stream",
     "text": [
      " 20%|██        | 3787/18934 [1:04:51<8:20:24,  1.98s/it]"
     ]
    },
    {
     "name": "stdout",
     "output_type": "stream",
     "text": [
      "[INFO] User markhristov already scraped. Skipping.\n",
      "[INFO] User anton-drobot already scraped. Skipping.\n",
      "[INFO] User tiagooliveira08 already scraped. Skipping.\n",
      "[INFO] User woolf1717 already scraped. Skipping.\n"
     ]
    },
    {
     "name": "stderr",
     "output_type": "stream",
     "text": [
      " 20%|██        | 3792/18934 [1:04:59<7:35:59,  1.81s/it]"
     ]
    },
    {
     "name": "stdout",
     "output_type": "stream",
     "text": [
      "[INFO] User richardscarrott already scraped. Skipping.\n",
      "[INFO] User mechiland already scraped. Skipping.\n",
      "[INFO] User ciruz already scraped. Skipping.\n"
     ]
    },
    {
     "name": "stderr",
     "output_type": "stream",
     "text": [
      " 20%|██        | 3796/18934 [1:05:01<5:15:19,  1.25s/it]"
     ]
    },
    {
     "name": "stdout",
     "output_type": "stream",
     "text": [
      "[INFO] User revengemiroz already scraped. Skipping.\n",
      "[INFO] User mozisan already scraped. Skipping.\n",
      "[INFO] User rskopal already scraped. Skipping.\n",
      "[INFO] User itwela already scraped. Skipping.\n"
     ]
    },
    {
     "name": "stderr",
     "output_type": "stream",
     "text": [
      " 20%|██        | 3803/18934 [1:05:06<4:18:46,  1.03s/it]"
     ]
    },
    {
     "name": "stdout",
     "output_type": "stream",
     "text": [
      "[INFO] User premeq already scraped. Skipping.\n",
      "[INFO] User housewood-coder already scraped. Skipping.\n",
      "[INFO] User yeongbin-jo already scraped. Skipping.\n",
      "[INFO] User supertroels already scraped. Skipping.\n",
      "[INFO] User zetagraph already scraped. Skipping.\n",
      "[INFO] User guipacheco2 already scraped. Skipping.\n"
     ]
    },
    {
     "name": "stderr",
     "output_type": "stream",
     "text": [
      " 20%|██        | 3812/18934 [1:05:11<3:15:37,  1.29it/s]"
     ]
    },
    {
     "name": "stdout",
     "output_type": "stream",
     "text": [
      "[INFO] User atarsa already scraped. Skipping.\n",
      "[INFO] User cloudups already scraped. Skipping.\n"
     ]
    },
    {
     "name": "stderr",
     "output_type": "stream",
     "text": [
      " 20%|██        | 3817/18934 [1:05:15<3:09:16,  1.33it/s]"
     ]
    },
    {
     "name": "stdout",
     "output_type": "stream",
     "text": [
      "[INFO] User mayneyao already scraped. Skipping.\n",
      "[INFO] User ikupenov already scraped. Skipping.\n"
     ]
    },
    {
     "name": "stderr",
     "output_type": "stream",
     "text": [
      " 20%|██        | 3820/18934 [1:05:16<2:29:14,  1.69it/s]"
     ]
    },
    {
     "name": "stdout",
     "output_type": "stream",
     "text": [
      "[INFO] User tallpants already scraped. Skipping.\n"
     ]
    },
    {
     "name": "stderr",
     "output_type": "stream",
     "text": [
      " 20%|██        | 3824/18934 [1:05:31<11:10:30,  2.66s/it]"
     ]
    },
    {
     "name": "stdout",
     "output_type": "stream",
     "text": [
      "[INFO] User goodwench already scraped. Skipping.\n",
      "[INFO] User jimfilippou already scraped. Skipping.\n"
     ]
    },
    {
     "name": "stderr",
     "output_type": "stream",
     "text": [
      " 20%|██        | 3827/18934 [1:05:34<8:22:08,  1.99s/it] "
     ]
    },
    {
     "name": "stdout",
     "output_type": "stream",
     "text": [
      "[INFO] User rennerwins already scraped. Skipping.\n"
     ]
    },
    {
     "name": "stderr",
     "output_type": "stream",
     "text": [
      " 20%|██        | 3831/18934 [1:05:39<6:39:36,  1.59s/it]"
     ]
    },
    {
     "name": "stdout",
     "output_type": "stream",
     "text": [
      "[INFO] User ggascoigne already scraped. Skipping.\n",
      "[INFO] User hellotoby already scraped. Skipping.\n"
     ]
    },
    {
     "name": "stderr",
     "output_type": "stream",
     "text": [
      " 20%|██        | 3834/18934 [1:05:39<4:05:46,  1.02it/s]"
     ]
    },
    {
     "name": "stdout",
     "output_type": "stream",
     "text": [
      "[INFO] User Baplisca already scraped. Skipping.\n",
      "[INFO] User delibash already scraped. Skipping.\n"
     ]
    },
    {
     "name": "stderr",
     "output_type": "stream",
     "text": [
      " 20%|██        | 3837/18934 [1:05:44<4:49:39,  1.15s/it]"
     ]
    },
    {
     "name": "stdout",
     "output_type": "stream",
     "text": [
      "[INFO] User leandroargentiero already scraped. Skipping.\n"
     ]
    },
    {
     "name": "stderr",
     "output_type": "stream",
     "text": [
      " 20%|██        | 3839/18934 [1:05:44<4:00:48,  1.04it/s]"
     ]
    },
    {
     "name": "stdout",
     "output_type": "stream",
     "text": [
      "[INFO] User arosesiejdev already scraped. Skipping.\n",
      "[INFO] User bugushi already scraped. Skipping.\n",
      "[INFO] User dptty already scraped. Skipping.\n"
     ]
    },
    {
     "name": "stderr",
     "output_type": "stream",
     "text": [
      " 20%|██        | 3843/18934 [1:05:47<3:23:14,  1.24it/s]"
     ]
    },
    {
     "name": "stdout",
     "output_type": "stream",
     "text": [
      "[INFO] User osirvent already scraped. Skipping.\n"
     ]
    },
    {
     "name": "stderr",
     "output_type": "stream",
     "text": [
      " 20%|██        | 3846/18934 [1:05:50<3:26:45,  1.22it/s]"
     ]
    },
    {
     "name": "stdout",
     "output_type": "stream",
     "text": [
      "User doowb has more than 300 repos, skipping.\n",
      "[INFO] User yu-tzi already scraped. Skipping.\n"
     ]
    },
    {
     "name": "stderr",
     "output_type": "stream",
     "text": [
      " 20%|██        | 3848/18934 [1:05:53<4:31:36,  1.08s/it]"
     ]
    },
    {
     "name": "stdout",
     "output_type": "stream",
     "text": [
      "[INFO] User kostyafarber already scraped. Skipping.\n",
      "[INFO] User aqzhyi already scraped. Skipping.\n"
     ]
    },
    {
     "name": "stderr",
     "output_type": "stream",
     "text": [
      " 20%|██        | 3851/18934 [1:05:55<3:55:40,  1.07it/s]"
     ]
    },
    {
     "name": "stdout",
     "output_type": "stream",
     "text": [
      "[INFO] User OTaylorUK already scraped. Skipping.\n",
      "[INFO] User Ahavaz already scraped. Skipping.\n"
     ]
    },
    {
     "name": "stderr",
     "output_type": "stream",
     "text": [
      " 20%|██        | 3855/18934 [1:06:01<5:01:18,  1.20s/it]"
     ]
    },
    {
     "name": "stdout",
     "output_type": "stream",
     "text": [
      "[INFO] User brunocalou already scraped. Skipping.\n",
      "[INFO] User coder054 already scraped. Skipping.\n",
      "[INFO] User woodenZhu already scraped. Skipping.\n",
      "[INFO] User rroslaniec already scraped. Skipping.\n"
     ]
    },
    {
     "name": "stderr",
     "output_type": "stream",
     "text": [
      " 20%|██        | 3862/18934 [1:06:04<3:23:57,  1.23it/s]"
     ]
    },
    {
     "name": "stdout",
     "output_type": "stream",
     "text": [
      "[INFO] User fatehwaharp already scraped. Skipping.\n"
     ]
    },
    {
     "name": "stderr",
     "output_type": "stream",
     "text": [
      " 20%|██        | 3864/18934 [1:06:05<3:02:48,  1.37it/s]"
     ]
    },
    {
     "name": "stdout",
     "output_type": "stream",
     "text": [
      "[INFO] User kane41 already scraped. Skipping.\n"
     ]
    },
    {
     "name": "stderr",
     "output_type": "stream",
     "text": [
      " 20%|██        | 3866/18934 [1:06:07<3:19:53,  1.26it/s]"
     ]
    },
    {
     "name": "stdout",
     "output_type": "stream",
     "text": [
      "[INFO] User sk1p already scraped. Skipping.\n"
     ]
    },
    {
     "name": "stderr",
     "output_type": "stream",
     "text": [
      " 20%|██        | 3869/18934 [1:06:09<2:46:59,  1.50it/s]"
     ]
    },
    {
     "name": "stdout",
     "output_type": "stream",
     "text": [
      "User testfailed has more than 300 repos, skipping.\n",
      "[INFO] User fgnass already scraped. Skipping.\n",
      "[INFO] User ucarno already scraped. Skipping.\n"
     ]
    },
    {
     "name": "stderr",
     "output_type": "stream",
     "text": [
      " 20%|██        | 3872/18934 [1:06:12<3:34:06,  1.17it/s]"
     ]
    },
    {
     "name": "stdout",
     "output_type": "stream",
     "text": [
      "[INFO] User yogyy already scraped. Skipping.\n"
     ]
    },
    {
     "name": "stderr",
     "output_type": "stream",
     "text": [
      " 20%|██        | 3877/18934 [1:06:24<7:52:17,  1.88s/it]"
     ]
    },
    {
     "name": "stdout",
     "output_type": "stream",
     "text": [
      "[INFO] User fbosch already scraped. Skipping.\n",
      "[INFO] User alvaro-8a already scraped. Skipping.\n"
     ]
    },
    {
     "name": "stderr",
     "output_type": "stream",
     "text": [
      " 20%|██        | 3880/18934 [1:06:25<4:42:07,  1.12s/it]"
     ]
    },
    {
     "name": "stdout",
     "output_type": "stream",
     "text": [
      "[INFO] User DatHip already scraped. Skipping.\n",
      "[INFO] User nagman already scraped. Skipping.\n",
      "[INFO] User xup3rr already scraped. Skipping.\n"
     ]
    },
    {
     "name": "stderr",
     "output_type": "stream",
     "text": [
      " 21%|██        | 3886/18934 [1:06:30<4:04:55,  1.02it/s]"
     ]
    },
    {
     "name": "stdout",
     "output_type": "stream",
     "text": [
      "[INFO] User seanmacentee already scraped. Skipping.\n",
      "[INFO] User caasi already scraped. Skipping.\n"
     ]
    },
    {
     "name": "stderr",
     "output_type": "stream",
     "text": [
      " 21%|██        | 3892/18934 [1:06:58<17:46:48,  4.26s/it]"
     ]
    },
    {
     "name": "stdout",
     "output_type": "stream",
     "text": [
      "[INFO] User geekish already scraped. Skipping.\n",
      "[INFO] User nuni233 already scraped. Skipping.\n",
      "[INFO] User lzl already scraped. Skipping.\n",
      "[INFO] User Yukaii already scraped. Skipping.\n"
     ]
    },
    {
     "name": "stderr",
     "output_type": "stream",
     "text": [
      " 21%|██        | 3897/18934 [1:07:00<8:15:18,  1.98s/it] "
     ]
    },
    {
     "name": "stdout",
     "output_type": "stream",
     "text": [
      "[INFO] User OriginalDOMDada already scraped. Skipping.\n",
      "[INFO] User parcel-bundler already scraped. Skipping.\n",
      "[INFO] User leettaylor already scraped. Skipping.\n",
      "[INFO] User ahkohd already scraped. Skipping.\n"
     ]
    },
    {
     "name": "stderr",
     "output_type": "stream",
     "text": [
      " 21%|██        | 3902/18934 [1:07:01<4:51:10,  1.16s/it]"
     ]
    },
    {
     "name": "stdout",
     "output_type": "stream",
     "text": [
      "[INFO] User xinyifly already scraped. Skipping.\n"
     ]
    },
    {
     "name": "stderr",
     "output_type": "stream",
     "text": [
      " 21%|██        | 3904/18934 [1:07:04<5:01:04,  1.20s/it]"
     ]
    },
    {
     "name": "stdout",
     "output_type": "stream",
     "text": [
      "[INFO] User ramijarrar already scraped. Skipping.\n"
     ]
    },
    {
     "name": "stderr",
     "output_type": "stream",
     "text": [
      " 21%|██        | 3907/18934 [1:07:08<5:14:36,  1.26s/it]"
     ]
    },
    {
     "name": "stdout",
     "output_type": "stream",
     "text": [
      "[INFO] User neosiae already scraped. Skipping.\n",
      "[INFO] User rayGreycloud already scraped. Skipping.\n"
     ]
    },
    {
     "name": "stderr",
     "output_type": "stream",
     "text": [
      " 21%|██        | 3910/18934 [1:07:10<4:13:12,  1.01s/it]"
     ]
    },
    {
     "name": "stdout",
     "output_type": "stream",
     "text": [
      "[INFO] User pdxman already scraped. Skipping.\n"
     ]
    },
    {
     "name": "stderr",
     "output_type": "stream",
     "text": [
      " 21%|██        | 3913/18934 [1:07:13<4:12:44,  1.01s/it]"
     ]
    },
    {
     "name": "stdout",
     "output_type": "stream",
     "text": [
      "[INFO] User RomanBronevik already scraped. Skipping.\n"
     ]
    },
    {
     "name": "stderr",
     "output_type": "stream",
     "text": [
      " 21%|██        | 3918/18934 [1:07:26<9:03:34,  2.17s/it]"
     ]
    },
    {
     "name": "stdout",
     "output_type": "stream",
     "text": [
      "[INFO] User JuEunHee already scraped. Skipping.\n",
      "[INFO] User diescake already scraped. Skipping.\n",
      "[INFO] User shiyuu33 already scraped. Skipping.\n",
      "[INFO] User vincentypy already scraped. Skipping.\n",
      "[INFO] User JeffPatricio already scraped. Skipping.\n",
      "[INFO] User diegodofe already scraped. Skipping.\n"
     ]
    },
    {
     "name": "stderr",
     "output_type": "stream",
     "text": [
      " 21%|██        | 3925/18934 [1:07:27<3:11:14,  1.31it/s]"
     ]
    },
    {
     "name": "stdout",
     "output_type": "stream",
     "text": [
      "[INFO] User GuerreroDLaCruz already scraped. Skipping.\n",
      "[INFO] User ucakyunus already scraped. Skipping.\n"
     ]
    },
    {
     "name": "stderr",
     "output_type": "stream",
     "text": [
      " 21%|██        | 3928/18934 [1:07:28<2:48:03,  1.49it/s]"
     ]
    },
    {
     "name": "stdout",
     "output_type": "stream",
     "text": [
      "[INFO] User suateneskoc already scraped. Skipping.\n",
      "[INFO] User jardelgoncalves-dev already scraped. Skipping.\n",
      "[INFO] User theodesp already scraped. Skipping.\n",
      "[INFO] User SomeEarth86 already scraped. Skipping.\n",
      "[INFO] User knguyen30111 already scraped. Skipping.\n"
     ]
    },
    {
     "name": "stderr",
     "output_type": "stream",
     "text": [
      " 21%|██        | 3934/18934 [1:07:30<1:59:06,  2.10it/s]"
     ]
    },
    {
     "name": "stdout",
     "output_type": "stream",
     "text": [
      "[INFO] User wilyyyy already scraped. Skipping.\n"
     ]
    },
    {
     "name": "stderr",
     "output_type": "stream",
     "text": [
      " 21%|██        | 3937/18934 [1:07:32<2:33:20,  1.63it/s]"
     ]
    },
    {
     "name": "stdout",
     "output_type": "stream",
     "text": [
      "[INFO] User kekshibata already scraped. Skipping.\n"
     ]
    },
    {
     "name": "stderr",
     "output_type": "stream",
     "text": [
      " 21%|██        | 3939/18934 [1:07:38<4:45:10,  1.14s/it]"
     ]
    },
    {
     "name": "stdout",
     "output_type": "stream",
     "text": [
      "[INFO] User uicowboy already scraped. Skipping.\n",
      "[INFO] User amirardalan already scraped. Skipping.\n"
     ]
    },
    {
     "name": "stderr",
     "output_type": "stream",
     "text": [
      " 21%|██        | 3943/18934 [1:07:40<3:37:10,  1.15it/s]"
     ]
    },
    {
     "name": "stdout",
     "output_type": "stream",
     "text": [
      "[INFO] User Malberee already scraped. Skipping.\n"
     ]
    },
    {
     "name": "stderr",
     "output_type": "stream",
     "text": [
      " 21%|██        | 3945/18934 [1:07:41<3:06:11,  1.34it/s]"
     ]
    },
    {
     "name": "stdout",
     "output_type": "stream",
     "text": [
      "[INFO] User KienTPhan already scraped. Skipping.\n",
      "[INFO] User svenheden already scraped. Skipping.\n",
      "[INFO] User milanskendzicvulic already scraped. Skipping.\n",
      "[INFO] User frasercrichton already scraped. Skipping.\n"
     ]
    },
    {
     "name": "stderr",
     "output_type": "stream",
     "text": [
      " 21%|██        | 3956/18934 [1:07:48<2:09:10,  1.93it/s]"
     ]
    },
    {
     "name": "stdout",
     "output_type": "stream",
     "text": [
      "[INFO] User jiang263 already scraped. Skipping.\n",
      "[INFO] User shozawa already scraped. Skipping.\n",
      "[INFO] User achou11 already scraped. Skipping.\n",
      "User weisisheng has more than 300 repos, skipping.\n",
      "[INFO] User HamzaHamani already scraped. Skipping.\n"
     ]
    },
    {
     "name": "stderr",
     "output_type": "stream",
     "text": [
      " 21%|██        | 3961/18934 [1:07:58<5:14:39,  1.26s/it]"
     ]
    },
    {
     "name": "stdout",
     "output_type": "stream",
     "text": [
      "[INFO] User adnahmed already scraped. Skipping.\n",
      "[INFO] User QingjiaTsang already scraped. Skipping.\n"
     ]
    },
    {
     "name": "stderr",
     "output_type": "stream",
     "text": [
      " 21%|██        | 3965/18934 [1:08:01<4:00:05,  1.04it/s]"
     ]
    },
    {
     "name": "stdout",
     "output_type": "stream",
     "text": [
      "[INFO] User liuxinqiong already scraped. Skipping.\n",
      "[INFO] User g10 already scraped. Skipping.\n"
     ]
    },
    {
     "name": "stderr",
     "output_type": "stream",
     "text": [
      " 21%|██        | 3969/18934 [1:08:08<6:27:14,  1.55s/it]"
     ]
    },
    {
     "name": "stdout",
     "output_type": "stream",
     "text": [
      "[INFO] User Robert-d-s already scraped. Skipping.\n",
      "[INFO] User eduahcb already scraped. Skipping.\n"
     ]
    },
    {
     "name": "stderr",
     "output_type": "stream",
     "text": [
      " 21%|██        | 3972/18934 [1:08:10<4:50:43,  1.17s/it]"
     ]
    },
    {
     "name": "stdout",
     "output_type": "stream",
     "text": [
      "[INFO] User bleedingAyush already scraped. Skipping.\n"
     ]
    },
    {
     "name": "stderr",
     "output_type": "stream",
     "text": [
      " 21%|██        | 3974/18934 [1:08:11<4:08:37,  1.00it/s]"
     ]
    },
    {
     "name": "stdout",
     "output_type": "stream",
     "text": [
      "[INFO] User davecarter already scraped. Skipping.\n",
      "[INFO] User da-vaibhav already scraped. Skipping.\n",
      "[INFO] User tranthaison1231 already scraped. Skipping.\n"
     ]
    },
    {
     "name": "stderr",
     "output_type": "stream",
     "text": [
      " 21%|██        | 3978/18934 [1:08:12<2:47:41,  1.49it/s]"
     ]
    },
    {
     "name": "stdout",
     "output_type": "stream",
     "text": [
      "[INFO] User crvouga already scraped. Skipping.\n"
     ]
    },
    {
     "name": "stderr",
     "output_type": "stream",
     "text": [
      " 21%|██        | 3980/18934 [1:08:17<4:18:18,  1.04s/it]"
     ]
    },
    {
     "name": "stdout",
     "output_type": "stream",
     "text": [
      "[INFO] User sanjaybaskaran01 already scraped. Skipping.\n"
     ]
    },
    {
     "name": "stderr",
     "output_type": "stream",
     "text": [
      " 21%|██        | 3982/18934 [1:08:17<3:19:56,  1.25it/s]"
     ]
    },
    {
     "name": "stdout",
     "output_type": "stream",
     "text": [
      "User frankfanslc has more than 300 repos, skipping.\n",
      "[INFO] User oOBobbyOo already scraped. Skipping.\n"
     ]
    },
    {
     "name": "stderr",
     "output_type": "stream",
     "text": [
      " 21%|██        | 3984/18934 [1:08:28<8:22:45,  2.02s/it]"
     ]
    },
    {
     "name": "stdout",
     "output_type": "stream",
     "text": [
      "[INFO] User theolvq already scraped. Skipping.\n",
      "[INFO] User Bulbariss already scraped. Skipping.\n",
      "[INFO] User stsiwo already scraped. Skipping.\n",
      "[INFO] User fiqryq already scraped. Skipping.\n"
     ]
    },
    {
     "name": "stderr",
     "output_type": "stream",
     "text": [
      " 21%|██        | 3989/18934 [1:08:30<5:23:30,  1.30s/it]"
     ]
    },
    {
     "name": "stdout",
     "output_type": "stream",
     "text": [
      "[INFO] User marcosvlehmkuhl already scraped. Skipping.\n"
     ]
    },
    {
     "name": "stderr",
     "output_type": "stream",
     "text": [
      " 21%|██        | 3995/18934 [1:08:41<6:55:24,  1.67s/it]"
     ]
    },
    {
     "name": "stdout",
     "output_type": "stream",
     "text": [
      "[INFO] User ehsanahgh already scraped. Skipping.\n",
      "[INFO] User ikonan already scraped. Skipping.\n",
      "[INFO] User kovcic already scraped. Skipping.\n"
     ]
    },
    {
     "name": "stderr",
     "output_type": "stream",
     "text": [
      " 21%|██        | 4000/18934 [1:08:46<5:18:28,  1.28s/it]"
     ]
    },
    {
     "name": "stdout",
     "output_type": "stream",
     "text": [
      "[INFO] User tiberiuichim already scraped. Skipping.\n"
     ]
    },
    {
     "name": "stderr",
     "output_type": "stream",
     "text": [
      " 21%|██        | 4004/18934 [1:08:57<9:15:45,  2.23s/it]"
     ]
    },
    {
     "name": "stdout",
     "output_type": "stream",
     "text": [
      "[INFO] User aadelgrossi already scraped. Skipping.\n"
     ]
    },
    {
     "name": "stderr",
     "output_type": "stream",
     "text": [
      " 21%|██        | 4007/18934 [1:09:04<9:26:12,  2.28s/it]"
     ]
    },
    {
     "name": "stdout",
     "output_type": "stream",
     "text": [
      "[INFO] User joaovictor3g already scraped. Skipping.\n"
     ]
    },
    {
     "name": "stderr",
     "output_type": "stream",
     "text": [
      " 21%|██        | 4009/18934 [1:09:05<7:04:54,  1.71s/it]"
     ]
    },
    {
     "name": "stdout",
     "output_type": "stream",
     "text": [
      "[INFO] User ganapativs already scraped. Skipping.\n"
     ]
    },
    {
     "name": "stderr",
     "output_type": "stream",
     "text": [
      " 21%|██        | 4013/18934 [1:09:14<8:37:17,  2.08s/it]"
     ]
    },
    {
     "name": "stdout",
     "output_type": "stream",
     "text": [
      "[INFO] User robotkutya already scraped. Skipping.\n",
      "[INFO] User consolejs already scraped. Skipping.\n",
      "[INFO] User kpfromer already scraped. Skipping.\n",
      "[INFO] User rossenv already scraped. Skipping.\n",
      "[INFO] User TkDodo already scraped. Skipping.\n",
      "[INFO] User Pewww already scraped. Skipping.\n",
      "[INFO] User Lantianyou already scraped. Skipping.\n"
     ]
    },
    {
     "name": "stderr",
     "output_type": "stream",
     "text": [
      " 21%|██        | 4021/18934 [1:09:16<2:53:44,  1.43it/s]"
     ]
    },
    {
     "name": "stdout",
     "output_type": "stream",
     "text": [
      "[INFO] User armspkt already scraped. Skipping.\n"
     ]
    },
    {
     "name": "stderr",
     "output_type": "stream",
     "text": [
      " 21%|██        | 4023/18934 [1:09:19<3:44:03,  1.11it/s]"
     ]
    },
    {
     "name": "stdout",
     "output_type": "stream",
     "text": [
      "[INFO] User webpackmonitor already scraped. Skipping.\n"
     ]
    },
    {
     "name": "stderr",
     "output_type": "stream",
     "text": [
      " 21%|██▏       | 4025/18934 [1:09:23<4:55:24,  1.19s/it]"
     ]
    },
    {
     "name": "stdout",
     "output_type": "stream",
     "text": [
      "[INFO] User littleboycoding already scraped. Skipping.\n",
      "[INFO] User JesuHrz already scraped. Skipping.\n"
     ]
    },
    {
     "name": "stderr",
     "output_type": "stream",
     "text": [
      " 21%|██▏       | 4029/18934 [1:09:29<5:50:55,  1.41s/it]"
     ]
    },
    {
     "name": "stdout",
     "output_type": "stream",
     "text": [
      "[INFO] User lindseybradford already scraped. Skipping.\n",
      "[INFO] User nenadpejic already scraped. Skipping.\n"
     ]
    },
    {
     "name": "stderr",
     "output_type": "stream",
     "text": [
      " 21%|██▏       | 4033/18934 [1:09:39<8:38:59,  2.09s/it]"
     ]
    },
    {
     "name": "stdout",
     "output_type": "stream",
     "text": [
      "[INFO] User Ys6537 already scraped. Skipping.\n",
      "[INFO] User andrew-codes already scraped. Skipping.\n"
     ]
    },
    {
     "name": "stderr",
     "output_type": "stream",
     "text": [
      " 21%|██▏       | 4037/18934 [1:09:42<5:44:19,  1.39s/it]"
     ]
    },
    {
     "name": "stdout",
     "output_type": "stream",
     "text": [
      "[INFO] User Haqverdi already scraped. Skipping.\n"
     ]
    },
    {
     "name": "stderr",
     "output_type": "stream",
     "text": [
      " 21%|██▏       | 4039/18934 [1:09:45<6:17:27,  1.52s/it]"
     ]
    },
    {
     "name": "stdout",
     "output_type": "stream",
     "text": [
      "[INFO] User vadymshymko already scraped. Skipping.\n"
     ]
    },
    {
     "name": "stderr",
     "output_type": "stream",
     "text": [
      " 21%|██▏       | 4042/18934 [1:09:47<4:50:58,  1.17s/it]"
     ]
    },
    {
     "name": "stdout",
     "output_type": "stream",
     "text": [
      "[INFO] User herrherrmann already scraped. Skipping.\n",
      "[INFO] User dixoncheng already scraped. Skipping.\n"
     ]
    },
    {
     "name": "stderr",
     "output_type": "stream",
     "text": [
      " 21%|██▏       | 4045/18934 [1:09:48<2:59:50,  1.38it/s]"
     ]
    },
    {
     "name": "stdout",
     "output_type": "stream",
     "text": [
      "User AimWhy has more than 300 repos, skipping.\n"
     ]
    },
    {
     "name": "stderr",
     "output_type": "stream",
     "text": [
      " 21%|██▏       | 4047/18934 [1:09:51<4:41:40,  1.14s/it]"
     ]
    },
    {
     "name": "stdout",
     "output_type": "stream",
     "text": [
      "[INFO] User rockyfrank already scraped. Skipping.\n"
     ]
    },
    {
     "name": "stderr",
     "output_type": "stream",
     "text": [
      " 21%|██▏       | 4049/18934 [1:09:55<6:07:31,  1.48s/it]"
     ]
    },
    {
     "name": "stdout",
     "output_type": "stream",
     "text": [
      "[INFO] User LoicGoyet already scraped. Skipping.\n"
     ]
    },
    {
     "name": "stderr",
     "output_type": "stream",
     "text": [
      " 21%|██▏       | 4051/18934 [1:09:58<5:30:49,  1.33s/it]"
     ]
    },
    {
     "name": "stdout",
     "output_type": "stream",
     "text": [
      "[INFO] User AKay231 already scraped. Skipping.\n"
     ]
    },
    {
     "name": "stderr",
     "output_type": "stream",
     "text": [
      " 21%|██▏       | 4053/18934 [1:09:59<4:35:06,  1.11s/it]"
     ]
    },
    {
     "name": "stdout",
     "output_type": "stream",
     "text": [
      "[INFO] User HenrikDK2 already scraped. Skipping.\n",
      "[INFO] User JeffCarpenter already scraped. Skipping.\n",
      "[INFO] User Tomas2D already scraped. Skipping.\n"
     ]
    },
    {
     "name": "stderr",
     "output_type": "stream",
     "text": [
      " 21%|██▏       | 4057/18934 [1:10:01<3:33:46,  1.16it/s]"
     ]
    },
    {
     "name": "stdout",
     "output_type": "stream",
     "text": [
      "[INFO] User suleimanmahmoud already scraped. Skipping.\n"
     ]
    },
    {
     "name": "stderr",
     "output_type": "stream",
     "text": [
      " 21%|██▏       | 4059/18934 [1:10:04<4:10:16,  1.01s/it]"
     ]
    },
    {
     "name": "stdout",
     "output_type": "stream",
     "text": [
      "[INFO] User jSadoski already scraped. Skipping.\n",
      "[INFO] User ThisNameWasTaken already scraped. Skipping.\n"
     ]
    },
    {
     "name": "stderr",
     "output_type": "stream",
     "text": [
      " 21%|██▏       | 4062/18934 [1:10:05<3:18:25,  1.25it/s]"
     ]
    },
    {
     "name": "stdout",
     "output_type": "stream",
     "text": [
      "[INFO] User zrcing already scraped. Skipping.\n",
      "[INFO] User JackUait already scraped. Skipping.\n"
     ]
    },
    {
     "name": "stderr",
     "output_type": "stream",
     "text": [
      " 21%|██▏       | 4065/18934 [1:10:09<3:48:13,  1.09it/s]"
     ]
    },
    {
     "name": "stdout",
     "output_type": "stream",
     "text": [
      "[INFO] User paulcookie already scraped. Skipping.\n",
      "[INFO] User yaofly2012 already scraped. Skipping.\n"
     ]
    },
    {
     "name": "stderr",
     "output_type": "stream",
     "text": [
      " 21%|██▏       | 4068/18934 [1:10:12<3:59:50,  1.03it/s]"
     ]
    },
    {
     "name": "stdout",
     "output_type": "stream",
     "text": [
      "[INFO] User Tzikas already scraped. Skipping.\n"
     ]
    },
    {
     "name": "stderr",
     "output_type": "stream",
     "text": [
      " 21%|██▏       | 4070/18934 [1:10:12<3:12:58,  1.28it/s]"
     ]
    },
    {
     "name": "stdout",
     "output_type": "stream",
     "text": [
      "User moteesh-reddy has more than 300 repos, skipping.\n"
     ]
    },
    {
     "name": "stderr",
     "output_type": "stream",
     "text": [
      " 22%|██▏       | 4071/18934 [1:10:21<7:37:19,  1.85s/it]"
     ]
    },
    {
     "name": "stdout",
     "output_type": "stream",
     "text": [
      "[INFO] User alfredlucero already scraped. Skipping.\n"
     ]
    },
    {
     "name": "stderr",
     "output_type": "stream",
     "text": [
      " 22%|██▏       | 4073/18934 [1:10:25<7:52:09,  1.91s/it]"
     ]
    },
    {
     "name": "stdout",
     "output_type": "stream",
     "text": [
      "[INFO] User LukaszWatroba already scraped. Skipping.\n",
      "[INFO] User pr0da already scraped. Skipping.\n"
     ]
    },
    {
     "name": "stderr",
     "output_type": "stream",
     "text": [
      " 22%|██▏       | 4077/18934 [1:10:28<5:58:11,  1.45s/it]"
     ]
    },
    {
     "name": "stdout",
     "output_type": "stream",
     "text": [
      "[INFO] User oohdoch already scraped. Skipping.\n"
     ]
    },
    {
     "name": "stderr",
     "output_type": "stream",
     "text": [
      " 22%|██▏       | 4080/18934 [1:10:32<6:28:14,  1.57s/it]"
     ]
    },
    {
     "name": "stdout",
     "output_type": "stream",
     "text": [
      "[INFO] User amiranvarov already scraped. Skipping.\n"
     ]
    },
    {
     "name": "stderr",
     "output_type": "stream",
     "text": [
      " 22%|██▏       | 4082/18934 [1:10:35<5:47:38,  1.40s/it]"
     ]
    },
    {
     "name": "stdout",
     "output_type": "stream",
     "text": [
      "[INFO] User lqd1434 already scraped. Skipping.\n",
      "[INFO] User RSS1102 already scraped. Skipping.\n",
      "[INFO] User j3sch already scraped. Skipping.\n"
     ]
    },
    {
     "name": "stderr",
     "output_type": "stream",
     "text": [
      " 22%|██▏       | 4086/18934 [1:10:36<3:28:36,  1.19it/s]"
     ]
    },
    {
     "name": "stdout",
     "output_type": "stream",
     "text": [
      "[INFO] User LMarkovWeb already scraped. Skipping.\n",
      "[INFO] User rokinsky already scraped. Skipping.\n",
      "[INFO] User vasilenka already scraped. Skipping.\n"
     ]
    },
    {
     "name": "stderr",
     "output_type": "stream",
     "text": [
      " 22%|██▏       | 4090/18934 [1:10:38<3:13:27,  1.28it/s]"
     ]
    },
    {
     "name": "stdout",
     "output_type": "stream",
     "text": [
      "[INFO] User HZSamir already scraped. Skipping.\n",
      "[INFO] User klauskohut already scraped. Skipping.\n",
      "[INFO] User deka108 already scraped. Skipping.\n",
      "[INFO] User tokage already scraped. Skipping.\n",
      "[INFO] User thepuskar already scraped. Skipping.\n"
     ]
    },
    {
     "name": "stderr",
     "output_type": "stream",
     "text": [
      " 22%|██▏       | 4096/18934 [1:10:41<2:24:34,  1.71it/s]"
     ]
    },
    {
     "name": "stdout",
     "output_type": "stream",
     "text": [
      "[INFO] User Topmewan already scraped. Skipping.\n"
     ]
    },
    {
     "name": "stderr",
     "output_type": "stream",
     "text": [
      " 22%|██▏       | 4098/18934 [1:10:41<2:17:20,  1.80it/s]"
     ]
    },
    {
     "name": "stdout",
     "output_type": "stream",
     "text": [
      "[INFO] User olyop already scraped. Skipping.\n"
     ]
    },
    {
     "name": "stderr",
     "output_type": "stream",
     "text": [
      " 22%|██▏       | 4100/18934 [1:10:45<3:22:06,  1.22it/s]"
     ]
    },
    {
     "name": "stdout",
     "output_type": "stream",
     "text": [
      "[INFO] User guilhermebkel already scraped. Skipping.\n"
     ]
    },
    {
     "name": "stderr",
     "output_type": "stream",
     "text": [
      " 22%|██▏       | 4102/18934 [1:10:46<3:00:04,  1.37it/s]"
     ]
    },
    {
     "name": "stdout",
     "output_type": "stream",
     "text": [
      "[INFO] User joealden already scraped. Skipping.\n"
     ]
    },
    {
     "name": "stderr",
     "output_type": "stream",
     "text": [
      " 22%|██▏       | 4107/18934 [1:11:01<8:19:46,  2.02s/it]"
     ]
    },
    {
     "name": "stdout",
     "output_type": "stream",
     "text": [
      "[INFO] User nicholaswagner already scraped. Skipping.\n"
     ]
    },
    {
     "name": "stderr",
     "output_type": "stream",
     "text": [
      " 22%|██▏       | 4111/18934 [1:11:13<11:17:08,  2.74s/it]"
     ]
    },
    {
     "name": "stdout",
     "output_type": "stream",
     "text": [
      "[INFO] User nylki already scraped. Skipping.\n"
     ]
    },
    {
     "name": "stderr",
     "output_type": "stream",
     "text": [
      " 22%|██▏       | 4114/18934 [1:11:17<8:29:32,  2.06s/it] "
     ]
    },
    {
     "name": "stdout",
     "output_type": "stream",
     "text": [
      "[INFO] User liuderchi already scraped. Skipping.\n",
      "[INFO] User MikeGajdos already scraped. Skipping.\n"
     ]
    },
    {
     "name": "stderr",
     "output_type": "stream",
     "text": [
      " 22%|██▏       | 4118/18934 [1:11:26<8:33:19,  2.08s/it]"
     ]
    },
    {
     "name": "stdout",
     "output_type": "stream",
     "text": [
      "[INFO] User ctfdavis already scraped. Skipping.\n",
      "[INFO] User mulunehde already scraped. Skipping.\n"
     ]
    },
    {
     "name": "stderr",
     "output_type": "stream",
     "text": [
      " 22%|██▏       | 4122/18934 [1:11:29<6:07:46,  1.49s/it]"
     ]
    },
    {
     "name": "stdout",
     "output_type": "stream",
     "text": [
      "[INFO] User dvzrd already scraped. Skipping.\n"
     ]
    },
    {
     "name": "stderr",
     "output_type": "stream",
     "text": [
      " 22%|██▏       | 4124/18934 [1:11:30<4:56:44,  1.20s/it]"
     ]
    },
    {
     "name": "stdout",
     "output_type": "stream",
     "text": [
      "[INFO] User pdsouza already scraped. Skipping.\n"
     ]
    },
    {
     "name": "stderr",
     "output_type": "stream",
     "text": [
      " 22%|██▏       | 4126/18934 [1:11:37<7:58:42,  1.94s/it]"
     ]
    },
    {
     "name": "stdout",
     "output_type": "stream",
     "text": [
      "[INFO] User CalRiggs already scraped. Skipping.\n"
     ]
    },
    {
     "name": "stderr",
     "output_type": "stream",
     "text": [
      " 22%|██▏       | 4128/18934 [1:11:45<10:13:25,  2.49s/it]"
     ]
    },
    {
     "name": "stdout",
     "output_type": "stream",
     "text": [
      "[INFO] User netspencer already scraped. Skipping.\n",
      "[INFO] User samuherek already scraped. Skipping.\n",
      "[INFO] User hirokazukano already scraped. Skipping.\n",
      "[INFO] User klimashkin already scraped. Skipping.\n",
      "[INFO] User ljbc1994 already scraped. Skipping.\n"
     ]
    },
    {
     "name": "stderr",
     "output_type": "stream",
     "text": [
      " 22%|██▏       | 4134/18934 [1:11:47<5:15:09,  1.28s/it] "
     ]
    },
    {
     "name": "stdout",
     "output_type": "stream",
     "text": [
      "[INFO] User andr30z already scraped. Skipping.\n",
      "[INFO] User rprwhite already scraped. Skipping.\n",
      "[INFO] User gilokip already scraped. Skipping.\n",
      "[INFO] User cthiriet already scraped. Skipping.\n",
      "[INFO] User mryechkin already scraped. Skipping.\n"
     ]
    },
    {
     "name": "stderr",
     "output_type": "stream",
     "text": [
      " 22%|██▏       | 4140/18934 [1:11:49<3:32:41,  1.16it/s]"
     ]
    },
    {
     "name": "stdout",
     "output_type": "stream",
     "text": [
      "[INFO] User ibarapascal already scraped. Skipping.\n",
      "[INFO] User tmhglnd already scraped. Skipping.\n"
     ]
    },
    {
     "name": "stderr",
     "output_type": "stream",
     "text": [
      " 22%|██▏       | 4144/18934 [1:11:51<3:12:24,  1.28it/s]"
     ]
    },
    {
     "name": "stdout",
     "output_type": "stream",
     "text": [
      "[INFO] User hosseinfs already scraped. Skipping.\n"
     ]
    },
    {
     "name": "stderr",
     "output_type": "stream",
     "text": [
      " 22%|██▏       | 4146/18934 [1:11:54<3:32:42,  1.16it/s]"
     ]
    },
    {
     "name": "stdout",
     "output_type": "stream",
     "text": [
      "[INFO] User xfenix already scraped. Skipping.\n"
     ]
    },
    {
     "name": "stderr",
     "output_type": "stream",
     "text": [
      " 22%|██▏       | 4149/18934 [1:11:58<4:19:03,  1.05s/it]"
     ]
    },
    {
     "name": "stdout",
     "output_type": "stream",
     "text": [
      "[INFO] User nlfonseca already scraped. Skipping.\n",
      "[INFO] User MagnumGoYB already scraped. Skipping.\n",
      "[INFO] User athallarizky already scraped. Skipping.\n"
     ]
    },
    {
     "name": "stderr",
     "output_type": "stream",
     "text": [
      " 22%|██▏       | 4157/18934 [1:12:12<5:42:45,  1.39s/it]"
     ]
    },
    {
     "name": "stdout",
     "output_type": "stream",
     "text": [
      "[INFO] User samirjabib already scraped. Skipping.\n"
     ]
    },
    {
     "name": "stderr",
     "output_type": "stream",
     "text": [
      " 22%|██▏       | 4160/18934 [1:12:19<7:11:23,  1.75s/it]"
     ]
    },
    {
     "name": "stdout",
     "output_type": "stream",
     "text": [
      "[INFO] User MarshallChang already scraped. Skipping.\n"
     ]
    },
    {
     "name": "stderr",
     "output_type": "stream",
     "text": [
      " 22%|██▏       | 4163/18934 [1:12:22<5:52:10,  1.43s/it]"
     ]
    },
    {
     "name": "stdout",
     "output_type": "stream",
     "text": [
      "[INFO] User bertdecock already scraped. Skipping.\n",
      "[INFO] User iobuhov already scraped. Skipping.\n",
      "[INFO] User aboutaaron already scraped. Skipping.\n",
      "[INFO] User kimlove already scraped. Skipping.\n",
      "[INFO] User shksa already scraped. Skipping.\n",
      "[INFO] User jbuendia1y already scraped. Skipping.\n",
      "[INFO] User ayuechuan already scraped. Skipping.\n"
     ]
    },
    {
     "name": "stderr",
     "output_type": "stream",
     "text": [
      " 22%|██▏       | 4171/18934 [1:12:23<1:49:33,  2.25it/s]"
     ]
    },
    {
     "name": "stdout",
     "output_type": "stream",
     "text": [
      "User CyberFlameGO has more than 300 repos, skipping.\n"
     ]
    },
    {
     "name": "stderr",
     "output_type": "stream",
     "text": [
      " 22%|██▏       | 4174/18934 [1:12:27<3:34:15,  1.15it/s]"
     ]
    },
    {
     "name": "stdout",
     "output_type": "stream",
     "text": [
      "[INFO] User jaravad already scraped. Skipping.\n",
      "[INFO] User syl-gh already scraped. Skipping.\n",
      "[INFO] User jareware already scraped. Skipping.\n"
     ]
    },
    {
     "name": "stderr",
     "output_type": "stream",
     "text": [
      " 22%|██▏       | 4178/18934 [1:12:30<2:53:28,  1.42it/s]"
     ]
    },
    {
     "name": "stdout",
     "output_type": "stream",
     "text": [
      "[INFO] User KInGATiLLa already scraped. Skipping.\n"
     ]
    },
    {
     "name": "stderr",
     "output_type": "stream",
     "text": [
      " 22%|██▏       | 4180/18934 [1:12:34<4:17:50,  1.05s/it]"
     ]
    },
    {
     "name": "stdout",
     "output_type": "stream",
     "text": [
      "[INFO] User MasterMann already scraped. Skipping.\n",
      "[INFO] User Fasterdes already scraped. Skipping.\n"
     ]
    },
    {
     "name": "stderr",
     "output_type": "stream",
     "text": [
      " 22%|██▏       | 4186/18934 [1:12:44<7:42:29,  1.88s/it]"
     ]
    },
    {
     "name": "stdout",
     "output_type": "stream",
     "text": [
      "[INFO] User sadotsoy already scraped. Skipping.\n",
      "[INFO] User yuriy-eleks already scraped. Skipping.\n"
     ]
    },
    {
     "name": "stderr",
     "output_type": "stream",
     "text": [
      " 22%|██▏       | 4189/18934 [1:12:44<4:18:39,  1.05s/it]"
     ]
    },
    {
     "name": "stdout",
     "output_type": "stream",
     "text": [
      "User dev-hjs has more than 300 repos, skipping.\n",
      "[INFO] User wwwikies already scraped. Skipping.\n"
     ]
    },
    {
     "name": "stderr",
     "output_type": "stream",
     "text": [
      " 22%|██▏       | 4191/18934 [1:12:47<4:34:59,  1.12s/it]"
     ]
    },
    {
     "name": "stdout",
     "output_type": "stream",
     "text": [
      "[INFO] User davecheney already scraped. Skipping.\n"
     ]
    }
   ],
   "source": [
    "# 1. Create instance of GithubScraper\n",
    "gs = GithubScraper(\n",
    "    users_already_scraped=users_already_scraped,\n",
    "    companies_already_scraped=companies_already_scraped,\n",
    "    users_already_attempted=users_already_attempted,\n",
    "    repo_limit=300\n",
    ")\n",
    "\n",
    "second_tier_users_to_scrape = {\n",
    "    user: row['search_with_company']\n",
    "    for _, row in second_tier_users_and_company.iterrows()\n",
    "    for user in row['unique_ties']\n",
    "}\n",
    "\n",
    "print(f'GitHub REST API ratelimit reset time for token {gs.current_token_key} is {gs.reset_time_point}. '\n",
    "      f'That will be in a little less than {gs.reset_time_in_minutes} minutes.')\n",
    "\n",
    "# 2. Define output file name\n",
    "file_name = 'second_tier_userinfo'\n",
    "\n",
    "# 3. Loop through company queries\n",
    "for user, search_with_company in tqdm(second_tier_users_to_scrape.items()):\n",
    "\n",
    "    # 3.3 Check if user is already scraped\n",
    "    if user in gs.users_already_attempted:\n",
    "        print(f'[INFO] User {user} already scraped. Skipping.')\n",
    "        continue\n",
    "\n",
    "    # Log user to the set of already attempted users\n",
    "    gs.log_user_scrape_attempt(user, users_attempted_scrape_path)\n",
    "    gs.users_already_attempted.add(user)\n",
    "\n",
    "    # 3.1 Get user from the flattened dictionary\n",
    "    named_user = gs.get_user(user)\n",
    "\n",
    "    # 3.2 Check if user is None (e.g., if user is not found)\n",
    "    if named_user is None:\n",
    "        continue\n",
    "\n",
    "    # 3.5 Check if user is a relevant user (DK + company)\n",
    "    user_row = gs.get_user_info(named_user, search_with_company)\n",
    "    if user_row is None:\n",
    "        continue  # Skip user if they don't meet scraping criteria\n",
    "\n",
    "    # 3.3.3 Extract match data\n",
    "    location_match = user_row.location\n",
    "    inferred_company = user_row.inferred_company\n",
    "    matched_company_strings = user_row.matched_company_strings\n",
    "\n",
    "    # 3.3.4 Save user info and log result\n",
    "    gs.save_file(user_row, file_name, remove_existing_file=True)\n",
    "    gs.log_user_w_match(named_user.login, inferred_company, matched_company_strings, location_match, second_tier_user_log_path)\n",
    "    \n",
    "    print(f'[INFO] {gs.USERS_SCRAPED} users scraped so far.')"
   ]
  }
 ],
 "metadata": {
  "kernelspec": {
   "display_name": "github",
   "language": "python",
   "name": "python3"
  },
  "language_info": {
   "codemirror_mode": {
    "name": "ipython",
    "version": 3
   },
   "file_extension": ".py",
   "mimetype": "text/x-python",
   "name": "python",
   "nbconvert_exporter": "python",
   "pygments_lexer": "ipython3",
   "version": "3.11.4"
  },
  "orig_nbformat": 4
 },
 "nbformat": 4,
 "nbformat_minor": 2
}
