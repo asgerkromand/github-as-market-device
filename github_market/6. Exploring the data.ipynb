{
 "cells": [
  {
   "cell_type": "markdown",
   "metadata": {},
   "source": [
    "# 0. Importing packages"
   ]
  },
  {
   "cell_type": "code",
   "execution_count": 2,
   "metadata": {},
   "outputs": [],
   "source": [
    "# Load the autoreload extension to automatically reload modules before executing code (to avoid restarting the kernel)\n",
    "%load_ext autoreload \n",
    "# NB. uncomment the line above first time you run this cell\n",
    "%autoreload 2"
   ]
  },
  {
   "cell_type": "code",
   "execution_count": 31,
   "metadata": {},
   "outputs": [
    {
     "name": "stdout",
     "output_type": "stream",
     "text": [
      "GithubScraper initialized with 3 tokens.\n",
      "First token in cycle. Initiating ACCESS_TOKEN_1.\n",
      "GithubScraper initialized with 0 companies and 0 users already scraped.\n"
     ]
    }
   ],
   "source": [
    "from pathlib import Path\n",
    "import pandas as pd\n",
    "\n",
    "from tqdm import tqdm\n",
    "\n",
    "from resources.network_functions import NetworkEdgeListConstructor\n",
    "from resources.filter_functions import look_company_up_in_edgelist\n",
    "from resources.github_functions import GithubScraper\n",
    "from typing import Dict\n",
    "\n",
    "# Instantiate GithubScraper\n",
    "gs = GithubScraper()"
   ]
  },
  {
   "cell_type": "markdown",
   "metadata": {},
   "source": [
    "## 0.1 File Paths"
   ]
  },
  {
   "cell_type": "code",
   "execution_count": 4,
   "metadata": {},
   "outputs": [],
   "source": [
    "fp_main = Path('/Volumes/SAM-SODAS-DISTRACT/Coding Distraction/github_as_a_market_device')\n",
    "fp_main_output = Path(fp_main / 'output')"
   ]
  },
  {
   "cell_type": "markdown",
   "metadata": {},
   "source": [
    "# 1 Load in the data"
   ]
  },
  {
   "cell_type": "code",
   "execution_count": null,
   "metadata": {},
   "outputs": [],
   "source": [
    "# Read in the data\n",
    "github_data = pd.read_parquet(fp_main_output / 'unique_users_first_second.gzip.parquet')"
   ]
  },
  {
   "cell_type": "markdown",
   "metadata": {},
   "source": [
    "## 1.1 Create data"
   ]
  },
  {
   "cell_type": "code",
   "execution_count": 8,
   "metadata": {},
   "outputs": [],
   "source": [
    "# 2 Create edgelist\n",
    "constructor = NetworkEdgeListConstructor(github_data)\n",
    "all_edges_user_level, _, _ = constructor.get_edge_lists()"
   ]
  },
  {
   "cell_type": "markdown",
   "metadata": {},
   "source": [
    "## 1.3 Splitting the data into two: Collaboration and attention"
   ]
  },
  {
   "cell_type": "code",
   "execution_count": 11,
   "metadata": {},
   "outputs": [
    {
     "name": "stdout",
     "output_type": "stream",
     "text": [
      "Attention edgelist: (2256, 13)\n",
      "Collaboration edgelist: (65, 13)\n"
     ]
    }
   ],
   "source": [
    "# Collaboration: gh_action == fork\n",
    "collaboration_edgelist = all_edges_user_level[all_edges_user_level['action'] == 'forks']\n",
    "\n",
    "# Attention: gh_action != fork\n",
    "attention_edgelist = all_edges_user_level[all_edges_user_level['action'].isin(['follows','watches','stars'])]\n",
    "\n",
    "# Print stats\n",
    "print(f'Attention edgelist: {attention_edgelist.shape}')\n",
    "print(f'Collaboration edgelist: {collaboration_edgelist.shape}')"
   ]
  },
  {
   "cell_type": "markdown",
   "metadata": {},
   "source": [
    "# 2. Examining the networks"
   ]
  },
  {
   "cell_type": "markdown",
   "metadata": {},
   "source": [
    "## 2.1 Collaboration"
   ]
  },
  {
   "cell_type": "code",
   "execution_count": null,
   "metadata": {},
   "outputs": [
    {
     "data": {
      "application/vnd.microsoft.datawrangler.viewer.v0+json": {
       "columns": [
        {
         "name": "index",
         "rawType": "int64",
         "type": "integer"
        },
        {
         "name": "src",
         "rawType": "object",
         "type": "string"
        },
        {
         "name": "target",
         "rawType": "object",
         "type": "string"
        },
        {
         "name": "src_company",
         "rawType": "object",
         "type": "string"
        },
        {
         "name": "target_company",
         "rawType": "object",
         "type": "string"
        },
        {
         "name": "src_company_category",
         "rawType": "int64",
         "type": "integer"
        },
        {
         "name": "src_company_label",
         "rawType": "object",
         "type": "string"
        },
        {
         "name": "target_company_category",
         "rawType": "int64",
         "type": "integer"
        },
        {
         "name": "target_company_label",
         "rawType": "object",
         "type": "string"
        },
        {
         "name": "d_intra_level",
         "rawType": "int64",
         "type": "integer"
        },
        {
         "name": "d_inter_level",
         "rawType": "int64",
         "type": "integer"
        },
        {
         "name": "edge_repo",
         "rawType": "object",
         "type": "string"
        },
        {
         "name": "action",
         "rawType": "object",
         "type": "string"
        },
        {
         "name": "created_at",
         "rawType": "object",
         "type": "string"
        }
       ],
       "ref": "57f08152-0de5-41f1-a4ca-eac4807c3fe0",
       "rows": [
        [
         "610",
         "miracle-as",
         "chrklin",
         "miracle",
         "trifork",
         "2",
         "2 Bespoke app companies",
         "1",
         "1 Digital and marketing consultancies",
         "0",
         "1",
         "kitos/miracle-as",
         "forks",
         "2016-05-03"
        ]
       ],
       "shape": {
        "columns": 13,
        "rows": 1
       }
      },
      "text/html": [
       "<div>\n",
       "<style scoped>\n",
       "    .dataframe tbody tr th:only-of-type {\n",
       "        vertical-align: middle;\n",
       "    }\n",
       "\n",
       "    .dataframe tbody tr th {\n",
       "        vertical-align: top;\n",
       "    }\n",
       "\n",
       "    .dataframe thead th {\n",
       "        text-align: right;\n",
       "    }\n",
       "</style>\n",
       "<table border=\"1\" class=\"dataframe\">\n",
       "  <thead>\n",
       "    <tr style=\"text-align: right;\">\n",
       "      <th></th>\n",
       "      <th>src</th>\n",
       "      <th>target</th>\n",
       "      <th>src_company</th>\n",
       "      <th>target_company</th>\n",
       "      <th>src_company_category</th>\n",
       "      <th>src_company_label</th>\n",
       "      <th>target_company_category</th>\n",
       "      <th>target_company_label</th>\n",
       "      <th>d_intra_level</th>\n",
       "      <th>d_inter_level</th>\n",
       "      <th>edge_repo</th>\n",
       "      <th>action</th>\n",
       "      <th>created_at</th>\n",
       "    </tr>\n",
       "  </thead>\n",
       "  <tbody>\n",
       "    <tr>\n",
       "      <th>610</th>\n",
       "      <td>miracle-as</td>\n",
       "      <td>chrklin</td>\n",
       "      <td>miracle</td>\n",
       "      <td>trifork</td>\n",
       "      <td>2</td>\n",
       "      <td>2 Bespoke app companies</td>\n",
       "      <td>1</td>\n",
       "      <td>1 Digital and marketing consultancies</td>\n",
       "      <td>0</td>\n",
       "      <td>1</td>\n",
       "      <td>kitos/miracle-as</td>\n",
       "      <td>forks</td>\n",
       "      <td>2016-05-03</td>\n",
       "    </tr>\n",
       "  </tbody>\n",
       "</table>\n",
       "</div>"
      ],
      "text/plain": [
       "            src   target src_company target_company  src_company_category  \\\n",
       "610  miracle-as  chrklin     miracle        trifork                     2   \n",
       "\n",
       "           src_company_label  target_company_category  \\\n",
       "610  2 Bespoke app companies                        1   \n",
       "\n",
       "                      target_company_label  d_intra_level  d_inter_level  \\\n",
       "610  1 Digital and marketing consultancies              0              1   \n",
       "\n",
       "            edge_repo action  created_at  \n",
       "610  kitos/miracle-as  forks  2016-05-03  "
      ]
     },
     "execution_count": 19,
     "metadata": {},
     "output_type": "execute_result"
    }
   ],
   "source": [
    "result_trifork = look_company_up_in_edgelist(\n",
    "    company='trifork', \n",
    "    edgelist=collaboration_edgelist, \n",
    "    alternative_company='miracle', \n",
    "    direction='all', \n",
    "    exclude_self_loops=True\n",
    ")\n",
    "result_trifork"
   ]
  },
  {
   "cell_type": "markdown",
   "metadata": {},
   "source": [
    "## 2.2 Attention"
   ]
  },
  {
   "cell_type": "code",
   "execution_count": null,
   "metadata": {},
   "outputs": [
    {
     "data": {
      "application/vnd.microsoft.datawrangler.viewer.v0+json": {
       "columns": [
        {
         "name": "index",
         "rawType": "int64",
         "type": "integer"
        },
        {
         "name": "src",
         "rawType": "object",
         "type": "string"
        },
        {
         "name": "target",
         "rawType": "object",
         "type": "string"
        },
        {
         "name": "src_company",
         "rawType": "object",
         "type": "string"
        },
        {
         "name": "target_company",
         "rawType": "object",
         "type": "string"
        },
        {
         "name": "src_company_category",
         "rawType": "int64",
         "type": "integer"
        },
        {
         "name": "src_company_label",
         "rawType": "object",
         "type": "string"
        },
        {
         "name": "target_company_category",
         "rawType": "int64",
         "type": "integer"
        },
        {
         "name": "target_company_label",
         "rawType": "object",
         "type": "string"
        },
        {
         "name": "d_intra_level",
         "rawType": "int64",
         "type": "integer"
        },
        {
         "name": "d_inter_level",
         "rawType": "int64",
         "type": "integer"
        },
        {
         "name": "edge_repo",
         "rawType": "object",
         "type": "string"
        },
        {
         "name": "action",
         "rawType": "object",
         "type": "string"
        },
        {
         "name": "created_at",
         "rawType": "object",
         "type": "string"
        }
       ],
       "ref": "7cc42bbf-0367-402f-8a9c-611a7066b7b6",
       "rows": [
        [
         "1280",
         "AeroplaneMouse",
         "anton-christensen",
         "netcompany",
         "trifork",
         "1",
         "1 Digital and marketing consultancies",
         "1",
         "1 Digital and marketing consultancies",
         "0",
         "1",
         "xv6-docker/AeroplaneMouse",
         "stars",
         "2019-03-25"
        ]
       ],
       "shape": {
        "columns": 13,
        "rows": 1
       }
      },
      "text/html": [
       "<div>\n",
       "<style scoped>\n",
       "    .dataframe tbody tr th:only-of-type {\n",
       "        vertical-align: middle;\n",
       "    }\n",
       "\n",
       "    .dataframe tbody tr th {\n",
       "        vertical-align: top;\n",
       "    }\n",
       "\n",
       "    .dataframe thead th {\n",
       "        text-align: right;\n",
       "    }\n",
       "</style>\n",
       "<table border=\"1\" class=\"dataframe\">\n",
       "  <thead>\n",
       "    <tr style=\"text-align: right;\">\n",
       "      <th></th>\n",
       "      <th>src</th>\n",
       "      <th>target</th>\n",
       "      <th>src_company</th>\n",
       "      <th>target_company</th>\n",
       "      <th>src_company_category</th>\n",
       "      <th>src_company_label</th>\n",
       "      <th>target_company_category</th>\n",
       "      <th>target_company_label</th>\n",
       "      <th>d_intra_level</th>\n",
       "      <th>d_inter_level</th>\n",
       "      <th>edge_repo</th>\n",
       "      <th>action</th>\n",
       "      <th>created_at</th>\n",
       "    </tr>\n",
       "  </thead>\n",
       "  <tbody>\n",
       "    <tr>\n",
       "      <th>1280</th>\n",
       "      <td>AeroplaneMouse</td>\n",
       "      <td>anton-christensen</td>\n",
       "      <td>netcompany</td>\n",
       "      <td>trifork</td>\n",
       "      <td>1</td>\n",
       "      <td>1 Digital and marketing consultancies</td>\n",
       "      <td>1</td>\n",
       "      <td>1 Digital and marketing consultancies</td>\n",
       "      <td>0</td>\n",
       "      <td>1</td>\n",
       "      <td>xv6-docker/AeroplaneMouse</td>\n",
       "      <td>stars</td>\n",
       "      <td>2019-03-25</td>\n",
       "    </tr>\n",
       "  </tbody>\n",
       "</table>\n",
       "</div>"
      ],
      "text/plain": [
       "                 src             target src_company target_company  \\\n",
       "1280  AeroplaneMouse  anton-christensen  netcompany        trifork   \n",
       "\n",
       "      src_company_category                      src_company_label  \\\n",
       "1280                     1  1 Digital and marketing consultancies   \n",
       "\n",
       "      target_company_category                   target_company_label  \\\n",
       "1280                        1  1 Digital and marketing consultancies   \n",
       "\n",
       "      d_intra_level  d_inter_level                  edge_repo action  \\\n",
       "1280              0              1  xv6-docker/AeroplaneMouse  stars   \n",
       "\n",
       "      created_at  \n",
       "1280  2019-03-25  "
      ]
     },
     "execution_count": 20,
     "metadata": {},
     "output_type": "execute_result"
    }
   ],
   "source": [
    "result_trifork = look_company_up_in_edgelist(company='trifork', edgelist=attention_edgelist, direction='all')\n",
    "result_trifork"
   ]
  },
  {
   "cell_type": "markdown",
   "metadata": {},
   "source": [
    "# 3. Get number of followers"
   ]
  },
  {
   "cell_type": "code",
   "execution_count": 28,
   "metadata": {},
   "outputs": [
    {
     "name": "stderr",
     "output_type": "stream",
     "text": [
      "100%|██████████| 132/132 [01:00<00:00,  2.20it/s]\n"
     ]
    }
   ],
   "source": [
    "# Get all unique GitHub usernames from the edge list\n",
    "unique_users = pd.concat([all_edges_user_level['src'], all_edges_user_level['target']]).unique()\n",
    "\n",
    "def get_followers(username: str) -> int | None:\n",
    "    \"\"\"\n",
    "    Returns the number of followers for a given GitHub username.\n",
    "    If the user does not exist or is private, returns None.\n",
    "    \"\"\"\n",
    "    try:\n",
    "        user_obj = gs.get_user(username)\n",
    "        if user_obj is None:\n",
    "            print(f\"[!] User '{username}' not found.\")\n",
    "            return None\n",
    "        return user_obj.followers\n",
    "    except Exception as e:\n",
    "        print(f\"[!] Error retrieving user '{username}': {e}\")\n",
    "        return None\n",
    "\n",
    "# Query follower counts for all unique users\n",
    "followers = {user: get_followers(user) for user in tqdm(unique_users)}"
   ]
  },
  {
   "cell_type": "code",
   "execution_count": 32,
   "metadata": {},
   "outputs": [
    {
     "name": "stdout",
     "output_type": "stream",
     "text": [
      "Top 20 users by follower count:\n",
      "\n",
      "EG-A-S: 375\n",
      "kennylevinsen: 172\n",
      "thebuilder: 160\n",
      "trifork: 66\n",
      "jkiddo: 50\n",
      "jeme: 40\n",
      "shapehq: 40\n",
      "kawaiipantsu: 38\n",
      "AndersSpringborg: 26\n",
      "madsthom: 25\n",
      "bjarkehs: 21\n",
      "gugi9000: 20\n",
      "HusseinElZein: 20\n",
      "fredelundbeck: 18\n",
      "hcarreras: 17\n",
      "signifly: 17\n",
      "jacobe: 16\n",
      "TusharRoy23: 13\n",
      "mathiasandresen: 12\n",
      "anderslime: 12\n"
     ]
    }
   ],
   "source": [
    "# Filter out users with no follower data (None)\n",
    "valid_followers: Dict[str, int] = {k: v for k, v in followers.items() if v is not None}\n",
    "\n",
    "# Sort users by number of followers (descending)\n",
    "followers_sorted = dict(sorted(valid_followers.items(), key=lambda item: item[1], reverse=True))\n",
    "\n",
    "# Print the top 20 users with the most followers\n",
    "print(\"Top 20 users by follower count:\\n\")\n",
    "for user, count in list(followers_sorted.items())[:20]:\n",
    "    print(f\"{user}: {count}\")"
   ]
  }
 ],
 "metadata": {
  "kernelspec": {
   "display_name": "github",
   "language": "python",
   "name": "python3"
  },
  "language_info": {
   "codemirror_mode": {
    "name": "ipython",
    "version": 3
   },
   "file_extension": ".py",
   "mimetype": "text/x-python",
   "name": "python",
   "nbconvert_exporter": "python",
   "pygments_lexer": "ipython3",
   "version": "3.11.4"
  }
 },
 "nbformat": 4,
 "nbformat_minor": 2
}
