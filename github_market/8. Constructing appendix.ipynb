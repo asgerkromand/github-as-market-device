{
 "cells": [
  {
   "cell_type": "markdown",
   "id": "13c05398",
   "metadata": {},
   "source": [
    "# 0 Importing Packages"
   ]
  },
  {
   "cell_type": "code",
   "execution_count": 1,
   "id": "bf769c05",
   "metadata": {},
   "outputs": [],
   "source": [
    "# Load the autoreload extension to automatically reload modules before executing code (to avoid restarting the kernel)\n",
    "%load_ext autoreload \n",
    "# NB. uncomment the line above first time you run this cell\n",
    "%autoreload 2\n",
    "\n",
    "from pathlib import Path\n",
    "import pandas as pd\n",
    "\n",
    "from resources.network_functions import GraphConstructor\n",
    "from resources.generate_appendix import generate_appendix\n"
   ]
  },
  {
   "cell_type": "markdown",
   "id": "47bf56dc",
   "metadata": {},
   "source": [
    "## 0.1 File Paths"
   ]
  },
  {
   "cell_type": "code",
   "execution_count": 2,
   "id": "1fe237c9",
   "metadata": {},
   "outputs": [],
   "source": [
    "fp_main = Path('/Volumes/SAM-SODAS-DISTRACT/Coding Distraction/github_as_a_market_device')\n",
    "fp_main_output = Path(fp_main / 'output')   "
   ]
  },
  {
   "cell_type": "markdown",
   "id": "07ffbd99",
   "metadata": {},
   "source": [
    "# 1 Load in edgelist data"
   ]
  },
  {
   "cell_type": "code",
   "execution_count": null,
   "id": "943a03e6",
   "metadata": {},
   "outputs": [],
   "source": [
    "# "
   ]
  }
 ],
 "metadata": {
  "kernelspec": {
   "display_name": "github",
   "language": "python",
   "name": "python3"
  },
  "language_info": {
   "codemirror_mode": {
    "name": "ipython",
    "version": 3
   },
   "file_extension": ".py",
   "mimetype": "text/x-python",
   "name": "python",
   "nbconvert_exporter": "python",
   "pygments_lexer": "ipython3",
   "version": "3.11.4"
  }
 },
 "nbformat": 4,
 "nbformat_minor": 5
}
