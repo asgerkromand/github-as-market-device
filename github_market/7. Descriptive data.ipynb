{
 "cells": [
  {
   "cell_type": "markdown",
   "metadata": {},
   "source": [
    "# 0 Importing Packages"
   ]
  },
  {
   "cell_type": "code",
   "execution_count": 35,
   "metadata": {},
   "outputs": [
    {
     "name": "stdout",
     "output_type": "stream",
     "text": [
      "The autoreload extension is already loaded. To reload it, use:\n",
      "  %reload_ext autoreload\n"
     ]
    }
   ],
   "source": [
    "# Load the autoreload extension to automatically reload modules before executing code (to avoid restarting the kernel)\n",
    "%load_ext autoreload \n",
    "# NB. uncomment the line above first time you run this cell\n",
    "%autoreload 2\n",
    "\n",
    "from pathlib import Path\n",
    "import pandas as pd\n",
    "import os\n",
    "import networkx as nx\n",
    "\n",
    "from resources.network_functions import GraphConstructor\n",
    "from resources.generate_appendix_tables import generate_appendix\n",
    "\n",
    "# Set max row view for pandas to 100\n",
    "pd.set_option('display.max_rows', 100)\n"
   ]
  },
  {
   "cell_type": "markdown",
   "metadata": {},
   "source": [
    "## 0.1 File Paths"
   ]
  },
  {
   "cell_type": "code",
   "execution_count": 3,
   "metadata": {},
   "outputs": [],
   "source": [
    "fp_main = Path('/Volumes/SAM-SODAS-DISTRACT/Coding Distraction/github_as_a_market_device')\n",
    "fp_main_output = Path(fp_main / 'output')   "
   ]
  },
  {
   "cell_type": "markdown",
   "metadata": {},
   "source": [
    "# 1 Load in edgelist data"
   ]
  },
  {
   "cell_type": "code",
   "execution_count": 4,
   "metadata": {},
   "outputs": [],
   "source": [
    "# Read in the data\n",
    "all_edges_user_level = pd.read_parquet(fp_main_output / 'all_edges_user_level.gzip.parquet')\n",
    "attention_edges_user_level = pd.read_parquet(fp_main_output / 'attention_edges_user_level.gzip.parquet')\n",
    "collaboration_edges_user_level = pd.read_parquet(fp_main_output / 'collaboration_edges_user_level.gzip.parquet')"
   ]
  },
  {
   "cell_type": "code",
   "execution_count": 5,
   "metadata": {},
   "outputs": [
    {
     "name": "stdout",
     "output_type": "stream",
     "text": [
      "Attention Graph edges: [('charlie tango', 'charlie tango', {'weight': 11, 'follows': 12, 'stars': 14, 'watches': 127, 'd_intra_level': 1, 'd_inter_level': 0}), ('charlie tango', 'signifly', {'weight': 1, 'follows': 1, 'stars': 0, 'watches': 0, 'd_intra_level': 0, 'd_inter_level': 1}), ('knowit', 'miracle', {'weight': 1, 'follows': 0, 'stars': 0, 'watches': 6, 'd_intra_level': 0, 'd_inter_level': 1}), ('knowit', 'knowit', {'weight': 3, 'follows': 0, 'stars': 0, 'watches': 49, 'd_intra_level': 1, 'd_inter_level': 0}), ('trifork', 'trifork', {'weight': 119, 'follows': 40, 'stars': 107, 'watches': 1017, 'd_intra_level': 1, 'd_inter_level': 0}), ('kmd', 'kmd', {'weight': 4, 'follows': 0, 'stars': 0, 'watches': 9, 'd_intra_level': 1, 'd_inter_level': 0}), ('systematic', 'systematic', {'weight': 6, 'follows': 0, 'stars': 8, 'watches': 143, 'd_intra_level': 1, 'd_inter_level': 0}), ('oxygen', 'abtion', {'weight': 1, 'follows': 0, 'stars': 0, 'watches': 1, 'd_intra_level': 0, 'd_inter_level': 1}), ('oxygen', 'oxygen', {'weight': 2, 'follows': 0, 'stars': 1, 'watches': 9, 'd_intra_level': 1, 'd_inter_level': 0}), ('netcompany', 'signifly', {'weight': 1, 'follows': 0, 'stars': 2, 'watches': 0, 'd_intra_level': 0, 'd_inter_level': 1}), ('netcompany', 'netcompany', {'weight': 27, 'follows': 2, 'stars': 6, 'watches': 259, 'd_intra_level': 1, 'd_inter_level': 0}), ('netcompany', 'trifork', {'weight': 1, 'follows': 0, 'stars': 1, 'watches': 0, 'd_intra_level': 0, 'd_inter_level': 1}), ('shape', 'shape', {'weight': 13, 'follows': 3, 'stars': 14, 'watches': 114, 'd_intra_level': 1, 'd_inter_level': 0}), ('capgemini', 'capgemini', {'weight': 1, 'follows': 0, 'stars': 0, 'watches': 8, 'd_intra_level': 1, 'd_inter_level': 0}), ('abtion', 'abtion', {'weight': 14, 'follows': 2, 'stars': 9, 'watches': 99, 'd_intra_level': 1, 'd_inter_level': 0}), ('abtion', 'oxygen', {'weight': 1, 'follows': 0, 'stars': 0, 'watches': 1, 'd_intra_level': 0, 'd_inter_level': 1}), ('kruso', 'kruso', {'weight': 1, 'follows': 0, 'stars': 0, 'watches': 3, 'd_intra_level': 1, 'd_inter_level': 0}), ('fellowmind', 'fellowmind', {'weight': 1, 'follows': 0, 'stars': 0, 'watches': 1, 'd_intra_level': 1, 'd_inter_level': 0}), ('must', 'must', {'weight': 3, 'follows': 0, 'stars': 1, 'watches': 107, 'd_intra_level': 1, 'd_inter_level': 0}), ('signifly', 'signifly', {'weight': 2, 'follows': 2, 'stars': 2, 'watches': 40, 'd_intra_level': 1, 'd_inter_level': 0}), ('uptime', 'uptime', {'weight': 2, 'follows': 0, 'stars': 2, 'watches': 34, 'd_intra_level': 1, 'd_inter_level': 0})]\n",
      "Collaboration Graph edges: [('knowit', 'knowit', {'weight': 1, 'forks': 1, 'd_intra_level': 1, 'd_inter_level': 0}), ('trifork', 'trifork', {'weight': 20, 'forks': 37, 'd_intra_level': 1, 'd_inter_level': 0}), ('netcompany', 'netcompany', {'weight': 5, 'forks': 6, 'd_intra_level': 1, 'd_inter_level': 0}), ('shape', 'shape', {'weight': 1, 'forks': 2, 'd_intra_level': 1, 'd_inter_level': 0}), ('abtion', 'abtion', {'weight': 4, 'forks': 6, 'd_intra_level': 1, 'd_inter_level': 0}), ('eg a s', 'eg a s', {'weight': 1, 'forks': 3, 'd_intra_level': 1, 'd_inter_level': 0}), ('miracle', 'trifork', {'weight': 1, 'forks': 1, 'd_intra_level': 0, 'd_inter_level': 1}), ('must', 'must', {'weight': 2, 'forks': 3, 'd_intra_level': 1, 'd_inter_level': 0}), ('signifly', 'signifly', {'weight': 2, 'forks': 5, 'd_intra_level': 1, 'd_inter_level': 0}), ('uptime', 'uptime', {'weight': 1, 'forks': 1, 'd_intra_level': 1, 'd_inter_level': 0})]\n"
     ]
    }
   ],
   "source": [
    "## 1.1 Construct the graphs\n",
    "gc_attention = GraphConstructor(all_edges_user_level, graph_type='attention')\n",
    "attention_graph = gc_attention.get_graph()\n",
    "print(\"Attention Graph edges:\", attention_graph.edges(data=True))\n",
    "\n",
    "gc_collaboration = GraphConstructor(all_edges_user_level, graph_type='collaboration')\n",
    "collaboration_graph = gc_collaboration.get_graph()\n",
    "print(\"Collaboration Graph edges:\", collaboration_graph.edges(data=True))"
   ]
  },
  {
   "cell_type": "markdown",
   "metadata": {},
   "source": [
    "# 2 Descriptive statistics"
   ]
  },
  {
   "cell_type": "markdown",
   "metadata": {},
   "source": [
    "## 2.1 Collaboration Network Stats"
   ]
  },
  {
   "cell_type": "markdown",
   "metadata": {},
   "source": [
    "**General network statistics**"
   ]
  },
  {
   "cell_type": "markdown",
   "metadata": {},
   "source": [
    "- no_users: Number of GitHub user-profiles in the graph\n",
    "- no_companies: Number of companies in the graph\n",
    "- no_users_edges: Number of unique user-to-user edges in the graph\n",
    "- no_inter_company_edges_directed: Number of unique company-to-company edges in the graph\n",
    "- no_inter_weight: Number of forks between users from different companies in the graph\n",
    "- no_selfloops: Number of forks between users from the same company in the graph\n",
    "- no_companies: Number of companies in the graph"
   ]
  },
  {
   "cell_type": "code",
   "execution_count": 53,
   "metadata": {},
   "outputs": [
    {
     "name": "stdout",
     "output_type": "stream",
     "text": [
      "No. users: 39\n",
      "No. companies: 10\n",
      "User edges (directed): 38\n",
      "Inter-company edges (directed): 1\n",
      "Inter-company GH actions: 1\n",
      "Intra-company GH actions: 64\n",
      "Weighted density (attention graph): 0.011111111111111112\n"
     ]
    }
   ],
   "source": [
    "# Nodes and edges\n",
    "no_users = len(pd.unique(collaboration_edges_user_level[['src', 'target']].values.ravel()))\n",
    "no_companies = len(set(collaboration_edges_user_level[\"src_company\"]).union(collaboration_edges_user_level[\"target_company\"]))\n",
    "no_users_edge = int(sum(d.get(\"weight\", 1) for _, _, d in collaboration_graph.edges(data=True)))\n",
    "no_inter_company_edges_directed = len([(u,v) for u, v, d in collaboration_graph.edges(data=True) if d.get(\"d_inter_level\") == 1])\n",
    "\n",
    "# Total weight of inter-company edges (user-level, directed)\n",
    "inter_company_mask = collaboration_edges_user_level['src_company'] != collaboration_edges_user_level['target_company']\n",
    "no_inter_weight = collaboration_edges_user_level[inter_company_mask]['action'].value_counts().sum()\n",
    "\n",
    "# Total weight of self-loop edges (src_company == tgt_company)\n",
    "selfloop_mask = collaboration_edges_user_level['src_company'] == collaboration_edges_user_level['target_company']\n",
    "no_selfloops = collaboration_edges_user_level[selfloop_mask]['action'].value_counts().sum()\n",
    "\n",
    "def calculate_densities(directed_graph):\n",
    "    # Create a copy of the graph to avoid modifying the original\n",
    "    graph = directed_graph.copy()\n",
    "\n",
    "    # Remove self-loops\n",
    "    self_loops = list(nx.selfloop_edges(graph))\n",
    "    graph.remove_edges_from(self_loops)\n",
    "\n",
    "    # Calculate unweighted density\n",
    "    number_of_nodes = graph.number_of_nodes()\n",
    "    possible_edges = number_of_nodes * (number_of_nodes - 1)\n",
    "\n",
    "    # Calculate weighted density\n",
    "    sum_of_weights = sum(data['weight'] for u, v, data in graph.edges(data=True))\n",
    "    weighted_density = sum_of_weights / possible_edges if possible_edges != 0 else 0\n",
    "\n",
    "    return weighted_density\n",
    "\n",
    "weighted_density_collaboration = calculate_densities(collaboration_graph)\n",
    "\n",
    "print(f\"No. users: {no_users}\")\n",
    "print(f\"No. companies: {no_companies}\")\n",
    "print(f\"User edges (directed): {no_users_edge}\")\n",
    "print(f\"Inter-company edges (directed): {no_inter_company_edges_directed}\")\n",
    "print(f\"Inter-company GH actions: {no_inter_weight}\")\n",
    "print(f\"Intra-company GH actions: {no_selfloops}\")\n",
    "print(f\"Weighted density (attention graph): {weighted_density_collaboration}\")"
   ]
  },
  {
   "cell_type": "markdown",
   "metadata": {},
   "source": [
    "**Describing GitHub user's actions on company-level (with self-loops/intra-company level)** \n",
    "- E.g. if *X*-user (working for company *Z*) has starred three repo's owned by *Y*-user (working for company *W*) this will give add three to the count of out-going edges for company *Z*, and three in-going edges for *W*. "
   ]
  },
  {
   "cell_type": "code",
   "execution_count": 7,
   "metadata": {},
   "outputs": [
    {
     "name": "stdout",
     "output_type": "stream",
     "text": [
      "\\begin{table}\n",
      "\\caption{Company Network Edge Counts}\n",
      "\\label{tab:company_edges}\n",
      "\\begin{tabular}{lcc}\n",
      "\\toprule\n",
      "Company & Outgoing Edges & Incoming Edges & Total Edges \\\\\n",
      "\\midrule\n",
      "trifork & 37 & 38.000000 & 75.000000 \\\\\n",
      "abtion & 6 & 6.000000 & 12.000000 \\\\\n",
      "netcompany & 6 & 6.000000 & 12.000000 \\\\\n",
      "signifly & 5 & 5.000000 & 10.000000 \\\\\n",
      "eg a s & 3 & 3.000000 & 6.000000 \\\\\n",
      "must & 3 & 3.000000 & 6.000000 \\\\\n",
      "shape & 2 & 2.000000 & 4.000000 \\\\\n",
      "knowit & 1 & 1.000000 & 2.000000 \\\\\n",
      "uptime & 1 & 1.000000 & 2.000000 \\\\\n",
      "miracle & 1 & 0.000000 & 1.000000 \\\\\n",
      "\\bottomrule\n",
      "\\end{tabular}\n",
      "\\end{table}\n",
      "\n"
     ]
    },
    {
     "data": {
      "application/vnd.microsoft.datawrangler.viewer.v0+json": {
       "columns": [
        {
         "name": "index",
         "rawType": "int64",
         "type": "integer"
        },
        {
         "name": "Company",
         "rawType": "object",
         "type": "string"
        },
        {
         "name": "Outgoing Edges",
         "rawType": "int64",
         "type": "integer"
        },
        {
         "name": "Incoming Edges",
         "rawType": "float64",
         "type": "float"
        },
        {
         "name": "Total Edges",
         "rawType": "float64",
         "type": "float"
        }
       ],
       "ref": "ceb31c85-fb24-42b8-833b-815c82051dbc",
       "rows": [
        [
         "8",
         "trifork",
         "37",
         "38.0",
         "75.0"
        ],
        [
         "0",
         "abtion",
         "6",
         "6.0",
         "12.0"
        ],
        [
         "5",
         "netcompany",
         "6",
         "6.0",
         "12.0"
        ],
        [
         "7",
         "signifly",
         "5",
         "5.0",
         "10.0"
        ],
        [
         "1",
         "eg a s",
         "3",
         "3.0",
         "6.0"
        ],
        [
         "4",
         "must",
         "3",
         "3.0",
         "6.0"
        ],
        [
         "6",
         "shape",
         "2",
         "2.0",
         "4.0"
        ],
        [
         "2",
         "knowit",
         "1",
         "1.0",
         "2.0"
        ],
        [
         "9",
         "uptime",
         "1",
         "1.0",
         "2.0"
        ],
        [
         "3",
         "miracle",
         "1",
         "0.0",
         "1.0"
        ]
       ],
       "shape": {
        "columns": 4,
        "rows": 10
       }
      },
      "text/html": [
       "<div>\n",
       "<style scoped>\n",
       "    .dataframe tbody tr th:only-of-type {\n",
       "        vertical-align: middle;\n",
       "    }\n",
       "\n",
       "    .dataframe tbody tr th {\n",
       "        vertical-align: top;\n",
       "    }\n",
       "\n",
       "    .dataframe thead th {\n",
       "        text-align: right;\n",
       "    }\n",
       "</style>\n",
       "<table border=\"1\" class=\"dataframe\">\n",
       "  <thead>\n",
       "    <tr style=\"text-align: right;\">\n",
       "      <th></th>\n",
       "      <th>Company</th>\n",
       "      <th>Outgoing Edges</th>\n",
       "      <th>Incoming Edges</th>\n",
       "      <th>Total Edges</th>\n",
       "    </tr>\n",
       "  </thead>\n",
       "  <tbody>\n",
       "    <tr>\n",
       "      <th>8</th>\n",
       "      <td>trifork</td>\n",
       "      <td>37</td>\n",
       "      <td>38.0</td>\n",
       "      <td>75.0</td>\n",
       "    </tr>\n",
       "    <tr>\n",
       "      <th>0</th>\n",
       "      <td>abtion</td>\n",
       "      <td>6</td>\n",
       "      <td>6.0</td>\n",
       "      <td>12.0</td>\n",
       "    </tr>\n",
       "    <tr>\n",
       "      <th>5</th>\n",
       "      <td>netcompany</td>\n",
       "      <td>6</td>\n",
       "      <td>6.0</td>\n",
       "      <td>12.0</td>\n",
       "    </tr>\n",
       "    <tr>\n",
       "      <th>7</th>\n",
       "      <td>signifly</td>\n",
       "      <td>5</td>\n",
       "      <td>5.0</td>\n",
       "      <td>10.0</td>\n",
       "    </tr>\n",
       "    <tr>\n",
       "      <th>1</th>\n",
       "      <td>eg a s</td>\n",
       "      <td>3</td>\n",
       "      <td>3.0</td>\n",
       "      <td>6.0</td>\n",
       "    </tr>\n",
       "    <tr>\n",
       "      <th>4</th>\n",
       "      <td>must</td>\n",
       "      <td>3</td>\n",
       "      <td>3.0</td>\n",
       "      <td>6.0</td>\n",
       "    </tr>\n",
       "    <tr>\n",
       "      <th>6</th>\n",
       "      <td>shape</td>\n",
       "      <td>2</td>\n",
       "      <td>2.0</td>\n",
       "      <td>4.0</td>\n",
       "    </tr>\n",
       "    <tr>\n",
       "      <th>2</th>\n",
       "      <td>knowit</td>\n",
       "      <td>1</td>\n",
       "      <td>1.0</td>\n",
       "      <td>2.0</td>\n",
       "    </tr>\n",
       "    <tr>\n",
       "      <th>9</th>\n",
       "      <td>uptime</td>\n",
       "      <td>1</td>\n",
       "      <td>1.0</td>\n",
       "      <td>2.0</td>\n",
       "    </tr>\n",
       "    <tr>\n",
       "      <th>3</th>\n",
       "      <td>miracle</td>\n",
       "      <td>1</td>\n",
       "      <td>0.0</td>\n",
       "      <td>1.0</td>\n",
       "    </tr>\n",
       "  </tbody>\n",
       "</table>\n",
       "</div>"
      ],
      "text/plain": [
       "      Company  Outgoing Edges  Incoming Edges  Total Edges\n",
       "8     trifork              37            38.0         75.0\n",
       "0      abtion               6             6.0         12.0\n",
       "5  netcompany               6             6.0         12.0\n",
       "7    signifly               5             5.0         10.0\n",
       "1      eg a s               3             3.0          6.0\n",
       "4        must               3             3.0          6.0\n",
       "6       shape               2             2.0          4.0\n",
       "2      knowit               1             1.0          2.0\n",
       "9      uptime               1             1.0          2.0\n",
       "3     miracle               1             0.0          1.0"
      ]
     },
     "execution_count": 7,
     "metadata": {},
     "output_type": "execute_result"
    }
   ],
   "source": [
    "# Make tex\n",
    "\n",
    "# Count outgoing and incoming edges and exclude self-loops\n",
    "outgoing_counts = collaboration_edges_user_level.groupby('src_company').size().reset_index(name='outgoing_edges')\n",
    "incoming_counts = collaboration_edges_user_level.groupby('target_company').size().reset_index(name='incoming_edges')\n",
    "\n",
    "# Merge counts to get a single table\n",
    "company_stats = pd.merge(outgoing_counts, incoming_counts, left_on='src_company', right_on='target_company', how='outer')\n",
    "\n",
    "# Fill NaN values (in case some companies only have incoming or outgoing edges)\n",
    "company_stats = company_stats.fillna(0)\n",
    "\n",
    "# Rename columns for clarity\n",
    "company_stats = company_stats[['src_company', 'outgoing_edges', 'incoming_edges']]\n",
    "company_stats.columns = ['Company', 'Outgoing Edges', 'Incoming Edges']\n",
    "\n",
    "# Sort by total edges\n",
    "company_stats['Total Edges'] = company_stats['Outgoing Edges'] + company_stats['Incoming Edges']\n",
    "company_stats = company_stats.sort_values('Total Edges', ascending=False)\n",
    "\n",
    "# Convert to LaTeX table format\n",
    "latex_table = company_stats.to_latex(index=False, caption=\"Company Network Edge Counts\", label=\"tab:company_edges\", column_format=\"lcc\")\n",
    "\n",
    "# Print the table\n",
    "print(latex_table)\n",
    "company_stats\n"
   ]
  },
  {
   "cell_type": "markdown",
   "metadata": {},
   "source": [
    "**Describing GitHub user's actions on company-level (only inter-company level)** "
   ]
  },
  {
   "cell_type": "code",
   "execution_count": 8,
   "metadata": {},
   "outputs": [
    {
     "name": "stdout",
     "output_type": "stream",
     "text": [
      "\\begin{table}\n",
      "\\caption{Company Network Edge Counts (Excluding Self-Loops)}\n",
      "\\label{tab:collaboration}\n",
      "\\begin{tabular}{lcc}\n",
      "\\toprule\n",
      "src_company & outgoing_edges & incoming_edges & total_edges \\\\\n",
      "\\midrule\n",
      "miracle & 1 & 0 & 1 \\\\\n",
      "trifork & 0 & 1 & 1 \\\\\n",
      "\\bottomrule\n",
      "\\end{tabular}\n",
      "\\end{table}\n",
      "\n"
     ]
    },
    {
     "data": {
      "application/vnd.microsoft.datawrangler.viewer.v0+json": {
       "columns": [
        {
         "name": "index",
         "rawType": "int64",
         "type": "integer"
        },
        {
         "name": "src_company",
         "rawType": "object",
         "type": "string"
        },
        {
         "name": "outgoing_edges",
         "rawType": "int64",
         "type": "integer"
        },
        {
         "name": "incoming_edges",
         "rawType": "int64",
         "type": "integer"
        },
        {
         "name": "total_edges",
         "rawType": "int64",
         "type": "integer"
        }
       ],
       "ref": "6d46b628-6247-4dbc-a587-11fe3c34b63d",
       "rows": [
        [
         "0",
         "miracle",
         "1",
         "0",
         "1"
        ],
        [
         "1",
         "trifork",
         "0",
         "1",
         "1"
        ]
       ],
       "shape": {
        "columns": 4,
        "rows": 2
       }
      },
      "text/html": [
       "<div>\n",
       "<style scoped>\n",
       "    .dataframe tbody tr th:only-of-type {\n",
       "        vertical-align: middle;\n",
       "    }\n",
       "\n",
       "    .dataframe tbody tr th {\n",
       "        vertical-align: top;\n",
       "    }\n",
       "\n",
       "    .dataframe thead th {\n",
       "        text-align: right;\n",
       "    }\n",
       "</style>\n",
       "<table border=\"1\" class=\"dataframe\">\n",
       "  <thead>\n",
       "    <tr style=\"text-align: right;\">\n",
       "      <th></th>\n",
       "      <th>src_company</th>\n",
       "      <th>outgoing_edges</th>\n",
       "      <th>incoming_edges</th>\n",
       "      <th>total_edges</th>\n",
       "    </tr>\n",
       "  </thead>\n",
       "  <tbody>\n",
       "    <tr>\n",
       "      <th>0</th>\n",
       "      <td>miracle</td>\n",
       "      <td>1</td>\n",
       "      <td>0</td>\n",
       "      <td>1</td>\n",
       "    </tr>\n",
       "    <tr>\n",
       "      <th>1</th>\n",
       "      <td>trifork</td>\n",
       "      <td>0</td>\n",
       "      <td>1</td>\n",
       "      <td>1</td>\n",
       "    </tr>\n",
       "  </tbody>\n",
       "</table>\n",
       "</div>"
      ],
      "text/plain": [
       "  src_company  outgoing_edges  incoming_edges  total_edges\n",
       "0     miracle               1               0            1\n",
       "1     trifork               0               1            1"
      ]
     },
     "execution_count": 8,
     "metadata": {},
     "output_type": "execute_result"
    }
   ],
   "source": [
    "# Step 1: Exclude self-loops\n",
    "company_edges = collaboration_edges_user_level[collaboration_edges_user_level['src_company'] != collaboration_edges_user_level['target_company']]\n",
    "\n",
    "# Step 2: Count outgoing and incoming edges\n",
    "outgoing_counts = company_edges.groupby('src_company').size().reset_index(name='outgoing_edges')\n",
    "incoming_counts = company_edges.groupby('target_company').size().reset_index(name='incoming_edges')\n",
    "\n",
    "# Step 3: Get all unique companies from both columns\n",
    "all_companies = pd.DataFrame(pd.unique(company_edges[['src_company', 'target_company']].values.ravel()), columns=['src_company'])\n",
    "\n",
    "# Step 4: Merge outgoing and incoming counts separately to ensure all companies are included\n",
    "company_stats = all_companies.merge(outgoing_counts, on='src_company', how='left').merge(\n",
    "    incoming_counts, left_on='src_company', right_on='target_company', how='left'\n",
    ")\n",
    "\n",
    "# Step 5: Drop duplicate target_company column and fill NaN with 0\n",
    "company_stats = company_stats[['src_company', 'outgoing_edges', 'incoming_edges']].fillna(0)\n",
    "\n",
    "# Step 6: Convert to integer type\n",
    "company_stats[['outgoing_edges', 'incoming_edges']] = company_stats[['outgoing_edges', 'incoming_edges']].astype(int)\n",
    "\n",
    "# Step 7: Sort by total edges\n",
    "company_stats['total_edges'] = company_stats['outgoing_edges'] + company_stats['incoming_edges']\n",
    "company_stats = company_stats.sort_values('total_edges', ascending=False).reset_index(drop=True)\n",
    "\n",
    "# Step 7: Convert to LaTeX table format\n",
    "latex_table = company_stats.to_latex(index=False, caption=\"Company Network Edge Counts (Excluding Self-Loops)\", \n",
    "                                     label=\"tab:collaboration\", column_format=\"lcc\")\n",
    "\n",
    "# Print LaTeX table\n",
    "print(latex_table)\n",
    "company_stats"
   ]
  },
  {
   "cell_type": "code",
   "execution_count": 32,
   "metadata": {},
   "outputs": [
    {
     "data": {
      "application/vnd.microsoft.datawrangler.viewer.v0+json": {
       "columns": [
        {
         "name": "index",
         "rawType": "int64",
         "type": "integer"
        },
        {
         "name": "src_company_label",
         "rawType": "object",
         "type": "string"
        },
        {
         "name": "target_company_label",
         "rawType": "object",
         "type": "string"
        },
        {
         "name": "no_of_forks",
         "rawType": "int64",
         "type": "integer"
        }
       ],
       "ref": "45fddd2d-5f44-44b2-9f69-e44a9827e61a",
       "rows": [
        [
         "0",
         "2 Bespoke app companies",
         "1 Digital and marketing consultancies",
         "1"
        ]
       ],
       "shape": {
        "columns": 3,
        "rows": 1
       }
      },
      "text/html": [
       "<div>\n",
       "<style scoped>\n",
       "    .dataframe tbody tr th:only-of-type {\n",
       "        vertical-align: middle;\n",
       "    }\n",
       "\n",
       "    .dataframe tbody tr th {\n",
       "        vertical-align: top;\n",
       "    }\n",
       "\n",
       "    .dataframe thead th {\n",
       "        text-align: right;\n",
       "    }\n",
       "</style>\n",
       "<table border=\"1\" class=\"dataframe\">\n",
       "  <thead>\n",
       "    <tr style=\"text-align: right;\">\n",
       "      <th>action</th>\n",
       "      <th>src_company_label</th>\n",
       "      <th>target_company_label</th>\n",
       "      <th>no_of_forks</th>\n",
       "    </tr>\n",
       "  </thead>\n",
       "  <tbody>\n",
       "    <tr>\n",
       "      <th>0</th>\n",
       "      <td>2 Bespoke app companies</td>\n",
       "      <td>1 Digital and marketing consultancies</td>\n",
       "      <td>1</td>\n",
       "    </tr>\n",
       "  </tbody>\n",
       "</table>\n",
       "</div>"
      ],
      "text/plain": [
       "action        src_company_label                   target_company_label  \\\n",
       "0       2 Bespoke app companies  1 Digital and marketing consultancies   \n",
       "\n",
       "action  no_of_forks  \n",
       "0                 1  "
      ]
     },
     "execution_count": 32,
     "metadata": {},
     "output_type": "execute_result"
    }
   ],
   "source": [
    "# Step 1: Filter for edges where companies belong to different categories\n",
    "filtered_edges = collaboration_edges_user_level[\n",
    "    collaboration_edges_user_level['src_company'] != collaboration_edges_user_level['target_company']\n",
    "]\n",
    "\n",
    "# Step 1: Group by 'src_company_label', 'target_company_label' and 'action', and count occurrences\n",
    "category_action_counts = (\n",
    "    filtered_edges\n",
    "    .groupby(['src_company_label', 'target_company_label', 'action'])\n",
    "    .size()\n",
    "    .reset_index(name='count')\n",
    ")\n",
    "\n",
    "# Step 2: Pivot the table to get counts of each action as columns\n",
    "pivoted_df = category_action_counts.pivot_table(\n",
    "    index=['src_company_label', 'target_company_label'],\n",
    "    columns='action',\n",
    "    values='count',\n",
    "    aggfunc='sum',\n",
    "    fill_value=0\n",
    ").reset_index()\n",
    "pivoted_df.rename(columns={'forks': 'no_of_forks'}, inplace=True)\n",
    "\n",
    "pivoted_df\n",
    "\n",
    "# Optional: Save to .tex file\n",
    "#with open(\"collaboration_table.tex\", \"w\") as f:\n",
    "#    f.write(latex_table)"
   ]
  },
  {
   "cell_type": "markdown",
   "metadata": {},
   "source": [
    "## 2.2 Attention Network Stats"
   ]
  },
  {
   "cell_type": "markdown",
   "metadata": {},
   "source": [
    "**General network statistics**"
   ]
  },
  {
   "cell_type": "markdown",
   "metadata": {},
   "source": [
    "- no_users: Number of GitHub user-profiles in the graph\n",
    "- no_companies: Number of companies in the graph\n",
    "- no_users_edges: Number of unique user-to-user edges in the graph\n",
    "- no_inter_company_edges_directed: Number of unique company-to-company edges in the graph\n",
    "- no_inter_weight: Number of all attention GH-actions between users from different companies in the graph\n",
    "- no_selfloops: Number of all attention GH-actions between users from the same company in the graph\n",
    "- no_companies: Number of companies in the graph"
   ]
  },
  {
   "cell_type": "code",
   "execution_count": null,
   "metadata": {},
   "outputs": [
    {
     "name": "stdout",
     "output_type": "stream",
     "text": [
      "No. users: 128\n",
      "No. companies: 16\n",
      "User edges (directed): 215\n",
      "Inter-company edges (directed): 6\n",
      "Inter-company GH actions: 12\n",
      "Intra-company GH actions: 2244\n",
      "Weighted density (attention graph): 0.025\n",
      "Unweighted density (attention graph): 0.025\n"
     ]
    }
   ],
   "source": [
    "# Nodes and edges\n",
    "no_users = len(pd.unique(attention_edges_user_level[['src', 'target']].values.ravel()))\n",
    "no_companies = len(set(attention_edges_user_level[\"src_company\"]).union(attention_edges_user_level[\"target_company\"]))\n",
    "no_users_edge = int(sum(d.get(\"weight\", 1) for _, _, d in attention_graph.edges(data=True)))\n",
    "no_inter_company_edges_directed = len([(u,v) for u, v, d in attention_graph.edges(data=True) if d.get(\"d_inter_level\") == 1])\n",
    "\n",
    "# Total weight of inter-company edges (user-level, directed)\n",
    "inter_company_mask = attention_edges_user_level['src_company'] != attention_edges_user_level['target_company']\n",
    "no_inter_weight = attention_edges_user_level[inter_company_mask]['action'].value_counts().sum()\n",
    "\n",
    "# Total weight of self-loop edges (src_company == tgt_company)\n",
    "selfloop_mask = attention_edges_user_level['src_company'] == attention_edges_user_level['target_company']\n",
    "no_selfloops = attention_edges_user_level[selfloop_mask]['action'].value_counts().sum()\n",
    "\n",
    "# Density\n",
    "weighted_density_attention = calculate_weighted_density(attention_graph)\n",
    "\n",
    "\n",
    "print(f\"No. users: {no_users}\")\n",
    "print(f\"No. companies: {no_companies}\")\n",
    "print(f\"User edges (directed): {no_users_edge}\")\n",
    "print(f\"Inter-company edges (directed): {no_inter_company_edges_directed}\")\n",
    "print(f\"Inter-company GH actions: {no_inter_weight}\")\n",
    "print(f\"Intra-company GH actions: {no_selfloops}\")\n",
    "print(f\"Weighted density (attention graph): {weighted_density_attention}\")"
   ]
  },
  {
   "cell_type": "markdown",
   "metadata": {},
   "source": [
    "**Describing GitHub user's actions on company-level (with self-loops/intra-company level)** \n",
    "- E.g. if *X*-user (working for company *Z*) has starred three repo's owned by *Y*-user (working for company *W*) this will give add three to the count of out-going edges for company *Z*, and three in-going edges for *W*. "
   ]
  },
  {
   "cell_type": "code",
   "execution_count": 11,
   "metadata": {},
   "outputs": [
    {
     "name": "stdout",
     "output_type": "stream",
     "text": [
      "\\begin{table}\n",
      "\\caption{Company Network Edge Counts}\n",
      "\\label{tab:company_edges}\n",
      "\\begin{tabular}{lcc}\n",
      "\\toprule\n",
      "Company & Outgoing Edges & Incoming Edges & Total Edges \\\\\n",
      "\\midrule\n",
      "trifork & 1164.000000 & 1165 & 2329.000000 \\\\\n",
      "netcompany & 270.000000 & 267 & 537.000000 \\\\\n",
      "charlie tango & 154.000000 & 153 & 307.000000 \\\\\n",
      "systematic & 151.000000 & 151 & 302.000000 \\\\\n",
      "shape & 131.000000 & 131 & 262.000000 \\\\\n",
      "abtion & 111.000000 & 111 & 222.000000 \\\\\n",
      "must & 108.000000 & 108 & 216.000000 \\\\\n",
      "knowit & 55.000000 & 49 & 104.000000 \\\\\n",
      "signifly & 44.000000 & 47 & 91.000000 \\\\\n",
      "uptime & 36.000000 & 36 & 72.000000 \\\\\n",
      "oxygen & 11.000000 & 11 & 22.000000 \\\\\n",
      "kmd & 9.000000 & 9 & 18.000000 \\\\\n",
      "capgemini & 8.000000 & 8 & 16.000000 \\\\\n",
      "kruso & 3.000000 & 3 & 6.000000 \\\\\n",
      "0 & 0.000000 & 6 & 6.000000 \\\\\n",
      "fellowmind & 1.000000 & 1 & 2.000000 \\\\\n",
      "\\bottomrule\n",
      "\\end{tabular}\n",
      "\\end{table}\n",
      "\n"
     ]
    },
    {
     "data": {
      "application/vnd.microsoft.datawrangler.viewer.v0+json": {
       "columns": [
        {
         "name": "index",
         "rawType": "int64",
         "type": "integer"
        },
        {
         "name": "Company",
         "rawType": "object",
         "type": "unknown"
        },
        {
         "name": "Outgoing Edges",
         "rawType": "float64",
         "type": "float"
        },
        {
         "name": "Incoming Edges",
         "rawType": "int64",
         "type": "integer"
        },
        {
         "name": "Total Edges",
         "rawType": "float64",
         "type": "float"
        }
       ],
       "ref": "ba9354fc-7520-487d-b392-77000667c5d9",
       "rows": [
        [
         "13",
         "trifork",
         "1164.0",
         "1165",
         "2329.0"
        ],
        [
         "8",
         "netcompany",
         "270.0",
         "267",
         "537.0"
        ],
        [
         "2",
         "charlie tango",
         "154.0",
         "153",
         "307.0"
        ],
        [
         "12",
         "systematic",
         "151.0",
         "151",
         "302.0"
        ],
        [
         "10",
         "shape",
         "131.0",
         "131",
         "262.0"
        ],
        [
         "0",
         "abtion",
         "111.0",
         "111",
         "222.0"
        ],
        [
         "7",
         "must",
         "108.0",
         "108",
         "216.0"
        ],
        [
         "5",
         "knowit",
         "55.0",
         "49",
         "104.0"
        ],
        [
         "11",
         "signifly",
         "44.0",
         "47",
         "91.0"
        ],
        [
         "14",
         "uptime",
         "36.0",
         "36",
         "72.0"
        ],
        [
         "9",
         "oxygen",
         "11.0",
         "11",
         "22.0"
        ],
        [
         "4",
         "kmd",
         "9.0",
         "9",
         "18.0"
        ],
        [
         "1",
         "capgemini",
         "8.0",
         "8",
         "16.0"
        ],
        [
         "6",
         "kruso",
         "3.0",
         "3",
         "6.0"
        ],
        [
         "15",
         "0",
         "0.0",
         "6",
         "6.0"
        ],
        [
         "3",
         "fellowmind",
         "1.0",
         "1",
         "2.0"
        ]
       ],
       "shape": {
        "columns": 4,
        "rows": 16
       }
      },
      "text/html": [
       "<div>\n",
       "<style scoped>\n",
       "    .dataframe tbody tr th:only-of-type {\n",
       "        vertical-align: middle;\n",
       "    }\n",
       "\n",
       "    .dataframe tbody tr th {\n",
       "        vertical-align: top;\n",
       "    }\n",
       "\n",
       "    .dataframe thead th {\n",
       "        text-align: right;\n",
       "    }\n",
       "</style>\n",
       "<table border=\"1\" class=\"dataframe\">\n",
       "  <thead>\n",
       "    <tr style=\"text-align: right;\">\n",
       "      <th></th>\n",
       "      <th>Company</th>\n",
       "      <th>Outgoing Edges</th>\n",
       "      <th>Incoming Edges</th>\n",
       "      <th>Total Edges</th>\n",
       "    </tr>\n",
       "  </thead>\n",
       "  <tbody>\n",
       "    <tr>\n",
       "      <th>13</th>\n",
       "      <td>trifork</td>\n",
       "      <td>1164.0</td>\n",
       "      <td>1165</td>\n",
       "      <td>2329.0</td>\n",
       "    </tr>\n",
       "    <tr>\n",
       "      <th>8</th>\n",
       "      <td>netcompany</td>\n",
       "      <td>270.0</td>\n",
       "      <td>267</td>\n",
       "      <td>537.0</td>\n",
       "    </tr>\n",
       "    <tr>\n",
       "      <th>2</th>\n",
       "      <td>charlie tango</td>\n",
       "      <td>154.0</td>\n",
       "      <td>153</td>\n",
       "      <td>307.0</td>\n",
       "    </tr>\n",
       "    <tr>\n",
       "      <th>12</th>\n",
       "      <td>systematic</td>\n",
       "      <td>151.0</td>\n",
       "      <td>151</td>\n",
       "      <td>302.0</td>\n",
       "    </tr>\n",
       "    <tr>\n",
       "      <th>10</th>\n",
       "      <td>shape</td>\n",
       "      <td>131.0</td>\n",
       "      <td>131</td>\n",
       "      <td>262.0</td>\n",
       "    </tr>\n",
       "    <tr>\n",
       "      <th>0</th>\n",
       "      <td>abtion</td>\n",
       "      <td>111.0</td>\n",
       "      <td>111</td>\n",
       "      <td>222.0</td>\n",
       "    </tr>\n",
       "    <tr>\n",
       "      <th>7</th>\n",
       "      <td>must</td>\n",
       "      <td>108.0</td>\n",
       "      <td>108</td>\n",
       "      <td>216.0</td>\n",
       "    </tr>\n",
       "    <tr>\n",
       "      <th>5</th>\n",
       "      <td>knowit</td>\n",
       "      <td>55.0</td>\n",
       "      <td>49</td>\n",
       "      <td>104.0</td>\n",
       "    </tr>\n",
       "    <tr>\n",
       "      <th>11</th>\n",
       "      <td>signifly</td>\n",
       "      <td>44.0</td>\n",
       "      <td>47</td>\n",
       "      <td>91.0</td>\n",
       "    </tr>\n",
       "    <tr>\n",
       "      <th>14</th>\n",
       "      <td>uptime</td>\n",
       "      <td>36.0</td>\n",
       "      <td>36</td>\n",
       "      <td>72.0</td>\n",
       "    </tr>\n",
       "    <tr>\n",
       "      <th>9</th>\n",
       "      <td>oxygen</td>\n",
       "      <td>11.0</td>\n",
       "      <td>11</td>\n",
       "      <td>22.0</td>\n",
       "    </tr>\n",
       "    <tr>\n",
       "      <th>4</th>\n",
       "      <td>kmd</td>\n",
       "      <td>9.0</td>\n",
       "      <td>9</td>\n",
       "      <td>18.0</td>\n",
       "    </tr>\n",
       "    <tr>\n",
       "      <th>1</th>\n",
       "      <td>capgemini</td>\n",
       "      <td>8.0</td>\n",
       "      <td>8</td>\n",
       "      <td>16.0</td>\n",
       "    </tr>\n",
       "    <tr>\n",
       "      <th>6</th>\n",
       "      <td>kruso</td>\n",
       "      <td>3.0</td>\n",
       "      <td>3</td>\n",
       "      <td>6.0</td>\n",
       "    </tr>\n",
       "    <tr>\n",
       "      <th>15</th>\n",
       "      <td>0</td>\n",
       "      <td>0.0</td>\n",
       "      <td>6</td>\n",
       "      <td>6.0</td>\n",
       "    </tr>\n",
       "    <tr>\n",
       "      <th>3</th>\n",
       "      <td>fellowmind</td>\n",
       "      <td>1.0</td>\n",
       "      <td>1</td>\n",
       "      <td>2.0</td>\n",
       "    </tr>\n",
       "  </tbody>\n",
       "</table>\n",
       "</div>"
      ],
      "text/plain": [
       "          Company  Outgoing Edges  Incoming Edges  Total Edges\n",
       "13        trifork          1164.0            1165       2329.0\n",
       "8      netcompany           270.0             267        537.0\n",
       "2   charlie tango           154.0             153        307.0\n",
       "12     systematic           151.0             151        302.0\n",
       "10          shape           131.0             131        262.0\n",
       "0          abtion           111.0             111        222.0\n",
       "7            must           108.0             108        216.0\n",
       "5          knowit            55.0              49        104.0\n",
       "11       signifly            44.0              47         91.0\n",
       "14         uptime            36.0              36         72.0\n",
       "9          oxygen            11.0              11         22.0\n",
       "4             kmd             9.0               9         18.0\n",
       "1       capgemini             8.0               8         16.0\n",
       "6           kruso             3.0               3          6.0\n",
       "15              0             0.0               6          6.0\n",
       "3      fellowmind             1.0               1          2.0"
      ]
     },
     "execution_count": 11,
     "metadata": {},
     "output_type": "execute_result"
    }
   ],
   "source": [
    "# Count outgoing and incoming edges and exclude self-loops\n",
    "outgoing_counts = attention_edges_user_level.groupby('src_company').size().reset_index(name='outgoing_edges')\n",
    "incoming_counts = attention_edges_user_level.groupby('target_company').size().reset_index(name='incoming_edges')\n",
    "\n",
    "# Merge counts to get a single table\n",
    "company_stats = pd.merge(outgoing_counts, incoming_counts, left_on='src_company', right_on='target_company', how='outer')\n",
    "\n",
    "# Fill NaN values (in case some companies only have incoming or outgoing edges)\n",
    "company_stats = company_stats.fillna(0)\n",
    "\n",
    "# Rename columns for clarity\n",
    "company_stats = company_stats[['src_company', 'outgoing_edges', 'incoming_edges']]\n",
    "company_stats.columns = ['Company', 'Outgoing Edges', 'Incoming Edges']\n",
    "\n",
    "# Sort by total edges\n",
    "company_stats['Total Edges'] = company_stats['Outgoing Edges'] + company_stats['Incoming Edges']\n",
    "company_stats = company_stats.sort_values('Total Edges', ascending=False)\n",
    "\n",
    "# Convert to LaTeX table format\n",
    "latex_table = company_stats.to_latex(index=False, caption=\"Company Network Edge Counts\", label=\"tab:company_edges\", column_format=\"lcc\")\n",
    "\n",
    "# Print the table\n",
    "print(latex_table)\n",
    "company_stats\n"
   ]
  },
  {
   "cell_type": "markdown",
   "metadata": {},
   "source": [
    "**Describing GitHub user's actions on company-level (only inter-company level)** "
   ]
  },
  {
   "cell_type": "code",
   "execution_count": 12,
   "metadata": {},
   "outputs": [
    {
     "name": "stdout",
     "output_type": "stream",
     "text": [
      "\\begin{table}\n",
      "\\caption{Company Network Edge Counts (Excluding Self-Loops)}\n",
      "\\label{tab:collaboration}\n",
      "\\begin{tabular}{lcc}\n",
      "\\toprule\n",
      "src_company & outgoing_edges & incoming_edges & total_edges \\\\\n",
      "\\midrule\n",
      "knowit & 6 & 0 & 6 \\\\\n",
      "miracle & 0 & 6 & 6 \\\\\n",
      "netcompany & 3 & 0 & 3 \\\\\n",
      "signifly & 0 & 3 & 3 \\\\\n",
      "oxygen & 1 & 1 & 2 \\\\\n",
      "abtion & 1 & 1 & 2 \\\\\n",
      "charlie tango & 1 & 0 & 1 \\\\\n",
      "trifork & 0 & 1 & 1 \\\\\n",
      "\\bottomrule\n",
      "\\end{tabular}\n",
      "\\end{table}\n",
      "\n"
     ]
    },
    {
     "data": {
      "application/vnd.microsoft.datawrangler.viewer.v0+json": {
       "columns": [
        {
         "name": "index",
         "rawType": "int64",
         "type": "integer"
        },
        {
         "name": "src_company",
         "rawType": "object",
         "type": "string"
        },
        {
         "name": "outgoing_edges",
         "rawType": "int64",
         "type": "integer"
        },
        {
         "name": "incoming_edges",
         "rawType": "int64",
         "type": "integer"
        },
        {
         "name": "total_edges",
         "rawType": "int64",
         "type": "integer"
        }
       ],
       "ref": "9924dcbd-1d47-4946-ba80-345c4914339b",
       "rows": [
        [
         "0",
         "knowit",
         "6",
         "0",
         "6"
        ],
        [
         "1",
         "miracle",
         "0",
         "6",
         "6"
        ],
        [
         "2",
         "netcompany",
         "3",
         "0",
         "3"
        ],
        [
         "3",
         "signifly",
         "0",
         "3",
         "3"
        ],
        [
         "4",
         "oxygen",
         "1",
         "1",
         "2"
        ],
        [
         "5",
         "abtion",
         "1",
         "1",
         "2"
        ],
        [
         "6",
         "charlie tango",
         "1",
         "0",
         "1"
        ],
        [
         "7",
         "trifork",
         "0",
         "1",
         "1"
        ]
       ],
       "shape": {
        "columns": 4,
        "rows": 8
       }
      },
      "text/html": [
       "<div>\n",
       "<style scoped>\n",
       "    .dataframe tbody tr th:only-of-type {\n",
       "        vertical-align: middle;\n",
       "    }\n",
       "\n",
       "    .dataframe tbody tr th {\n",
       "        vertical-align: top;\n",
       "    }\n",
       "\n",
       "    .dataframe thead th {\n",
       "        text-align: right;\n",
       "    }\n",
       "</style>\n",
       "<table border=\"1\" class=\"dataframe\">\n",
       "  <thead>\n",
       "    <tr style=\"text-align: right;\">\n",
       "      <th></th>\n",
       "      <th>src_company</th>\n",
       "      <th>outgoing_edges</th>\n",
       "      <th>incoming_edges</th>\n",
       "      <th>total_edges</th>\n",
       "    </tr>\n",
       "  </thead>\n",
       "  <tbody>\n",
       "    <tr>\n",
       "      <th>0</th>\n",
       "      <td>knowit</td>\n",
       "      <td>6</td>\n",
       "      <td>0</td>\n",
       "      <td>6</td>\n",
       "    </tr>\n",
       "    <tr>\n",
       "      <th>1</th>\n",
       "      <td>miracle</td>\n",
       "      <td>0</td>\n",
       "      <td>6</td>\n",
       "      <td>6</td>\n",
       "    </tr>\n",
       "    <tr>\n",
       "      <th>2</th>\n",
       "      <td>netcompany</td>\n",
       "      <td>3</td>\n",
       "      <td>0</td>\n",
       "      <td>3</td>\n",
       "    </tr>\n",
       "    <tr>\n",
       "      <th>3</th>\n",
       "      <td>signifly</td>\n",
       "      <td>0</td>\n",
       "      <td>3</td>\n",
       "      <td>3</td>\n",
       "    </tr>\n",
       "    <tr>\n",
       "      <th>4</th>\n",
       "      <td>oxygen</td>\n",
       "      <td>1</td>\n",
       "      <td>1</td>\n",
       "      <td>2</td>\n",
       "    </tr>\n",
       "    <tr>\n",
       "      <th>5</th>\n",
       "      <td>abtion</td>\n",
       "      <td>1</td>\n",
       "      <td>1</td>\n",
       "      <td>2</td>\n",
       "    </tr>\n",
       "    <tr>\n",
       "      <th>6</th>\n",
       "      <td>charlie tango</td>\n",
       "      <td>1</td>\n",
       "      <td>0</td>\n",
       "      <td>1</td>\n",
       "    </tr>\n",
       "    <tr>\n",
       "      <th>7</th>\n",
       "      <td>trifork</td>\n",
       "      <td>0</td>\n",
       "      <td>1</td>\n",
       "      <td>1</td>\n",
       "    </tr>\n",
       "  </tbody>\n",
       "</table>\n",
       "</div>"
      ],
      "text/plain": [
       "     src_company  outgoing_edges  incoming_edges  total_edges\n",
       "0         knowit               6               0            6\n",
       "1        miracle               0               6            6\n",
       "2     netcompany               3               0            3\n",
       "3       signifly               0               3            3\n",
       "4         oxygen               1               1            2\n",
       "5         abtion               1               1            2\n",
       "6  charlie tango               1               0            1\n",
       "7        trifork               0               1            1"
      ]
     },
     "execution_count": 12,
     "metadata": {},
     "output_type": "execute_result"
    }
   ],
   "source": [
    "# Step 1: Exclude self-loops\n",
    "filtered_edges = attention_edges_user_level[attention_edges_user_level['src_company'] != attention_edges_user_level['target_company']]\n",
    "\n",
    "# Step 2: Count outgoing and incoming edges\n",
    "outgoing_counts = filtered_edges.groupby('src_company').size().reset_index(name='outgoing_edges')\n",
    "incoming_counts = filtered_edges.groupby('target_company').size().reset_index(name='incoming_edges')\n",
    "\n",
    "# Step 3: Get all unique companies from both columns\n",
    "all_companies = pd.DataFrame(pd.unique(filtered_edges[['src_company', 'target_company']].values.ravel()), columns=['src_company'])\n",
    "\n",
    "# Step 4: Merge outgoing and incoming counts separately to ensure all companies are included\n",
    "company_stats = all_companies.merge(outgoing_counts, on='src_company', how='left').merge(\n",
    "    incoming_counts, left_on='src_company', right_on='target_company', how='left'\n",
    ")\n",
    "\n",
    "# Step 5: Drop duplicate target_company column and fill NaN with 0\n",
    "company_stats = company_stats[['src_company', 'outgoing_edges', 'incoming_edges']].fillna(0)\n",
    "\n",
    "# Step 6: Convert to integer type\n",
    "company_stats[['outgoing_edges', 'incoming_edges']] = company_stats[['outgoing_edges', 'incoming_edges']].astype(int)\n",
    "\n",
    "# Step 7: Sort by total edges\n",
    "company_stats['total_edges'] = company_stats['outgoing_edges'] + company_stats['incoming_edges']\n",
    "company_stats = company_stats.sort_values('total_edges', ascending=False).reset_index(drop=True)\n",
    "\n",
    "# Step 7: Convert to LaTeX table format\n",
    "latex_table = company_stats.to_latex(index=False, caption=\"Company Network Edge Counts (Excluding Self-Loops)\", \n",
    "                                     label=\"tab:collaboration\", column_format=\"lcc\")\n",
    "\n",
    "# Print LaTeX table\n",
    "print(latex_table)\n",
    "company_stats"
   ]
  },
  {
   "cell_type": "markdown",
   "metadata": {},
   "source": [
    "**Describing actions based on company categories**"
   ]
  },
  {
   "cell_type": "code",
   "execution_count": 29,
   "metadata": {},
   "outputs": [
    {
     "name": "stdout",
     "output_type": "stream",
     "text": [
      "\\begin{tabular}{llrrrr}\n",
      "\\toprule\n",
      "src_company_label & target_company_label & follows & stars & watches & no_attention_actions \\\\\n",
      "\\midrule\n",
      "1 Digital and marketing consultancies & 1 Digital and marketing consultancies & 1 & 3 & 2 & 6 \\\\\n",
      "1 Digital and marketing consultancies & 2 Bespoke app companies & 0 & 0 & 6 & 6 \\\\\n",
      "\\bottomrule\n",
      "\\end{tabular}\n",
      "\n"
     ]
    },
    {
     "data": {
      "application/vnd.microsoft.datawrangler.viewer.v0+json": {
       "columns": [
        {
         "name": "index",
         "rawType": "int64",
         "type": "integer"
        },
        {
         "name": "src_company_label",
         "rawType": "object",
         "type": "string"
        },
        {
         "name": "target_company_label",
         "rawType": "object",
         "type": "string"
        },
        {
         "name": "follows",
         "rawType": "int64",
         "type": "integer"
        },
        {
         "name": "stars",
         "rawType": "int64",
         "type": "integer"
        },
        {
         "name": "watches",
         "rawType": "int64",
         "type": "integer"
        },
        {
         "name": "no_attention_actions",
         "rawType": "int64",
         "type": "integer"
        }
       ],
       "ref": "174dcc5a-007e-48db-bc66-58c902f3a5b8",
       "rows": [
        [
         "0",
         "1 Digital and marketing consultancies",
         "1 Digital and marketing consultancies",
         "1",
         "3",
         "2",
         "6"
        ],
        [
         "1",
         "1 Digital and marketing consultancies",
         "2 Bespoke app companies",
         "0",
         "0",
         "6",
         "6"
        ]
       ],
       "shape": {
        "columns": 6,
        "rows": 2
       }
      },
      "text/html": [
       "<div>\n",
       "<style scoped>\n",
       "    .dataframe tbody tr th:only-of-type {\n",
       "        vertical-align: middle;\n",
       "    }\n",
       "\n",
       "    .dataframe tbody tr th {\n",
       "        vertical-align: top;\n",
       "    }\n",
       "\n",
       "    .dataframe thead th {\n",
       "        text-align: right;\n",
       "    }\n",
       "</style>\n",
       "<table border=\"1\" class=\"dataframe\">\n",
       "  <thead>\n",
       "    <tr style=\"text-align: right;\">\n",
       "      <th>action</th>\n",
       "      <th>src_company_label</th>\n",
       "      <th>target_company_label</th>\n",
       "      <th>follows</th>\n",
       "      <th>stars</th>\n",
       "      <th>watches</th>\n",
       "      <th>no_attention_actions</th>\n",
       "    </tr>\n",
       "  </thead>\n",
       "  <tbody>\n",
       "    <tr>\n",
       "      <th>0</th>\n",
       "      <td>1 Digital and marketing consultancies</td>\n",
       "      <td>1 Digital and marketing consultancies</td>\n",
       "      <td>1</td>\n",
       "      <td>3</td>\n",
       "      <td>2</td>\n",
       "      <td>6</td>\n",
       "    </tr>\n",
       "    <tr>\n",
       "      <th>1</th>\n",
       "      <td>1 Digital and marketing consultancies</td>\n",
       "      <td>2 Bespoke app companies</td>\n",
       "      <td>0</td>\n",
       "      <td>0</td>\n",
       "      <td>6</td>\n",
       "      <td>6</td>\n",
       "    </tr>\n",
       "  </tbody>\n",
       "</table>\n",
       "</div>"
      ],
      "text/plain": [
       "action                      src_company_label  \\\n",
       "0       1 Digital and marketing consultancies   \n",
       "1       1 Digital and marketing consultancies   \n",
       "\n",
       "action                   target_company_label  follows  stars  watches  \\\n",
       "0       1 Digital and marketing consultancies        1      3        2   \n",
       "1                     2 Bespoke app companies        0      0        6   \n",
       "\n",
       "action  no_attention_actions  \n",
       "0                          6  \n",
       "1                          6  "
      ]
     },
     "execution_count": 29,
     "metadata": {},
     "output_type": "execute_result"
    }
   ],
   "source": [
    "# Step 1: Filter for edges where companies belong to different categories\n",
    "filtered_edges = attention_edges_user_level[\n",
    "    attention_edges_user_level['src_company'] != attention_edges_user_level['target_company']\n",
    "]\n",
    "\n",
    "# Step 2: Group by 'src_company_label', 'target_company_label' and 'action', and count occurrences\n",
    "category_action_counts = (\n",
    "    filtered_edges\n",
    "    .groupby(['src_company_label', 'target_company_label', 'action'])\n",
    "    .size()\n",
    "    .reset_index(name='count')\n",
    ")\n",
    "\n",
    "# Step 3: Pivot the table to get counts of each action as columns\n",
    "pivoted_df = category_action_counts.pivot_table(\n",
    "    index=['src_company_label', 'target_company_label'],\n",
    "    columns='action',\n",
    "    values='count',\n",
    "    aggfunc='sum',\n",
    "    fill_value=0\n",
    ").reset_index()\n",
    "\n",
    "# Step 4: Sum the attention actions into a single column\n",
    "pivoted_df['no_attention_actions'] = (\n",
    "    pivoted_df.get('follows', 0) +\n",
    "    pivoted_df.get('stars', 0) +\n",
    "    pivoted_df.get('watches', 0)\n",
    ")\n",
    "\n",
    "# Generate and print LaTeX table\n",
    "latex_table = pivoted_df.to_latex(index=False)\n",
    "print(latex_table)\n",
    "\n",
    "# Print table without index\n",
    "pivoted_df\n",
    "\n",
    "# Optional: Save to .tex file\n",
    "#with open(\"attention_table.tex\", \"w\") as f:\n",
    "#    f.write(latex_table)"
   ]
  },
  {
   "cell_type": "markdown",
   "metadata": {},
   "source": [
    "# 3.0 Generate appendix tables for collaboration and attention edges in appendix.md"
   ]
  },
  {
   "cell_type": "code",
   "execution_count": 16,
   "metadata": {},
   "outputs": [],
   "source": [
    "# Create output folder path\n",
    "appendix_dir = \"../appendix\"\n",
    "os.makedirs(appendix_dir, exist_ok=True)\n",
    "\n",
    "# Collaboration Appendix\n",
    "generate_appendix(\n",
    "    df=collaboration_edges_user_level,\n",
    "    src_col='src_company_label',\n",
    "    target_col='target_company_label',\n",
    "    action_col='action',\n",
    "    new_column_name='no_collaboration_actions',\n",
    "    relevant_actions=['forks'],\n",
    "    filename=\"appendix_a_collaboration_inter_company_category_summary.md\",\n",
    "    appendix_label=\"Appendix A\",\n",
    "    appendix_title=\"Collaboration Between Companies of Different Categories\",\n",
    "    appendix_dir=appendix_dir\n",
    ")\n",
    "\n",
    "# Attention Appendix\n",
    "generate_appendix(\n",
    "    df=attention_edges_user_level,\n",
    "    src_col='src_company_label',\n",
    "    target_col='target_company_label',\n",
    "    action_col='action',\n",
    "    new_column_name='no_attention_actions',\n",
    "    relevant_actions=['follows', 'stars', 'watches'],\n",
    "    filename=\"appendix_b_attention_inter_company_category_summary.md\",\n",
    "    appendix_label=\"Appendix B\",\n",
    "    appendix_title=\"Attention Between Companies of Different Categories\",\n",
    "    appendix_dir=appendix_dir\n",
    ")"
   ]
  }
 ],
 "metadata": {
  "kernelspec": {
   "display_name": "github",
   "language": "python",
   "name": "python3"
  },
  "language_info": {
   "codemirror_mode": {
    "name": "ipython",
    "version": 3
   },
   "file_extension": ".py",
   "mimetype": "text/x-python",
   "name": "python",
   "nbconvert_exporter": "python",
   "pygments_lexer": "ipython3",
   "version": "3.11.4"
  }
 },
 "nbformat": 4,
 "nbformat_minor": 2
}
