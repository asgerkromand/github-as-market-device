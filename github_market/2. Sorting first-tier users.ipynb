{
 "cells": [
  {
   "cell_type": "markdown",
   "metadata": {},
   "source": [
    "# 0. Importing packages"
   ]
  },
  {
   "cell_type": "code",
   "execution_count": 1,
   "metadata": {},
   "outputs": [],
   "source": [
    "# Load the autoreload extension to automatically reload modules before executing code (to avoid restarting the kernel)\n",
    "%load_ext autoreload \n",
    "# NB. uncomment the line above first time you run this cell\n",
    "%autoreload 2\n",
    "\n",
    "import json\n",
    "import pandas as pd\n",
    "from pathlib import Path\n",
    "\n",
    "# Custom functions\n",
    "import resources.filter_functions as filter"
   ]
  },
  {
   "cell_type": "markdown",
   "metadata": {},
   "source": [
    "## 0.1 File Paths"
   ]
  },
  {
   "cell_type": "code",
   "execution_count": 2,
   "id": "fdded948-6a02-4ace-9948-0ebedf00120a",
   "metadata": {},
   "outputs": [],
   "source": [
    "fp_main = Path('/Volumes/SAM-SODAS-DISTRACT/Coding Distraction/github_as_a_market_device')\n",
    "fp_main_output = Path(fp_main / 'output')"
   ]
  },
  {
   "cell_type": "markdown",
   "metadata": {},
   "source": [
    "# 1. Importing data"
   ]
  },
  {
   "cell_type": "code",
   "execution_count": 3,
   "metadata": {},
   "outputs": [],
   "source": [
    "# Opening the file\n",
    "first_tier_file_name = \"first_tier_userinfo.jsonl\"\n",
    "fp_first_tier = fp_main_output / first_tier_file_name\n",
    "\n",
    "# Load the first tier data\n",
    "with open(fp_first_tier, \"r\") as f:\n",
    "    first_tier_data = [json.loads(line) for line in f]\n",
    "\n",
    "# Convert to DataFrame\n",
    "first_tier_userinfo = pd.DataFrame(first_tier_data)"
   ]
  },
  {
   "cell_type": "markdown",
   "metadata": {},
   "source": [
    "# 2. Resolve multiple matches"
   ]
  },
  {
   "cell_type": "code",
   "execution_count": 4,
   "metadata": {},
   "outputs": [
    {
     "name": "stdout",
     "output_type": "stream",
     "text": [
      "==================================================\n",
      "[nc-llh] has multiple company matches:\n",
      "Inferred Companies: ['netcompany', 'skat']\n",
      "\n",
      "Matched Strings:\n",
      "  netcompany: ['@netcompany']\n",
      "  skat: ['part of the technical onboarding team for ici at skat. responsible for assisisting public claimants with their integration with the new psrm system.']\n",
      "\n",
      "Bio Information:\n",
      "  user_login: nc-llh\n",
      "  search_with_company: skat\n",
      "  usertype: User\n",
      "  listed_company: @Netcompany\n",
      "  email: None\n",
      "  bio: Part of the Technical Onboarding team for ICI at SKAT. Responsible for assisisting public claimants with their integration with the new PSRM system.\n",
      "  blog: \n"
     ]
    }
   ],
   "source": [
    "# Making a copy of the dataframe\n",
    "first_tier_userinfo_clean = first_tier_userinfo.copy()\n",
    "\n",
    "# Access output path\n",
    "output_path = '../resources/resolved_multicompany_cases.jsonl'\n",
    "\n",
    "# Resolve multiple companies\n",
    "first_tier_userinfo_clean = filter.resolve_multiple_companies(\n",
    "    first_tier_userinfo,\n",
    "    output_path=output_path,\n",
    ")"
   ]
  },
  {
   "cell_type": "markdown",
   "metadata": {},
   "source": [
    "# 3. Aggegating unique users for each first-tier user"
   ]
  },
  {
   "cell_type": "code",
   "execution_count": 5,
   "metadata": {},
   "outputs": [],
   "source": [
    "fetch_ties_columns = [\n",
    "    \"follows_in\", \"follows_out\", \"watches_in\", \"watches_out\",\n",
    "    \"stars_in\", \"stars_out\", \"forks_in\", \"forks_out\",\n",
    "]\n",
    "\n",
    "first_tier_userinfo_clean[\"unique_ties\"] = first_tier_userinfo_clean.apply(\n",
    "    lambda row: filter.filter_ties(row, fetch_ties_columns),\n",
    "    axis=1\n",
    ")"
   ]
  },
  {
   "cell_type": "markdown",
   "metadata": {},
   "source": [
    "# 4. Save the sorted DataFrame to a parquet file"
   ]
  },
  {
   "cell_type": "code",
   "execution_count": 6,
   "metadata": {},
   "outputs": [],
   "source": [
    "# Outputting sorted first-tier-user list with gzip (because of list within the dataframe)\n",
    "first_tier_userinfo_clean.to_parquet(\n",
    "    fp_main_output / \"first_tier_ties_sorted.parquet.gzip\"\n",
    "    )"
   ]
  }
 ],
 "metadata": {
  "kernelspec": {
   "display_name": "github",
   "language": "python",
   "name": "python3"
  },
  "language_info": {
   "codemirror_mode": {
    "name": "ipython",
    "version": 3
   },
   "file_extension": ".py",
   "mimetype": "text/x-python",
   "name": "python",
   "nbconvert_exporter": "python",
   "pygments_lexer": "ipython3",
   "version": "3.11.4"
  },
  "orig_nbformat": 4
 },
 "nbformat": 4,
 "nbformat_minor": 2
}
